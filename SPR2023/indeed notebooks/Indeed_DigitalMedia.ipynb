{
  "nbformat": 4,
  "nbformat_minor": 0,
  "metadata": {
    "colab": {
      "provenance": []
    },
    "kernelspec": {
      "name": "python3",
      "display_name": "Python 3"
    },
    "language_info": {
      "name": "python"
    }
  },
  "cells": [
    {
      "cell_type": "code",
      "execution_count": null,
      "metadata": {
        "id": "VSe5TU0cT1nv"
      },
      "outputs": [],
      "source": [
        "import pandas as pd\n",
        "\n",
        "DF = pd.read_csv(\"indeed_DigitalMedia.csv\", index_col = 'job title')"
      ]
    },
    {
      "cell_type": "code",
      "source": [
        "DigMedDF = DF.drop(columns=['web-scraper-order', 'web-scraper-start-url', 'links', 'links-href', 'pages', 'pages-href', 'salary'])\n",
        "DigMedDF.reset_index(inplace = True)"
      ],
      "metadata": {
        "id": "g8uK4oDeUItO"
      },
      "execution_count": null,
      "outputs": []
    },
    {
      "cell_type": "code",
      "source": [
        "DigMedDF.apply(lambda x: x.replace({'Digital Marketing.*': 'Digital Marketing Specialist','.*Marketing.*':'Digital Marketing Specialist','CONTENT.*':'Digital Content Specialist',\n",
        "                                    'Associate.*':'Advertising Specialist','Entry Level.':'','Junior.|[1()]':'','PPC.*':'Paid Media Specialist','OPS PUBLIC.*':'Information Specialist',\n",
        "                                    'Digital Content|Remote.': '','Social Media.*':'Digital Media Specialist','Spanish.*':'Communication Specialist',\n",
        "                                    '.*Media Specialist.*|.*Strategy':'Digital Media Specialist'}, regex = True, inplace = True))"
      ],
      "metadata": {
        "colab": {
          "base_uri": "https://localhost:8080/"
        },
        "id": "luUbTJ6cUlHp",
        "outputId": "5f5a1ce6-1609-44a6-f403-c5ea012ebf50"
      },
      "execution_count": null,
      "outputs": [
        {
          "output_type": "execute_result",
          "data": {
            "text/plain": [
              "job title    None\n",
              "skills       None\n",
              "dtype: object"
            ]
          },
          "metadata": {},
          "execution_count": 67
        }
      ]
    },
    {
      "cell_type": "code",
      "source": [
        "DigMedDF['job title'].str.strip()"
      ],
      "metadata": {
        "colab": {
          "base_uri": "https://localhost:8080/"
        },
        "id": "b6IMbhyyctPD",
        "outputId": "0416787e-c122-4cb9-d314-08fca2bc3e7c"
      },
      "execution_count": null,
      "outputs": [
        {
          "output_type": "execute_result",
          "data": {
            "text/plain": [
              "0          Digital Media Specialist\n",
              "1          Digital Media Specialist\n",
              "2          Digital Media Specialist\n",
              "3      Digital Marketing Specialist\n",
              "4      Digital Marketing Specialist\n",
              "                   ...             \n",
              "161        Digital Media Specialist\n",
              "162        Digital Media Specialist\n",
              "163        Digital Media Specialist\n",
              "164    Digital Marketing Specialist\n",
              "165    Digital Marketing Specialist\n",
              "Name: job title, Length: 166, dtype: object"
            ]
          },
          "metadata": {},
          "execution_count": 63
        }
      ]
    },
    {
      "cell_type": "code",
      "source": [
        "new_freq = DigMedDF.groupby(['job title']).size()\n",
        "\n",
        "new_freq"
      ],
      "metadata": {
        "colab": {
          "base_uri": "https://localhost:8080/"
        },
        "id": "P_HVwfA8UTIF",
        "outputId": "519276b6-dfc2-4eb4-cc13-12a948f84337"
      },
      "execution_count": null,
      "outputs": [
        {
          "output_type": "execute_result",
          "data": {
            "text/plain": [
              "job title\n",
              " Specialist                         9\n",
              "Advertising Specialist              2\n",
              "Brand Ambassador                    1\n",
              "Communication Specialist            3\n",
              "Digital Marketing Specialist       80\n",
              "Digital Media Specialist           48\n",
              "Digital Strategist                  3\n",
              "Event Specialist                    4\n",
              "Information Specialist              3\n",
              "Public Affairs Specialist           1\n",
              "Public Information Specialist       3\n",
              "SEM Specialist                      3\n",
              "SEO Analyst                         3\n",
              "SEO Specialist                      3\n",
              "dtype: int64"
            ]
          },
          "metadata": {},
          "execution_count": 68
        }
      ]
    },
    {
      "cell_type": "code",
      "source": [
        "DigMedDF.to_csv('Cleaned_IndeedDigMed.csv')"
      ],
      "metadata": {
        "id": "nWEukJ04dcG3"
      },
      "execution_count": null,
      "outputs": []
    }
  ]
}