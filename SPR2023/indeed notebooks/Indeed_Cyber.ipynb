{
  "nbformat": 4,
  "nbformat_minor": 0,
  "metadata": {
    "colab": {
      "provenance": []
    },
    "kernelspec": {
      "name": "python3",
      "display_name": "Python 3"
    },
    "language_info": {
      "name": "python"
    }
  },
  "cells": [
    {
      "cell_type": "code",
      "execution_count": null,
      "metadata": {
        "id": "EGPolkY0e7wo"
      },
      "outputs": [],
      "source": [
        "import pandas as pd\n",
        "\n",
        "DF = pd.read_csv(\"indeed_CyberSec.csv\", index_col = 'job title')"
      ]
    },
    {
      "cell_type": "code",
      "source": [
        "CyberDF = DF.drop(columns=['web-scraper-order', 'web-scraper-start-url', 'links', 'links-href', 'pages', 'pages-href', 'salary'])\n",
        "CyberDF.reset_index(inplace = True)"
      ],
      "metadata": {
        "id": "skpVAnvIfXT4"
      },
      "execution_count": null,
      "outputs": []
    },
    {
      "cell_type": "code",
      "source": [
        "CyberDF.apply(lambda x: x.replace({'Entry.|[L|l]evel|Junior|Remote|Hybrid|Infosec.|-':'','IT Specialist.*':'IT Specialist','.*Risk Analyst.*':'Risk Analyst',\n",
        "                                   '.*Security Analyst.*': 'IT Security Analyst','[â203()1:/]':'','Night Shift|(TCC)': '','.*Information System.*':'IT Security Officer',\n",
        "                                   'Manager.*':'Risk Data Security','Satellite.*':'Satellite Operator','Associate.':'','.*IT':'IT','.*Cybersecurity':'Cybersecurity',\n",
        "                                   '.*Reverse.*':'Android Mobile Reverse Engineer','.SOC':'SOC','.Vulnerability':'Vulnerability'}, regex = True, inplace = True))"
      ],
      "metadata": {
        "colab": {
          "base_uri": "https://localhost:8080/"
        },
        "id": "BOVZzhFqfu1Q",
        "outputId": "9b330bcd-0aed-4936-e273-96620b7a65cf"
      },
      "execution_count": null,
      "outputs": [
        {
          "output_type": "execute_result",
          "data": {
            "text/plain": [
              "job title    None\n",
              "skills       None\n",
              "dtype: object"
            ]
          },
          "metadata": {},
          "execution_count": 87
        }
      ]
    },
    {
      "cell_type": "code",
      "source": [
        "new_freq = CyberDF.groupby(['job title']).size()\n",
        "\n",
        "new_freq"
      ],
      "metadata": {
        "colab": {
          "base_uri": "https://localhost:8080/"
        },
        "id": "kWGY1rhZfflb",
        "outputId": "bf53437f-a6b5-4f30-e91d-cb66da1e3db0"
      },
      "execution_count": null,
      "outputs": [
        {
          "output_type": "execute_result",
          "data": {
            "text/plain": [
              "job title\n",
              "Analyst Information Security           1\n",
              "Android Mobile Reverse Engineer        6\n",
              "Cyber Network Defender                 1\n",
              "Cyber Operations Specialist            2\n",
              "CyberSecurity  Position                3\n",
              "Cybersecurity Consultant               3\n",
              "Cybersecurity Teaching Assistant       1\n",
              "IT  Client Support                     1\n",
              "IT Audit Staff Consultant              4\n",
              "IT Security Analyst                    9\n",
              "IT Security Officer                    2\n",
              "IT Security Officer                    4\n",
              "IT Specialist                          4\n",
              "Identity Management Analyst            3\n",
              "Internal Audit Staff                   3\n",
              "Risk Analyst                           8\n",
              "Risk Data Security                     3\n",
              "SOC Analyst                            3\n",
              "Satellite Operator                     2\n",
              "Vulnerability Researcher               3\n",
              "Watch Desk Specialist                  4\n",
              "dtype: int64"
            ]
          },
          "metadata": {},
          "execution_count": 88
        }
      ]
    },
    {
      "cell_type": "code",
      "source": [
        "CyberDF.to_csv('Cleaned_IndeedCyber.csv')"
      ],
      "metadata": {
        "id": "0w0makp4k_5s"
      },
      "execution_count": null,
      "outputs": []
    }
  ]
}