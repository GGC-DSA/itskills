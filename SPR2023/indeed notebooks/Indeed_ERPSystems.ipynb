{
  "nbformat": 4,
  "nbformat_minor": 0,
  "metadata": {
    "colab": {
      "provenance": []
    },
    "kernelspec": {
      "name": "python3",
      "display_name": "Python 3"
    },
    "language_info": {
      "name": "python"
    }
  },
  "cells": [
    {
      "cell_type": "code",
      "execution_count": null,
      "metadata": {
        "id": "g6aJOram1JW5"
      },
      "outputs": [],
      "source": [
        "import pandas as pd\n",
        "\n",
        "DF = pd.read_csv(\"indeed_ERPSystems.csv\", index_col = 'job title')"
      ]
    },
    {
      "cell_type": "code",
      "source": [
        "ERPDF = DF.drop(columns=['web-scraper-order', 'web-scraper-start-url', 'links', 'links-href', 'pages', 'pages-href', 'salary'])\n",
        "ERPDF.reset_index(inplace = True)"
      ],
      "metadata": {
        "id": "QnLxY_Gp1kGs"
      },
      "execution_count": null,
      "outputs": []
    },
    {
      "cell_type": "code",
      "source": [
        "ERPDF.apply(lambda x: x.replace({'1st|&|2nd|[S|s]hift|1|Welder|Payable |Associate|2|Corporate|Kansas|City|Entry|Level|Application.|0|3|5':'',\n",
        "                                 '(Systems/Network Analyst)|(GESMAR/BATON ROUGE)|Lafayette|LA|Hiring Now|Jr|Junio|Hanover|Forklift|Weekly|Pay':'',\n",
        "                                 'Aftermarket|Co-Op|Jackson|MS|3rd|FULL-TIME|hour|[-/!.(),$]|(NIGHT SHIFT Sun thru Wed)|Group Leader|(GEISMARBATON ROUGE)':'',\n",
        "                                 '.Assembl.*|.*Assembler': 'Assembler', '.*Specialist.*|(SPECIALIST CREDIT)': 'Specialist', '.*Fabrication Tech': 'Fabrication Tech', ' Java Developer': 'Java Developer',\n",
        "                                 ' Supply Chain': 'Supply Chain', '(Assembly Coordinator)': 'Assembler', '.Web': '', 'Material Handler.*': 'Material Handler',\n",
        "                                 'Turf Extrusion Test.*': 'Turf Extrusion Tester', '.*Administrator.*': 'Administrator', 'Supply Chain.*':'Supply Chain Operator', 'ERP.*|ECommerce.*':'ERP Developer',\n",
        "                                 '.*Technician|.*TECHNICIAN.*': 'Technician','Extrusion.': '','.*Coordinator':'Coordinator','.*Operator.*':'Supply Chain Operator', 'Controller.*':'Controller',\n",
        "                                 '.*Business Analyst.*':'Business Analyst', 'Materials':'Material Handler','PickerPacker.*':'Picker Packer','StockroomPurchasing.':'Buyer','Full Stack|Manufacturing|Performance Test': 'Software','Engineer.*':'Engineer'}, regex = True, inplace = True))"
      ],
      "metadata": {
        "colab": {
          "base_uri": "https://localhost:8080/"
        },
        "id": "jmTgX6ug2GMn",
        "outputId": "57e864d1-18e1-4318-90fc-ee8f78772dc9"
      },
      "execution_count": null,
      "outputs": [
        {
          "output_type": "execute_result",
          "data": {
            "text/plain": [
              "job title    None\n",
              "skills       None\n",
              "dtype: object"
            ]
          },
          "metadata": {},
          "execution_count": 387
        }
      ]
    },
    {
      "cell_type": "code",
      "source": [
        "new_freq = ERPDF.groupby(['job title']).size()\n",
        "\n",
        "new_freq"
      ],
      "metadata": {
        "colab": {
          "base_uri": "https://localhost:8080/"
        },
        "id": "wH_CLliW1qzt",
        "outputId": "e8b5b1a0-759b-4e43-84b1-04f6758ae4d2"
      },
      "execution_count": null,
      "outputs": [
        {
          "output_type": "execute_result",
          "data": {
            "text/plain": [
              "job title\n",
              "Administrator                   2\n",
              "Assembler                       5\n",
              "Business Analyst                1\n",
              "Buyer                           2\n",
              "Coordinator                     2\n",
              "ERP Developer                   3\n",
              "Fabrication Tech                1\n",
              "Financial Systems Accountant    1\n",
              "Java Developer                  1\n",
              "Logistics                       1\n",
              "Material Handler                4\n",
              "Net New Logo Sales Hunter       1\n",
              "Operations                      1\n",
              "Picker Packer                   1\n",
              "Production Packer               1\n",
              "Quality Inspection              1\n",
              "Software Engineer               4\n",
              "Specialist                      9\n",
              "Supply Chain Operator           7\n",
              "Technical Writer                1\n",
              "Technician                      4\n",
              "Trailer Reviewer                1\n",
              "Turf Tester                     3\n",
              "Workflow Controller             1\n",
              "dtype: int64"
            ]
          },
          "metadata": {},
          "execution_count": 388
        }
      ]
    },
    {
      "cell_type": "code",
      "source": [
        "ERPDF.to_csv('Cleaned_IndeedERP.csv')"
      ],
      "metadata": {
        "id": "qzjr8wpATKRT"
      },
      "execution_count": null,
      "outputs": []
    }
  ]
}