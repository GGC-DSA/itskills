{
  "nbformat": 4,
  "nbformat_minor": 0,
  "metadata": {
    "colab": {
      "provenance": [],
      "collapsed_sections": [
        "UUaUlblRnYgX"
      ]
    },
    "kernelspec": {
      "name": "python3",
      "display_name": "Python 3"
    },
    "language_info": {
      "name": "python"
    }
  },
  "cells": [
    {
      "cell_type": "markdown",
      "source": [
        "# Introduction\n",
        "One of the greatest challenges for GGC students pursuing an IT degree is linking the classes offered by GGC to potential jobs. Because of this, upcoming graduates may not know what jobs to apply for according to their own skillset. To remedy this, Grizzly Insights will connect the coursework of each class to different job requirements over all the IT concentrations.\n",
        "\n",
        "</br>**Goals**</br>\n",
        "The goal of Grizzly Insights is to create a website that students can see which it skills is requred for different entry level jobs; students should also see which classes correspond to the previously mentioned it skills.This would allow students to use this website as a guideline to decide which classes to are the most important for them to take.\n",
        "\n",
        "</br>**Problem Statement**</br>\n",
        "In order to give the best guideline for upcoming IT graduates, our team must collect recent data that lists job titles, salaries, and related it skills accross four different concentrations."
      ],
      "metadata": {
        "id": "UUaUlblRnYgX"
      }
    },
    {
      "cell_type": "code",
      "source": [
        "#Placeholder for heading"
      ],
      "metadata": {
        "id": "9BZJOOQm4vY5"
      },
      "execution_count": null,
      "outputs": []
    },
    {
      "cell_type": "markdown",
      "source": [
        "# Data Collection\n",
        "To keep the data relevant, our team requires data from the past year or so; the only way to get this type of data is to web scrape off of different job listing websites. \n",
        "<br>\n",
        "**Webscraper** <br>\n",
        "The webscaping method we used it the webscraping extension on google chrome:\n",
        "<br>\n",
        "https://chrome.google.com/webstore/detail/web-scraper-free-web-scra/jnhgnonknehpejjnehehllkliplmbmhn?hl=en \n",
        "<br>\n",
        "For instructions on how to use this webscraper, our team followed this video: <br>\n",
        "https://www.youtube.com/watch?v=aClnnoQK9G0\n",
        "<br>\n",
        "By following the previous video's instructions, our group scrapped data for the four concentrations across different job posting websites (simply hired and indeed), (which job website used for the different scrapes are in the name of the file ex: indeed_SofDev.csv)\n",
        "\n",
        "\n",
        "\n",
        "\n"
      ],
      "metadata": {
        "id": "x5Jv_q40nYtG"
      }
    },
    {
      "cell_type": "code",
      "source": [
        "#Placeholder for heading"
      ],
      "metadata": {
        "id": "JIIn5vWs4xyJ"
      },
      "execution_count": null,
      "outputs": []
    },
    {
      "cell_type": "markdown",
      "source": [
        "# Data Importing and Data Cleaning\n",
        "(so far) we have 5 different datafiles for 4 different concentrations; each file are ordered differently and the skill columns are a mess <br>\n",
        "The mess in the job files include: <br>\n",
        "1.   The multiple skills for each job maks the job information duplicate for each skill\n",
        "2.   The job skills are spread out across many columns (edit: redid the scrapes with this; now have problem 3)\n",
        "3.   The job skills are compressed into one field (with no spaces in-between)\n",
        "\n"
      ],
      "metadata": {
        "id": "29vMht69nYyh"
      }
    },
    {
      "cell_type": "markdown",
      "source": [
        "**Dealing with duplicate information:**"
      ],
      "metadata": {
        "id": "qjwQoTYjnY6n"
      }
    },
    {
      "cell_type": "markdown",
      "source": [
        "**Dealing with compressed fields:**"
      ],
      "metadata": {
        "id": "6EhDWh2mnZBg"
      }
    },
    {
      "cell_type": "code",
      "source": [],
      "metadata": {
        "id": "rpgGLPBP4ozt"
      },
      "execution_count": null,
      "outputs": []
    }
  ]
}