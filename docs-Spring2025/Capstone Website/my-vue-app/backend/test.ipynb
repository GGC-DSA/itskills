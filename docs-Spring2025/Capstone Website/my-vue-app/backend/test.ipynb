{
 "cells": [
  {
   "cell_type": "code",
   "execution_count": 1,
   "id": "92cc6aad",
   "metadata": {},
   "outputs": [],
   "source": [
    "import pandas as pd\n",
    "import re\n",
    "import plotly.express as px\n",
    "merged_df=pd.read_csv(\"merged_jobs_cleaned (6).csv\")"
   ]
  },
  {
   "cell_type": "code",
   "execution_count": 2,
   "id": "047ead30",
   "metadata": {},
   "outputs": [
    {
     "data": {
      "text/html": [
       "<div>\n",
       "<style scoped>\n",
       "    .dataframe tbody tr th:only-of-type {\n",
       "        vertical-align: middle;\n",
       "    }\n",
       "\n",
       "    .dataframe tbody tr th {\n",
       "        vertical-align: top;\n",
       "    }\n",
       "\n",
       "    .dataframe thead th {\n",
       "        text-align: right;\n",
       "    }\n",
       "</style>\n",
       "<table border=\"1\" class=\"dataframe\">\n",
       "  <thead>\n",
       "    <tr style=\"text-align: right;\">\n",
       "      <th></th>\n",
       "      <th>Keyword</th>\n",
       "      <th>Count</th>\n",
       "    </tr>\n",
       "  </thead>\n",
       "  <tbody>\n",
       "    <tr>\n",
       "      <th>46</th>\n",
       "      <td>AI</td>\n",
       "      <td>2484</td>\n",
       "    </tr>\n",
       "    <tr>\n",
       "      <th>9</th>\n",
       "      <td>Go</td>\n",
       "      <td>1871</td>\n",
       "    </tr>\n",
       "    <tr>\n",
       "      <th>90</th>\n",
       "      <td>Management</td>\n",
       "      <td>1355</td>\n",
       "    </tr>\n",
       "    <tr>\n",
       "      <th>35</th>\n",
       "      <td>AWS</td>\n",
       "      <td>607</td>\n",
       "    </tr>\n",
       "    <tr>\n",
       "      <th>47</th>\n",
       "      <td>Git</td>\n",
       "      <td>601</td>\n",
       "    </tr>\n",
       "    <tr>\n",
       "      <th>10</th>\n",
       "      <td>Rust</td>\n",
       "      <td>415</td>\n",
       "    </tr>\n",
       "    <tr>\n",
       "      <th>12</th>\n",
       "      <td>SQL</td>\n",
       "      <td>366</td>\n",
       "    </tr>\n",
       "    <tr>\n",
       "      <th>44</th>\n",
       "      <td>Cloud</td>\n",
       "      <td>322</td>\n",
       "    </tr>\n",
       "    <tr>\n",
       "      <th>0</th>\n",
       "      <td>Python</td>\n",
       "      <td>272</td>\n",
       "    </tr>\n",
       "    <tr>\n",
       "      <th>2</th>\n",
       "      <td>Java</td>\n",
       "      <td>222</td>\n",
       "    </tr>\n",
       "    <tr>\n",
       "      <th>52</th>\n",
       "      <td>iOS</td>\n",
       "      <td>221</td>\n",
       "    </tr>\n",
       "    <tr>\n",
       "      <th>36</th>\n",
       "      <td>Azure</td>\n",
       "      <td>146</td>\n",
       "    </tr>\n",
       "    <tr>\n",
       "      <th>15</th>\n",
       "      <td>React</td>\n",
       "      <td>139</td>\n",
       "    </tr>\n",
       "    <tr>\n",
       "      <th>1</th>\n",
       "      <td>JavaScript</td>\n",
       "      <td>116</td>\n",
       "    </tr>\n",
       "    <tr>\n",
       "      <th>4</th>\n",
       "      <td>C++</td>\n",
       "      <td>109</td>\n",
       "    </tr>\n",
       "    <tr>\n",
       "      <th>64</th>\n",
       "      <td>Windows</td>\n",
       "      <td>100</td>\n",
       "    </tr>\n",
       "    <tr>\n",
       "      <th>32</th>\n",
       "      <td>Oracle</td>\n",
       "      <td>94</td>\n",
       "    </tr>\n",
       "    <tr>\n",
       "      <th>3</th>\n",
       "      <td>C#</td>\n",
       "      <td>93</td>\n",
       "    </tr>\n",
       "    <tr>\n",
       "      <th>63</th>\n",
       "      <td>Linux</td>\n",
       "      <td>86</td>\n",
       "    </tr>\n",
       "    <tr>\n",
       "      <th>79</th>\n",
       "      <td>Scrum</td>\n",
       "      <td>80</td>\n",
       "    </tr>\n",
       "    <tr>\n",
       "      <th>38</th>\n",
       "      <td>Docker</td>\n",
       "      <td>78</td>\n",
       "    </tr>\n",
       "    <tr>\n",
       "      <th>13</th>\n",
       "      <td>HTML</td>\n",
       "      <td>77</td>\n",
       "    </tr>\n",
       "    <tr>\n",
       "      <th>41</th>\n",
       "      <td>CI/CD</td>\n",
       "      <td>75</td>\n",
       "    </tr>\n",
       "    <tr>\n",
       "      <th>89</th>\n",
       "      <td>Project Manager</td>\n",
       "      <td>75</td>\n",
       "    </tr>\n",
       "    <tr>\n",
       "      <th>39</th>\n",
       "      <td>Kubernetes</td>\n",
       "      <td>70</td>\n",
       "    </tr>\n",
       "    <tr>\n",
       "      <th>48</th>\n",
       "      <td>GitHub</td>\n",
       "      <td>66</td>\n",
       "    </tr>\n",
       "    <tr>\n",
       "      <th>31</th>\n",
       "      <td>SQL Server</td>\n",
       "      <td>63</td>\n",
       "    </tr>\n",
       "    <tr>\n",
       "      <th>14</th>\n",
       "      <td>CSS</td>\n",
       "      <td>60</td>\n",
       "    </tr>\n",
       "    <tr>\n",
       "      <th>87</th>\n",
       "      <td>Algorithms</td>\n",
       "      <td>50</td>\n",
       "    </tr>\n",
       "    <tr>\n",
       "      <th>16</th>\n",
       "      <td>Angular</td>\n",
       "      <td>49</td>\n",
       "    </tr>\n",
       "  </tbody>\n",
       "</table>\n",
       "</div>"
      ],
      "text/plain": [
       "            Keyword  Count\n",
       "46               AI   2484\n",
       "9                Go   1871\n",
       "90       Management   1355\n",
       "35              AWS    607\n",
       "47              Git    601\n",
       "10             Rust    415\n",
       "12              SQL    366\n",
       "44            Cloud    322\n",
       "0            Python    272\n",
       "2              Java    222\n",
       "52              iOS    221\n",
       "36            Azure    146\n",
       "15            React    139\n",
       "1        JavaScript    116\n",
       "4               C++    109\n",
       "64          Windows    100\n",
       "32           Oracle     94\n",
       "3                C#     93\n",
       "63            Linux     86\n",
       "79            Scrum     80\n",
       "38           Docker     78\n",
       "13             HTML     77\n",
       "41            CI/CD     75\n",
       "89  Project Manager     75\n",
       "39       Kubernetes     70\n",
       "48           GitHub     66\n",
       "31       SQL Server     63\n",
       "14              CSS     60\n",
       "87       Algorithms     50\n",
       "16          Angular     49"
      ]
     },
     "execution_count": 2,
     "metadata": {},
     "output_type": "execute_result"
    }
   ],
   "source": [
    "# Define software development skills (Fixed missing commas)\n",
    "software_dev_skills = [\n",
    "    # Programming Languages\n",
    "    \"Python\", \"JavaScript\", \"Java\", \"C#\", \"C++\", \"TypeScript\", \"Ruby\", \"Swift\", \"Kotlin\", \"Go\", \"Rust\", \"PHP\", \"SQL\",\n",
    "\n",
    "    # Web Development\n",
    "    \"HTML\", \"CSS\", \"React\", \"Angular\", \"Vue.js\", \"Node.js\", \"Django\", \"Flask\", \"Spring Boot\", \"ASP.NET\", \"GraphQL\",\n",
    "\n",
    "    # Databases\n",
    "    \"MySQL\", \"PostgreSQL\", \"MongoDB\", \"SQLite\", \"Redis\", \"Firebase\", \"DynamoDB\", \"SQL Server\", \"Oracle\", \"Cassandra\", \"NoSQL\",\n",
    "\n",
    "    # Cloud & DevOps\n",
    "    \"AWS\", \"Azure\", \"Google Cloud Platform\", \"Docker\", \"Kubernetes\", \"Terraform\", \"CI/CD\", \"Jenkins\", \"GitHub Actions\", \"Cloud\", \"Cloud Computing\", \"AI\",\n",
    "\n",
    "    # Version Control & Collaboration\n",
    "    \"Git\", \"GitHub\", \"GitLab\", \"Bitbucket\",\n",
    "\n",
    "    # Mobile Development\n",
    "    \"Android\", \"iOS\", \"Flutter\", \"React Native\", \"Xamarin\",\n",
    "\n",
    "    # Testing & Debugging\n",
    "    \"JUnit\", \"Selenium\", \"Cypress\", \"PyTest\", \"Mocha\", \"Jest\", \"Postman\",\n",
    "\n",
    "    # Operating Systems & Environments\n",
    "    \"Linux\", \"Windows\", \"macOS\", \"Bash\", \"PowerShell\", \"Unix\",\n",
    "\n",
    "    # IDEs & Code Editors\n",
    "    \"VS Code\", \"IntelliJ IDEA\", \"PyCharm\", \"Eclipse\", \"Android Studio\", \"Xcode\", \"NetBeans\",\n",
    "\n",
    "    # Software Development Concepts\n",
    "    \"Object-Oriented Programming (OOP)\", \"Functional Programming\", \"Design Patterns\", \"Scrum\", \"TDD (Test-Driven Development)\",\n",
    "    \"Microservices\", \"REST API\", \"GraphQL API\", \"Multithreading\", \"Concurrency\", \"Data Structures\", \"Algorithms\", \"Machine Learning\"\n",
    "\n",
    "    # General Soft Dev terms\n",
    "    \"Engineer\", \"Project Manager\", \"Management\"\n",
    "]\n",
    "\n",
    "\n",
    "sd_keyword_counts = {\n",
    "    keyword: merged_df['job_description'].str.contains(re.escape(keyword), case=False, na=False).sum()\n",
    "    for keyword in software_dev_skills\n",
    "}\n",
    "\n",
    "sd_keyword_df = pd.DataFrame(list(sd_keyword_counts.items()), columns=['Keyword', 'Count'])\n",
    "\n",
    "sd_keyword_df = sd_keyword_df.sort_values(by='Count', ascending=False)\n",
    "sd_keyword_df.head(30)\n",
    "\n"
   ]
  },
  {
   "cell_type": "code",
   "execution_count": null,
   "id": "c8ecea06",
   "metadata": {},
   "outputs": [],
   "source": []
  },
  {
   "cell_type": "code",
   "execution_count": 3,
   "id": "097332b9",
   "metadata": {},
   "outputs": [
    {
     "data": {
      "text/html": [
       "<div>\n",
       "<style scoped>\n",
       "    .dataframe tbody tr th:only-of-type {\n",
       "        vertical-align: middle;\n",
       "    }\n",
       "\n",
       "    .dataframe tbody tr th {\n",
       "        vertical-align: top;\n",
       "    }\n",
       "\n",
       "    .dataframe thead th {\n",
       "        text-align: right;\n",
       "    }\n",
       "</style>\n",
       "<table border=\"1\" class=\"dataframe\">\n",
       "  <thead>\n",
       "    <tr style=\"text-align: right;\">\n",
       "      <th></th>\n",
       "      <th>Keyword</th>\n",
       "      <th>Count</th>\n",
       "    </tr>\n",
       "  </thead>\n",
       "  <tbody>\n",
       "    <tr>\n",
       "      <th>76</th>\n",
       "      <td>Developer</td>\n",
       "      <td>106</td>\n",
       "    </tr>\n",
       "    <tr>\n",
       "      <th>0</th>\n",
       "      <td>Software Engineer</td>\n",
       "      <td>86</td>\n",
       "    </tr>\n",
       "    <tr>\n",
       "      <th>1</th>\n",
       "      <td>Software Developer</td>\n",
       "      <td>32</td>\n",
       "    </tr>\n",
       "    <tr>\n",
       "      <th>77</th>\n",
       "      <td>Project Manager</td>\n",
       "      <td>30</td>\n",
       "    </tr>\n",
       "    <tr>\n",
       "      <th>82</th>\n",
       "      <td>Cloud</td>\n",
       "      <td>24</td>\n",
       "    </tr>\n",
       "    <tr>\n",
       "      <th>57</th>\n",
       "      <td>Automation Engineer</td>\n",
       "      <td>23</td>\n",
       "    </tr>\n",
       "    <tr>\n",
       "      <th>28</th>\n",
       "      <td>Data Engineer</td>\n",
       "      <td>23</td>\n",
       "    </tr>\n",
       "    <tr>\n",
       "      <th>11</th>\n",
       "      <td>Full Stack Engineer</td>\n",
       "      <td>11</td>\n",
       "    </tr>\n",
       "    <tr>\n",
       "      <th>21</th>\n",
       "      <td>DevOps Engineer</td>\n",
       "      <td>8</td>\n",
       "    </tr>\n",
       "    <tr>\n",
       "      <th>3</th>\n",
       "      <td>Backend Developer</td>\n",
       "      <td>7</td>\n",
       "    </tr>\n",
       "    <tr>\n",
       "      <th>78</th>\n",
       "      <td>QA</td>\n",
       "      <td>5</td>\n",
       "    </tr>\n",
       "    <tr>\n",
       "      <th>34</th>\n",
       "      <td>Security Engineer</td>\n",
       "      <td>5</td>\n",
       "    </tr>\n",
       "    <tr>\n",
       "      <th>26</th>\n",
       "      <td>Systems Engineer</td>\n",
       "      <td>5</td>\n",
       "    </tr>\n",
       "    <tr>\n",
       "      <th>2</th>\n",
       "      <td>Full Stack Developer</td>\n",
       "      <td>4</td>\n",
       "    </tr>\n",
       "    <tr>\n",
       "      <th>5</th>\n",
       "      <td>Application Developer</td>\n",
       "      <td>3</td>\n",
       "    </tr>\n",
       "    <tr>\n",
       "      <th>8</th>\n",
       "      <td>Web Developer</td>\n",
       "      <td>3</td>\n",
       "    </tr>\n",
       "    <tr>\n",
       "      <th>22</th>\n",
       "      <td>Cloud Engineer</td>\n",
       "      <td>3</td>\n",
       "    </tr>\n",
       "    <tr>\n",
       "      <th>30</th>\n",
       "      <td>AI Engineer</td>\n",
       "      <td>3</td>\n",
       "    </tr>\n",
       "    <tr>\n",
       "      <th>25</th>\n",
       "      <td>Platform Engineer</td>\n",
       "      <td>2</td>\n",
       "    </tr>\n",
       "    <tr>\n",
       "      <th>35</th>\n",
       "      <td>Application Security Engineer</td>\n",
       "      <td>2</td>\n",
       "    </tr>\n",
       "  </tbody>\n",
       "</table>\n",
       "</div>"
      ],
      "text/plain": [
       "                          Keyword  Count\n",
       "76                      Developer    106\n",
       "0               Software Engineer     86\n",
       "1              Software Developer     32\n",
       "77                Project Manager     30\n",
       "82                          Cloud     24\n",
       "57            Automation Engineer     23\n",
       "28                  Data Engineer     23\n",
       "11            Full Stack Engineer     11\n",
       "21                DevOps Engineer      8\n",
       "3               Backend Developer      7\n",
       "78                             QA      5\n",
       "34              Security Engineer      5\n",
       "26               Systems Engineer      5\n",
       "2            Full Stack Developer      4\n",
       "5           Application Developer      3\n",
       "8                   Web Developer      3\n",
       "22                 Cloud Engineer      3\n",
       "30                    AI Engineer      3\n",
       "25              Platform Engineer      2\n",
       "35  Application Security Engineer      2"
      ]
     },
     "execution_count": 3,
     "metadata": {},
     "output_type": "execute_result"
    }
   ],
   "source": [
    "software_dev_job_titles = [\n",
    "    # General Software Engineering Roles\n",
    "    \"Software Engineer\", \"Software Developer\", \"Full Stack Developer\", \"Backend Developer\",\n",
    "    \"Frontend Developer\", \"Application Developer\", \"Software Architect\", \"Embedded Software Engineer\",\n",
    "\n",
    "    # Web Development\n",
    "    \"Web Developer\", \"Front End Engineer\", \"Back End Engineer\", \"Full Stack Engineer\",\n",
    "    \"JavaScript Developer\", \"UI Developer\", \"UX Developer\",\n",
    "\n",
    "    # Mobile Development\n",
    "    \"Mobile Developer\", \"Android Developer\", \"iOS Developer\", \"Flutter Developer\",\n",
    "    \"React Native Developer\", \"Mobile Application Developer\",\n",
    "\n",
    "    # DevOps & Cloud Engineering\n",
    "    \"DevOps Engineer\", \"Cloud Engineer\", \"Site Reliability Engineer (SRE)\", \"Infrastructure Engineer\",\n",
    "    \"Platform Engineer\", \"Systems Engineer\", \"Build and Release Engineer\",\n",
    "\n",
    "    # Data & AI/ML Engineering\n",
    "    \"Data Engineer\", \"Machine Learning Engineer\", \"AI Engineer\", \"Deep Learning Engineer\",\n",
    "    \"Big Data Engineer\", \"NLP Engineer\",\n",
    "\n",
    "    # Security & Cybersecurity Development\n",
    "    \"Security Engineer\", \"Application Security Engineer\", \"Cybersecurity Engineer\",\n",
    "    \"Penetration Tester\", \"Security Software Developer\",\n",
    "\n",
    "    # Embedded & Systems Development\n",
    "    \"Firmware Engineer\", \"Embedded Systems Engineer\", \"IoT Engineer\", \"Systems Software Developer\",\n",
    "\n",
    "    # Database & Backend Specializations\n",
    "    \"Database Engineer\", \"SQL Developer\", \"Database Administrator (DBA)\", \"API Developer\",\n",
    "    \"Microservices Developer\", \"Cloud Backend Engineer\",\n",
    "\n",
    "    # Game Development\n",
    "    \"Game Developer\", \"Game Engine Developer\", \"Unity Developer\", \"Unreal Engine Developer\",\n",
    "    \"Gameplay Programmer\", \"Graphics Programmer\",\n",
    "\n",
    "    # QA & Testing Roles\n",
    "    \"QA Engineer\", \"Software Test Engineer\", \"Automation Engineer\", \"Test Automation Engineer\",\n",
    "    \"Performance Engineer\", \"Quality Assurance Analyst\",\n",
    "\n",
    "    # Leadership & Management Roles\n",
    "    \"Software Engineering Manager\", \"Tech Lead\", \"Development Team Lead\", \"Principal Software Engineer\",\n",
    "    \"Engineering Director\", \"CTO (Chief Technology Officer)\", \"VP of Engineering\",\n",
    "\n",
    "    # Specialized Developer Roles\n",
    "    \"Blockchain Developer\", \"AR/VR Developer\", \"Metaverse Developer\", \"Computer Vision Engineer\",\n",
    "    \"AI Ethics Engineer\", \"Algorithm Engineer\", \"Simulation Engineer\", \"Low-Level Systems Developer\"\n",
    "\n",
    "    # Other\n",
    "    \"Engineer\", \"Developer\", \"Project Manager\", \"QA\", \"Testing\", \"Software Testing\", \"Game Development\", \"Cloud\",\n",
    "    \"Front End Developer\"\n",
    "]\n",
    "\n",
    "sd_jobs_counts = {\n",
    "    keyword: merged_df['job_title'].str.contains(re.escape(keyword), case=False, na=False).sum()\n",
    "    for keyword in software_dev_job_titles\n",
    "}\n",
    "\n",
    "sd_jobs_df = pd.DataFrame(list(sd_jobs_counts.items()), columns=['Keyword', 'Count'])\n",
    "\n",
    "sd_jobs_df = sd_jobs_df.sort_values(by='Count', ascending=False)\n",
    "sd_jobs_df.head(20)\n",
    "\n",
    "\n"
   ]
  },
  {
   "cell_type": "code",
   "execution_count": 4,
   "id": "bbf92105",
   "metadata": {},
   "outputs": [],
   "source": [
    "\n",
    "sd_jobs_df.loc[sd_jobs_df['Keyword'] == 'Software Developer', 'Count'] += sd_jobs_df.loc[sd_jobs_df['Keyword'] == 'Developer', 'Count'].values[0]\n",
    "\n",
    "sd_jobs_df = sd_jobs_df[sd_jobs_df['Keyword'] != 'Developer']"
   ]
  },
  {
   "cell_type": "code",
   "execution_count": 5,
   "id": "045b24c9",
   "metadata": {},
   "outputs": [
    {
     "data": {
      "text/html": [
       "<div>\n",
       "<style scoped>\n",
       "    .dataframe tbody tr th:only-of-type {\n",
       "        vertical-align: middle;\n",
       "    }\n",
       "\n",
       "    .dataframe tbody tr th {\n",
       "        vertical-align: top;\n",
       "    }\n",
       "\n",
       "    .dataframe thead th {\n",
       "        text-align: right;\n",
       "    }\n",
       "</style>\n",
       "<table border=\"1\" class=\"dataframe\">\n",
       "  <thead>\n",
       "    <tr style=\"text-align: right;\">\n",
       "      <th></th>\n",
       "      <th>Keyword</th>\n",
       "      <th>Count</th>\n",
       "    </tr>\n",
       "  </thead>\n",
       "  <tbody>\n",
       "    <tr>\n",
       "      <th>0</th>\n",
       "      <td>Software Engineer</td>\n",
       "      <td>86</td>\n",
       "    </tr>\n",
       "    <tr>\n",
       "      <th>1</th>\n",
       "      <td>Software Developer</td>\n",
       "      <td>138</td>\n",
       "    </tr>\n",
       "    <tr>\n",
       "      <th>77</th>\n",
       "      <td>Project Manager</td>\n",
       "      <td>30</td>\n",
       "    </tr>\n",
       "    <tr>\n",
       "      <th>82</th>\n",
       "      <td>Cloud</td>\n",
       "      <td>24</td>\n",
       "    </tr>\n",
       "    <tr>\n",
       "      <th>57</th>\n",
       "      <td>Automation Engineer</td>\n",
       "      <td>23</td>\n",
       "    </tr>\n",
       "    <tr>\n",
       "      <th>28</th>\n",
       "      <td>Data Engineer</td>\n",
       "      <td>23</td>\n",
       "    </tr>\n",
       "    <tr>\n",
       "      <th>11</th>\n",
       "      <td>Full Stack Engineer</td>\n",
       "      <td>11</td>\n",
       "    </tr>\n",
       "    <tr>\n",
       "      <th>21</th>\n",
       "      <td>DevOps Engineer</td>\n",
       "      <td>8</td>\n",
       "    </tr>\n",
       "    <tr>\n",
       "      <th>3</th>\n",
       "      <td>Backend Developer</td>\n",
       "      <td>7</td>\n",
       "    </tr>\n",
       "    <tr>\n",
       "      <th>78</th>\n",
       "      <td>QA</td>\n",
       "      <td>5</td>\n",
       "    </tr>\n",
       "    <tr>\n",
       "      <th>34</th>\n",
       "      <td>Security Engineer</td>\n",
       "      <td>5</td>\n",
       "    </tr>\n",
       "    <tr>\n",
       "      <th>26</th>\n",
       "      <td>Systems Engineer</td>\n",
       "      <td>5</td>\n",
       "    </tr>\n",
       "    <tr>\n",
       "      <th>2</th>\n",
       "      <td>Full Stack Developer</td>\n",
       "      <td>4</td>\n",
       "    </tr>\n",
       "    <tr>\n",
       "      <th>5</th>\n",
       "      <td>Application Developer</td>\n",
       "      <td>3</td>\n",
       "    </tr>\n",
       "    <tr>\n",
       "      <th>8</th>\n",
       "      <td>Web Developer</td>\n",
       "      <td>3</td>\n",
       "    </tr>\n",
       "    <tr>\n",
       "      <th>22</th>\n",
       "      <td>Cloud Engineer</td>\n",
       "      <td>3</td>\n",
       "    </tr>\n",
       "    <tr>\n",
       "      <th>30</th>\n",
       "      <td>AI Engineer</td>\n",
       "      <td>3</td>\n",
       "    </tr>\n",
       "    <tr>\n",
       "      <th>25</th>\n",
       "      <td>Platform Engineer</td>\n",
       "      <td>2</td>\n",
       "    </tr>\n",
       "    <tr>\n",
       "      <th>35</th>\n",
       "      <td>Application Security Engineer</td>\n",
       "      <td>2</td>\n",
       "    </tr>\n",
       "    <tr>\n",
       "      <th>55</th>\n",
       "      <td>QA Engineer</td>\n",
       "      <td>2</td>\n",
       "    </tr>\n",
       "  </tbody>\n",
       "</table>\n",
       "</div>"
      ],
      "text/plain": [
       "                          Keyword  Count\n",
       "0               Software Engineer     86\n",
       "1              Software Developer    138\n",
       "77                Project Manager     30\n",
       "82                          Cloud     24\n",
       "57            Automation Engineer     23\n",
       "28                  Data Engineer     23\n",
       "11            Full Stack Engineer     11\n",
       "21                DevOps Engineer      8\n",
       "3               Backend Developer      7\n",
       "78                             QA      5\n",
       "34              Security Engineer      5\n",
       "26               Systems Engineer      5\n",
       "2            Full Stack Developer      4\n",
       "5           Application Developer      3\n",
       "8                   Web Developer      3\n",
       "22                 Cloud Engineer      3\n",
       "30                    AI Engineer      3\n",
       "25              Platform Engineer      2\n",
       "35  Application Security Engineer      2\n",
       "55                    QA Engineer      2"
      ]
     },
     "execution_count": 5,
     "metadata": {},
     "output_type": "execute_result"
    }
   ],
   "source": [
    "sd_jobs_df.head(20)"
   ]
  },
  {
   "cell_type": "code",
   "execution_count": 6,
   "id": "d91b68ef",
   "metadata": {},
   "outputs": [
    {
     "data": {
      "text/html": [
       "<div>\n",
       "<style scoped>\n",
       "    .dataframe tbody tr th:only-of-type {\n",
       "        vertical-align: middle;\n",
       "    }\n",
       "\n",
       "    .dataframe tbody tr th {\n",
       "        vertical-align: top;\n",
       "    }\n",
       "\n",
       "    .dataframe thead th {\n",
       "        text-align: right;\n",
       "    }\n",
       "</style>\n",
       "<table border=\"1\" class=\"dataframe\">\n",
       "  <thead>\n",
       "    <tr style=\"text-align: right;\">\n",
       "      <th></th>\n",
       "      <th>Keyword</th>\n",
       "      <th>Count</th>\n",
       "    </tr>\n",
       "  </thead>\n",
       "  <tbody>\n",
       "    <tr>\n",
       "      <th>1</th>\n",
       "      <td>R</td>\n",
       "      <td>2571</td>\n",
       "    </tr>\n",
       "    <tr>\n",
       "      <th>50</th>\n",
       "      <td>AI</td>\n",
       "      <td>2484</td>\n",
       "    </tr>\n",
       "    <tr>\n",
       "      <th>35</th>\n",
       "      <td>Excel</td>\n",
       "      <td>1306</td>\n",
       "    </tr>\n",
       "    <tr>\n",
       "      <th>2</th>\n",
       "      <td>SQL</td>\n",
       "      <td>366</td>\n",
       "    </tr>\n",
       "    <tr>\n",
       "      <th>0</th>\n",
       "      <td>Python</td>\n",
       "      <td>272</td>\n",
       "    </tr>\n",
       "    <tr>\n",
       "      <th>4</th>\n",
       "      <td>SAS</td>\n",
       "      <td>236</td>\n",
       "    </tr>\n",
       "    <tr>\n",
       "      <th>47</th>\n",
       "      <td>Classification</td>\n",
       "      <td>160</td>\n",
       "    </tr>\n",
       "    <tr>\n",
       "      <th>49</th>\n",
       "      <td>Machine Learning</td>\n",
       "      <td>124</td>\n",
       "    </tr>\n",
       "    <tr>\n",
       "      <th>3</th>\n",
       "      <td>JavaScript</td>\n",
       "      <td>116</td>\n",
       "    </tr>\n",
       "    <tr>\n",
       "      <th>24</th>\n",
       "      <td>Oracle</td>\n",
       "      <td>94</td>\n",
       "    </tr>\n",
       "    <tr>\n",
       "      <th>27</th>\n",
       "      <td>Tableau</td>\n",
       "      <td>87</td>\n",
       "    </tr>\n",
       "    <tr>\n",
       "      <th>51</th>\n",
       "      <td>Artificial Intelligence</td>\n",
       "      <td>79</td>\n",
       "    </tr>\n",
       "    <tr>\n",
       "      <th>28</th>\n",
       "      <td>Power BI</td>\n",
       "      <td>66</td>\n",
       "    </tr>\n",
       "    <tr>\n",
       "      <th>56</th>\n",
       "      <td>Spark</td>\n",
       "      <td>51</td>\n",
       "    </tr>\n",
       "    <tr>\n",
       "      <th>25</th>\n",
       "      <td>NoSQL</td>\n",
       "      <td>48</td>\n",
       "    </tr>\n",
       "    <tr>\n",
       "      <th>19</th>\n",
       "      <td>MySQL</td>\n",
       "      <td>46</td>\n",
       "    </tr>\n",
       "    <tr>\n",
       "      <th>17</th>\n",
       "      <td>Data Mining</td>\n",
       "      <td>36</td>\n",
       "    </tr>\n",
       "    <tr>\n",
       "      <th>67</th>\n",
       "      <td>Kafka</td>\n",
       "      <td>35</td>\n",
       "    </tr>\n",
       "    <tr>\n",
       "      <th>57</th>\n",
       "      <td>Databricks</td>\n",
       "      <td>35</td>\n",
       "    </tr>\n",
       "    <tr>\n",
       "      <th>18</th>\n",
       "      <td>Statistical Analysis</td>\n",
       "      <td>33</td>\n",
       "    </tr>\n",
       "    <tr>\n",
       "      <th>26</th>\n",
       "      <td>Google Sheets</td>\n",
       "      <td>31</td>\n",
       "    </tr>\n",
       "    <tr>\n",
       "      <th>20</th>\n",
       "      <td>PostgreSQL</td>\n",
       "      <td>30</td>\n",
       "    </tr>\n",
       "    <tr>\n",
       "      <th>64</th>\n",
       "      <td>Data Warehousing</td>\n",
       "      <td>29</td>\n",
       "    </tr>\n",
       "    <tr>\n",
       "      <th>65</th>\n",
       "      <td>Data Pipelines</td>\n",
       "      <td>27</td>\n",
       "    </tr>\n",
       "    <tr>\n",
       "      <th>8</th>\n",
       "      <td>Pandas</td>\n",
       "      <td>25</td>\n",
       "    </tr>\n",
       "    <tr>\n",
       "      <th>23</th>\n",
       "      <td>Snowflake</td>\n",
       "      <td>20</td>\n",
       "    </tr>\n",
       "    <tr>\n",
       "      <th>43</th>\n",
       "      <td>PyTorch</td>\n",
       "      <td>18</td>\n",
       "    </tr>\n",
       "    <tr>\n",
       "      <th>5</th>\n",
       "      <td>VBA</td>\n",
       "      <td>18</td>\n",
       "    </tr>\n",
       "    <tr>\n",
       "      <th>21</th>\n",
       "      <td>MongoDB</td>\n",
       "      <td>17</td>\n",
       "    </tr>\n",
       "    <tr>\n",
       "      <th>42</th>\n",
       "      <td>TensorFlow</td>\n",
       "      <td>17</td>\n",
       "    </tr>\n",
       "  </tbody>\n",
       "</table>\n",
       "</div>"
      ],
      "text/plain": [
       "                    Keyword  Count\n",
       "1                         R   2571\n",
       "50                       AI   2484\n",
       "35                    Excel   1306\n",
       "2                       SQL    366\n",
       "0                    Python    272\n",
       "4                       SAS    236\n",
       "47           Classification    160\n",
       "49         Machine Learning    124\n",
       "3                JavaScript    116\n",
       "24                   Oracle     94\n",
       "27                  Tableau     87\n",
       "51  Artificial Intelligence     79\n",
       "28                 Power BI     66\n",
       "56                    Spark     51\n",
       "25                    NoSQL     48\n",
       "19                    MySQL     46\n",
       "17              Data Mining     36\n",
       "67                    Kafka     35\n",
       "57               Databricks     35\n",
       "18     Statistical Analysis     33\n",
       "26            Google Sheets     31\n",
       "20               PostgreSQL     30\n",
       "64         Data Warehousing     29\n",
       "65           Data Pipelines     27\n",
       "8                    Pandas     25\n",
       "23                Snowflake     20\n",
       "43                  PyTorch     18\n",
       "5                       VBA     18\n",
       "21                  MongoDB     17\n",
       "42               TensorFlow     17"
      ]
     },
     "execution_count": 6,
     "metadata": {},
     "output_type": "execute_result"
    }
   ],
   "source": [
    "data_analyst_skills = [\n",
    "    # Programming & Scripting Languages\n",
    "    \"Python\", \"R\", \"SQL\", \"JavaScript\", \"SAS\", \"VBA\", \"Julia\", \"MATLAB\",\n",
    "\n",
    "    # Data Manipulation & Analysis\n",
    "    \"Pandas\", \"NumPy\", \"Dplyr\", \"Tidyverse\", \"Data Wrangling\", \"Data Cleaning\", \"ETL (Extract, Transform, Load)\",\n",
    "    \"Data Transformation\", \"Exploratory Data Analysis (EDA)\", \"Data Mining\", \"Statistical Analysis\",\n",
    "\n",
    "    # Databases & Querying\n",
    "    \"SQL\", \"MySQL\", \"PostgreSQL\", \"MongoDB\", \"BigQuery\", \"Snowflake\", \"Oracle\", \"NoSQL\", \"Google Sheets\",\n",
    "\n",
    "    # Data Visualization\n",
    "    \"Tableau\", \"Power BI\", \"Looker\", \"Google Data Studio\", \"Matplotlib\", \"Seaborn\", \"Plotly\", \"ggplot2\",\n",
    "\n",
    "    # Business Intelligence & Reporting\n",
    "    \"Excel\", \"Pivot Tables\", \"DAX (Data Analysis Expressions)\", \"KPI Analysis\", \"Dashboarding\", \"Reporting Automation\",\n",
    "\n",
    "    # Machine Learning & Predictive Analytics (for advanced roles)\n",
    "    \"Scikit-learn\", \"TensorFlow\", \"PyTorch\", \"Regression Analysis\", \"Time Series Forecasting\",\n",
    "    \"Clustering\", \"Classification\", \"Natural Language Processing (NLP)\", \"Machine Learning\", 'AI', 'Artificial Intelligence',\n",
    "\n",
    "    # Cloud & Big Data Technologies\n",
    "    \"AWS Redshift\", \"Google BigQuery\", \"Azure Synapse Analytics\", \"Hadoop\", \"Spark\", \"Databricks\",\n",
    "\n",
    "    # Statistical Methods & Mathematics\n",
    "    \"A/B Testing\", \"Hypothesis Testing\", \"Probability\", \"Bayesian Statistics\", \"ANOVA\", \"Time Series Analysis\",\n",
    "\n",
    "    # Data Engineering Concepts\n",
    "    \"Data Warehousing\", \"Data Pipelines\", \"Airflow\", \"Kafka\", \"SQL Optimization\",\n",
    "\n",
    "    # Tools & Platforms\n",
    "    \"Jupyter Notebook\", \"Google Colab\", \"Alteryx\", \"SAP BusinessObjects\", \"IBM Cognos\", \"SPSS\",\n",
    "\n",
    "]\n",
    "da_keyword_counts = {\n",
    "    keyword: merged_df['job_description'].str.contains(re.escape(keyword), case=False, na=False).sum() for keyword in data_analyst_skills\n",
    "}\n",
    "\n",
    "da_keyword_df = pd.DataFrame(list(da_keyword_counts.items()), columns=['Keyword', 'Count'])\n",
    "\n",
    "da_keyword_df = da_keyword_df.sort_values(by='Count', ascending=False)\n",
    "da_keyword_df.head(30)"
   ]
  },
  {
   "cell_type": "code",
   "execution_count": 7,
   "id": "7effca4a",
   "metadata": {},
   "outputs": [
    {
     "data": {
      "text/html": [
       "<div>\n",
       "<style scoped>\n",
       "    .dataframe tbody tr th:only-of-type {\n",
       "        vertical-align: middle;\n",
       "    }\n",
       "\n",
       "    .dataframe tbody tr th {\n",
       "        vertical-align: top;\n",
       "    }\n",
       "\n",
       "    .dataframe thead th {\n",
       "        text-align: right;\n",
       "    }\n",
       "</style>\n",
       "<table border=\"1\" class=\"dataframe\">\n",
       "  <thead>\n",
       "    <tr style=\"text-align: right;\">\n",
       "      <th></th>\n",
       "      <th>Keyword</th>\n",
       "      <th>Count</th>\n",
       "    </tr>\n",
       "  </thead>\n",
       "  <tbody>\n",
       "    <tr>\n",
       "      <th>0</th>\n",
       "      <td>Data Analyst</td>\n",
       "      <td>79</td>\n",
       "    </tr>\n",
       "    <tr>\n",
       "      <th>66</th>\n",
       "      <td>Product Manager</td>\n",
       "      <td>76</td>\n",
       "    </tr>\n",
       "    <tr>\n",
       "      <th>24</th>\n",
       "      <td>Data Scientist</td>\n",
       "      <td>29</td>\n",
       "    </tr>\n",
       "    <tr>\n",
       "      <th>31</th>\n",
       "      <td>Data Engineer</td>\n",
       "      <td>23</td>\n",
       "    </tr>\n",
       "    <tr>\n",
       "      <th>44</th>\n",
       "      <td>Financial Analyst</td>\n",
       "      <td>14</td>\n",
       "    </tr>\n",
       "    <tr>\n",
       "      <th>60</th>\n",
       "      <td>Business Intelligence</td>\n",
       "      <td>13</td>\n",
       "    </tr>\n",
       "    <tr>\n",
       "      <th>61</th>\n",
       "      <td>Machine Learning</td>\n",
       "      <td>4</td>\n",
       "    </tr>\n",
       "    <tr>\n",
       "      <th>17</th>\n",
       "      <td>Business Intelligence Analyst</td>\n",
       "      <td>4</td>\n",
       "    </tr>\n",
       "    <tr>\n",
       "      <th>54</th>\n",
       "      <td>Operations Analyst</td>\n",
       "      <td>4</td>\n",
       "    </tr>\n",
       "    <tr>\n",
       "      <th>63</th>\n",
       "      <td>Data Architect</td>\n",
       "      <td>2</td>\n",
       "    </tr>\n",
       "    <tr>\n",
       "      <th>16</th>\n",
       "      <td>BI Analyst</td>\n",
       "      <td>2</td>\n",
       "    </tr>\n",
       "    <tr>\n",
       "      <th>62</th>\n",
       "      <td>Machine Learning Engineer</td>\n",
       "      <td>1</td>\n",
       "    </tr>\n",
       "    <tr>\n",
       "      <th>46</th>\n",
       "      <td>Credit Risk Analyst</td>\n",
       "      <td>1</td>\n",
       "    </tr>\n",
       "    <tr>\n",
       "      <th>65</th>\n",
       "      <td>Statistician</td>\n",
       "      <td>1</td>\n",
       "    </tr>\n",
       "    <tr>\n",
       "      <th>12</th>\n",
       "      <td>Risk Analyst</td>\n",
       "      <td>1</td>\n",
       "    </tr>\n",
       "    <tr>\n",
       "      <th>22</th>\n",
       "      <td>Power BI Analyst</td>\n",
       "      <td>1</td>\n",
       "    </tr>\n",
       "    <tr>\n",
       "      <th>68</th>\n",
       "      <td>Data Specialist</td>\n",
       "      <td>1</td>\n",
       "    </tr>\n",
       "    <tr>\n",
       "      <th>20</th>\n",
       "      <td>Reporting Analyst</td>\n",
       "      <td>1</td>\n",
       "    </tr>\n",
       "    <tr>\n",
       "      <th>47</th>\n",
       "      <td>Fraud Analyst</td>\n",
       "      <td>0</td>\n",
       "    </tr>\n",
       "    <tr>\n",
       "      <th>45</th>\n",
       "      <td>Investment Data Analyst</td>\n",
       "      <td>0</td>\n",
       "    </tr>\n",
       "  </tbody>\n",
       "</table>\n",
       "</div>"
      ],
      "text/plain": [
       "                          Keyword  Count\n",
       "0                    Data Analyst     79\n",
       "66                Product Manager     76\n",
       "24                 Data Scientist     29\n",
       "31                  Data Engineer     23\n",
       "44              Financial Analyst     14\n",
       "60          Business Intelligence     13\n",
       "61               Machine Learning      4\n",
       "17  Business Intelligence Analyst      4\n",
       "54             Operations Analyst      4\n",
       "63                 Data Architect      2\n",
       "16                     BI Analyst      2\n",
       "62      Machine Learning Engineer      1\n",
       "46            Credit Risk Analyst      1\n",
       "65                   Statistician      1\n",
       "12                   Risk Analyst      1\n",
       "22               Power BI Analyst      1\n",
       "68                Data Specialist      1\n",
       "20              Reporting Analyst      1\n",
       "47                  Fraud Analyst      0\n",
       "45        Investment Data Analyst      0"
      ]
     },
     "execution_count": 7,
     "metadata": {},
     "output_type": "execute_result"
    }
   ],
   "source": [
    "data_analyst_job_titles = [\n",
    "    # General Data Analyst Roles\n",
    "    \"Data Analyst\", \"Business Data Analyst\", \"Financial Data Analyst\", \"Marketing Data Analyst\",\n",
    "    \"Product Data Analyst\", \"Healthcare Data Analyst\", \"HR Data Analyst\", \"Operations Data Analyst\", \"Business Analyst\"\n",
    "\n",
    "    # Advanced & Specialized Data Analysis Roles\n",
    "    \"Senior Data Analyst\", \"Lead Data Analyst\", \"Principal Data Analyst\", \"Quantitative Analyst\",\n",
    "    \"Risk Analyst\", \"Statistical Analyst\", \"Customer Data Analyst\", \"Sales Data Analyst\",\n",
    "\n",
    "    # Business Intelligence & Reporting\n",
    "    \"BI Analyst\", \"Business Intelligence Analyst\", \"BI Developer\", \"Data Visualization Analyst\",\n",
    "    \"Reporting Analyst\", \"Tableau Analyst\", \"Power BI Analyst\", \"Excel Analyst\",\n",
    "\n",
    "    # Data Science & Machine Learning Adjacent Roles\n",
    "    \"Data Scientist\", \"Machine Learning Analyst\", \"AI Analyst\", \"Big Data Analyst\",\n",
    "    \"Predictive Analytics Specialist\", \"Data Mining Analyst\", \"Data Research Analyst\",\n",
    "\n",
    "    # Data Engineering & Database Management\n",
    "    \"Data Engineer\", \"ETL Analyst\", \"SQL Data Analyst\", \"Database Analyst\",\n",
    "    \"Data Warehouse Analyst\", \"Data Quality Analyst\", \"Data Governance Analyst\",\n",
    "\n",
    "    # Marketing & Customer Insights\n",
    "    \"Customer Insights Analyst\", \"Marketing Analytics Specialist\", \"Digital Marketing Analyst\",\n",
    "    \"SEO Data Analyst\", \"Web Analytics Analyst\", \"Social Media Data Analyst\",\n",
    "\n",
    "    # Finance & Risk Analysis\n",
    "    \"Financial Analyst\", \"Risk Analyst\", \"Investment Data Analyst\", \"Credit Risk Analyst\",\n",
    "    \"Fraud Analyst\", \"Actuarial Analyst\",\n",
    "\n",
    "    # Healthcare & Clinical Data\n",
    "    \"Healthcare Data Analyst\", \"Clinical Data Analyst\", \"Pharmaceutical Data Analyst\",\n",
    "    \"Bioinformatics Analyst\", \"Public Health Data Analyst\",\n",
    "\n",
    "    # Supply Chain & Operations Analysis\n",
    "    \"Supply Chain Analyst\", \"Operations Analyst\", \"Logistics Analyst\", \"Manufacturing Data Analyst\",\n",
    "    \"Procurement Analyst\", \"Inventory Data Analyst\"\n",
    "\n",
    "    # Other\n",
    "    \"Database Engineer\", \"Database Administrator\", \"Business Intelligence\", \"Machine Learning\", \"Machine Learning Engineer\",\n",
    "    \"Data Architect\", \"Applied Data Scientist\", \"Statistician\", \"Product Manager\", \"Data Modeler\", \"Data Specialist\", \"Data Journalist\"\n",
    "]\n",
    "\n",
    "da_jobs_counts = {\n",
    "    keyword: merged_df['job_title'].str.contains(re.escape(keyword), case=False, na=False).sum()\n",
    "    for keyword in data_analyst_job_titles\n",
    "}\n",
    "\n",
    "da_jobs_df = pd.DataFrame(list(da_jobs_counts.items()), columns=['Keyword', 'Count'])\n",
    "\n",
    "da_jobs_df = da_jobs_df.sort_values(by='Count', ascending=False)\n",
    "da_jobs_df.head(20)"
   ]
  },
  {
   "cell_type": "code",
   "execution_count": 8,
   "id": "3e44c822",
   "metadata": {},
   "outputs": [
    {
     "data": {
      "text/html": [
       "<div>\n",
       "<style scoped>\n",
       "    .dataframe tbody tr th:only-of-type {\n",
       "        vertical-align: middle;\n",
       "    }\n",
       "\n",
       "    .dataframe tbody tr th {\n",
       "        vertical-align: top;\n",
       "    }\n",
       "\n",
       "    .dataframe thead th {\n",
       "        text-align: right;\n",
       "    }\n",
       "</style>\n",
       "<table border=\"1\" class=\"dataframe\">\n",
       "  <thead>\n",
       "    <tr style=\"text-align: right;\">\n",
       "      <th></th>\n",
       "      <th>Keyword</th>\n",
       "      <th>Count</th>\n",
       "    </tr>\n",
       "  </thead>\n",
       "  <tbody>\n",
       "    <tr>\n",
       "      <th>1</th>\n",
       "      <td>R</td>\n",
       "      <td>2571</td>\n",
       "    </tr>\n",
       "    <tr>\n",
       "      <th>51</th>\n",
       "      <td>AI</td>\n",
       "      <td>2484</td>\n",
       "    </tr>\n",
       "    <tr>\n",
       "      <th>73</th>\n",
       "      <td>AWS</td>\n",
       "      <td>607</td>\n",
       "    </tr>\n",
       "    <tr>\n",
       "      <th>2</th>\n",
       "      <td>SQL</td>\n",
       "      <td>366</td>\n",
       "    </tr>\n",
       "    <tr>\n",
       "      <th>4</th>\n",
       "      <td>Scala</td>\n",
       "      <td>297</td>\n",
       "    </tr>\n",
       "    <tr>\n",
       "      <th>0</th>\n",
       "      <td>Python</td>\n",
       "      <td>272</td>\n",
       "    </tr>\n",
       "    <tr>\n",
       "      <th>6</th>\n",
       "      <td>Java</td>\n",
       "      <td>222</td>\n",
       "    </tr>\n",
       "    <tr>\n",
       "      <th>65</th>\n",
       "      <td>Optimization</td>\n",
       "      <td>186</td>\n",
       "    </tr>\n",
       "    <tr>\n",
       "      <th>75</th>\n",
       "      <td>Azure</td>\n",
       "      <td>146</td>\n",
       "    </tr>\n",
       "    <tr>\n",
       "      <th>50</th>\n",
       "      <td>Machine Learning</td>\n",
       "      <td>124</td>\n",
       "    </tr>\n",
       "    <tr>\n",
       "      <th>7</th>\n",
       "      <td>C++</td>\n",
       "      <td>109</td>\n",
       "    </tr>\n",
       "    <tr>\n",
       "      <th>71</th>\n",
       "      <td>Tableau</td>\n",
       "      <td>87</td>\n",
       "    </tr>\n",
       "    <tr>\n",
       "      <th>78</th>\n",
       "      <td>Docker</td>\n",
       "      <td>78</td>\n",
       "    </tr>\n",
       "    <tr>\n",
       "      <th>79</th>\n",
       "      <td>Kubernetes</td>\n",
       "      <td>70</td>\n",
       "    </tr>\n",
       "    <tr>\n",
       "      <th>70</th>\n",
       "      <td>Power BI</td>\n",
       "      <td>66</td>\n",
       "    </tr>\n",
       "    <tr>\n",
       "      <th>24</th>\n",
       "      <td>NoSQL</td>\n",
       "      <td>48</td>\n",
       "    </tr>\n",
       "    <tr>\n",
       "      <th>18</th>\n",
       "      <td>MySQL</td>\n",
       "      <td>46</td>\n",
       "    </tr>\n",
       "    <tr>\n",
       "      <th>44</th>\n",
       "      <td>BERT</td>\n",
       "      <td>45</td>\n",
       "    </tr>\n",
       "    <tr>\n",
       "      <th>27</th>\n",
       "      <td>Databricks</td>\n",
       "      <td>35</td>\n",
       "    </tr>\n",
       "    <tr>\n",
       "      <th>19</th>\n",
       "      <td>PostgreSQL</td>\n",
       "      <td>30</td>\n",
       "    </tr>\n",
       "  </tbody>\n",
       "</table>\n",
       "</div>"
      ],
      "text/plain": [
       "             Keyword  Count\n",
       "1                  R   2571\n",
       "51                AI   2484\n",
       "73               AWS    607\n",
       "2                SQL    366\n",
       "4              Scala    297\n",
       "0             Python    272\n",
       "6               Java    222\n",
       "65      Optimization    186\n",
       "75             Azure    146\n",
       "50  Machine Learning    124\n",
       "7                C++    109\n",
       "71           Tableau     87\n",
       "78            Docker     78\n",
       "79        Kubernetes     70\n",
       "70          Power BI     66\n",
       "24             NoSQL     48\n",
       "18             MySQL     46\n",
       "44              BERT     45\n",
       "27        Databricks     35\n",
       "19        PostgreSQL     30"
      ]
     },
     "execution_count": 8,
     "metadata": {},
     "output_type": "execute_result"
    }
   ],
   "source": [
    "data_scientist_skills = [\n",
    "    # Programming & Scripting Languages\n",
    "    \"Python\", \"R\", \"SQL\", \"Julia\", \"Scala\", \"MATLAB\", \"Java\", \"C++\",\n",
    "\n",
    "    # Data Manipulation & Analysis\n",
    "    \"Pandas\", \"NumPy\", \"Dask\", \"Polars\", \"Data Wrangling\", \"Data Cleaning\", \"ETL (Extract, Transform, Load)\",\n",
    "    \"Feature Engineering\", \"Exploratory Data Analysis (EDA)\", \"Dimensionality Reduction\",\n",
    "\n",
    "    # Databases & Big Data Technologies\n",
    "    \"SQL\", \"MySQL\", \"PostgreSQL\", \"MongoDB\", \"BigQuery\", \"Snowflake\", \"Cassandra\", \"NoSQL\",\n",
    "    \"Hadoop\", \"Apache Spark\", \"Databricks\", \"Presto\", \"Delta Lake\",\n",
    "\n",
    "    # Machine Learning & Deep Learning\n",
    "    \"Scikit-learn\", \"TensorFlow\", \"PyTorch\", \"Keras\", \"XGBoost\", \"LightGBM\", \"CatBoost\",\n",
    "    \"Random Forest\", \"Gradient Boosting\", \"Support Vector Machines (SVM)\", \"Neural Networks\",\n",
    "\n",
    "    # Natural Language Processing (NLP)\n",
    "    \"SpaCy\", \"NLTK\", \"Hugging Face Transformers\", \"BERT\", \"GPT\", \"Word Embeddings\",\n",
    "    \"Sentiment Analysis\", \"Text Classification\", \"Named Entity Recognition (NER)\",\n",
    "    \"Machine Learning\", 'AI', 'Artificial Intelligence'\n",
    "\n",
    "    # Computer Vision\n",
    "    \"OpenCV\", \"YOLO\", \"Convolutional Neural Networks (CNNs)\", \"Image Processing\", \"Object Detection\",\n",
    "\n",
    "    # Statistical Methods & Mathematics\n",
    "    \"A/B Testing\", \"Hypothesis Testing\", \"Bayesian Statistics\", \"Probability\", \"Linear Algebra\",\n",
    "    \"Regression Analysis\", \"Time Series Analysis\", \"Markov Chains\", \"Optimization\",\n",
    "\n",
    "    # Data Visualization\n",
    "    \"Matplotlib\", \"Seaborn\", \"Plotly\", \"ggplot2\", \"Power BI\", \"Tableau\", \"D3.js\",\n",
    "\n",
    "    # Cloud & MLOps\n",
    "    \"AWS\", \"Google Cloud Platform\", \"Azure\", \"MLflow\", \"Kubeflow\", \"Docker\", \"Kubernetes\",\n",
    "    \"FastAPI\", \"Flask\", \"Airflow\", \"Feature Store\",\n",
    "\n",
    "    # Deep Learning & AI\n",
    "    \"GANs (Generative Adversarial Networks)\", \"Reinforcement Learning\", \"AutoML\", \"Self-Supervised Learning\",\n",
    "\n",
    "    # Tools & Platforms\n",
    "    \"Jupyter Notebook\", \"Google Colab\", \"H2O.ai\", \"DataRobot\", \"RapidMiner\", \"Apache Airflow\", \"NLP\"\n",
    "]\n",
    "ds_keyword_counts = {\n",
    "    keyword: merged_df['job_description'].str.contains(re.escape(keyword), case=False, na=False).sum() for keyword in data_scientist_skills\n",
    "}\n",
    "\n",
    "ds_keyword_df = pd.DataFrame(list(ds_keyword_counts.items()), columns=['Keyword', 'Count'])\n",
    "\n",
    "ds_keyword_df = ds_keyword_df.sort_values(by='Count', ascending=False)\n",
    "ds_keyword_df.head(20)"
   ]
  },
  {
   "cell_type": "code",
   "execution_count": 9,
   "id": "ce93c9d4",
   "metadata": {},
   "outputs": [
    {
     "data": {
      "text/html": [
       "<div>\n",
       "<style scoped>\n",
       "    .dataframe tbody tr th:only-of-type {\n",
       "        vertical-align: middle;\n",
       "    }\n",
       "\n",
       "    .dataframe tbody tr th {\n",
       "        vertical-align: top;\n",
       "    }\n",
       "\n",
       "    .dataframe thead th {\n",
       "        text-align: right;\n",
       "    }\n",
       "</style>\n",
       "<table border=\"1\" class=\"dataframe\">\n",
       "  <thead>\n",
       "    <tr style=\"text-align: right;\">\n",
       "      <th></th>\n",
       "      <th>Keyword</th>\n",
       "      <th>Count</th>\n",
       "    </tr>\n",
       "  </thead>\n",
       "  <tbody>\n",
       "    <tr>\n",
       "      <th>57</th>\n",
       "      <td>AI</td>\n",
       "      <td>221</td>\n",
       "    </tr>\n",
       "    <tr>\n",
       "      <th>0</th>\n",
       "      <td>Data Scientist</td>\n",
       "      <td>29</td>\n",
       "    </tr>\n",
       "    <tr>\n",
       "      <th>49</th>\n",
       "      <td>Data Engineer</td>\n",
       "      <td>23</td>\n",
       "    </tr>\n",
       "    <tr>\n",
       "      <th>3</th>\n",
       "      <td>Principal Data Scientist</td>\n",
       "      <td>10</td>\n",
       "    </tr>\n",
       "    <tr>\n",
       "      <th>2</th>\n",
       "      <td>Lead Data Scientist</td>\n",
       "      <td>4</td>\n",
       "    </tr>\n",
       "    <tr>\n",
       "      <th>59</th>\n",
       "      <td>Machine Learning</td>\n",
       "      <td>4</td>\n",
       "    </tr>\n",
       "    <tr>\n",
       "      <th>14</th>\n",
       "      <td>AI Engineer</td>\n",
       "      <td>3</td>\n",
       "    </tr>\n",
       "    <tr>\n",
       "      <th>60</th>\n",
       "      <td>Cloud Engineer</td>\n",
       "      <td>3</td>\n",
       "    </tr>\n",
       "    <tr>\n",
       "      <th>24</th>\n",
       "      <td>Data Architect</td>\n",
       "      <td>2</td>\n",
       "    </tr>\n",
       "    <tr>\n",
       "      <th>55</th>\n",
       "      <td>Statistician</td>\n",
       "      <td>1</td>\n",
       "    </tr>\n",
       "    <tr>\n",
       "      <th>51</th>\n",
       "      <td>Data Manager</td>\n",
       "      <td>1</td>\n",
       "    </tr>\n",
       "    <tr>\n",
       "      <th>13</th>\n",
       "      <td>Machine Learning Engineer</td>\n",
       "      <td>1</td>\n",
       "    </tr>\n",
       "    <tr>\n",
       "      <th>42</th>\n",
       "      <td>AI Researcher</td>\n",
       "      <td>0</td>\n",
       "    </tr>\n",
       "    <tr>\n",
       "      <th>41</th>\n",
       "      <td>Environmental Data Scientist</td>\n",
       "      <td>0</td>\n",
       "    </tr>\n",
       "    <tr>\n",
       "      <th>38</th>\n",
       "      <td>Bioinformatics Data Scientist</td>\n",
       "      <td>0</td>\n",
       "    </tr>\n",
       "    <tr>\n",
       "      <th>40</th>\n",
       "      <td>Agricultural Data Scientist</td>\n",
       "      <td>0</td>\n",
       "    </tr>\n",
       "    <tr>\n",
       "      <th>39</th>\n",
       "      <td>Pharmaceutical Data Scientist</td>\n",
       "      <td>0</td>\n",
       "    </tr>\n",
       "    <tr>\n",
       "      <th>44</th>\n",
       "      <td>Statistical Data Scientist</td>\n",
       "      <td>0</td>\n",
       "    </tr>\n",
       "    <tr>\n",
       "      <th>37</th>\n",
       "      <td>Healthcare Data Scientist</td>\n",
       "      <td>0</td>\n",
       "    </tr>\n",
       "    <tr>\n",
       "      <th>36</th>\n",
       "      <td>Risk Data Scientist</td>\n",
       "      <td>0</td>\n",
       "    </tr>\n",
       "  </tbody>\n",
       "</table>\n",
       "</div>"
      ],
      "text/plain": [
       "                          Keyword  Count\n",
       "57                             AI    221\n",
       "0                  Data Scientist     29\n",
       "49                  Data Engineer     23\n",
       "3        Principal Data Scientist     10\n",
       "2             Lead Data Scientist      4\n",
       "59               Machine Learning      4\n",
       "14                    AI Engineer      3\n",
       "60                 Cloud Engineer      3\n",
       "24                 Data Architect      2\n",
       "55                   Statistician      1\n",
       "51                   Data Manager      1\n",
       "13      Machine Learning Engineer      1\n",
       "42                  AI Researcher      0\n",
       "41   Environmental Data Scientist      0\n",
       "38  Bioinformatics Data Scientist      0\n",
       "40    Agricultural Data Scientist      0\n",
       "39  Pharmaceutical Data Scientist      0\n",
       "44     Statistical Data Scientist      0\n",
       "37      Healthcare Data Scientist      0\n",
       "36            Risk Data Scientist      0"
      ]
     },
     "execution_count": 9,
     "metadata": {},
     "output_type": "execute_result"
    }
   ],
   "source": [
    "data_scientist_job_titles = [\n",
    "    # General Data Science Roles\n",
    "    \"Data Scientist\", \"Senior Data Scientist\", \"Lead Data Scientist\", \"Principal Data Scientist\",\n",
    "    \"AI Data Scientist\", \"ML Data Scientist\", \"Big Data Scientist\",\n",
    "\n",
    "    # Specialized Data Science Roles\n",
    "    \"Applied Data Scientist\", \"Deep Learning Scientist\", \"Quantitative Data Scientist\",\n",
    "    \"Computational Data Scientist\", \"Data Science Consultant\", \"Research Data Scientist\",\n",
    "\n",
    "    # Machine Learning & AI Focused Roles\n",
    "    \"Machine Learning Engineer\", \"AI Engineer\", \"Deep Learning Engineer\",\n",
    "    \"Natural Language Processing (NLP) Engineer\", \"Computer Vision Engineer\",\n",
    "    \"Reinforcement Learning Researcher\", \"AI Research Scientist\", \"Conversational AI Engineer\",\n",
    "\n",
    "    # Data Engineering & Infrastructure\n",
    "    \"Data Science Engineer\", \"MLOps Engineer\", \"Big Data Engineer\", \"Data Architect\",\n",
    "    \"Cloud Data Scientist\", \"ETL Data Scientist\", \"Data Pipeline Engineer\",\n",
    "\n",
    "    # Business & Decision Science Roles\n",
    "    \"Business Data Scientist\", \"Decision Scientist\", \"Marketing Data Scientist\",\n",
    "    \"Product Data Scientist\", \"Growth Data Scientist\", \"Customer Data Scientist\",\n",
    "\n",
    "    # Finance, Healthcare, & Industry-Specific Data Science\n",
    "    \"Financial Data Scientist\", \"Quantitative Researcher\", \"Risk Data Scientist\",\n",
    "    \"Healthcare Data Scientist\", \"Bioinformatics Data Scientist\", \"Pharmaceutical Data Scientist\",\n",
    "    \"Agricultural Data Scientist\", \"Environmental Data Scientist\",\n",
    "\n",
    "    # Advanced Research & Academic Roles\n",
    "    \"AI Researcher\", \"Computational Scientist\", \"Statistical Data Scientist\",\n",
    "    \"Data Science Researcher\", \"Predictive Modeling Scientist\", \"Algorithm Engineer\",\n",
    "    \"Experimental Data Scientist\"\n",
    "\n",
    "    # Other\n",
    "    \"Machine Learning Scientist\", \"Data Engineer\", \"Data Architect\", \"Data Storyteller\", \"Data Manager\",\n",
    "    \"BI Developer\", \"Business Intellegence Developer\", \"Database Administrator\", \"Statistician\", \"Data Privacy Officer\",\n",
    "    \"AI\", \"AI Engineer\", \"Artificial Intelligence\", \"Machine Learning\", \"Cloud Engineer\", \"Cloud Computing\"\n",
    "]\n",
    "\n",
    "ds_jobs_counts = {\n",
    "    keyword: merged_df['job_title'].str.contains(re.escape(keyword), case=False, na=False).sum()\n",
    "    for keyword in data_scientist_job_titles\n",
    "}\n",
    "\n",
    "ds_jobs_df = pd.DataFrame(list(ds_jobs_counts.items()), columns=['Keyword', 'Count'])\n",
    "\n",
    "ds_jobs_df = ds_jobs_df.sort_values(by='Count', ascending=False)\n",
    "ds_jobs_df.head(20)"
   ]
  },
  {
   "cell_type": "code",
   "execution_count": 10,
   "id": "0230d297",
   "metadata": {},
   "outputs": [],
   "source": [
    "data_science_analytics_skills = list(set(data_analyst_skills + data_scientist_skills))\n",
    "data_science_analytics_job_titles = list(set(data_analyst_job_titles + data_scientist_job_titles))"
   ]
  },
  {
   "cell_type": "code",
   "execution_count": null,
   "id": "fb7ad4b9",
   "metadata": {},
   "outputs": [],
   "source": []
  },
  {
   "cell_type": "code",
   "execution_count": 11,
   "id": "2e057526",
   "metadata": {},
   "outputs": [],
   "source": [
    "dsa_jobs_counts = {\n",
    "    keyword: merged_df['job_title'].str.contains(re.escape(keyword), case=False, na=False).sum()\n",
    "    for keyword in data_science_analytics_job_titles\n",
    "}\n",
    "\n",
    "dsa_jobs_df = pd.DataFrame(list(dsa_jobs_counts.items()), columns=['Keyword', 'Count'])\n",
    "dsa_jobs_df = dsa_jobs_df.sort_values(by='Count', ascending=False)\n"
   ]
  },
  {
   "cell_type": "code",
   "execution_count": 12,
   "id": "318c98ea",
   "metadata": {},
   "outputs": [
    {
     "data": {
      "text/html": [
       "<div>\n",
       "<style scoped>\n",
       "    .dataframe tbody tr th:only-of-type {\n",
       "        vertical-align: middle;\n",
       "    }\n",
       "\n",
       "    .dataframe tbody tr th {\n",
       "        vertical-align: top;\n",
       "    }\n",
       "\n",
       "    .dataframe thead th {\n",
       "        text-align: right;\n",
       "    }\n",
       "</style>\n",
       "<table border=\"1\" class=\"dataframe\">\n",
       "  <thead>\n",
       "    <tr style=\"text-align: right;\">\n",
       "      <th></th>\n",
       "      <th>Keyword</th>\n",
       "      <th>Count</th>\n",
       "    </tr>\n",
       "  </thead>\n",
       "  <tbody>\n",
       "    <tr>\n",
       "      <th>65</th>\n",
       "      <td>REST</td>\n",
       "      <td>840</td>\n",
       "    </tr>\n",
       "    <tr>\n",
       "      <th>25</th>\n",
       "      <td>AWS</td>\n",
       "      <td>607</td>\n",
       "    </tr>\n",
       "    <tr>\n",
       "      <th>12</th>\n",
       "      <td>Enterprise</td>\n",
       "      <td>275</td>\n",
       "    </tr>\n",
       "    <tr>\n",
       "      <th>48</th>\n",
       "      <td>Python</td>\n",
       "      <td>272</td>\n",
       "    </tr>\n",
       "    <tr>\n",
       "      <th>42</th>\n",
       "      <td>SAS</td>\n",
       "      <td>236</td>\n",
       "    </tr>\n",
       "    <tr>\n",
       "      <th>47</th>\n",
       "      <td>Java</td>\n",
       "      <td>222</td>\n",
       "    </tr>\n",
       "    <tr>\n",
       "      <th>0</th>\n",
       "      <td>SAP</td>\n",
       "      <td>120</td>\n",
       "    </tr>\n",
       "    <tr>\n",
       "      <th>51</th>\n",
       "      <td>JavaScript</td>\n",
       "      <td>116</td>\n",
       "    </tr>\n",
       "    <tr>\n",
       "      <th>89</th>\n",
       "      <td>Oracle</td>\n",
       "      <td>94</td>\n",
       "    </tr>\n",
       "    <tr>\n",
       "      <th>49</th>\n",
       "      <td>C#</td>\n",
       "      <td>93</td>\n",
       "    </tr>\n",
       "    <tr>\n",
       "      <th>38</th>\n",
       "      <td>Tableau</td>\n",
       "      <td>87</td>\n",
       "    </tr>\n",
       "    <tr>\n",
       "      <th>5</th>\n",
       "      <td>Workday</td>\n",
       "      <td>78</td>\n",
       "    </tr>\n",
       "    <tr>\n",
       "      <th>30</th>\n",
       "      <td>Docker</td>\n",
       "      <td>78</td>\n",
       "    </tr>\n",
       "    <tr>\n",
       "      <th>73</th>\n",
       "      <td>CI/CD</td>\n",
       "      <td>75</td>\n",
       "    </tr>\n",
       "    <tr>\n",
       "      <th>29</th>\n",
       "      <td>Kubernetes</td>\n",
       "      <td>70</td>\n",
       "    </tr>\n",
       "    <tr>\n",
       "      <th>92</th>\n",
       "      <td>CRM</td>\n",
       "      <td>67</td>\n",
       "    </tr>\n",
       "    <tr>\n",
       "      <th>37</th>\n",
       "      <td>Power BI</td>\n",
       "      <td>66</td>\n",
       "    </tr>\n",
       "    <tr>\n",
       "      <th>22</th>\n",
       "      <td>ETL</td>\n",
       "      <td>59</td>\n",
       "    </tr>\n",
       "    <tr>\n",
       "      <th>6</th>\n",
       "      <td>Salesforce</td>\n",
       "      <td>52</td>\n",
       "    </tr>\n",
       "    <tr>\n",
       "      <th>76</th>\n",
       "      <td>Jenkins</td>\n",
       "      <td>47</td>\n",
       "    </tr>\n",
       "  </tbody>\n",
       "</table>\n",
       "</div>"
      ],
      "text/plain": [
       "       Keyword  Count\n",
       "65        REST    840\n",
       "25         AWS    607\n",
       "12  Enterprise    275\n",
       "48      Python    272\n",
       "42         SAS    236\n",
       "47        Java    222\n",
       "0          SAP    120\n",
       "51  JavaScript    116\n",
       "89      Oracle     94\n",
       "49          C#     93\n",
       "38     Tableau     87\n",
       "5      Workday     78\n",
       "30      Docker     78\n",
       "73       CI/CD     75\n",
       "29  Kubernetes     70\n",
       "92         CRM     67\n",
       "37    Power BI     66\n",
       "22         ETL     59\n",
       "6   Salesforce     52\n",
       "76     Jenkins     47"
      ]
     },
     "execution_count": 12,
     "metadata": {},
     "output_type": "execute_result"
    }
   ],
   "source": [
    "enterprise_systems_skills = [\n",
    "    # Enterprise Software & ERP Systems\n",
    "    \"SAP\", \"Oracle ERP\", \"Microsoft Dynamics\", \"NetSuite\", \"PeopleSoft\", \"Workday\", \"Salesforce\", \"ServiceNow\",\n",
    "    \"JD Edwards\", \"Infor ERP\", \"Epicor ERP\", \"Excel\" \"SQL\", \"Enterprise\", \"Finance\"\n",
    "\n",
    "    # Databases & Data Management\n",
    "    \"SQL Server\", \"Oracle Database\", \"PostgreSQL\", \"MySQL\", \"MongoDB\", \"Redis\", \"DB2\", \"Teradata\",\n",
    "    \"Data Warehousing\", \"ETL\", \"Snowflake\", \"BigQuery\",\n",
    "\n",
    "    # Cloud & Infrastructure\n",
    "    \"AWS\", \"Microsoft Azure\", \"Google Cloud Platform\", \"Hybrid Cloud\", \"Kubernetes\", \"Docker\", \"Terraform\",\n",
    "    \"OpenShift\", \"VMware\", \"Active Directory\", \"IAM\", \"Identity and Access Management\",\n",
    "\n",
    "    # Business Intelligence & Analytics\n",
    "    \"Power BI\", \"Tableau\", \"QlikView\", \"SAP BusinessObjects\", \"Cognos Analytics\", \"SAS\", \"Looker\",\n",
    "    \"Data Modeling\", \"OLAP\", \"Online Analytical Processing\",\n",
    "\n",
    "    # Programming & Development\n",
    "    \"Java\", \"Python\", \"C#\", \".NET Framework\", \"JavaScript\", \"TypeScript\", \"Node.js\", \"Bash Scripting\",\n",
    "    \"PowerShell\", \"Apex\",\n",
    "\n",
    "    # Middleware & Integration\n",
    "    \"API Management\", \"MuleSoft\", \"IBM WebSphere\", \"Tibco\", \"Apache Kafka\", \"RabbitMQ\", \"Web Services\",\n",
    "    \"SOAP\", \"REST\", \"GraphQL\",\n",
    "\n",
    "    # Security & Compliance\n",
    "    \"ISO 27001\", \"SOC 2 Compliance\", \"GDPR Compliance\", \"NIST Framework\", \"SIEM\", \"Security Information and Event Management\",\n",
    "    \"IAM\", \"Identity and Access Management\",\n",
    "\n",
    "    # DevOps & IT Operations\n",
    "    \"CI/CD\", \"Continuous Integration\", \"Continuous Deployment\", \"Jenkins\", \"GitHub Actions\", \"Ansible\",\n",
    "    \"Puppet\", \"Chef\", \"Monitoring Tools\", \"Nagios\", \"Splunk\", \"New Relic\",\n",
    "\n",
    "    # Enterprise Architecture & IT Governance\n",
    "    \"TOGAF\", \"ITIL\", \"COBIT\", \"Zachman Framework\"\n",
    "\n",
    "    # Other\n",
    "    \"ERP\", \"SAP\", \"Oracle\", \"Microsoft Dynamics\", \"NetSuite\", \"Business Systems\", \"Enterprise Architect\",\n",
    "    \"CRM\", \"Workday\", \"PeopleSoft\", \"System Analyst\", \"Enterprise Engineer\", \"Business Applications\",\n",
    "    \"Process Automation\", \"IT Operations\", \"Enterprise Integration\", \"IT Consultant\", \"Enterprise Solutions\"\n",
    "]\n",
    "\n",
    "es_keyword_counts = {\n",
    "    keyword: merged_df['job_description'].str.contains(re.escape(keyword), case=False, na=False).sum() for keyword in enterprise_systems_skills\n",
    "}\n",
    "\n",
    "es_keyword_df = pd.DataFrame(list(es_keyword_counts.items()), columns=['Keyword', 'Count'])\n",
    "\n",
    "es_keyword_df = es_keyword_df.sort_values(by='Count', ascending=False)\n",
    "es_keyword_df.head(20)"
   ]
  },
  {
   "cell_type": "code",
   "execution_count": 13,
   "id": "be12b243",
   "metadata": {},
   "outputs": [
    {
     "data": {
      "text/html": [
       "<div>\n",
       "<style scoped>\n",
       "    .dataframe tbody tr th:only-of-type {\n",
       "        vertical-align: middle;\n",
       "    }\n",
       "\n",
       "    .dataframe tbody tr th {\n",
       "        vertical-align: top;\n",
       "    }\n",
       "\n",
       "    .dataframe thead th {\n",
       "        text-align: right;\n",
       "    }\n",
       "</style>\n",
       "<table border=\"1\" class=\"dataframe\">\n",
       "  <thead>\n",
       "    <tr style=\"text-align: right;\">\n",
       "      <th></th>\n",
       "      <th>Keyword</th>\n",
       "      <th>Count</th>\n",
       "    </tr>\n",
       "  </thead>\n",
       "  <tbody>\n",
       "    <tr>\n",
       "      <th>74</th>\n",
       "      <td>Project Manager</td>\n",
       "      <td>30</td>\n",
       "    </tr>\n",
       "    <tr>\n",
       "      <th>80</th>\n",
       "      <td>Sales Analyst</td>\n",
       "      <td>12</td>\n",
       "    </tr>\n",
       "    <tr>\n",
       "      <th>44</th>\n",
       "      <td>Systems Analyst</td>\n",
       "      <td>8</td>\n",
       "    </tr>\n",
       "    <tr>\n",
       "      <th>76</th>\n",
       "      <td>Cloud Engineer</td>\n",
       "      <td>3</td>\n",
       "    </tr>\n",
       "    <tr>\n",
       "      <th>1</th>\n",
       "      <td>Enterprise Architect</td>\n",
       "      <td>2</td>\n",
       "    </tr>\n",
       "    <tr>\n",
       "      <th>75</th>\n",
       "      <td>Cloud Architect</td>\n",
       "      <td>2</td>\n",
       "    </tr>\n",
       "    <tr>\n",
       "      <th>31</th>\n",
       "      <td>BI Analyst</td>\n",
       "      <td>2</td>\n",
       "    </tr>\n",
       "    <tr>\n",
       "      <th>73</th>\n",
       "      <td>Systems Administrator</td>\n",
       "      <td>1</td>\n",
       "    </tr>\n",
       "    <tr>\n",
       "      <th>51</th>\n",
       "      <td>Enterprise Compliance Officer</td>\n",
       "      <td>0</td>\n",
       "    </tr>\n",
       "    <tr>\n",
       "      <th>56</th>\n",
       "      <td>Enterprise Software Developer</td>\n",
       "      <td>0</td>\n",
       "    </tr>\n",
       "    <tr>\n",
       "      <th>55</th>\n",
       "      <td>Enterprise SOC Analyst</td>\n",
       "      <td>0</td>\n",
       "    </tr>\n",
       "    <tr>\n",
       "      <th>54</th>\n",
       "      <td>Enterprise Cybersecurity Engineer</td>\n",
       "      <td>0</td>\n",
       "    </tr>\n",
       "    <tr>\n",
       "      <th>53</th>\n",
       "      <td>Governance, Risk &amp; Compliance (GRC) Analyst</td>\n",
       "      <td>0</td>\n",
       "    </tr>\n",
       "    <tr>\n",
       "      <th>52</th>\n",
       "      <td>IAM Specialist</td>\n",
       "      <td>0</td>\n",
       "    </tr>\n",
       "    <tr>\n",
       "      <th>47</th>\n",
       "      <td>Enterprise IT Administrator</td>\n",
       "      <td>0</td>\n",
       "    </tr>\n",
       "    <tr>\n",
       "      <th>50</th>\n",
       "      <td>Enterprise Risk Analyst</td>\n",
       "      <td>0</td>\n",
       "    </tr>\n",
       "    <tr>\n",
       "      <th>49</th>\n",
       "      <td>Enterprise Security Architect</td>\n",
       "      <td>0</td>\n",
       "    </tr>\n",
       "    <tr>\n",
       "      <th>48</th>\n",
       "      <td>Identity and Access Management (IAM) Engineer</td>\n",
       "      <td>0</td>\n",
       "    </tr>\n",
       "    <tr>\n",
       "      <th>58</th>\n",
       "      <td>Enterprise AI Engineer</td>\n",
       "      <td>0</td>\n",
       "    </tr>\n",
       "    <tr>\n",
       "      <th>46</th>\n",
       "      <td>IT Infrastructure Engineer</td>\n",
       "      <td>0</td>\n",
       "    </tr>\n",
       "  </tbody>\n",
       "</table>\n",
       "</div>"
      ],
      "text/plain": [
       "                                          Keyword  Count\n",
       "74                                Project Manager     30\n",
       "80                                  Sales Analyst     12\n",
       "44                                Systems Analyst      8\n",
       "76                                 Cloud Engineer      3\n",
       "1                            Enterprise Architect      2\n",
       "75                                Cloud Architect      2\n",
       "31                                     BI Analyst      2\n",
       "73                          Systems Administrator      1\n",
       "51                  Enterprise Compliance Officer      0\n",
       "56                  Enterprise Software Developer      0\n",
       "55                         Enterprise SOC Analyst      0\n",
       "54              Enterprise Cybersecurity Engineer      0\n",
       "53    Governance, Risk & Compliance (GRC) Analyst      0\n",
       "52                                 IAM Specialist      0\n",
       "47                    Enterprise IT Administrator      0\n",
       "50                        Enterprise Risk Analyst      0\n",
       "49                  Enterprise Security Architect      0\n",
       "48  Identity and Access Management (IAM) Engineer      0\n",
       "58                         Enterprise AI Engineer      0\n",
       "46                     IT Infrastructure Engineer      0"
      ]
     },
     "execution_count": 13,
     "metadata": {},
     "output_type": "execute_result"
    }
   ],
   "source": [
    "enterprise_systems_job_titles = [\n",
    "    # General Enterprise Systems Roles\n",
    "    \"Enterprise Systems Engineer\", \"Enterprise Architect\", \"Enterprise Systems Administrator\",\n",
    "    \"Enterprise Software Engineer\", \"Enterprise IT Specialist\", \"Enterprise Solutions Architect\",\n",
    "\n",
    "    # ERP (Enterprise Resource Planning) Roles\n",
    "    \"ERP Consultant\", \"ERP Administrator\", \"ERP Analyst\", \"ERP Developer\",\n",
    "    \"SAP Consultant\", \"SAP Analyst\", \"SAP Administrator\", \"SAP Developer\",\n",
    "    \"Oracle ERP Consultant\", \"Oracle ERP Analyst\", \"NetSuite Consultant\",\n",
    "    \"Microsoft Dynamics Consultant\", \"Workday Consultant\",\n",
    "\n",
    "    # Enterprise Application & Integration Roles\n",
    "    \"Enterprise Application Engineer\", \"Enterprise Application Administrator\",\n",
    "    \"Enterprise Systems Integration Specialist\", \"Enterprise Applications Analyst\",\n",
    "    \"Enterprise Application Developer\", \"Middleware Engineer\", \"API Integration Engineer\",\n",
    "\n",
    "    # Business Intelligence & Data Roles\n",
    "    \"Enterprise Data Analyst\", \"Enterprise Data Engineer\", \"Enterprise Data Scientist\",\n",
    "    \"BI Developer\", \"BI Architect\", \"BI Analyst\", \"Data Warehouse Engineer\",\n",
    "    \"Data Governance Specialist\", \"Master Data Management (MDM) Analyst\",\n",
    "\n",
    "    # Cloud & Infrastructure Enterprise Roles\n",
    "    \"Cloud Solutions Architect\", \"Cloud Systems Engineer\", \"Enterprise Cloud Engineer\",\n",
    "    \"Enterprise Infrastructure Engineer\", \"Enterprise Cloud Administrator\",\n",
    "    \"Cloud Security Engineer\", \"Hybrid Cloud Engineer\", \"Multi-Cloud Solutions Architect\",\n",
    "\n",
    "    # Systems & Network Administration\n",
    "    \"Enterprise Systems Administrator\", \"Enterprise Network Engineer\",\n",
    "    \"Systems Analyst\", \"IT Systems Engineer\", \"IT Infrastructure Engineer\",\n",
    "    \"Enterprise IT Administrator\", \"Identity and Access Management (IAM) Engineer\",\n",
    "\n",
    "    # Security & Compliance Roles\n",
    "    \"Enterprise Security Architect\", \"Enterprise Risk Analyst\", \"Enterprise Compliance Officer\",\n",
    "    \"IAM Specialist\", \"Governance, Risk & Compliance (GRC) Analyst\",\n",
    "    \"Enterprise Cybersecurity Engineer\", \"Enterprise SOC Analyst\",\n",
    "\n",
    "    # Enterprise Software Development & Customization\n",
    "    \"Enterprise Software Developer\", \"Enterprise Web Developer\", \"Enterprise AI Engineer\",\n",
    "    \"Enterprise DevOps Engineer\", \"Enterprise Software Architect\",\n",
    "    \"CRM Developer\", \"CRM Consultant\", \"Salesforce Developer\", \"Salesforce Consultant\",\n",
    "\n",
    "    # Management & Leadership Roles\n",
    "    \"Enterprise IT Manager\", \"Enterprise Systems Director\", \"Enterprise Applications Manager\",\n",
    "    \"Enterprise Solutions Manager\", \"Chief Information Officer (CIO)\",\n",
    "    \"Chief Technology Officer (CTO)\", \"VP of Enterprise Systems\",\n",
    "    \"Enterprise IT Operations Manager\"\n",
    "\n",
    "    # Other\n",
    "    \"Business Systems Analyst\", \"Systems Analyst\", \"Systems Administrator\", \"Project Manager\",\n",
    "    \"Cloud Architect\", \"Cloud Engineer\", \"Computer Systems Manager\", \"Computer Systems Analyst\",\n",
    "    \"Database Administrator\", \"Sales Analyst\", \"Information Design\"\n",
    "]\n",
    "\n",
    "es_jobs_counts = {\n",
    "    keyword: merged_df['job_title'].str.contains(re.escape(keyword), case=False, na=False).sum()\n",
    "    for keyword in enterprise_systems_job_titles\n",
    "}\n",
    "\n",
    "es_jobs_df = pd.DataFrame(list(es_jobs_counts.items()), columns=['Keyword', 'Count'])\n",
    "\n",
    "es_jobs_df = es_jobs_df.sort_values(by='Count', ascending=False)\n",
    "es_jobs_df.head(20)\n",
    "\n"
   ]
  },
  {
   "cell_type": "code",
   "execution_count": 14,
   "id": "3eb98917",
   "metadata": {},
   "outputs": [
    {
     "data": {
      "text/html": [
       "<div>\n",
       "<style scoped>\n",
       "    .dataframe tbody tr th:only-of-type {\n",
       "        vertical-align: middle;\n",
       "    }\n",
       "\n",
       "    .dataframe tbody tr th {\n",
       "        vertical-align: top;\n",
       "    }\n",
       "\n",
       "    .dataframe thead th {\n",
       "        text-align: right;\n",
       "    }\n",
       "</style>\n",
       "<table border=\"1\" class=\"dataframe\">\n",
       "  <thead>\n",
       "    <tr style=\"text-align: right;\">\n",
       "      <th></th>\n",
       "      <th>Keyword</th>\n",
       "      <th>Count</th>\n",
       "    </tr>\n",
       "  </thead>\n",
       "  <tbody>\n",
       "    <tr>\n",
       "      <th>101</th>\n",
       "      <td>C</td>\n",
       "      <td>2571</td>\n",
       "    </tr>\n",
       "    <tr>\n",
       "      <th>103</th>\n",
       "      <td>Go</td>\n",
       "      <td>1871</td>\n",
       "    </tr>\n",
       "    <tr>\n",
       "      <th>27</th>\n",
       "      <td>IPS</td>\n",
       "      <td>684</td>\n",
       "    </tr>\n",
       "    <tr>\n",
       "      <th>12</th>\n",
       "      <td>NIST</td>\n",
       "      <td>614</td>\n",
       "    </tr>\n",
       "    <tr>\n",
       "      <th>23</th>\n",
       "      <td>Compliance</td>\n",
       "      <td>539</td>\n",
       "    </tr>\n",
       "    <tr>\n",
       "      <th>104</th>\n",
       "      <td>Rust</td>\n",
       "      <td>415</td>\n",
       "    </tr>\n",
       "    <tr>\n",
       "      <th>98</th>\n",
       "      <td>Python</td>\n",
       "      <td>272</td>\n",
       "    </tr>\n",
       "    <tr>\n",
       "      <th>116</th>\n",
       "      <td>RSA</td>\n",
       "      <td>148</td>\n",
       "    </tr>\n",
       "    <tr>\n",
       "      <th>26</th>\n",
       "      <td>IDS</td>\n",
       "      <td>121</td>\n",
       "    </tr>\n",
       "    <tr>\n",
       "      <th>105</th>\n",
       "      <td>JavaScript</td>\n",
       "      <td>116</td>\n",
       "    </tr>\n",
       "    <tr>\n",
       "      <th>102</th>\n",
       "      <td>C++</td>\n",
       "      <td>109</td>\n",
       "    </tr>\n",
       "    <tr>\n",
       "      <th>0</th>\n",
       "      <td>Cybersecurity</td>\n",
       "      <td>79</td>\n",
       "    </tr>\n",
       "    <tr>\n",
       "      <th>155</th>\n",
       "      <td>CEH</td>\n",
       "      <td>77</td>\n",
       "    </tr>\n",
       "    <tr>\n",
       "      <th>70</th>\n",
       "      <td>Code Review</td>\n",
       "      <td>70</td>\n",
       "    </tr>\n",
       "    <tr>\n",
       "      <th>174</th>\n",
       "      <td>Risk Management</td>\n",
       "      <td>61</td>\n",
       "    </tr>\n",
       "    <tr>\n",
       "      <th>21</th>\n",
       "      <td>Risk Assessment</td>\n",
       "      <td>41</td>\n",
       "    </tr>\n",
       "    <tr>\n",
       "      <th>173</th>\n",
       "      <td>IAM</td>\n",
       "      <td>36</td>\n",
       "    </tr>\n",
       "    <tr>\n",
       "      <th>99</th>\n",
       "      <td>Bash</td>\n",
       "      <td>32</td>\n",
       "    </tr>\n",
       "    <tr>\n",
       "      <th>17</th>\n",
       "      <td>HIPAA</td>\n",
       "      <td>27</td>\n",
       "    </tr>\n",
       "    <tr>\n",
       "      <th>7</th>\n",
       "      <td>Incident Response</td>\n",
       "      <td>26</td>\n",
       "    </tr>\n",
       "  </tbody>\n",
       "</table>\n",
       "</div>"
      ],
      "text/plain": [
       "               Keyword  Count\n",
       "101                  C   2571\n",
       "103                 Go   1871\n",
       "27                 IPS    684\n",
       "12                NIST    614\n",
       "23          Compliance    539\n",
       "104               Rust    415\n",
       "98              Python    272\n",
       "116                RSA    148\n",
       "26                 IDS    121\n",
       "105         JavaScript    116\n",
       "102                C++    109\n",
       "0        Cybersecurity     79\n",
       "155                CEH     77\n",
       "70         Code Review     70\n",
       "174    Risk Management     61\n",
       "21     Risk Assessment     41\n",
       "173                IAM     36\n",
       "99                Bash     32\n",
       "17               HIPAA     27\n",
       "7    Incident Response     26"
      ]
     },
     "execution_count": 14,
     "metadata": {},
     "output_type": "execute_result"
    }
   ],
   "source": [
    "systems_security_skills = [\n",
    "    # Cybersecurity Fundamentals\n",
    "    \"Cybersecurity\", \"Information Security\", \"Network Security\", \"Ethical Hacking\", \"Penetration Testing\",\n",
    "    \"Vulnerability Assessment\", \"Security Risk Management\", \"Incident Response\", \"Threat Intelligence\",\n",
    "    \"Zero Trust Architecture\", \"Security Awareness Training\",\n",
    "\n",
    "    # Security Frameworks & Compliance\n",
    "    \"ISO 27001\", \"NIST\", \"SOC 2\", \"GDPR\", \"CIS Controls\", \"COBIT\", \"HIPAA\", \"FISMA\", \"PCI DSS\", \"FedRAMP\",\n",
    "    \"Risk Assessment\", \"Security Auditing\", \"Compliance\",\n",
    "\n",
    "    # Network Security & Infrastructure\n",
    "    \"Firewall\", \"VPN\", \"IDS\", \"IPS\", \"Load Balancer\", \"Proxy Server\", \"DDoS Mitigation\",\n",
    "    \"Network Segmentation\", \"SSL/TLS\", \"IPSec\", \"Wireshark\", \"Packet Analysis\", \"802.1X\",\n",
    "    \"Network Forensics\", \"SIEM\", \"Security Information and Event Management\",\n",
    "\n",
    "    # Cloud Security\n",
    "    \"AWS Security\", \"Azure Security\", \"Google Cloud Security\", \"Cloud Security Posture Management (CSPM)\",\n",
    "    \"Identity and Access Management (IAM)\", \"Zero Trust Security\", \"Cloud Workload Protection\", \"CASB\",\n",
    "    \"Cloud Access Security Broker\", \"Container Security\", \"Kubernetes Security\",\n",
    "\n",
    "    # Identity & Access Management (IAM)\n",
    "    \"Multi-Factor Authentication (MFA)\", \"Single Sign-On (SSO)\", \"Privileged Access Management (PAM)\",\n",
    "    \"Active Directory\", \"LDAP\", \"OAuth\", \"SAML\", \"Kerberos\", \"Federated Identity Management\",\n",
    "\n",
    "    # Secure Development & Application Security\n",
    "    \"Secure Coding\", \"OWASP\", \"Web Application Security\", \"Static Code Analysis\", \"Dynamic Code Analysis\",\n",
    "    \"Secure SDLC\", \"DevSecOps\", \"Software Composition Analysis (SCA)\", \"API Security\",\n",
    "    \"Threat Modeling\", \"Code Review\", \"Bug Bounty Programs\",\n",
    "\n",
    "    # Endpoint & Device Security\n",
    "    \"Endpoint Detection and Response (EDR)\", \"Extended Detection and Response (XDR)\", \"Mobile Device Management (MDM)\",\n",
    "    \"Antivirus\", \"EDR Solutions\", \"BitLocker\", \"Microsoft Defender\", \"CrowdStrike\", \"Carbon Black\",\n",
    "    \"McAfee\", \"Symantec\", \"Norton\", \"Sophos\",\n",
    "\n",
    "    # Digital Forensics & Incident Response (DFIR)\n",
    "    \"Digital Forensics\", \"Memory Forensics\", \"Disk Forensics\", \"Forensic Analysis\", \"Log Analysis\",\n",
    "    \"SIEM Investigation\", \"Threat Hunting\", \"Security Orchestration, Automation, and Response (SOAR)\",\n",
    "    \"MITRE ATT&CK Framework\", \"Cyber Kill Chain\", \"Purple Teaming\", \"Red Teaming\", \"Blue Teaming\",\n",
    "\n",
    "    # Programming & Scripting for Security\n",
    "    \"Python\", \"Bash\", \"PowerShell\", \"C\", \"C++\", \"Go\", \"Rust\", \"JavaScript\", \"SQL Injection Prevention\",\n",
    "    \"Reverse Engineering\", \"Malware Analysis\", \"Exploit Development\",\n",
    "\n",
    "    # Cryptography & Encryption\n",
    "    \"Cryptography\", \"Public Key Infrastructure (PKI)\", \"Encryption\", \"TLS Certificates\", \"Hashing\",\n",
    "    \"AES\", \"RSA\", \"Elliptic Curve Cryptography (ECC)\", \"SSL/TLS\", \"Homomorphic Encryption\", \"Quantum Cryptography\",\n",
    "\n",
    "    # DevOps & Security Automation\n",
    "    \"CI/CD Security\", \"Infrastructure as Code (IaC)\", \"Terraform Security\", \"Ansible Security\",\n",
    "    \"Docker Security\", \"Kubernetes Security\", \"Secrets Management\", \"Vault\", \"HashiCorp Vault\",\n",
    "\n",
    "    # Security Monitoring & SIEM Tools\n",
    "    \"Splunk\", \"ELK Stack\", \"QRadar\", \"LogRhythm\", \"Microsoft Sentinel\", \"AlienVault\", \"Graylog\",\n",
    "    \"Threat Intelligence Platforms\", \"Threat Feeds\", \"Indicator of Compromise (IOC)\", \"YARA Rules\",\n",
    "\n",
    "    # Security Tools & Penetration Testing\n",
    "    \"Burp Suite\", \"Nmap\", \"Metasploit\", \"Kali Linux\", \"Aircrack-ng\", \"Nikto\", \"OpenVAS\", \"Snort\",\n",
    "    \"OSINT\", \"Shodan\", \"Maltego\", \"John the Ripper\", \"Hashcat\", \"BloodHound\", \"Responder\",\n",
    "\n",
    "    # Security Certifications\n",
    "    \"CISSP\", \"CEH\", \"CISM\", \"OSCP\", \"CompTIA Security+\", \"CompTIA CySA+\", \"CompTIA CASP+\",\n",
    "    \"CompTIA PenTest+\", \"GSEC\", \"GIAC\", \"CISA\", \"CCSP\", \"AWS Certified Security Specialty\",\n",
    "    \"Azure Security Engineer Associate\", \"Google Cloud Security Engineer\"\n",
    "\n",
    "    # Other\n",
    "    \"Cybersecurity\", \"Network Security\", \"System Security\", \"Penetration Testing\",\n",
    "    \"SOC Analyst\", \"Information Security\", \"Threat Analysis\", \"Firewall\", \"Cloud Security\",\n",
    "    \"Ethical Hacking\", \"IAM\", \"Risk Management\", \"Compliance\", \"Data Protection\", \"Incident Response\",\n",
    "    \"IT Auditor\", \"Vulnerability\", \"Forensics\", \"Zero Trust\", \"Endpoint Security\", \"DevSecOps\"\n",
    "]\n",
    "\n",
    "\n",
    "ss_keyword_counts = {\n",
    "    keyword: merged_df['job_description'].str.contains(re.escape(keyword), case=False, na=False).sum() for keyword in systems_security_skills\n",
    "}\n",
    "\n",
    "ss_keyword_df = pd.DataFrame(list(ss_keyword_counts.items()), columns=['Keyword', 'Count'])\n",
    "\n",
    "ss_keyword_df = ss_keyword_df.sort_values(by='Count', ascending=False)\n",
    "ss_keyword_df.head(20)"
   ]
  },
  {
   "cell_type": "code",
   "execution_count": 15,
   "id": "ddd6f4e5",
   "metadata": {},
   "outputs": [
    {
     "data": {
      "text/html": [
       "<div>\n",
       "<style scoped>\n",
       "    .dataframe tbody tr th:only-of-type {\n",
       "        vertical-align: middle;\n",
       "    }\n",
       "\n",
       "    .dataframe tbody tr th {\n",
       "        vertical-align: top;\n",
       "    }\n",
       "\n",
       "    .dataframe thead th {\n",
       "        text-align: right;\n",
       "    }\n",
       "</style>\n",
       "<table border=\"1\" class=\"dataframe\">\n",
       "  <thead>\n",
       "    <tr style=\"text-align: right;\">\n",
       "      <th></th>\n",
       "      <th>Keyword</th>\n",
       "      <th>Count</th>\n",
       "    </tr>\n",
       "  </thead>\n",
       "  <tbody>\n",
       "    <tr>\n",
       "      <th>4</th>\n",
       "      <td>Systems Analyst</td>\n",
       "      <td>8</td>\n",
       "    </tr>\n",
       "    <tr>\n",
       "      <th>0</th>\n",
       "      <td>Systems Engineer</td>\n",
       "      <td>5</td>\n",
       "    </tr>\n",
       "    <tr>\n",
       "      <th>60</th>\n",
       "      <td>Threat Intelligence Analyst</td>\n",
       "      <td>4</td>\n",
       "    </tr>\n",
       "    <tr>\n",
       "      <th>23</th>\n",
       "      <td>Application Security Engineer</td>\n",
       "      <td>2</td>\n",
       "    </tr>\n",
       "    <tr>\n",
       "      <th>3</th>\n",
       "      <td>Security Analyst</td>\n",
       "      <td>2</td>\n",
       "    </tr>\n",
       "    <tr>\n",
       "      <th>25</th>\n",
       "      <td>DevSecOps Engineer</td>\n",
       "      <td>2</td>\n",
       "    </tr>\n",
       "    <tr>\n",
       "      <th>77</th>\n",
       "      <td>Information Security</td>\n",
       "      <td>1</td>\n",
       "    </tr>\n",
       "    <tr>\n",
       "      <th>76</th>\n",
       "      <td>Security Consultant</td>\n",
       "      <td>1</td>\n",
       "    </tr>\n",
       "    <tr>\n",
       "      <th>37</th>\n",
       "      <td>IT Risk Analyst</td>\n",
       "      <td>1</td>\n",
       "    </tr>\n",
       "    <tr>\n",
       "      <th>79</th>\n",
       "      <td>Risk Analyst</td>\n",
       "      <td>1</td>\n",
       "    </tr>\n",
       "    <tr>\n",
       "      <th>2</th>\n",
       "      <td>Cybersecurity Engineer</td>\n",
       "      <td>1</td>\n",
       "    </tr>\n",
       "    <tr>\n",
       "      <th>5</th>\n",
       "      <td>IT Security Analyst</td>\n",
       "      <td>1</td>\n",
       "    </tr>\n",
       "    <tr>\n",
       "      <th>10</th>\n",
       "      <td>Firewall Engineer</td>\n",
       "      <td>0</td>\n",
       "    </tr>\n",
       "    <tr>\n",
       "      <th>53</th>\n",
       "      <td>Security Solutions Architect</td>\n",
       "      <td>0</td>\n",
       "    </tr>\n",
       "    <tr>\n",
       "      <th>59</th>\n",
       "      <td>Forensic Analyst</td>\n",
       "      <td>0</td>\n",
       "    </tr>\n",
       "    <tr>\n",
       "      <th>58</th>\n",
       "      <td>Incident Response Analyst</td>\n",
       "      <td>0</td>\n",
       "    </tr>\n",
       "    <tr>\n",
       "      <th>57</th>\n",
       "      <td>VP of Security</td>\n",
       "      <td>0</td>\n",
       "    </tr>\n",
       "    <tr>\n",
       "      <th>56</th>\n",
       "      <td>Director of Security</td>\n",
       "      <td>0</td>\n",
       "    </tr>\n",
       "    <tr>\n",
       "      <th>55</th>\n",
       "      <td>Head of Cybersecurity</td>\n",
       "      <td>0</td>\n",
       "    </tr>\n",
       "    <tr>\n",
       "      <th>54</th>\n",
       "      <td>CISO (Chief Information Security Officer)</td>\n",
       "      <td>0</td>\n",
       "    </tr>\n",
       "  </tbody>\n",
       "</table>\n",
       "</div>"
      ],
      "text/plain": [
       "                                      Keyword  Count\n",
       "4                             Systems Analyst      8\n",
       "0                            Systems Engineer      5\n",
       "60                Threat Intelligence Analyst      4\n",
       "23              Application Security Engineer      2\n",
       "3                            Security Analyst      2\n",
       "25                         DevSecOps Engineer      2\n",
       "77                       Information Security      1\n",
       "76                        Security Consultant      1\n",
       "37                            IT Risk Analyst      1\n",
       "79                               Risk Analyst      1\n",
       "2                      Cybersecurity Engineer      1\n",
       "5                         IT Security Analyst      1\n",
       "10                          Firewall Engineer      0\n",
       "53               Security Solutions Architect      0\n",
       "59                           Forensic Analyst      0\n",
       "58                  Incident Response Analyst      0\n",
       "57                             VP of Security      0\n",
       "56                       Director of Security      0\n",
       "55                      Head of Cybersecurity      0\n",
       "54  CISO (Chief Information Security Officer)      0"
      ]
     },
     "execution_count": 15,
     "metadata": {},
     "output_type": "execute_result"
    }
   ],
   "source": [
    "systems_security_job_titles = [\n",
    "    # General Systems & Security Roles\n",
    "    \"Systems Engineer\", \"IT Security Engineer\", \"Cybersecurity Engineer\",\n",
    "    \"Security Analyst\", \"Systems Analyst\", \"IT Security Analyst\",\n",
    "    \"Information Security Specialist\", \"IT Security Specialist\",\n",
    "\n",
    "    # Network & Infrastructure Security\n",
    "    \"Network Security Engineer\", \"Network Security Analyst\", \"Firewall Engineer\",\n",
    "    \"Cloud Security Engineer\", \"Infrastructure Security Engineer\",\n",
    "    \"Wireless Security Engineer\", \"SOC Analyst\", \"Security Operations Engineer\",\n",
    "\n",
    "    # Identity & Access Management (IAM)\n",
    "    \"IAM Engineer\", \"Identity & Access Management Specialist\", \"IAM Administrator\",\n",
    "    \"Access Control Analyst\", \"Privileged Access Management (PAM) Engineer\",\n",
    "    \"Active Directory Engineer\", \"Directory Services Engineer\",\n",
    "\n",
    "    # Application & Software Security\n",
    "    \"Application Security Engineer\", \"Secure Software Engineer\",\n",
    "    \"DevSecOps Engineer\", \"Security Software Developer\",\n",
    "    \"Penetration Tester\", \"Ethical Hacker\", \"Vulnerability Researcher\",\n",
    "    \"Red Team Engineer\", \"Blue Team Engineer\", \"Purple Team Engineer\",\n",
    "\n",
    "    # Governance, Risk & Compliance (GRC)\n",
    "    \"Cyber Risk Analyst\", \"Governance, Risk, and Compliance Analyst\",\n",
    "    \"Compliance Officer\", \"Security Auditor\", \"IT Risk Analyst\",\n",
    "    \"Information Assurance Engineer\", \"Security Policy Analyst\",\n",
    "    \"ISO 27001 Auditor\", \"PCI Compliance Specialist\",\n",
    "\n",
    "    # Cloud & DevOps Security\n",
    "    \"Cloud Security Architect\", \"Cloud Security Consultant\",\n",
    "    \"Cloud Compliance Engineer\", \"DevSecOps Specialist\",\n",
    "    \"Cloud IAM Specialist\", \"Kubernetes Security Engineer\",\n",
    "    \"AWS Security Engineer\", \"Azure Security Engineer\",\n",
    "    \"Google Cloud Security Engineer\",\n",
    "\n",
    "    # Security Architecture & Leadership\n",
    "    \"Security Architect\", \"Enterprise Security Architect\",\n",
    "    \"Security Solutions Architect\", \"CISO (Chief Information Security Officer)\",\n",
    "    \"Head of Cybersecurity\", \"Director of Security\", \"VP of Security\",\n",
    "\n",
    "    # Digital Forensics & Incident Response (DFIR)\n",
    "    \"Incident Response Analyst\", \"Forensic Analyst\",\n",
    "    \"Threat Intelligence Analyst\", \"Cyber Threat Hunter\",\n",
    "    \"Malware Analyst\", \"Reverse Engineer\", \"SOC Manager\",\n",
    "\n",
    "    # Specialized Security Roles\n",
    "    \"Zero Trust Architect\", \"IoT Security Engineer\", \"ICS/SCADA Security Engineer\",\n",
    "    \"Blockchain Security Engineer\", \"AI Security Researcher\",\n",
    "    \"Quantum Cryptography Specialist\", \"Security Automation Engineer\",\n",
    "    \"Cybersecurity Trainer\", \"Cybersecurity Researcher\"\n",
    "\n",
    "    # Other\n",
    "    \"Security Engineer\", \"Security Analyst\", \"Security Administrator\", \"Security Architect\", \"Penetration Tester\",\n",
    "    \"Penetration Testing\", \"Security Consultant\", \"Information Security\", \"Information Manager\", \"Risk Analyst\"\n",
    "]\n",
    "\n",
    "ss_jobs_counts = {\n",
    "    keyword: merged_df['job_title'].str.contains(re.escape(keyword), case=False, na=False).sum()\n",
    "    for keyword in systems_security_job_titles\n",
    "}\n",
    "\n",
    "ss_jobs_df = pd.DataFrame(list(ss_jobs_counts.items()), columns=['Keyword', 'Count'])\n",
    "\n",
    "ss_jobs_df = ss_jobs_df.sort_values(by='Count', ascending=False)\n",
    "ss_jobs_df.head(20)\n",
    "\n"
   ]
  },
  {
   "cell_type": "code",
   "execution_count": 16,
   "id": "db7d82b4",
   "metadata": {},
   "outputs": [
    {
     "data": {
      "text/html": [
       "<div>\n",
       "<style scoped>\n",
       "    .dataframe tbody tr th:only-of-type {\n",
       "        vertical-align: middle;\n",
       "    }\n",
       "\n",
       "    .dataframe tbody tr th {\n",
       "        vertical-align: top;\n",
       "    }\n",
       "\n",
       "    .dataframe thead th {\n",
       "        text-align: right;\n",
       "    }\n",
       "</style>\n",
       "<table border=\"1\" class=\"dataframe\">\n",
       "  <thead>\n",
       "    <tr style=\"text-align: right;\">\n",
       "      <th></th>\n",
       "      <th>Keyword</th>\n",
       "      <th>Count</th>\n",
       "    </tr>\n",
       "  </thead>\n",
       "  <tbody>\n",
       "    <tr>\n",
       "      <th>143</th>\n",
       "      <td>UI</td>\n",
       "      <td>2483</td>\n",
       "    </tr>\n",
       "    <tr>\n",
       "      <th>55</th>\n",
       "      <td>SEM</td>\n",
       "      <td>745</td>\n",
       "    </tr>\n",
       "    <tr>\n",
       "      <th>131</th>\n",
       "      <td>Marketing</td>\n",
       "      <td>278</td>\n",
       "    </tr>\n",
       "    <tr>\n",
       "      <th>144</th>\n",
       "      <td>UX</td>\n",
       "      <td>275</td>\n",
       "    </tr>\n",
       "    <tr>\n",
       "      <th>76</th>\n",
       "      <td>JavaScript</td>\n",
       "      <td>116</td>\n",
       "    </tr>\n",
       "    <tr>\n",
       "      <th>85</th>\n",
       "      <td>Tableau</td>\n",
       "      <td>87</td>\n",
       "    </tr>\n",
       "    <tr>\n",
       "      <th>130</th>\n",
       "      <td>Social Media</td>\n",
       "      <td>85</td>\n",
       "    </tr>\n",
       "    <tr>\n",
       "      <th>74</th>\n",
       "      <td>HTML</td>\n",
       "      <td>77</td>\n",
       "    </tr>\n",
       "    <tr>\n",
       "      <th>83</th>\n",
       "      <td>Data Visualization</td>\n",
       "      <td>66</td>\n",
       "    </tr>\n",
       "    <tr>\n",
       "      <th>75</th>\n",
       "      <td>CSS</td>\n",
       "      <td>60</td>\n",
       "    </tr>\n",
       "    <tr>\n",
       "      <th>132</th>\n",
       "      <td>Adobe</td>\n",
       "      <td>46</td>\n",
       "    </tr>\n",
       "    <tr>\n",
       "      <th>139</th>\n",
       "      <td>User Experience</td>\n",
       "      <td>38</td>\n",
       "    </tr>\n",
       "    <tr>\n",
       "      <th>8</th>\n",
       "      <td>Storytelling</td>\n",
       "      <td>34</td>\n",
       "    </tr>\n",
       "    <tr>\n",
       "      <th>54</th>\n",
       "      <td>SEO</td>\n",
       "      <td>32</td>\n",
       "    </tr>\n",
       "    <tr>\n",
       "      <th>135</th>\n",
       "      <td>Creative Director</td>\n",
       "      <td>29</td>\n",
       "    </tr>\n",
       "    <tr>\n",
       "      <th>79</th>\n",
       "      <td>E-commerce</td>\n",
       "      <td>28</td>\n",
       "    </tr>\n",
       "    <tr>\n",
       "      <th>140</th>\n",
       "      <td>Digital Marketing</td>\n",
       "      <td>25</td>\n",
       "    </tr>\n",
       "    <tr>\n",
       "      <th>120</th>\n",
       "      <td>NFTs</td>\n",
       "      <td>22</td>\n",
       "    </tr>\n",
       "    <tr>\n",
       "      <th>6</th>\n",
       "      <td>Technical Writing</td>\n",
       "      <td>19</td>\n",
       "    </tr>\n",
       "    <tr>\n",
       "      <th>60</th>\n",
       "      <td>Google Analytics</td>\n",
       "      <td>19</td>\n",
       "    </tr>\n",
       "  </tbody>\n",
       "</table>\n",
       "</div>"
      ],
      "text/plain": [
       "                Keyword  Count\n",
       "143                  UI   2483\n",
       "55                  SEM    745\n",
       "131           Marketing    278\n",
       "144                  UX    275\n",
       "76           JavaScript    116\n",
       "85              Tableau     87\n",
       "130        Social Media     85\n",
       "74                 HTML     77\n",
       "83   Data Visualization     66\n",
       "75                  CSS     60\n",
       "132               Adobe     46\n",
       "139     User Experience     38\n",
       "8          Storytelling     34\n",
       "54                  SEO     32\n",
       "135   Creative Director     29\n",
       "79           E-commerce     28\n",
       "140   Digital Marketing     25\n",
       "120                NFTs     22\n",
       "6     Technical Writing     19\n",
       "60     Google Analytics     19"
      ]
     },
     "execution_count": 16,
     "metadata": {},
     "output_type": "execute_result"
    }
   ],
   "source": [
    "digital_media_skills = [\n",
    "    # Content Creation & Production\n",
    "    \"Content Creation\", \"Copywriting\", \"Content Strategy\", \"Creative Writing\", \"Scriptwriting\",\n",
    "    \"Blogging\", \"Technical Writing\", \"SEO Writing\", \"Storytelling\", \"Editorial Planning\",\n",
    "\n",
    "    # Graphic Design & Multimedia\n",
    "    \"Adobe Photoshop\", \"Adobe Illustrator\", \"Adobe InDesign\", \"Canva\", \"Figma\", \"Sketch\",\n",
    "    \"UI/UX Design\", \"Typography\", \"Visual Design\", \"Brand Identity\", \"Graphic Design\",\n",
    "    \"Motion Graphics\", \"Adobe After Effects\", \"Adobe Premiere Pro\", \"Final Cut Pro\",\n",
    "    \"Video Production\", \"Video Editing\", \"3D Animation\", \"2D Animation\", \"Blender\",\n",
    "    \"Cinema 4D\", \"Maya\", \"Animation\", \"VFX\", \"Digital Illustration\", \"Infographics\",\n",
    "\n",
    "    # Social Media Management\n",
    "    \"Social Media Marketing\", \"Social Media Strategy\", \"Instagram Marketing\", \"Facebook Marketing\",\n",
    "    \"LinkedIn Marketing\", \"Twitter Marketing\", \"TikTok Marketing\", \"YouTube Marketing\", \"Pinterest Marketing\",\n",
    "    \"Community Management\", \"Influencer Marketing\", \"Social Listening\", \"Viral Marketing\",\n",
    "    \"Hashtag Strategy\", \"Social Media Analytics\", \"Hootsuite\", \"Buffer\", \"Sprout Social\",\n",
    "\n",
    "    # Digital Marketing & Advertising\n",
    "    \"SEO\", \"SEM\", \"Google Ads\", \"Facebook Ads\", \"PPC\", \"Affiliate Marketing\",\n",
    "    \"Google Analytics\", \"Google Tag Manager\", \"Conversion Rate Optimization (CRO)\",\n",
    "    \"A/B Testing\", \"Email Marketing\", \"Marketing Automation\", \"HubSpot\", \"Mailchimp\",\n",
    "    \"Klaviyo\", \"Campaign Management\", \"Lead Generation\", \"Brand Management\",\n",
    "\n",
    "    # Web Development & Digital Platforms\n",
    "    \"WordPress\", \"Web Design\", \"HTML\", \"CSS\", \"JavaScript\", \"Webflow\", \"Shopify\",\n",
    "    \"E-commerce\", \"Landing Page Optimization\", \"Responsive Design\", \"UX Research\",\n",
    "\n",
    "    # Data Analytics & Performance Tracking\n",
    "    \"Data Visualization\", \"Google Data Studio\", \"Tableau\", \"Looker\", \"Adobe Analytics\",\n",
    "    \"Social Media Insights\", \"KPI Tracking\", \"Engagement Metrics\", \"ROI Analysis\",\n",
    "\n",
    "    # Audio & Podcasting\n",
    "    \"Podcasting\", \"Audio Editing\", \"Audacity\", \"Adobe Audition\", \"GarageBand\",\n",
    "    \"Voiceover\", \"Sound Design\", \"Mixing and Mastering\", \"Spotify Podcasting\",\n",
    "\n",
    "    # Streaming & Live Media\n",
    "    \"Twitch Streaming\", \"YouTube Live\", \"OBS Studio\", \"Restream\", \"Livestream Production\",\n",
    "    \"Virtual Events\", \"Webinar Hosting\", \"Live Video Editing\",\n",
    "\n",
    "    # Digital Storytelling & Branding\n",
    "    \"Brand Storytelling\", \"Creative Direction\", \"Art Direction\", \"Marketing Strategy\",\n",
    "    \"Interactive Media\", \"User Engagement\", \"Multimedia Production\", \"Visual Communication\",\n",
    "\n",
    "    # Emerging Technologies & Trends\n",
    "    \"Augmented Reality (AR)\", \"Virtual Reality (VR)\", \"Metaverse\", \"NFTs\", \"AI in Media\",\n",
    "    \"Chatbots\", \"Interactive Video\", \"AI-Generated Content\", \"Deepfake Technology\"\n",
    "\n",
    "    # Other\n",
    "    \"Digital Media\", \"Content Creator\", \"Video Editor\", \"Graphic Designer\", \"Multimedia\", \"Animation\",\n",
    "    \"Social Media\", \"Marketing\", \"SEO\", \"Adobe\", \"UX/UI Designer\", \"Web Designer\", \"Creative Director\",\n",
    "    \"Branding\", \"Visual Design\", \"Content Marketing\", \"Social Media Manager\", \"User Experience\",\n",
    "    \"Digital Marketing\", \"Motion Graphics\", \"Visual Effects\", \"Content Strategy\", \"Influencer\", \"Copywriting\",\n",
    "    \"UI\", \"UX\"\n",
    "]\n",
    "\n",
    "\n",
    "dm_keyword_counts = {\n",
    "    keyword: merged_df['job_description'].str.contains(re.escape(keyword), case=False, na=False).sum() for keyword in digital_media_skills\n",
    "}\n",
    "\n",
    "dm_keyword_df = pd.DataFrame(list(dm_keyword_counts.items()), columns=['Keyword', 'Count'])\n",
    "\n",
    "dm_keyword_df = dm_keyword_df.sort_values(by='Count', ascending=False)\n",
    "dm_keyword_df.head(20)\n"
   ]
  },
  {
   "cell_type": "code",
   "execution_count": 17,
   "id": "ca0e50c1",
   "metadata": {},
   "outputs": [
    {
     "data": {
      "text/html": [
       "<div>\n",
       "<style scoped>\n",
       "    .dataframe tbody tr th:only-of-type {\n",
       "        vertical-align: middle;\n",
       "    }\n",
       "\n",
       "    .dataframe tbody tr th {\n",
       "        vertical-align: top;\n",
       "    }\n",
       "\n",
       "    .dataframe thead th {\n",
       "        text-align: right;\n",
       "    }\n",
       "</style>\n",
       "<table border=\"1\" class=\"dataframe\">\n",
       "  <thead>\n",
       "    <tr style=\"text-align: right;\">\n",
       "      <th></th>\n",
       "      <th>Keyword</th>\n",
       "      <th>Count</th>\n",
       "    </tr>\n",
       "  </thead>\n",
       "  <tbody>\n",
       "    <tr>\n",
       "      <th>90</th>\n",
       "      <td>UI</td>\n",
       "      <td>51</td>\n",
       "    </tr>\n",
       "    <tr>\n",
       "      <th>82</th>\n",
       "      <td>Marketing</td>\n",
       "      <td>31</td>\n",
       "    </tr>\n",
       "    <tr>\n",
       "      <th>91</th>\n",
       "      <td>UX</td>\n",
       "      <td>16</td>\n",
       "    </tr>\n",
       "    <tr>\n",
       "      <th>32</th>\n",
       "      <td>UX/UI Designer</td>\n",
       "      <td>2</td>\n",
       "    </tr>\n",
       "    <tr>\n",
       "      <th>33</th>\n",
       "      <td>Web Designer</td>\n",
       "      <td>2</td>\n",
       "    </tr>\n",
       "    <tr>\n",
       "      <th>64</th>\n",
       "      <td>Digital Designer</td>\n",
       "      <td>1</td>\n",
       "    </tr>\n",
       "    <tr>\n",
       "      <th>89</th>\n",
       "      <td>User Experience</td>\n",
       "      <td>1</td>\n",
       "    </tr>\n",
       "    <tr>\n",
       "      <th>13</th>\n",
       "      <td>Technical Writer</td>\n",
       "      <td>1</td>\n",
       "    </tr>\n",
       "    <tr>\n",
       "      <th>21</th>\n",
       "      <td>Community Manager</td>\n",
       "      <td>1</td>\n",
       "    </tr>\n",
       "    <tr>\n",
       "      <th>11</th>\n",
       "      <td>Copywriter</td>\n",
       "      <td>1</td>\n",
       "    </tr>\n",
       "    <tr>\n",
       "      <th>0</th>\n",
       "      <td>Digital Media Specialist</td>\n",
       "      <td>0</td>\n",
       "    </tr>\n",
       "    <tr>\n",
       "      <th>63</th>\n",
       "      <td>UX Writer</td>\n",
       "      <td>0</td>\n",
       "    </tr>\n",
       "    <tr>\n",
       "      <th>66</th>\n",
       "      <td>Web Producer</td>\n",
       "      <td>0</td>\n",
       "    </tr>\n",
       "    <tr>\n",
       "      <th>65</th>\n",
       "      <td>E-commerce Specialist</td>\n",
       "      <td>0</td>\n",
       "    </tr>\n",
       "    <tr>\n",
       "      <th>61</th>\n",
       "      <td>Digital Experience Manager</td>\n",
       "      <td>0</td>\n",
       "    </tr>\n",
       "    <tr>\n",
       "      <th>67</th>\n",
       "      <td>Digital Analytics Specialist</td>\n",
       "      <td>0</td>\n",
       "    </tr>\n",
       "    <tr>\n",
       "      <th>62</th>\n",
       "      <td>Conversion Rate Optimization (CRO) Specialist</td>\n",
       "      <td>0</td>\n",
       "    </tr>\n",
       "    <tr>\n",
       "      <th>59</th>\n",
       "      <td>E-commerce Marketing Manager</td>\n",
       "      <td>0</td>\n",
       "    </tr>\n",
       "    <tr>\n",
       "      <th>60</th>\n",
       "      <td>Web Content Manager</td>\n",
       "      <td>0</td>\n",
       "    </tr>\n",
       "    <tr>\n",
       "      <th>69</th>\n",
       "      <td>Web Analytics Manager</td>\n",
       "      <td>0</td>\n",
       "    </tr>\n",
       "  </tbody>\n",
       "</table>\n",
       "</div>"
      ],
      "text/plain": [
       "                                          Keyword  Count\n",
       "90                                             UI     51\n",
       "82                                      Marketing     31\n",
       "91                                             UX     16\n",
       "32                                 UX/UI Designer      2\n",
       "33                                   Web Designer      2\n",
       "64                               Digital Designer      1\n",
       "89                                User Experience      1\n",
       "13                               Technical Writer      1\n",
       "21                              Community Manager      1\n",
       "11                                     Copywriter      1\n",
       "0                        Digital Media Specialist      0\n",
       "63                                      UX Writer      0\n",
       "66                                   Web Producer      0\n",
       "65                          E-commerce Specialist      0\n",
       "61                     Digital Experience Manager      0\n",
       "67                   Digital Analytics Specialist      0\n",
       "62  Conversion Rate Optimization (CRO) Specialist      0\n",
       "59                   E-commerce Marketing Manager      0\n",
       "60                            Web Content Manager      0\n",
       "69                          Web Analytics Manager      0"
      ]
     },
     "execution_count": 17,
     "metadata": {},
     "output_type": "execute_result"
    }
   ],
   "source": [
    "digital_media_job_titles = [\n",
    "    # General Digital Media Roles\n",
    "    \"Digital Media Specialist\", \"Digital Media Manager\", \"Digital Content Creator\",\n",
    "    \"Digital Marketing Specialist\", \"Digital Marketing Manager\", \"Social Media Manager\",\n",
    "    \"Content Marketing Manager\", \"Brand Marketing Manager\",\n",
    "\n",
    "    # Content Creation & Strategy\n",
    "    \"Content Creator\", \"Content Strategist\", \"Multimedia Content Producer\",\n",
    "    \"Copywriter\", \"Content Editor\", \"Technical Writer\", \"Creative Writer\",\n",
    "    \"Scriptwriter\", \"Editorial Manager\", \"SEO Content Writer\",\n",
    "\n",
    "    # Social Media & Community Management\n",
    "    \"Social Media Coordinator\", \"Social Media Strategist\", \"Social Media Analyst\",\n",
    "    \"Community Manager\", \"Influencer Marketing Manager\", \"Social Media Consultant\",\n",
    "    \"Social Media Advertiser\", \"Social Media Engagement Specialist\",\n",
    "\n",
    "    # Graphic Design & Visual Media\n",
    "    \"Graphic Designer\", \"Motion Graphic Designer\", \"Visual Designer\",\n",
    "    \"Brand Identity Designer\", \"Illustrator\", \"Infographic Designer\",\n",
    "    \"UX/UI Designer\", \"Web Designer\", \"Interactive Media Designer\",\n",
    "\n",
    "    # Video Production & Editing\n",
    "    \"Video Editor\", \"Videographer\", \"Motion Graphics Artist\",\n",
    "    \"Cinematographer\", \"Video Producer\", \"Film Editor\",\n",
    "    \"YouTube Content Creator\", \"Live Stream Producer\",\n",
    "\n",
    "    # Audio Production & Podcasting\n",
    "    \"Podcast Producer\", \"Podcast Editor\", \"Sound Engineer\",\n",
    "    \"Audio Editor\", \"Voiceover Artist\", \"Radio Producer\",\n",
    "    \"Music Production Specialist\", \"Audiobook Producer\",\n",
    "\n",
    "    # Advertising & Paid Media\n",
    "    \"Paid Media Specialist\", \"Digital Advertising Manager\",\n",
    "    \"PPC Specialist\", \"Google Ads Manager\", \"Facebook Ads Specialist\",\n",
    "    \"Programmatic Media Buyer\", \"Performance Marketing Manager\",\n",
    "    \"Affiliate Marketing Manager\", \"E-commerce Marketing Manager\",\n",
    "\n",
    "    # Web & Digital Experience\n",
    "    \"Web Content Manager\", \"Digital Experience Manager\",\n",
    "    \"Conversion Rate Optimization (CRO) Specialist\", \"UX Writer\",\n",
    "    \"Digital Designer\", \"E-commerce Specialist\", \"Web Producer\",\n",
    "\n",
    "    # Data & Analytics in Digital Media\n",
    "    \"Digital Analytics Specialist\", \"SEO Analyst\", \"Web Analytics Manager\",\n",
    "    \"Marketing Data Analyst\", \"Social Media Insights Analyst\",\n",
    "    \"Audience Development Manager\",\n",
    "\n",
    "    # Emerging Digital Media & Innovation\n",
    "    \"AR/VR Content Creator\", \"Metaverse Content Strategist\",\n",
    "    \"AI-Generated Content Specialist\", \"NFT Marketing Specialist\",\n",
    "    \"Interactive Media Producer\", \"Digital Innovation Strategist\"\n",
    "\n",
    "    # Other\n",
    "    \"Digital Media\", \"Content Creator\", \"Video Editor\", \"Graphic Designer\", \"Multimedia\", \"Animation\",\n",
    "    \"Social Media\", \"Marketing\", \"SEO\", \"Adobe\", \"UX/UI Designer\", \"Web Designer\", \"Creative Director\",\n",
    "    \"Branding\", \"Visual Design\", \"Content Marketing\", \"Social Media Manager\", \"User Experience\", \"UI\", \"UX\",\n",
    "    \"Copywriting\", \"Social Media Manager\", \"Content Strategy\", \"Marketing Analyst\", \"Graphic Designer\"\n",
    "]\n",
    "\n",
    "dm_jobs_counts = {\n",
    "    keyword: merged_df['job_title'].str.contains(re.escape(keyword), case=False, na=False).sum()\n",
    "    for keyword in digital_media_job_titles\n",
    "}\n",
    "\n",
    "dm_jobs_df = pd.DataFrame(list(dm_jobs_counts.items()), columns=['Keyword', 'Count'])\n",
    "\n",
    "dm_jobs_df = dm_jobs_df.sort_values(by='Count', ascending=False)\n",
    "dm_jobs_df.head(20)"
   ]
  },
  {
   "cell_type": "code",
   "execution_count": 18,
   "id": "5d87e4d2",
   "metadata": {},
   "outputs": [],
   "source": [
    "# Add 'domain' column to each jobs DataFrame\n",
    "sd_jobs_df['domain'] = 'Software Development'\n",
    "dsa_jobs_df['domain'] = 'Data Science & Analytics'\n",
    "es_jobs_df['domain'] = 'Enterprise Systems'\n",
    "ss_jobs_df['domain'] = 'Systems Security'\n",
    "dm_jobs_df['domain'] = 'Digital Media'\n",
    "\n",
    "\n",
    "# Combine all job DataFrames\n",
    "all_jobs_df = pd.concat([sd_jobs_df, dsa_jobs_df, es_jobs_df, ss_jobs_df, dm_jobs_df], ignore_index=True)\n",
    "\n",
    "skills_by_domain = {\n",
    "    \"Software Development\": software_dev_skills,\n",
    "    \"Data Science & Analytics\": data_science_analytics_skills,\n",
    "    \"Enterprise Systems\": enterprise_systems_skills,\n",
    "    \"Systems Security\": systems_security_skills,\n",
    "    \"Digital Media\": digital_media_skills\n",
    "}\n",
    "\n"
   ]
  },
  {
   "cell_type": "code",
   "execution_count": null,
   "id": "e0c0b22b",
   "metadata": {},
   "outputs": [],
   "source": []
  },
  {
   "cell_type": "code",
   "execution_count": 19,
   "id": "eb05d7e3",
   "metadata": {},
   "outputs": [
    {
     "data": {
      "application/vnd.plotly.v1+json": {
       "config": {
        "plotlyServerURL": "https://plot.ly"
       },
       "data": [
        {
         "branchvalues": "total",
         "customdata": [
          [
           "Software Engineer"
          ],
          [
           "Project Manager"
          ],
          [
           "Software Developer"
          ],
          [
           "Project Manager"
          ],
          [
           "Cloud"
          ],
          [
           "Automation Engineer"
          ],
          [
           "Software Developer"
          ],
          [
           "Software Engineer"
          ],
          [
           "Software Developer"
          ],
          [
           "Project Manager"
          ],
          [
           "Software Engineer"
          ],
          [
           "Software Developer"
          ],
          [
           "Project Manager"
          ],
          [
           "Cloud"
          ],
          [
           "Automation Engineer"
          ],
          [
           "Software Engineer"
          ],
          [
           "Cloud"
          ],
          [
           "Cloud"
          ],
          [
           "Software Engineer"
          ],
          [
           "Software Developer"
          ],
          [
           "Project Manager"
          ],
          [
           "Cloud"
          ],
          [
           "Automation Engineer"
          ],
          [
           "Automation Engineer"
          ],
          [
           "Cloud"
          ],
          [
           "Project Manager"
          ],
          [
           "Software Developer"
          ],
          [
           "Software Engineer"
          ],
          [
           "(?)"
          ]
         ],
         "domain": {
          "x": [
           0,
           1
          ],
          "y": [
           0,
           1
          ]
         },
         "hovertemplate": "labels=%{label}<br>Count=%{value}<br>parent=%{parent}<br>id=%{id}<br>Job Title=%{customdata[0]}<extra></extra>",
         "ids": [
          "Software Development/Software Engineer/SQL",
          "Software Development/Project Manager/Project Manager",
          "Software Development/Software Developer/SQL",
          "Software Development/Project Manager/Management",
          "Software Development/Cloud/Management",
          "Software Development/Automation Engineer/Management",
          "Software Development/Software Developer/JavaScript",
          "Software Development/Software Engineer/Java",
          "Software Development/Software Developer/Java",
          "Software Development/Project Manager/HTML",
          "Software Development/Software Engineer/Go",
          "Software Development/Software Developer/Go",
          "Software Development/Project Manager/Go",
          "Software Development/Cloud/Go",
          "Software Development/Automation Engineer/Go",
          "Software Development/Software Engineer/Git",
          "Software Development/Cloud/Cloud",
          "Software Development/Cloud/AWS",
          "Software Development/Software Engineer/AI",
          "Software Development/Software Developer/AI",
          "Software Development/Project Manager/AI",
          "Software Development/Cloud/AI",
          "Software Development/Automation Engineer/AI",
          "Software Development/Automation Engineer",
          "Software Development/Cloud",
          "Software Development/Project Manager",
          "Software Development/Software Developer",
          "Software Development/Software Engineer",
          "Software Development"
         ],
         "labels": [
          "SQL",
          "Project Manager",
          "SQL",
          "Management",
          "Management",
          "Management",
          "JavaScript",
          "Java",
          "Java",
          "HTML",
          "Go",
          "Go",
          "Go",
          "Go",
          "Go",
          "Git",
          "Cloud",
          "AWS",
          "AI",
          "AI",
          "AI",
          "AI",
          "AI",
          "Automation Engineer",
          "Cloud",
          "Project Manager",
          "Software Developer",
          "Software Engineer",
          "Software Development"
         ],
         "marker": {
          "colors": [
           "#636efa",
           "#EF553B",
           "#00cc96",
           "#EF553B",
           "#ab63fa",
           "#FFA15A",
           "#00cc96",
           "#636efa",
           "#00cc96",
           "#EF553B",
           "#636efa",
           "#00cc96",
           "#EF553B",
           "#ab63fa",
           "#FFA15A",
           "#636efa",
           "#ab63fa",
           "#ab63fa",
           "#636efa",
           "#00cc96",
           "#EF553B",
           "#ab63fa",
           "#FFA15A",
           "#FFA15A",
           "#ab63fa",
           "#EF553B",
           "#00cc96",
           "#636efa",
           "#19d3f3"
          ]
         },
         "name": "",
         "parents": [
          "Software Development/Software Engineer",
          "Software Development/Project Manager",
          "Software Development/Software Developer",
          "Software Development/Project Manager",
          "Software Development/Cloud",
          "Software Development/Automation Engineer",
          "Software Development/Software Developer",
          "Software Development/Software Engineer",
          "Software Development/Software Developer",
          "Software Development/Project Manager",
          "Software Development/Software Engineer",
          "Software Development/Software Developer",
          "Software Development/Project Manager",
          "Software Development/Cloud",
          "Software Development/Automation Engineer",
          "Software Development/Software Engineer",
          "Software Development/Cloud",
          "Software Development/Cloud",
          "Software Development/Software Engineer",
          "Software Development/Software Developer",
          "Software Development/Project Manager",
          "Software Development/Cloud",
          "Software Development/Automation Engineer",
          "Software Development",
          "Software Development",
          "Software Development",
          "Software Development",
          "Software Development",
          ""
         ],
         "type": "sunburst",
         "values": [
          36,
          25,
          27,
          23,
          15,
          23,
          20,
          44,
          24,
          5,
          66,
          29,
          26,
          19,
          2,
          42,
          24,
          19,
          86,
          32,
          28,
          24,
          23,
          48,
          101,
          107,
          132,
          274,
          662
         ]
        }
       ],
       "layout": {
        "legend": {
         "tracegroupgap": 0
        },
        "margin": {
         "b": 0,
         "l": 0,
         "r": 0,
         "t": 40
        },
        "template": {
         "data": {
          "bar": [
           {
            "error_x": {
             "color": "#2a3f5f"
            },
            "error_y": {
             "color": "#2a3f5f"
            },
            "marker": {
             "line": {
              "color": "#E5ECF6",
              "width": 0.5
             },
             "pattern": {
              "fillmode": "overlay",
              "size": 10,
              "solidity": 0.2
             }
            },
            "type": "bar"
           }
          ],
          "barpolar": [
           {
            "marker": {
             "line": {
              "color": "#E5ECF6",
              "width": 0.5
             },
             "pattern": {
              "fillmode": "overlay",
              "size": 10,
              "solidity": 0.2
             }
            },
            "type": "barpolar"
           }
          ],
          "carpet": [
           {
            "aaxis": {
             "endlinecolor": "#2a3f5f",
             "gridcolor": "white",
             "linecolor": "white",
             "minorgridcolor": "white",
             "startlinecolor": "#2a3f5f"
            },
            "baxis": {
             "endlinecolor": "#2a3f5f",
             "gridcolor": "white",
             "linecolor": "white",
             "minorgridcolor": "white",
             "startlinecolor": "#2a3f5f"
            },
            "type": "carpet"
           }
          ],
          "choropleth": [
           {
            "colorbar": {
             "outlinewidth": 0,
             "ticks": ""
            },
            "type": "choropleth"
           }
          ],
          "contour": [
           {
            "colorbar": {
             "outlinewidth": 0,
             "ticks": ""
            },
            "colorscale": [
             [
              0,
              "#0d0887"
             ],
             [
              0.1111111111111111,
              "#46039f"
             ],
             [
              0.2222222222222222,
              "#7201a8"
             ],
             [
              0.3333333333333333,
              "#9c179e"
             ],
             [
              0.4444444444444444,
              "#bd3786"
             ],
             [
              0.5555555555555556,
              "#d8576b"
             ],
             [
              0.6666666666666666,
              "#ed7953"
             ],
             [
              0.7777777777777778,
              "#fb9f3a"
             ],
             [
              0.8888888888888888,
              "#fdca26"
             ],
             [
              1,
              "#f0f921"
             ]
            ],
            "type": "contour"
           }
          ],
          "contourcarpet": [
           {
            "colorbar": {
             "outlinewidth": 0,
             "ticks": ""
            },
            "type": "contourcarpet"
           }
          ],
          "heatmap": [
           {
            "colorbar": {
             "outlinewidth": 0,
             "ticks": ""
            },
            "colorscale": [
             [
              0,
              "#0d0887"
             ],
             [
              0.1111111111111111,
              "#46039f"
             ],
             [
              0.2222222222222222,
              "#7201a8"
             ],
             [
              0.3333333333333333,
              "#9c179e"
             ],
             [
              0.4444444444444444,
              "#bd3786"
             ],
             [
              0.5555555555555556,
              "#d8576b"
             ],
             [
              0.6666666666666666,
              "#ed7953"
             ],
             [
              0.7777777777777778,
              "#fb9f3a"
             ],
             [
              0.8888888888888888,
              "#fdca26"
             ],
             [
              1,
              "#f0f921"
             ]
            ],
            "type": "heatmap"
           }
          ],
          "heatmapgl": [
           {
            "colorbar": {
             "outlinewidth": 0,
             "ticks": ""
            },
            "colorscale": [
             [
              0,
              "#0d0887"
             ],
             [
              0.1111111111111111,
              "#46039f"
             ],
             [
              0.2222222222222222,
              "#7201a8"
             ],
             [
              0.3333333333333333,
              "#9c179e"
             ],
             [
              0.4444444444444444,
              "#bd3786"
             ],
             [
              0.5555555555555556,
              "#d8576b"
             ],
             [
              0.6666666666666666,
              "#ed7953"
             ],
             [
              0.7777777777777778,
              "#fb9f3a"
             ],
             [
              0.8888888888888888,
              "#fdca26"
             ],
             [
              1,
              "#f0f921"
             ]
            ],
            "type": "heatmapgl"
           }
          ],
          "histogram": [
           {
            "marker": {
             "pattern": {
              "fillmode": "overlay",
              "size": 10,
              "solidity": 0.2
             }
            },
            "type": "histogram"
           }
          ],
          "histogram2d": [
           {
            "colorbar": {
             "outlinewidth": 0,
             "ticks": ""
            },
            "colorscale": [
             [
              0,
              "#0d0887"
             ],
             [
              0.1111111111111111,
              "#46039f"
             ],
             [
              0.2222222222222222,
              "#7201a8"
             ],
             [
              0.3333333333333333,
              "#9c179e"
             ],
             [
              0.4444444444444444,
              "#bd3786"
             ],
             [
              0.5555555555555556,
              "#d8576b"
             ],
             [
              0.6666666666666666,
              "#ed7953"
             ],
             [
              0.7777777777777778,
              "#fb9f3a"
             ],
             [
              0.8888888888888888,
              "#fdca26"
             ],
             [
              1,
              "#f0f921"
             ]
            ],
            "type": "histogram2d"
           }
          ],
          "histogram2dcontour": [
           {
            "colorbar": {
             "outlinewidth": 0,
             "ticks": ""
            },
            "colorscale": [
             [
              0,
              "#0d0887"
             ],
             [
              0.1111111111111111,
              "#46039f"
             ],
             [
              0.2222222222222222,
              "#7201a8"
             ],
             [
              0.3333333333333333,
              "#9c179e"
             ],
             [
              0.4444444444444444,
              "#bd3786"
             ],
             [
              0.5555555555555556,
              "#d8576b"
             ],
             [
              0.6666666666666666,
              "#ed7953"
             ],
             [
              0.7777777777777778,
              "#fb9f3a"
             ],
             [
              0.8888888888888888,
              "#fdca26"
             ],
             [
              1,
              "#f0f921"
             ]
            ],
            "type": "histogram2dcontour"
           }
          ],
          "mesh3d": [
           {
            "colorbar": {
             "outlinewidth": 0,
             "ticks": ""
            },
            "type": "mesh3d"
           }
          ],
          "parcoords": [
           {
            "line": {
             "colorbar": {
              "outlinewidth": 0,
              "ticks": ""
             }
            },
            "type": "parcoords"
           }
          ],
          "pie": [
           {
            "automargin": true,
            "type": "pie"
           }
          ],
          "scatter": [
           {
            "fillpattern": {
             "fillmode": "overlay",
             "size": 10,
             "solidity": 0.2
            },
            "type": "scatter"
           }
          ],
          "scatter3d": [
           {
            "line": {
             "colorbar": {
              "outlinewidth": 0,
              "ticks": ""
             }
            },
            "marker": {
             "colorbar": {
              "outlinewidth": 0,
              "ticks": ""
             }
            },
            "type": "scatter3d"
           }
          ],
          "scattercarpet": [
           {
            "marker": {
             "colorbar": {
              "outlinewidth": 0,
              "ticks": ""
             }
            },
            "type": "scattercarpet"
           }
          ],
          "scattergeo": [
           {
            "marker": {
             "colorbar": {
              "outlinewidth": 0,
              "ticks": ""
             }
            },
            "type": "scattergeo"
           }
          ],
          "scattergl": [
           {
            "marker": {
             "colorbar": {
              "outlinewidth": 0,
              "ticks": ""
             }
            },
            "type": "scattergl"
           }
          ],
          "scattermapbox": [
           {
            "marker": {
             "colorbar": {
              "outlinewidth": 0,
              "ticks": ""
             }
            },
            "type": "scattermapbox"
           }
          ],
          "scatterpolar": [
           {
            "marker": {
             "colorbar": {
              "outlinewidth": 0,
              "ticks": ""
             }
            },
            "type": "scatterpolar"
           }
          ],
          "scatterpolargl": [
           {
            "marker": {
             "colorbar": {
              "outlinewidth": 0,
              "ticks": ""
             }
            },
            "type": "scatterpolargl"
           }
          ],
          "scatterternary": [
           {
            "marker": {
             "colorbar": {
              "outlinewidth": 0,
              "ticks": ""
             }
            },
            "type": "scatterternary"
           }
          ],
          "surface": [
           {
            "colorbar": {
             "outlinewidth": 0,
             "ticks": ""
            },
            "colorscale": [
             [
              0,
              "#0d0887"
             ],
             [
              0.1111111111111111,
              "#46039f"
             ],
             [
              0.2222222222222222,
              "#7201a8"
             ],
             [
              0.3333333333333333,
              "#9c179e"
             ],
             [
              0.4444444444444444,
              "#bd3786"
             ],
             [
              0.5555555555555556,
              "#d8576b"
             ],
             [
              0.6666666666666666,
              "#ed7953"
             ],
             [
              0.7777777777777778,
              "#fb9f3a"
             ],
             [
              0.8888888888888888,
              "#fdca26"
             ],
             [
              1,
              "#f0f921"
             ]
            ],
            "type": "surface"
           }
          ],
          "table": [
           {
            "cells": {
             "fill": {
              "color": "#EBF0F8"
             },
             "line": {
              "color": "white"
             }
            },
            "header": {
             "fill": {
              "color": "#C8D4E3"
             },
             "line": {
              "color": "white"
             }
            },
            "type": "table"
           }
          ]
         },
         "layout": {
          "annotationdefaults": {
           "arrowcolor": "#2a3f5f",
           "arrowhead": 0,
           "arrowwidth": 1
          },
          "autotypenumbers": "strict",
          "coloraxis": {
           "colorbar": {
            "outlinewidth": 0,
            "ticks": ""
           }
          },
          "colorscale": {
           "diverging": [
            [
             0,
             "#8e0152"
            ],
            [
             0.1,
             "#c51b7d"
            ],
            [
             0.2,
             "#de77ae"
            ],
            [
             0.3,
             "#f1b6da"
            ],
            [
             0.4,
             "#fde0ef"
            ],
            [
             0.5,
             "#f7f7f7"
            ],
            [
             0.6,
             "#e6f5d0"
            ],
            [
             0.7,
             "#b8e186"
            ],
            [
             0.8,
             "#7fbc41"
            ],
            [
             0.9,
             "#4d9221"
            ],
            [
             1,
             "#276419"
            ]
           ],
           "sequential": [
            [
             0,
             "#0d0887"
            ],
            [
             0.1111111111111111,
             "#46039f"
            ],
            [
             0.2222222222222222,
             "#7201a8"
            ],
            [
             0.3333333333333333,
             "#9c179e"
            ],
            [
             0.4444444444444444,
             "#bd3786"
            ],
            [
             0.5555555555555556,
             "#d8576b"
            ],
            [
             0.6666666666666666,
             "#ed7953"
            ],
            [
             0.7777777777777778,
             "#fb9f3a"
            ],
            [
             0.8888888888888888,
             "#fdca26"
            ],
            [
             1,
             "#f0f921"
            ]
           ],
           "sequentialminus": [
            [
             0,
             "#0d0887"
            ],
            [
             0.1111111111111111,
             "#46039f"
            ],
            [
             0.2222222222222222,
             "#7201a8"
            ],
            [
             0.3333333333333333,
             "#9c179e"
            ],
            [
             0.4444444444444444,
             "#bd3786"
            ],
            [
             0.5555555555555556,
             "#d8576b"
            ],
            [
             0.6666666666666666,
             "#ed7953"
            ],
            [
             0.7777777777777778,
             "#fb9f3a"
            ],
            [
             0.8888888888888888,
             "#fdca26"
            ],
            [
             1,
             "#f0f921"
            ]
           ]
          },
          "colorway": [
           "#636efa",
           "#EF553B",
           "#00cc96",
           "#ab63fa",
           "#FFA15A",
           "#19d3f3",
           "#FF6692",
           "#B6E880",
           "#FF97FF",
           "#FECB52"
          ],
          "font": {
           "color": "#2a3f5f"
          },
          "geo": {
           "bgcolor": "white",
           "lakecolor": "white",
           "landcolor": "#E5ECF6",
           "showlakes": true,
           "showland": true,
           "subunitcolor": "white"
          },
          "hoverlabel": {
           "align": "left"
          },
          "hovermode": "closest",
          "mapbox": {
           "style": "light"
          },
          "paper_bgcolor": "white",
          "plot_bgcolor": "#E5ECF6",
          "polar": {
           "angularaxis": {
            "gridcolor": "white",
            "linecolor": "white",
            "ticks": ""
           },
           "bgcolor": "#E5ECF6",
           "radialaxis": {
            "gridcolor": "white",
            "linecolor": "white",
            "ticks": ""
           }
          },
          "scene": {
           "xaxis": {
            "backgroundcolor": "#E5ECF6",
            "gridcolor": "white",
            "gridwidth": 2,
            "linecolor": "white",
            "showbackground": true,
            "ticks": "",
            "zerolinecolor": "white"
           },
           "yaxis": {
            "backgroundcolor": "#E5ECF6",
            "gridcolor": "white",
            "gridwidth": 2,
            "linecolor": "white",
            "showbackground": true,
            "ticks": "",
            "zerolinecolor": "white"
           },
           "zaxis": {
            "backgroundcolor": "#E5ECF6",
            "gridcolor": "white",
            "gridwidth": 2,
            "linecolor": "white",
            "showbackground": true,
            "ticks": "",
            "zerolinecolor": "white"
           }
          },
          "shapedefaults": {
           "line": {
            "color": "#2a3f5f"
           }
          },
          "ternary": {
           "aaxis": {
            "gridcolor": "white",
            "linecolor": "white",
            "ticks": ""
           },
           "baxis": {
            "gridcolor": "white",
            "linecolor": "white",
            "ticks": ""
           },
           "bgcolor": "#E5ECF6",
           "caxis": {
            "gridcolor": "white",
            "linecolor": "white",
            "ticks": ""
           }
          },
          "title": {
           "x": 0.05
          },
          "xaxis": {
           "automargin": true,
           "gridcolor": "white",
           "linecolor": "white",
           "ticks": "",
           "title": {
            "standoff": 15
           },
           "zerolinecolor": "white",
           "zerolinewidth": 2
          },
          "yaxis": {
           "automargin": true,
           "gridcolor": "white",
           "linecolor": "white",
           "ticks": "",
           "title": {
            "standoff": 15
           },
           "zerolinecolor": "white",
           "zerolinewidth": 2
          }
         }
        },
        "title": {
         "text": "Software Development: Top 5 Job Titles and Their Most Relevant Skills"
        }
       }
      }
     },
     "metadata": {},
     "output_type": "display_data"
    }
   ],
   "source": [
    "domain = \"Software Development\"\n",
    "\n",
    "top_5_jobs = all_jobs_df[all_jobs_df['domain']==domain].head(5)['Keyword'].tolist()\n",
    "\n",
    "\n",
    "sunburst_data = []\n",
    "\n",
    "for job in top_5_jobs:\n",
    "    job_rows = merged_df[merged_df['job_title'].str.contains(re.escape(job), case=False, na=False)]\n",
    "\n",
    "    # Count only within this job's descriptions\n",
    "    skill_counts = {\n",
    "        skill: job_rows['job_description'].str.contains(re.escape(skill), case=False, na=False).sum()\n",
    "        for skill in skills_by_domain[domain]\n",
    "    }\n",
    "\n",
    "    # top 5 most relevant skills for this job\n",
    "    top_skills_for_job = sorted(skill_counts.items(), key=lambda x: x[1], reverse=True)[:5]\n",
    "\n",
    "    for skill, count in top_skills_for_job:\n",
    "        if count > 0:\n",
    "            sunburst_data.append({\n",
    "                'Domain': domain,\n",
    "                'Job Title': job,\n",
    "                'Skill': skill,\n",
    "                'Count': count\n",
    "            })\n",
    "\n",
    "# Convert to DataFrame\n",
    "sunburst_df = pd.DataFrame(sunburst_data)\n",
    "\n",
    "# Create sunburst: Domain to  Job Title to Skill\n",
    "fig = px.sunburst(\n",
    "    sunburst_df,\n",
    "    path=['Domain', 'Job Title', 'Skill'],\n",
    "    values='Count',\n",
    "    color='Job Title',\n",
    "    title=f'{domain}: Top 5 Job Titles and Their Most Relevant Skills'\n",
    ")\n",
    "\n",
    "fig.update_layout(margin=dict(t=40, l=0, r=0, b=0))\n",
    "fig.show()"
   ]
  },
  {
   "cell_type": "code",
   "execution_count": 20,
   "id": "4b44a747",
   "metadata": {},
   "outputs": [],
   "source": [
    "import pickle\n",
    "with open('job_data.pkl', 'wb') as f:\n",
    "    pickle.dump((all_jobs_df, skills_by_domain), f)"
   ]
  },
  {
   "cell_type": "code",
   "execution_count": 21,
   "id": "cefa3a7a",
   "metadata": {},
   "outputs": [
    {
     "data": {
      "text/html": [
       "<div>\n",
       "<style scoped>\n",
       "    .dataframe tbody tr th:only-of-type {\n",
       "        vertical-align: middle;\n",
       "    }\n",
       "\n",
       "    .dataframe tbody tr th {\n",
       "        vertical-align: top;\n",
       "    }\n",
       "\n",
       "    .dataframe thead th {\n",
       "        text-align: right;\n",
       "    }\n",
       "</style>\n",
       "<table border=\"1\" class=\"dataframe\">\n",
       "  <thead>\n",
       "    <tr style=\"text-align: right;\">\n",
       "      <th></th>\n",
       "      <th>Keyword</th>\n",
       "      <th>Count</th>\n",
       "      <th>domain</th>\n",
       "    </tr>\n",
       "  </thead>\n",
       "  <tbody>\n",
       "    <tr>\n",
       "      <th>0</th>\n",
       "      <td>Software Engineer</td>\n",
       "      <td>86</td>\n",
       "      <td>Software Development</td>\n",
       "    </tr>\n",
       "    <tr>\n",
       "      <th>1</th>\n",
       "      <td>Software Developer</td>\n",
       "      <td>138</td>\n",
       "      <td>Software Development</td>\n",
       "    </tr>\n",
       "    <tr>\n",
       "      <th>2</th>\n",
       "      <td>Project Manager</td>\n",
       "      <td>30</td>\n",
       "      <td>Software Development</td>\n",
       "    </tr>\n",
       "    <tr>\n",
       "      <th>3</th>\n",
       "      <td>Cloud</td>\n",
       "      <td>24</td>\n",
       "      <td>Software Development</td>\n",
       "    </tr>\n",
       "    <tr>\n",
       "      <th>4</th>\n",
       "      <td>Automation Engineer</td>\n",
       "      <td>23</td>\n",
       "      <td>Software Development</td>\n",
       "    </tr>\n",
       "  </tbody>\n",
       "</table>\n",
       "</div>"
      ],
      "text/plain": [
       "               Keyword  Count                domain\n",
       "0    Software Engineer     86  Software Development\n",
       "1   Software Developer    138  Software Development\n",
       "2      Project Manager     30  Software Development\n",
       "3                Cloud     24  Software Development\n",
       "4  Automation Engineer     23  Software Development"
      ]
     },
     "execution_count": 21,
     "metadata": {},
     "output_type": "execute_result"
    }
   ],
   "source": [
    "all_jobs_df.head()"
   ]
  },
  {
   "cell_type": "code",
   "execution_count": null,
   "id": "6fc73dc4",
   "metadata": {},
   "outputs": [],
   "source": []
  },
  {
   "cell_type": "code",
   "execution_count": 22,
   "id": "ee42d52d",
   "metadata": {},
   "outputs": [
    {
     "name": "stdout",
     "output_type": "stream",
     "text": [
      "\n",
      "Top Project Management Skills in Software Development:\n"
     ]
    },
    {
     "data": {
      "text/html": [
       "<div>\n",
       "<style scoped>\n",
       "    .dataframe tbody tr th:only-of-type {\n",
       "        vertical-align: middle;\n",
       "    }\n",
       "\n",
       "    .dataframe tbody tr th {\n",
       "        vertical-align: top;\n",
       "    }\n",
       "\n",
       "    .dataframe thead th {\n",
       "        text-align: right;\n",
       "    }\n",
       "</style>\n",
       "<table border=\"1\" class=\"dataframe\">\n",
       "  <thead>\n",
       "    <tr style=\"text-align: right;\">\n",
       "      <th></th>\n",
       "      <th>Keyword</th>\n",
       "      <th>Count</th>\n",
       "    </tr>\n",
       "  </thead>\n",
       "  <tbody>\n",
       "    <tr>\n",
       "      <th>0</th>\n",
       "      <td>Agile</td>\n",
       "      <td>243</td>\n",
       "    </tr>\n",
       "    <tr>\n",
       "      <th>1</th>\n",
       "      <td>Scrum</td>\n",
       "      <td>80</td>\n",
       "    </tr>\n",
       "    <tr>\n",
       "      <th>4</th>\n",
       "      <td>Jira</td>\n",
       "      <td>72</td>\n",
       "    </tr>\n",
       "    <tr>\n",
       "      <th>16</th>\n",
       "      <td>Risk Management</td>\n",
       "      <td>61</td>\n",
       "    </tr>\n",
       "    <tr>\n",
       "      <th>5</th>\n",
       "      <td>Confluence</td>\n",
       "      <td>40</td>\n",
       "    </tr>\n",
       "    <tr>\n",
       "      <th>2</th>\n",
       "      <td>Kanban</td>\n",
       "      <td>24</td>\n",
       "    </tr>\n",
       "    <tr>\n",
       "      <th>23</th>\n",
       "      <td>Requirements Gathering</td>\n",
       "      <td>23</td>\n",
       "    </tr>\n",
       "    <tr>\n",
       "      <th>3</th>\n",
       "      <td>Waterfall</td>\n",
       "      <td>17</td>\n",
       "    </tr>\n",
       "    <tr>\n",
       "      <th>14</th>\n",
       "      <td>User Stories</td>\n",
       "      <td>14</td>\n",
       "    </tr>\n",
       "    <tr>\n",
       "      <th>9</th>\n",
       "      <td>Sprint Planning</td>\n",
       "      <td>11</td>\n",
       "    </tr>\n",
       "    <tr>\n",
       "      <th>21</th>\n",
       "      <td>Retrospectives</td>\n",
       "      <td>9</td>\n",
       "    </tr>\n",
       "    <tr>\n",
       "      <th>6</th>\n",
       "      <td>Trello</td>\n",
       "      <td>9</td>\n",
       "    </tr>\n",
       "    <tr>\n",
       "      <th>10</th>\n",
       "      <td>Daily Stand-ups</td>\n",
       "      <td>5</td>\n",
       "    </tr>\n",
       "    <tr>\n",
       "      <th>18</th>\n",
       "      <td>Stakeholder Communication</td>\n",
       "      <td>5</td>\n",
       "    </tr>\n",
       "    <tr>\n",
       "      <th>7</th>\n",
       "      <td>Asana</td>\n",
       "      <td>4</td>\n",
       "    </tr>\n",
       "    <tr>\n",
       "      <th>17</th>\n",
       "      <td>Scope Management</td>\n",
       "      <td>1</td>\n",
       "    </tr>\n",
       "    <tr>\n",
       "      <th>22</th>\n",
       "      <td>Time Estimation</td>\n",
       "      <td>0</td>\n",
       "    </tr>\n",
       "    <tr>\n",
       "      <th>19</th>\n",
       "      <td>Team Velocity Tracking</td>\n",
       "      <td>0</td>\n",
       "    </tr>\n",
       "    <tr>\n",
       "      <th>20</th>\n",
       "      <td>Version Control Integration (e.g., Git with Jira)</td>\n",
       "      <td>0</td>\n",
       "    </tr>\n",
       "    <tr>\n",
       "      <th>12</th>\n",
       "      <td>Gantt Charts</td>\n",
       "      <td>0</td>\n",
       "    </tr>\n",
       "    <tr>\n",
       "      <th>15</th>\n",
       "      <td>Project Roadmapping</td>\n",
       "      <td>0</td>\n",
       "    </tr>\n",
       "    <tr>\n",
       "      <th>13</th>\n",
       "      <td>Product Backlog Management</td>\n",
       "      <td>0</td>\n",
       "    </tr>\n",
       "    <tr>\n",
       "      <th>11</th>\n",
       "      <td>Burndown Charts</td>\n",
       "      <td>0</td>\n",
       "    </tr>\n",
       "    <tr>\n",
       "      <th>8</th>\n",
       "      <td>ClickUp</td>\n",
       "      <td>0</td>\n",
       "    </tr>\n",
       "    <tr>\n",
       "      <th>24</th>\n",
       "      <td>Project Lifecycle Management</td>\n",
       "      <td>0</td>\n",
       "    </tr>\n",
       "  </tbody>\n",
       "</table>\n",
       "</div>"
      ],
      "text/plain": [
       "                                              Keyword  Count\n",
       "0                                               Agile    243\n",
       "1                                               Scrum     80\n",
       "4                                                Jira     72\n",
       "16                                    Risk Management     61\n",
       "5                                          Confluence     40\n",
       "2                                              Kanban     24\n",
       "23                             Requirements Gathering     23\n",
       "3                                           Waterfall     17\n",
       "14                                       User Stories     14\n",
       "9                                     Sprint Planning     11\n",
       "21                                     Retrospectives      9\n",
       "6                                              Trello      9\n",
       "10                                    Daily Stand-ups      5\n",
       "18                          Stakeholder Communication      5\n",
       "7                                               Asana      4\n",
       "17                                   Scope Management      1\n",
       "22                                    Time Estimation      0\n",
       "19                             Team Velocity Tracking      0\n",
       "20  Version Control Integration (e.g., Git with Jira)      0\n",
       "12                                       Gantt Charts      0\n",
       "15                                Project Roadmapping      0\n",
       "13                         Product Backlog Management      0\n",
       "11                                    Burndown Charts      0\n",
       "8                                             ClickUp      0\n",
       "24                       Project Lifecycle Management      0"
      ]
     },
     "metadata": {},
     "output_type": "display_data"
    }
   ],
   "source": [
    "from IPython.display import display\n",
    "\n",
    "software_dev_pm_skills = [\n",
    "    \"Agile\",\n",
    "    \"Scrum\",\n",
    "    \"Kanban\",\n",
    "    \"Waterfall\",\n",
    "    \"Jira\",\n",
    "    \"Confluence\",\n",
    "    \"Trello\",\n",
    "    \"Asana\",\n",
    "    \"ClickUp\",\n",
    "    \"Sprint Planning\",\n",
    "    \"Daily Stand-ups\",\n",
    "    \"Burndown Charts\",\n",
    "    \"Gantt Charts\",\n",
    "    \"Product Backlog Management\",\n",
    "    \"User Stories\",\n",
    "    \"Project Roadmapping\",\n",
    "    \"Risk Management\",\n",
    "    \"Scope Management\",\n",
    "    \"Stakeholder Communication\",\n",
    "    \"Team Velocity Tracking\",\n",
    "    \"Version Control Integration (e.g., Git with Jira)\",\n",
    "    \"Retrospectives\",\n",
    "    \"Time Estimation\",\n",
    "    \"Requirements Gathering\",\n",
    "    \"Project Lifecycle Management\"\n",
    "]\n",
    "\n",
    "# count occurrences of each project management keyword in the job column\n",
    "pm_skill_counts = {\n",
    "    keyword: merged_df['job_description'].str.contains(re.escape(keyword), case=False, na=False).sum()\n",
    "    for keyword in software_dev_pm_skills\n",
    "}\n",
    "\n",
    "pm_skills_df = pd.DataFrame(list(pm_skill_counts.items()), columns=['Keyword', 'Count'])\n",
    "\n",
    "pm_skills_df = pm_skills_df.sort_values(by='Count', ascending=False)\n",
    "\n",
    "\n",
    "print(\"\\nTop Project Management Skills in Software Development:\")\n",
    "display(pm_skills_df)\n"
   ]
  },
  {
   "cell_type": "code",
   "execution_count": 23,
   "id": "22e036d8",
   "metadata": {},
   "outputs": [
    {
     "data": {
      "text/html": [
       "<div>\n",
       "<style scoped>\n",
       "    .dataframe tbody tr th:only-of-type {\n",
       "        vertical-align: middle;\n",
       "    }\n",
       "\n",
       "    .dataframe tbody tr th {\n",
       "        vertical-align: top;\n",
       "    }\n",
       "\n",
       "    .dataframe thead th {\n",
       "        text-align: right;\n",
       "    }\n",
       "</style>\n",
       "<table border=\"1\" class=\"dataframe\">\n",
       "  <thead>\n",
       "    <tr style=\"text-align: right;\">\n",
       "      <th></th>\n",
       "      <th>Keyword</th>\n",
       "      <th>Count</th>\n",
       "    </tr>\n",
       "  </thead>\n",
       "  <tbody>\n",
       "    <tr>\n",
       "      <th>28</th>\n",
       "      <td>Communication</td>\n",
       "      <td>1366</td>\n",
       "    </tr>\n",
       "    <tr>\n",
       "      <th>23</th>\n",
       "      <td>Flexible</td>\n",
       "      <td>817</td>\n",
       "    </tr>\n",
       "    <tr>\n",
       "      <th>19</th>\n",
       "      <td>Leadership</td>\n",
       "      <td>625</td>\n",
       "    </tr>\n",
       "    <tr>\n",
       "      <th>27</th>\n",
       "      <td>Innovative</td>\n",
       "      <td>537</td>\n",
       "    </tr>\n",
       "    <tr>\n",
       "      <th>17</th>\n",
       "      <td>Collaboration</td>\n",
       "      <td>436</td>\n",
       "    </tr>\n",
       "    <tr>\n",
       "      <th>20</th>\n",
       "      <td>Driven</td>\n",
       "      <td>401</td>\n",
       "    </tr>\n",
       "    <tr>\n",
       "      <th>3</th>\n",
       "      <td>Attention to Detail</td>\n",
       "      <td>343</td>\n",
       "    </tr>\n",
       "    <tr>\n",
       "      <th>0</th>\n",
       "      <td>Problem-Solving</td>\n",
       "      <td>286</td>\n",
       "    </tr>\n",
       "    <tr>\n",
       "      <th>25</th>\n",
       "      <td>Creative</td>\n",
       "      <td>279</td>\n",
       "    </tr>\n",
       "    <tr>\n",
       "      <th>24</th>\n",
       "      <td>Flexibility</td>\n",
       "      <td>267</td>\n",
       "    </tr>\n",
       "    <tr>\n",
       "      <th>21</th>\n",
       "      <td>Determined</td>\n",
       "      <td>250</td>\n",
       "    </tr>\n",
       "    <tr>\n",
       "      <th>16</th>\n",
       "      <td>Teamwork</td>\n",
       "      <td>148</td>\n",
       "    </tr>\n",
       "    <tr>\n",
       "      <th>15</th>\n",
       "      <td>Problem Solving</td>\n",
       "      <td>140</td>\n",
       "    </tr>\n",
       "    <tr>\n",
       "      <th>8</th>\n",
       "      <td>Time Management</td>\n",
       "      <td>103</td>\n",
       "    </tr>\n",
       "    <tr>\n",
       "      <th>26</th>\n",
       "      <td>Creativity</td>\n",
       "      <td>97</td>\n",
       "    </tr>\n",
       "    <tr>\n",
       "      <th>10</th>\n",
       "      <td>Continuous Learning</td>\n",
       "      <td>94</td>\n",
       "    </tr>\n",
       "    <tr>\n",
       "      <th>22</th>\n",
       "      <td>Self-Motivated</td>\n",
       "      <td>72</td>\n",
       "    </tr>\n",
       "    <tr>\n",
       "      <th>1</th>\n",
       "      <td>Critical Thinking</td>\n",
       "      <td>59</td>\n",
       "    </tr>\n",
       "    <tr>\n",
       "      <th>4</th>\n",
       "      <td>Adaptability</td>\n",
       "      <td>41</td>\n",
       "    </tr>\n",
       "    <tr>\n",
       "      <th>14</th>\n",
       "      <td>Prioritization</td>\n",
       "      <td>39</td>\n",
       "    </tr>\n",
       "  </tbody>\n",
       "</table>\n",
       "</div>"
      ],
      "text/plain": [
       "                Keyword  Count\n",
       "28        Communication   1366\n",
       "23             Flexible    817\n",
       "19           Leadership    625\n",
       "27           Innovative    537\n",
       "17        Collaboration    436\n",
       "20               Driven    401\n",
       "3   Attention to Detail    343\n",
       "0       Problem-Solving    286\n",
       "25             Creative    279\n",
       "24          Flexibility    267\n",
       "21           Determined    250\n",
       "16             Teamwork    148\n",
       "15      Problem Solving    140\n",
       "8       Time Management    103\n",
       "26           Creativity     97\n",
       "10  Continuous Learning     94\n",
       "22       Self-Motivated     72\n",
       "1     Critical Thinking     59\n",
       "4          Adaptability     41\n",
       "14       Prioritization     39"
      ]
     },
     "execution_count": 23,
     "metadata": {},
     "output_type": "execute_result"
    }
   ],
   "source": [
    "software_dev_soft_skills = [\n",
    "    \"Problem-Solving\", \"Critical Thinking\", \"Debugging & Troubleshooting\",\n",
    "    \"Attention to Detail\", \"Adaptability\", \"Collaboration & Teamwork\",\n",
    "    \"Communication (Technical & Non-Technical)\", \"Creativity & Innovation\",\n",
    "    \"Time Management\", \"Agile & Scrum Methodologies\", \"Continuous Learning\",\n",
    "    \"Resilience (Handling Bugs & Failures)\", \"Client & Stakeholder Management\",\n",
    "    \"Logical Thinking\", \"Prioritization\", \"Problem Solving\", \"Teamwork\", \"Collaboration\",\n",
    "    \"Self Motivated\", \"Leadership\", \"Driven\", \"Determined\", \"Self-Motivated\", \"Flexible\",\n",
    "    \"Flexibility\", \"Creative\", \"Creativity\", \"Innovative\", \"Communication\"\n",
    "]\n",
    "\n",
    "sd_soft_counts = {\n",
    "    keyword: merged_df['job_description'].str.contains(re.escape(keyword), case=False, na=False).sum()\n",
    "    for keyword in software_dev_soft_skills\n",
    "}\n",
    "\n",
    "sd_soft_df = pd.DataFrame(list(sd_soft_counts.items()), columns=['Keyword', 'Count'])\n",
    "\n",
    "sd_soft_df = sd_soft_df.sort_values(by='Count', ascending=False)\n",
    "sd_soft_df.head(20)"
   ]
  },
  {
   "cell_type": "code",
   "execution_count": 24,
   "id": "cee35d29",
   "metadata": {},
   "outputs": [
    {
     "data": {
      "text/html": [
       "<div>\n",
       "<style scoped>\n",
       "    .dataframe tbody tr th:only-of-type {\n",
       "        vertical-align: middle;\n",
       "    }\n",
       "\n",
       "    .dataframe tbody tr th {\n",
       "        vertical-align: top;\n",
       "    }\n",
       "\n",
       "    .dataframe thead th {\n",
       "        text-align: right;\n",
       "    }\n",
       "</style>\n",
       "<table border=\"1\" class=\"dataframe\">\n",
       "  <thead>\n",
       "    <tr style=\"text-align: right;\">\n",
       "      <th></th>\n",
       "      <th>Keyword</th>\n",
       "      <th>Count</th>\n",
       "    </tr>\n",
       "  </thead>\n",
       "  <tbody>\n",
       "    <tr>\n",
       "      <th>31</th>\n",
       "      <td>Communication</td>\n",
       "      <td>1366</td>\n",
       "    </tr>\n",
       "    <tr>\n",
       "      <th>29</th>\n",
       "      <td>Flexible</td>\n",
       "      <td>817</td>\n",
       "    </tr>\n",
       "    <tr>\n",
       "      <th>28</th>\n",
       "      <td>Leadership</td>\n",
       "      <td>625</td>\n",
       "    </tr>\n",
       "    <tr>\n",
       "      <th>17</th>\n",
       "      <td>Innovative</td>\n",
       "      <td>537</td>\n",
       "    </tr>\n",
       "    <tr>\n",
       "      <th>15</th>\n",
       "      <td>Collaboration</td>\n",
       "      <td>436</td>\n",
       "    </tr>\n",
       "    <tr>\n",
       "      <th>23</th>\n",
       "      <td>Driven</td>\n",
       "      <td>401</td>\n",
       "    </tr>\n",
       "    <tr>\n",
       "      <th>3</th>\n",
       "      <td>Attention to Detail</td>\n",
       "      <td>343</td>\n",
       "    </tr>\n",
       "    <tr>\n",
       "      <th>25</th>\n",
       "      <td>Presentation</td>\n",
       "      <td>323</td>\n",
       "    </tr>\n",
       "    <tr>\n",
       "      <th>2</th>\n",
       "      <td>Problem-Solving</td>\n",
       "      <td>286</td>\n",
       "    </tr>\n",
       "    <tr>\n",
       "      <th>18</th>\n",
       "      <td>Creative</td>\n",
       "      <td>279</td>\n",
       "    </tr>\n",
       "    <tr>\n",
       "      <th>21</th>\n",
       "      <td>Visual</td>\n",
       "      <td>277</td>\n",
       "    </tr>\n",
       "    <tr>\n",
       "      <th>30</th>\n",
       "      <td>Flexibility</td>\n",
       "      <td>267</td>\n",
       "    </tr>\n",
       "    <tr>\n",
       "      <th>24</th>\n",
       "      <td>Determined</td>\n",
       "      <td>250</td>\n",
       "    </tr>\n",
       "    <tr>\n",
       "      <th>16</th>\n",
       "      <td>Teamwork</td>\n",
       "      <td>148</td>\n",
       "    </tr>\n",
       "    <tr>\n",
       "      <th>14</th>\n",
       "      <td>Problem Solving</td>\n",
       "      <td>140</td>\n",
       "    </tr>\n",
       "    <tr>\n",
       "      <th>13</th>\n",
       "      <td>Decision-Making</td>\n",
       "      <td>118</td>\n",
       "    </tr>\n",
       "    <tr>\n",
       "      <th>11</th>\n",
       "      <td>Time Management</td>\n",
       "      <td>103</td>\n",
       "    </tr>\n",
       "    <tr>\n",
       "      <th>19</th>\n",
       "      <td>Creativity</td>\n",
       "      <td>97</td>\n",
       "    </tr>\n",
       "    <tr>\n",
       "      <th>27</th>\n",
       "      <td>Self-Motivated</td>\n",
       "      <td>72</td>\n",
       "    </tr>\n",
       "    <tr>\n",
       "      <th>1</th>\n",
       "      <td>Critical Thinking</td>\n",
       "      <td>59</td>\n",
       "    </tr>\n",
       "  </tbody>\n",
       "</table>\n",
       "</div>"
      ],
      "text/plain": [
       "                Keyword  Count\n",
       "31        Communication   1366\n",
       "29             Flexible    817\n",
       "28           Leadership    625\n",
       "17           Innovative    537\n",
       "15        Collaboration    436\n",
       "23               Driven    401\n",
       "3   Attention to Detail    343\n",
       "25         Presentation    323\n",
       "2       Problem-Solving    286\n",
       "18             Creative    279\n",
       "21               Visual    277\n",
       "30          Flexibility    267\n",
       "24           Determined    250\n",
       "16             Teamwork    148\n",
       "14      Problem Solving    140\n",
       "13      Decision-Making    118\n",
       "11      Time Management    103\n",
       "19           Creativity     97\n",
       "27       Self-Motivated     72\n",
       "1     Critical Thinking     59"
      ]
     },
     "execution_count": 24,
     "metadata": {},
     "output_type": "execute_result"
    }
   ],
   "source": [
    "data_analytics_soft_skills = [\n",
    "    \"Analytical Thinking\", \"Critical Thinking\", \"Problem-Solving\",\n",
    "    \"Attention to Detail\", \"Storytelling with Data\", \"Business Acumen\",\n",
    "    \"Communication & Presentation Skills\", \"Curiosity & Continuous Learning\",\n",
    "    \"Collaboration & Teamwork\", \"Pattern Recognition\", \"Adaptability\",\n",
    "    \"Time Management\", \"Stakeholder Engagement\", \"Decision-Making\",\n",
    "    \"Problem Solving\", \"Collaboration\", \"Teamwork\", \"Innovative\", \"Creative\",\n",
    "    \"Creativity\", \"Storytelling\", \"Visual\", \"Visionary\", \"Driven\", \"Determined\",\n",
    "    \"Presentation\", \"Self Motivated\", \"Self-Motivated\", \"Leadership\", \"Flexible\",\n",
    "    \"Flexibility\", \"Communication\",\n",
    "]\n",
    "\n",
    "da_soft_counts = {\n",
    "    keyword: merged_df['job_description'].str.contains(re.escape(keyword), case=False, na=False).sum()\n",
    "    for keyword in data_analytics_soft_skills\n",
    "}\n",
    "\n",
    "da_soft_df = pd.DataFrame(list(da_soft_counts.items()), columns=['Keyword', 'Count'])\n",
    "\n",
    "da_soft_df = da_soft_df.sort_values(by='Count', ascending=False)\n",
    "da_soft_df.head(20)"
   ]
  },
  {
   "cell_type": "code",
   "execution_count": null,
   "id": "44f73a2f",
   "metadata": {},
   "outputs": [],
   "source": []
  },
  {
   "cell_type": "code",
   "execution_count": 25,
   "id": "930d8c84",
   "metadata": {},
   "outputs": [
    {
     "data": {
      "text/html": [
       "<div>\n",
       "<style scoped>\n",
       "    .dataframe tbody tr th:only-of-type {\n",
       "        vertical-align: middle;\n",
       "    }\n",
       "\n",
       "    .dataframe tbody tr th {\n",
       "        vertical-align: top;\n",
       "    }\n",
       "\n",
       "    .dataframe thead th {\n",
       "        text-align: right;\n",
       "    }\n",
       "</style>\n",
       "<table border=\"1\" class=\"dataframe\">\n",
       "  <thead>\n",
       "    <tr style=\"text-align: right;\">\n",
       "      <th></th>\n",
       "      <th>Keyword</th>\n",
       "      <th>Count</th>\n",
       "    </tr>\n",
       "  </thead>\n",
       "  <tbody>\n",
       "    <tr>\n",
       "      <th>31</th>\n",
       "      <td>Communication</td>\n",
       "      <td>1366</td>\n",
       "    </tr>\n",
       "    <tr>\n",
       "      <th>29</th>\n",
       "      <td>Flexible</td>\n",
       "      <td>817</td>\n",
       "    </tr>\n",
       "    <tr>\n",
       "      <th>28</th>\n",
       "      <td>Leadership</td>\n",
       "      <td>625</td>\n",
       "    </tr>\n",
       "    <tr>\n",
       "      <th>17</th>\n",
       "      <td>Innovative</td>\n",
       "      <td>537</td>\n",
       "    </tr>\n",
       "    <tr>\n",
       "      <th>15</th>\n",
       "      <td>Collaboration</td>\n",
       "      <td>436</td>\n",
       "    </tr>\n",
       "    <tr>\n",
       "      <th>23</th>\n",
       "      <td>Driven</td>\n",
       "      <td>401</td>\n",
       "    </tr>\n",
       "    <tr>\n",
       "      <th>25</th>\n",
       "      <td>Presentation</td>\n",
       "      <td>323</td>\n",
       "    </tr>\n",
       "    <tr>\n",
       "      <th>0</th>\n",
       "      <td>Problem-Solving</td>\n",
       "      <td>286</td>\n",
       "    </tr>\n",
       "    <tr>\n",
       "      <th>18</th>\n",
       "      <td>Creative</td>\n",
       "      <td>279</td>\n",
       "    </tr>\n",
       "    <tr>\n",
       "      <th>21</th>\n",
       "      <td>Visual</td>\n",
       "      <td>277</td>\n",
       "    </tr>\n",
       "    <tr>\n",
       "      <th>30</th>\n",
       "      <td>Flexibility</td>\n",
       "      <td>267</td>\n",
       "    </tr>\n",
       "    <tr>\n",
       "      <th>24</th>\n",
       "      <td>Determined</td>\n",
       "      <td>250</td>\n",
       "    </tr>\n",
       "    <tr>\n",
       "      <th>16</th>\n",
       "      <td>Teamwork</td>\n",
       "      <td>148</td>\n",
       "    </tr>\n",
       "    <tr>\n",
       "      <th>14</th>\n",
       "      <td>Problem Solving</td>\n",
       "      <td>140</td>\n",
       "    </tr>\n",
       "    <tr>\n",
       "      <th>10</th>\n",
       "      <td>Time Management</td>\n",
       "      <td>103</td>\n",
       "    </tr>\n",
       "    <tr>\n",
       "      <th>19</th>\n",
       "      <td>Creativity</td>\n",
       "      <td>97</td>\n",
       "    </tr>\n",
       "    <tr>\n",
       "      <th>27</th>\n",
       "      <td>Self-Motivated</td>\n",
       "      <td>72</td>\n",
       "    </tr>\n",
       "    <tr>\n",
       "      <th>7</th>\n",
       "      <td>Critical Thinking</td>\n",
       "      <td>59</td>\n",
       "    </tr>\n",
       "    <tr>\n",
       "      <th>4</th>\n",
       "      <td>Business Acumen</td>\n",
       "      <td>51</td>\n",
       "    </tr>\n",
       "    <tr>\n",
       "      <th>20</th>\n",
       "      <td>Storytelling</td>\n",
       "      <td>34</td>\n",
       "    </tr>\n",
       "  </tbody>\n",
       "</table>\n",
       "</div>"
      ],
      "text/plain": [
       "              Keyword  Count\n",
       "31      Communication   1366\n",
       "29           Flexible    817\n",
       "28         Leadership    625\n",
       "17         Innovative    537\n",
       "15      Collaboration    436\n",
       "23             Driven    401\n",
       "25       Presentation    323\n",
       "0     Problem-Solving    286\n",
       "18           Creative    279\n",
       "21             Visual    277\n",
       "30        Flexibility    267\n",
       "24         Determined    250\n",
       "16           Teamwork    148\n",
       "14    Problem Solving    140\n",
       "10    Time Management    103\n",
       "19         Creativity     97\n",
       "27     Self-Motivated     72\n",
       "7   Critical Thinking     59\n",
       "4     Business Acumen     51\n",
       "20       Storytelling     34"
      ]
     },
     "execution_count": 25,
     "metadata": {},
     "output_type": "execute_result"
    }
   ],
   "source": [
    "data_science_soft_skills = [\n",
    "    \"Problem-Solving\", \"Logical & Analytical Thinking\", \"Experimentation & Research Mindset\",\n",
    "    \"Communication & Storytelling\", \"Business Acumen\", \"Domain Knowledge\",\n",
    "    \"Creativity & Innovation\", \"Critical Thinking\", \"Resilience (Iterating Over Models)\",\n",
    "    \"Curiosity & Continuous Learning\", \"Time Management\",\n",
    "    \"Collaboration with Cross-Functional Teams\", \"Ethical Considerations in AI\",\n",
    "    \"Handling Ambiguity\", \"Problem Solving\", \"Collaboration\", \"Teamwork\", \"Innovative\", \"Creative\",\n",
    "    \"Creativity\", \"Storytelling\", \"Visual\", \"Visionary\", \"Driven\", \"Determined\",\n",
    "    \"Presentation\", \"Self Motivated\", \"Self-Motivated\", \"Leadership\", \"Flexible\",\n",
    "    \"Flexibility\", \"Communication\"\n",
    "]\n",
    "\n",
    "ds_soft_counts = {\n",
    "    keyword: merged_df['job_description'].str.contains(re.escape(keyword), case=False, na=False).sum()\n",
    "    for keyword in data_science_soft_skills\n",
    "}\n",
    "\n",
    "ds_soft_df = pd.DataFrame(list(ds_soft_counts.items()), columns=['Keyword', 'Count'])\n",
    "\n",
    "ds_soft_df = ds_soft_df.sort_values(by='Count', ascending=False)\n",
    "ds_soft_df.head(20)"
   ]
  },
  {
   "cell_type": "code",
   "execution_count": 26,
   "id": "61c5ec47",
   "metadata": {},
   "outputs": [],
   "source": [
    "data_science_analytics_skills = list(set(data_analyst_skills + data_scientist_skills))\n",
    "data_science_analytics_job_titles = list(set(data_analyst_job_titles + data_scientist_job_titles))"
   ]
  },
  {
   "cell_type": "code",
   "execution_count": 27,
   "id": "acaa740d",
   "metadata": {},
   "outputs": [],
   "source": [
    "# Count matching skills in job descriptions\n",
    "dsa_keyword_counts = {\n",
    "    keyword: merged_df['job_description'].str.contains(re.escape(keyword), case=False, na=False).sum()\n",
    "    for keyword in data_science_analytics_skills\n",
    "}\n",
    "\n",
    "dsa_keyword_df = pd.DataFrame(list(dsa_keyword_counts.items()), columns=['Keyword', 'Count'])\n",
    "dsa_keyword_df = dsa_keyword_df.sort_values(by='Count', ascending=False)\n"
   ]
  },
  {
   "cell_type": "code",
   "execution_count": 28,
   "id": "aeb4f84a",
   "metadata": {},
   "outputs": [],
   "source": [
    "data_science_analytics_soft_skills = list(set(data_analytics_soft_skills + data_science_soft_skills))\n",
    "\n",
    "dsa_soft_counts = {\n",
    "    keyword: merged_df['job_description'].str.contains(re.escape(keyword), case=False, na=False).sum()\n",
    "    for keyword in data_science_analytics_soft_skills\n",
    "}\n",
    "\n",
    "dsa_soft_df = pd.DataFrame(list(dsa_soft_counts.items()), columns=['Keyword', 'Count'])\n",
    "dsa_soft_df = dsa_soft_df.sort_values(by='Count', ascending=False)\n"
   ]
  },
  {
   "cell_type": "code",
   "execution_count": 29,
   "id": "2dd8b56a",
   "metadata": {},
   "outputs": [
    {
     "name": "stderr",
     "output_type": "stream",
     "text": [
      "/var/folders/0_/31jtytdd6cnfrpb7n67kffhw0000gn/T/ipykernel_13968/2051979065.py:28: UserWarning:\n",
      "\n",
      "This pattern is interpreted as a regular expression, and has match groups. To actually get the groups, use str.extract.\n",
      "\n"
     ]
    },
    {
     "name": "stdout",
     "output_type": "stream",
     "text": [
      "\n",
      "Top Project Management Skills in Data Science & Analytics (Filtered by Job Title):\n"
     ]
    },
    {
     "data": {
      "text/html": [
       "<div>\n",
       "<style scoped>\n",
       "    .dataframe tbody tr th:only-of-type {\n",
       "        vertical-align: middle;\n",
       "    }\n",
       "\n",
       "    .dataframe tbody tr th {\n",
       "        vertical-align: top;\n",
       "    }\n",
       "\n",
       "    .dataframe thead th {\n",
       "        text-align: right;\n",
       "    }\n",
       "</style>\n",
       "<table border=\"1\" class=\"dataframe\">\n",
       "  <thead>\n",
       "    <tr style=\"text-align: right;\">\n",
       "      <th></th>\n",
       "      <th>Keyword</th>\n",
       "      <th>Count</th>\n",
       "    </tr>\n",
       "  </thead>\n",
       "  <tbody>\n",
       "    <tr>\n",
       "      <th>0</th>\n",
       "      <td>Agile</td>\n",
       "      <td>52</td>\n",
       "    </tr>\n",
       "    <tr>\n",
       "      <th>10</th>\n",
       "      <td>Data Governance</td>\n",
       "      <td>27</td>\n",
       "    </tr>\n",
       "    <tr>\n",
       "      <th>1</th>\n",
       "      <td>Scrum</td>\n",
       "      <td>16</td>\n",
       "    </tr>\n",
       "    <tr>\n",
       "      <th>11</th>\n",
       "      <td>Business Requirements</td>\n",
       "      <td>15</td>\n",
       "    </tr>\n",
       "    <tr>\n",
       "      <th>3</th>\n",
       "      <td>Jira</td>\n",
       "      <td>12</td>\n",
       "    </tr>\n",
       "    <tr>\n",
       "      <th>6</th>\n",
       "      <td>Kanban</td>\n",
       "      <td>10</td>\n",
       "    </tr>\n",
       "    <tr>\n",
       "      <th>13</th>\n",
       "      <td>Risk Management</td>\n",
       "      <td>9</td>\n",
       "    </tr>\n",
       "    <tr>\n",
       "      <th>2</th>\n",
       "      <td>Waterfall</td>\n",
       "      <td>9</td>\n",
       "    </tr>\n",
       "    <tr>\n",
       "      <th>5</th>\n",
       "      <td>Trello</td>\n",
       "      <td>8</td>\n",
       "    </tr>\n",
       "    <tr>\n",
       "      <th>9</th>\n",
       "      <td>Project Lifecycle</td>\n",
       "      <td>4</td>\n",
       "    </tr>\n",
       "    <tr>\n",
       "      <th>7</th>\n",
       "      <td>Sprint Planning</td>\n",
       "      <td>2</td>\n",
       "    </tr>\n",
       "    <tr>\n",
       "      <th>16</th>\n",
       "      <td>Stand-ups</td>\n",
       "      <td>2</td>\n",
       "    </tr>\n",
       "    <tr>\n",
       "      <th>8</th>\n",
       "      <td>Stakeholder Communication</td>\n",
       "      <td>1</td>\n",
       "    </tr>\n",
       "    <tr>\n",
       "      <th>4</th>\n",
       "      <td>Confluence</td>\n",
       "      <td>1</td>\n",
       "    </tr>\n",
       "    <tr>\n",
       "      <th>12</th>\n",
       "      <td>Gantt Charts</td>\n",
       "      <td>0</td>\n",
       "    </tr>\n",
       "    <tr>\n",
       "      <th>14</th>\n",
       "      <td>Time Estimation</td>\n",
       "      <td>0</td>\n",
       "    </tr>\n",
       "    <tr>\n",
       "      <th>15</th>\n",
       "      <td>Product Backlog</td>\n",
       "      <td>0</td>\n",
       "    </tr>\n",
       "    <tr>\n",
       "      <th>17</th>\n",
       "      <td>Milestone Tracking</td>\n",
       "      <td>0</td>\n",
       "    </tr>\n",
       "    <tr>\n",
       "      <th>18</th>\n",
       "      <td>OKRs</td>\n",
       "      <td>0</td>\n",
       "    </tr>\n",
       "    <tr>\n",
       "      <th>19</th>\n",
       "      <td>Roadmapping</td>\n",
       "      <td>0</td>\n",
       "    </tr>\n",
       "  </tbody>\n",
       "</table>\n",
       "</div>"
      ],
      "text/plain": [
       "                      Keyword  Count\n",
       "0                       Agile     52\n",
       "10            Data Governance     27\n",
       "1                       Scrum     16\n",
       "11      Business Requirements     15\n",
       "3                        Jira     12\n",
       "6                      Kanban     10\n",
       "13            Risk Management      9\n",
       "2                   Waterfall      9\n",
       "5                      Trello      8\n",
       "9           Project Lifecycle      4\n",
       "7             Sprint Planning      2\n",
       "16                  Stand-ups      2\n",
       "8   Stakeholder Communication      1\n",
       "4                  Confluence      1\n",
       "12               Gantt Charts      0\n",
       "14            Time Estimation      0\n",
       "15            Product Backlog      0\n",
       "17         Milestone Tracking      0\n",
       "18                       OKRs      0\n",
       "19                Roadmapping      0"
      ]
     },
     "metadata": {},
     "output_type": "display_data"
    }
   ],
   "source": [
    "# define DSA Project Management Skills\n",
    "dsa_pm_skills = [\n",
    "    \"Agile\",\n",
    "    \"Scrum\",\n",
    "    \"Waterfall\",\n",
    "    \"Jira\",\n",
    "    \"Confluence\",\n",
    "    \"Trello\",\n",
    "    \"Kanban\",\n",
    "    \"Sprint Planning\",\n",
    "    \"Stakeholder Communication\",\n",
    "    \"Project Lifecycle\",\n",
    "    \"Data Governance\",\n",
    "    \"Business Requirements\",\n",
    "    \"Gantt Charts\",\n",
    "    \"Risk Management\",\n",
    "    \"Time Estimation\",\n",
    "    \"Product Backlog\",\n",
    "    \"Stand-ups\",\n",
    "    \"Milestone Tracking\",\n",
    "    \"OKRs\",\n",
    "    \"Roadmapping\",\n",
    "    \"Agile Ceremonies\"\n",
    "]\n",
    "\n",
    "# filter merged_df for DSA-related job titles\n",
    "dsa_filtered_df = merged_df[\n",
    "    merged_df['job_title'].str.contains('|'.join(data_science_analytics_job_titles), case=False, na=False)\n",
    "]\n",
    "\n",
    "# count PM skill mentions in job descriptions from the filtered DSA jobs\n",
    "dsa_pm_counts = {\n",
    "    keyword: dsa_filtered_df['job_description'].str.contains(re.escape(keyword), case=False, na=False).sum()\n",
    "    for keyword in dsa_pm_skills\n",
    "}\n",
    "\n",
    "# convert to DataFrame and sort\n",
    "dsa_pm_df = pd.DataFrame(list(dsa_pm_counts.items()), columns=['Keyword', 'Count'])\n",
    "dsa_pm_df = dsa_pm_df.sort_values(by='Count', ascending=False)\n",
    "\n",
    "# display results\n",
    "print(\"\\nTop Project Management Skills in Data Science & Analytics (Filtered by Job Title):\")\n",
    "display(dsa_pm_df.head(20))"
   ]
  },
  {
   "cell_type": "code",
   "execution_count": 30,
   "id": "36dee86d",
   "metadata": {},
   "outputs": [
    {
     "data": {
      "text/html": [
       "<div>\n",
       "<style scoped>\n",
       "    .dataframe tbody tr th:only-of-type {\n",
       "        vertical-align: middle;\n",
       "    }\n",
       "\n",
       "    .dataframe tbody tr th {\n",
       "        vertical-align: top;\n",
       "    }\n",
       "\n",
       "    .dataframe thead th {\n",
       "        text-align: right;\n",
       "    }\n",
       "</style>\n",
       "<table border=\"1\" class=\"dataframe\">\n",
       "  <thead>\n",
       "    <tr style=\"text-align: right;\">\n",
       "      <th></th>\n",
       "      <th>Keyword</th>\n",
       "      <th>Count</th>\n",
       "    </tr>\n",
       "  </thead>\n",
       "  <tbody>\n",
       "    <tr>\n",
       "      <th>31</th>\n",
       "      <td>Communication</td>\n",
       "      <td>1366</td>\n",
       "    </tr>\n",
       "    <tr>\n",
       "      <th>29</th>\n",
       "      <td>Flexible</td>\n",
       "      <td>817</td>\n",
       "    </tr>\n",
       "    <tr>\n",
       "      <th>28</th>\n",
       "      <td>Leadership</td>\n",
       "      <td>625</td>\n",
       "    </tr>\n",
       "    <tr>\n",
       "      <th>17</th>\n",
       "      <td>Innovative</td>\n",
       "      <td>537</td>\n",
       "    </tr>\n",
       "    <tr>\n",
       "      <th>15</th>\n",
       "      <td>Collaboration</td>\n",
       "      <td>436</td>\n",
       "    </tr>\n",
       "    <tr>\n",
       "      <th>23</th>\n",
       "      <td>Driven</td>\n",
       "      <td>401</td>\n",
       "    </tr>\n",
       "    <tr>\n",
       "      <th>4</th>\n",
       "      <td>Attention to Detail</td>\n",
       "      <td>343</td>\n",
       "    </tr>\n",
       "    <tr>\n",
       "      <th>25</th>\n",
       "      <td>Presentation</td>\n",
       "      <td>323</td>\n",
       "    </tr>\n",
       "    <tr>\n",
       "      <th>10</th>\n",
       "      <td>Project Management</td>\n",
       "      <td>292</td>\n",
       "    </tr>\n",
       "    <tr>\n",
       "      <th>5</th>\n",
       "      <td>Problem-Solving</td>\n",
       "      <td>286</td>\n",
       "    </tr>\n",
       "    <tr>\n",
       "      <th>18</th>\n",
       "      <td>Creative</td>\n",
       "      <td>279</td>\n",
       "    </tr>\n",
       "    <tr>\n",
       "      <th>21</th>\n",
       "      <td>Visual</td>\n",
       "      <td>277</td>\n",
       "    </tr>\n",
       "    <tr>\n",
       "      <th>30</th>\n",
       "      <td>Flexibility</td>\n",
       "      <td>267</td>\n",
       "    </tr>\n",
       "    <tr>\n",
       "      <th>24</th>\n",
       "      <td>Determined</td>\n",
       "      <td>250</td>\n",
       "    </tr>\n",
       "    <tr>\n",
       "      <th>16</th>\n",
       "      <td>Teamwork</td>\n",
       "      <td>148</td>\n",
       "    </tr>\n",
       "    <tr>\n",
       "      <th>14</th>\n",
       "      <td>Problem Solving</td>\n",
       "      <td>140</td>\n",
       "    </tr>\n",
       "    <tr>\n",
       "      <th>6</th>\n",
       "      <td>Decision-Making</td>\n",
       "      <td>118</td>\n",
       "    </tr>\n",
       "    <tr>\n",
       "      <th>8</th>\n",
       "      <td>Time Management</td>\n",
       "      <td>103</td>\n",
       "    </tr>\n",
       "    <tr>\n",
       "      <th>19</th>\n",
       "      <td>Creativity</td>\n",
       "      <td>97</td>\n",
       "    </tr>\n",
       "    <tr>\n",
       "      <th>27</th>\n",
       "      <td>Self-Motivated</td>\n",
       "      <td>72</td>\n",
       "    </tr>\n",
       "  </tbody>\n",
       "</table>\n",
       "</div>"
      ],
      "text/plain": [
       "                Keyword  Count\n",
       "31        Communication   1366\n",
       "29             Flexible    817\n",
       "28           Leadership    625\n",
       "17           Innovative    537\n",
       "15        Collaboration    436\n",
       "23               Driven    401\n",
       "4   Attention to Detail    343\n",
       "25         Presentation    323\n",
       "10   Project Management    292\n",
       "5       Problem-Solving    286\n",
       "18             Creative    279\n",
       "21               Visual    277\n",
       "30          Flexibility    267\n",
       "24           Determined    250\n",
       "16             Teamwork    148\n",
       "14      Problem Solving    140\n",
       "6       Decision-Making    118\n",
       "8       Time Management    103\n",
       "19           Creativity     97\n",
       "27       Self-Motivated     72"
      ]
     },
     "execution_count": 30,
     "metadata": {},
     "output_type": "execute_result"
    }
   ],
   "source": [
    "enterprise_systems_soft_skills = [\n",
    "    \"Systems Thinking\", \"Business Process Understanding\", \"Stakeholder Management\",\n",
    "    \"Communication & Collaboration\", \"Attention to Detail\", \"Problem-Solving\",\n",
    "    \"Decision-Making\", \"Documentation & Reporting\", \"Time Management\",\n",
    "    \"Adaptability to Change (New ERPs & Software)\", \"Project Management\",\n",
    "    \"Conflict Resolution\", \"IT Governance & Compliance Awareness\", \"Change Management\",\n",
    "    \"Problem Solving\", \"Collaboration\", \"Teamwork\", \"Innovative\", \"Creative\",\n",
    "    \"Creativity\", \"Storytelling\", \"Visual\", \"Visionary\", \"Driven\", \"Determined\",\n",
    "    \"Presentation\", \"Self Motivated\", \"Self-Motivated\", \"Leadership\", \"Flexible\",\n",
    "    \"Flexibility\", \"Communication\"\n",
    "]\n",
    "\n",
    "es_soft_counts = {\n",
    "    keyword: merged_df['job_description'].str.contains(re.escape(keyword), case=False, na=False).sum()\n",
    "    for keyword in enterprise_systems_soft_skills\n",
    "}\n",
    "\n",
    "es_soft_df = pd.DataFrame(list(es_soft_counts.items()), columns=['Keyword', 'Count'])\n",
    "\n",
    "es_soft_df = es_soft_df.sort_values(by='Count', ascending=False)\n",
    "es_soft_df.head(20)\n",
    "\n",
    "\n"
   ]
  },
  {
   "cell_type": "code",
   "execution_count": 31,
   "id": "8ff2cef5",
   "metadata": {},
   "outputs": [
    {
     "data": {
      "text/html": [
       "<div>\n",
       "<style scoped>\n",
       "    .dataframe tbody tr th:only-of-type {\n",
       "        vertical-align: middle;\n",
       "    }\n",
       "\n",
       "    .dataframe tbody tr th {\n",
       "        vertical-align: top;\n",
       "    }\n",
       "\n",
       "    .dataframe thead th {\n",
       "        text-align: right;\n",
       "    }\n",
       "</style>\n",
       "<table border=\"1\" class=\"dataframe\">\n",
       "  <thead>\n",
       "    <tr style=\"text-align: right;\">\n",
       "      <th></th>\n",
       "      <th>Keyword</th>\n",
       "      <th>Count</th>\n",
       "    </tr>\n",
       "  </thead>\n",
       "  <tbody>\n",
       "    <tr>\n",
       "      <th>17</th>\n",
       "      <td>Communication</td>\n",
       "      <td>1366</td>\n",
       "    </tr>\n",
       "    <tr>\n",
       "      <th>18</th>\n",
       "      <td>Leadership</td>\n",
       "      <td>625</td>\n",
       "    </tr>\n",
       "    <tr>\n",
       "      <th>16</th>\n",
       "      <td>Innovative</td>\n",
       "      <td>537</td>\n",
       "    </tr>\n",
       "    <tr>\n",
       "      <th>22</th>\n",
       "      <td>Collaboration</td>\n",
       "      <td>436</td>\n",
       "    </tr>\n",
       "    <tr>\n",
       "      <th>2</th>\n",
       "      <td>Attention to Detail</td>\n",
       "      <td>343</td>\n",
       "    </tr>\n",
       "    <tr>\n",
       "      <th>25</th>\n",
       "      <td>Integrity</td>\n",
       "      <td>302</td>\n",
       "    </tr>\n",
       "    <tr>\n",
       "      <th>4</th>\n",
       "      <td>Problem-Solving</td>\n",
       "      <td>286</td>\n",
       "    </tr>\n",
       "    <tr>\n",
       "      <th>20</th>\n",
       "      <td>Flexibility</td>\n",
       "      <td>267</td>\n",
       "    </tr>\n",
       "    <tr>\n",
       "      <th>15</th>\n",
       "      <td>Problem Solving</td>\n",
       "      <td>140</td>\n",
       "    </tr>\n",
       "    <tr>\n",
       "      <th>19</th>\n",
       "      <td>Awareness</td>\n",
       "      <td>123</td>\n",
       "    </tr>\n",
       "    <tr>\n",
       "      <th>14</th>\n",
       "      <td>Ethical</td>\n",
       "      <td>92</td>\n",
       "    </tr>\n",
       "    <tr>\n",
       "      <th>26</th>\n",
       "      <td>Honest</td>\n",
       "      <td>83</td>\n",
       "    </tr>\n",
       "    <tr>\n",
       "      <th>0</th>\n",
       "      <td>Critical Thinking</td>\n",
       "      <td>59</td>\n",
       "    </tr>\n",
       "    <tr>\n",
       "      <th>21</th>\n",
       "      <td>Adaptability</td>\n",
       "      <td>41</td>\n",
       "    </tr>\n",
       "    <tr>\n",
       "      <th>24</th>\n",
       "      <td>Risk Assessment</td>\n",
       "      <td>41</td>\n",
       "    </tr>\n",
       "    <tr>\n",
       "      <th>27</th>\n",
       "      <td>Honesty</td>\n",
       "      <td>39</td>\n",
       "    </tr>\n",
       "    <tr>\n",
       "      <th>23</th>\n",
       "      <td>Works well under pressure</td>\n",
       "      <td>2</td>\n",
       "    </tr>\n",
       "    <tr>\n",
       "      <th>13</th>\n",
       "      <td>Awareness of Compliance &amp; Regulations</td>\n",
       "      <td>0</td>\n",
       "    </tr>\n",
       "    <tr>\n",
       "      <th>1</th>\n",
       "      <td>Risk Assessment &amp; Decision-Making</td>\n",
       "      <td>0</td>\n",
       "    </tr>\n",
       "    <tr>\n",
       "      <th>12</th>\n",
       "      <td>Confidentiality &amp; Discretion</td>\n",
       "      <td>0</td>\n",
       "    </tr>\n",
       "  </tbody>\n",
       "</table>\n",
       "</div>"
      ],
      "text/plain": [
       "                                  Keyword  Count\n",
       "17                          Communication   1366\n",
       "18                             Leadership    625\n",
       "16                             Innovative    537\n",
       "22                          Collaboration    436\n",
       "2                     Attention to Detail    343\n",
       "25                              Integrity    302\n",
       "4                         Problem-Solving    286\n",
       "20                            Flexibility    267\n",
       "15                        Problem Solving    140\n",
       "19                              Awareness    123\n",
       "14                                Ethical     92\n",
       "26                                 Honest     83\n",
       "0                       Critical Thinking     59\n",
       "21                           Adaptability     41\n",
       "24                        Risk Assessment     41\n",
       "27                                Honesty     39\n",
       "23              Works well under pressure      2\n",
       "13  Awareness of Compliance & Regulations      0\n",
       "1       Risk Assessment & Decision-Making      0\n",
       "12           Confidentiality & Discretion      0"
      ]
     },
     "execution_count": 31,
     "metadata": {},
     "output_type": "execute_result"
    }
   ],
   "source": [
    "systems_security_soft_skills = [\n",
    "    \"Critical Thinking\", \"Risk Assessment & Decision-Making\", \"Attention to Detail\",\n",
    "    \"Ethical Judgment & Integrity\", \"Problem-Solving\",\n",
    "    \"Communication (Explaining Security Risks Clearly)\", \"Adaptability (Handling New Threats)\",\n",
    "    \"Resilience (Handling Incidents & Breaches)\", \"Teamwork & Collaboration\",\n",
    "    \"Incident Response Under Pressure\", \"Continuous Learning & Curiosity\",\n",
    "    \"Documentation & Reporting\", \"Confidentiality & Discretion\",\n",
    "    \"Awareness of Compliance & Regulations\", \"Ethical\", \"Problem Solving\", \"Innovative\", \"Communication\",\n",
    "    \"Leadership\", \"Awareness\", \"Flexibility\", \"Adaptability\", \"Collaboration\", \"Works well under pressure\",\n",
    "    \"Risk Assessment\", \"Integrity\", \"Honest\", \"Honesty\"\n",
    "]\n",
    "\n",
    "ss_soft_counts = {\n",
    "    keyword: merged_df['job_description'].str.contains(re.escape(keyword), case=False, na=False).sum()\n",
    "    for keyword in systems_security_soft_skills\n",
    "}\n",
    "\n",
    "ss_soft_df = pd.DataFrame(list(ss_soft_counts.items()), columns=['Keyword', 'Count'])\n",
    "\n",
    "ss_soft_df = ss_soft_df.sort_values(by='Count', ascending=False)\n",
    "ss_soft_df.head(20)\n"
   ]
  },
  {
   "cell_type": "code",
   "execution_count": 32,
   "id": "37bea6a1",
   "metadata": {},
   "outputs": [
    {
     "data": {
      "text/html": [
       "<div>\n",
       "<style scoped>\n",
       "    .dataframe tbody tr th:only-of-type {\n",
       "        vertical-align: middle;\n",
       "    }\n",
       "\n",
       "    .dataframe tbody tr th {\n",
       "        vertical-align: top;\n",
       "    }\n",
       "\n",
       "    .dataframe thead th {\n",
       "        text-align: right;\n",
       "    }\n",
       "</style>\n",
       "<table border=\"1\" class=\"dataframe\">\n",
       "  <thead>\n",
       "    <tr style=\"text-align: right;\">\n",
       "      <th></th>\n",
       "      <th>Keyword</th>\n",
       "      <th>Count</th>\n",
       "    </tr>\n",
       "  </thead>\n",
       "  <tbody>\n",
       "    <tr>\n",
       "      <th>16</th>\n",
       "      <td>Collaboration</td>\n",
       "      <td>436</td>\n",
       "    </tr>\n",
       "    <tr>\n",
       "      <th>4</th>\n",
       "      <td>Attention to Detail</td>\n",
       "      <td>343</td>\n",
       "    </tr>\n",
       "    <tr>\n",
       "      <th>12</th>\n",
       "      <td>Project Management</td>\n",
       "      <td>292</td>\n",
       "    </tr>\n",
       "    <tr>\n",
       "      <th>11</th>\n",
       "      <td>Problem-Solving</td>\n",
       "      <td>286</td>\n",
       "    </tr>\n",
       "    <tr>\n",
       "      <th>21</th>\n",
       "      <td>Creative</td>\n",
       "      <td>279</td>\n",
       "    </tr>\n",
       "    <tr>\n",
       "      <th>17</th>\n",
       "      <td>Teamwork</td>\n",
       "      <td>148</td>\n",
       "    </tr>\n",
       "    <tr>\n",
       "      <th>15</th>\n",
       "      <td>Creativity</td>\n",
       "      <td>97</td>\n",
       "    </tr>\n",
       "    <tr>\n",
       "      <th>19</th>\n",
       "      <td>Self-Motivated</td>\n",
       "      <td>72</td>\n",
       "    </tr>\n",
       "    <tr>\n",
       "      <th>14</th>\n",
       "      <td>Decision Making</td>\n",
       "      <td>64</td>\n",
       "    </tr>\n",
       "    <tr>\n",
       "      <th>18</th>\n",
       "      <td>Inspired</td>\n",
       "      <td>35</td>\n",
       "    </tr>\n",
       "    <tr>\n",
       "      <th>20</th>\n",
       "      <td>Insightful</td>\n",
       "      <td>11</td>\n",
       "    </tr>\n",
       "    <tr>\n",
       "      <th>5</th>\n",
       "      <td>Adaptability to Trends &amp; Platforms</td>\n",
       "      <td>0</td>\n",
       "    </tr>\n",
       "    <tr>\n",
       "      <th>2</th>\n",
       "      <td>Communication &amp; Branding</td>\n",
       "      <td>0</td>\n",
       "    </tr>\n",
       "    <tr>\n",
       "      <th>13</th>\n",
       "      <td>Data-Driven Decision-Making (SEO, Social Media...</td>\n",
       "      <td>0</td>\n",
       "    </tr>\n",
       "    <tr>\n",
       "      <th>6</th>\n",
       "      <td>Collaboration &amp; Teamwork</td>\n",
       "      <td>0</td>\n",
       "    </tr>\n",
       "    <tr>\n",
       "      <th>3</th>\n",
       "      <td>Visual Thinking</td>\n",
       "      <td>0</td>\n",
       "    </tr>\n",
       "    <tr>\n",
       "      <th>1</th>\n",
       "      <td>Storytelling &amp; Narrative Skills</td>\n",
       "      <td>0</td>\n",
       "    </tr>\n",
       "    <tr>\n",
       "      <th>10</th>\n",
       "      <td>Persuasion &amp; Marketing Insight</td>\n",
       "      <td>0</td>\n",
       "    </tr>\n",
       "    <tr>\n",
       "      <th>9</th>\n",
       "      <td>Emotional Intelligence (Understanding Audience...</td>\n",
       "      <td>0</td>\n",
       "    </tr>\n",
       "    <tr>\n",
       "      <th>8</th>\n",
       "      <td>Time Management &amp; Deadlines</td>\n",
       "      <td>0</td>\n",
       "    </tr>\n",
       "  </tbody>\n",
       "</table>\n",
       "</div>"
      ],
      "text/plain": [
       "                                              Keyword  Count\n",
       "16                                      Collaboration    436\n",
       "4                                 Attention to Detail    343\n",
       "12                                 Project Management    292\n",
       "11                                    Problem-Solving    286\n",
       "21                                           Creative    279\n",
       "17                                           Teamwork    148\n",
       "15                                         Creativity     97\n",
       "19                                     Self-Motivated     72\n",
       "14                                    Decision Making     64\n",
       "18                                           Inspired     35\n",
       "20                                         Insightful     11\n",
       "5                  Adaptability to Trends & Platforms      0\n",
       "2                            Communication & Branding      0\n",
       "13  Data-Driven Decision-Making (SEO, Social Media...      0\n",
       "6                            Collaboration & Teamwork      0\n",
       "3                                     Visual Thinking      0\n",
       "1                     Storytelling & Narrative Skills      0\n",
       "10                     Persuasion & Marketing Insight      0\n",
       "9   Emotional Intelligence (Understanding Audience...      0\n",
       "8                         Time Management & Deadlines      0"
      ]
     },
     "execution_count": 32,
     "metadata": {},
     "output_type": "execute_result"
    }
   ],
   "source": [
    "digital_media_soft_skills = [\n",
    "    \"Creativity & Innovation\", \"Storytelling & Narrative Skills\", \"Communication & Branding\",\n",
    "    \"Visual Thinking\", \"Attention to Detail\", \"Adaptability to Trends & Platforms\",\n",
    "    \"Collaboration & Teamwork\", \"Client & Stakeholder Management\",\n",
    "    \"Time Management & Deadlines\", \"Emotional Intelligence (Understanding Audience Needs)\",\n",
    "    \"Persuasion & Marketing Insight\", \"Problem-Solving\", \"Project Management\",\n",
    "    \"Data-Driven Decision-Making (SEO, Social Media Analytics)\", \"Decision Making\", \"Creativity\",\n",
    "    \"Collaboration\", \"Teamwork\", \"Inspired\", \"Self-Motivated\", \"Insightful\", \"Creative\"\n",
    "]\n",
    "\n",
    "dm_soft_counts = {\n",
    "    keyword: merged_df['job_description'].str.contains(re.escape(keyword), case=False, na=False).sum()\n",
    "    for keyword in digital_media_soft_skills\n",
    "}\n",
    "\n",
    "dm_soft_df = pd.DataFrame(list(dm_soft_counts.items()), columns=['Keyword', 'Count'])\n",
    "\n",
    "dm_soft_df = dm_soft_df.sort_values(by='Count', ascending=False)\n",
    "dm_soft_df.head(20)"
   ]
  },
  {
   "cell_type": "code",
   "execution_count": 33,
   "id": "d2b3caf3",
   "metadata": {},
   "outputs": [
    {
     "data": {
      "application/vnd.plotly.v1+json": {
       "config": {
        "plotlyServerURL": "https://plot.ly"
       },
       "data": [
        {
         "branchvalues": "total",
         "customdata": [
          [
           "Digital Media"
          ],
          [
           "Data Science & Analytics"
          ],
          [
           "System and Security"
          ],
          [
           "Enterprise Systems"
          ],
          [
           "Data Science & Analytics"
          ],
          [
           "Digital Media"
          ],
          [
           "Enterprise Systems"
          ],
          [
           "Software Development"
          ],
          [
           "System and Security"
          ],
          [
           "Data Science & Analytics"
          ],
          [
           "Digital Media"
          ],
          [
           "Software Development"
          ],
          [
           "Data Science & Analytics"
          ],
          [
           "Data Science & Analytics"
          ],
          [
           "Enterprise Systems"
          ],
          [
           "Software Development"
          ],
          [
           "System and Security"
          ],
          [
           "Digital Media"
          ],
          [
           "Enterprise Systems"
          ],
          [
           "Data Science & Analytics"
          ],
          [
           "Data Science & Analytics"
          ],
          [
           "System and Security"
          ],
          [
           "Software Development"
          ],
          [
           "Digital Media"
          ],
          [
           "System and Security"
          ],
          [
           "System and Security"
          ],
          [
           "System and Security"
          ],
          [
           "Software Development"
          ],
          [
           "Enterprise Systems"
          ],
          [
           "Data Science & Analytics"
          ],
          [
           "Digital Media"
          ],
          [
           "Software Development"
          ],
          [
           "Data Science & Analytics"
          ],
          [
           "Data Science & Analytics"
          ],
          [
           "Digital Media"
          ],
          [
           "Data Science & Analytics"
          ],
          [
           "Enterprise Systems"
          ],
          [
           "Digital Media"
          ],
          [
           "Digital Media"
          ],
          [
           "System and Security"
          ],
          [
           "System and Security"
          ],
          [
           "Software Development"
          ],
          [
           "Data Science & Analytics"
          ],
          [
           "Enterprise Systems"
          ],
          [
           "Digital Media"
          ],
          [
           "Enterprise Systems"
          ],
          [
           "Digital Media"
          ],
          [
           "Data Science & Analytics"
          ],
          [
           "Digital Media"
          ],
          [
           "Software Development"
          ],
          [
           "Software Development"
          ],
          [
           "System and Security"
          ],
          [
           "Data Science & Analytics"
          ],
          [
           "Digital Media"
          ],
          [
           "System and Security"
          ],
          [
           "System and Security"
          ],
          [
           "Digital Media"
          ],
          [
           "Software Development"
          ],
          [
           "Data Science & Analytics"
          ],
          [
           "Software Development"
          ],
          [
           "System and Security"
          ],
          [
           "System and Security"
          ],
          [
           "System and Security"
          ],
          [
           "Data Science & Analytics"
          ],
          [
           "System and Security"
          ],
          [
           "System and Security"
          ],
          [
           "Software Development"
          ],
          [
           "Data Science & Analytics"
          ],
          [
           "Data Science & Analytics"
          ],
          [
           "Enterprise Systems"
          ],
          [
           "System and Security"
          ],
          [
           "Data Science & Analytics"
          ],
          [
           "Data Science & Analytics"
          ],
          [
           "Data Science & Analytics"
          ],
          [
           "Data Science & Analytics"
          ],
          [
           "Enterprise Systems"
          ],
          [
           "Data Science & Analytics"
          ],
          [
           "System and Security"
          ],
          [
           "Software Development"
          ],
          [
           "Data Science & Analytics"
          ],
          [
           "Software Development"
          ],
          [
           "Enterprise Systems"
          ],
          [
           "Data Science & Analytics"
          ],
          [
           "System and Security"
          ],
          [
           "Software Development"
          ],
          [
           "System and Security"
          ],
          [
           "Enterprise Systems"
          ],
          [
           "System and Security"
          ],
          [
           "Digital Media"
          ],
          [
           "Digital Media"
          ],
          [
           "Digital Media"
          ],
          [
           "Digital Media"
          ],
          [
           "Enterprise Systems"
          ],
          [
           "Enterprise Systems"
          ],
          [
           "System and Security"
          ],
          [
           "Software Development"
          ],
          [
           "Digital Media"
          ],
          [
           "Data Science & Analytics"
          ],
          [
           "Digital Media"
          ],
          [
           "Data Science & Analytics"
          ],
          [
           "Digital Media"
          ],
          [
           "Enterprise Systems"
          ],
          [
           "Software Development"
          ],
          [
           "Digital Media"
          ],
          [
           "Digital Media"
          ],
          [
           "Digital Media"
          ],
          [
           "Data Science & Analytics"
          ],
          [
           "System and Security"
          ],
          [
           "Data Science & Analytics"
          ],
          [
           "Data Science & Analytics"
          ],
          [
           "Data Science & Analytics"
          ],
          [
           "System and Security"
          ],
          [
           "System and Security"
          ],
          [
           "System and Security"
          ],
          [
           "Digital Media"
          ],
          [
           "Enterprise Systems"
          ],
          [
           "Enterprise Systems"
          ],
          [
           "Enterprise Systems"
          ],
          [
           "Enterprise Systems"
          ],
          [
           "Enterprise Systems"
          ],
          [
           "Enterprise Systems"
          ],
          [
           "System and Security"
          ],
          [
           "Data Science & Analytics"
          ],
          [
           "System and Security"
          ],
          [
           "System and Security"
          ],
          [
           "Data Science & Analytics"
          ],
          [
           "Enterprise Systems"
          ],
          [
           "Data Science & Analytics"
          ],
          [
           "System and Security"
          ],
          [
           "Data Science & Analytics"
          ],
          [
           "System and Security"
          ],
          [
           "System and Security"
          ],
          [
           "Software Development"
          ],
          [
           "Digital Media"
          ],
          [
           "Data Science & Analytics"
          ],
          [
           "Data Science & Analytics"
          ],
          [
           "Data Science & Analytics"
          ],
          [
           "System and Security"
          ],
          [
           "Digital Media"
          ],
          [
           "Digital Media"
          ],
          [
           "Digital Media"
          ],
          [
           "Digital Media"
          ],
          [
           "System and Security"
          ],
          [
           "Enterprise Systems"
          ],
          [
           "Software Development"
          ],
          [
           "System and Security"
          ],
          [
           "System and Security"
          ],
          [
           "Digital Media"
          ],
          [
           "Digital Media"
          ],
          [
           "Data Science & Analytics"
          ],
          [
           "System and Security"
          ],
          [
           "Software Development"
          ],
          [
           "Data Science & Analytics"
          ],
          [
           "Enterprise Systems"
          ],
          [
           "Software Development"
          ],
          [
           "System and Security"
          ],
          [
           "Digital Media"
          ],
          [
           "System and Security"
          ],
          [
           "Enterprise Systems"
          ],
          [
           "Data Science & Analytics"
          ],
          [
           "Software Development"
          ],
          [
           "System and Security"
          ],
          [
           "System and Security"
          ],
          [
           "Digital Media"
          ],
          [
           "Enterprise Systems"
          ],
          [
           "System and Security"
          ],
          [
           "Software Development"
          ],
          [
           "Enterprise Systems"
          ],
          [
           "Data Science & Analytics"
          ],
          [
           "Data Science & Analytics"
          ],
          [
           "Data Science & Analytics"
          ],
          [
           "Software Development"
          ],
          [
           "System and Security"
          ],
          [
           "Enterprise Systems"
          ],
          [
           "System and Security"
          ],
          [
           "System and Security"
          ],
          [
           "System and Security"
          ],
          [
           "System and Security"
          ],
          [
           "System and Security"
          ],
          [
           "Data Science & Analytics"
          ],
          [
           "Software Development"
          ],
          [
           "Software Development"
          ],
          [
           "Data Science & Analytics"
          ],
          [
           "Data Science & Analytics"
          ],
          [
           "Enterprise Systems"
          ],
          [
           "System and Security"
          ],
          [
           "System and Security"
          ],
          [
           "Software Development"
          ],
          [
           "Data Science & Analytics"
          ],
          [
           "System and Security"
          ],
          [
           "Software Development"
          ],
          [
           "Software Development"
          ],
          [
           "Digital Media"
          ],
          [
           "System and Security"
          ],
          [
           "Software Development"
          ],
          [
           "Data Science & Analytics"
          ],
          [
           "Digital Media"
          ],
          [
           "Digital Media"
          ],
          [
           "Digital Media"
          ],
          [
           "Digital Media"
          ],
          [
           "Digital Media"
          ],
          [
           "Digital Media"
          ],
          [
           "Digital Media"
          ],
          [
           "Enterprise Systems"
          ],
          [
           "Data Science & Analytics"
          ],
          [
           "Digital Media"
          ],
          [
           "System and Security"
          ],
          [
           "Digital Media"
          ],
          [
           "System and Security"
          ],
          [
           "Enterprise Systems"
          ],
          [
           "Data Science & Analytics"
          ],
          [
           "Data Science & Analytics"
          ],
          [
           "Enterprise Systems"
          ],
          [
           "Digital Media"
          ],
          [
           "Data Science & Analytics"
          ],
          [
           "Software Development"
          ],
          [
           "Enterprise Systems"
          ],
          [
           "Software Development"
          ],
          [
           "System and Security"
          ],
          [
           "Software Development"
          ],
          [
           "System and Security"
          ],
          [
           "Digital Media"
          ],
          [
           "Digital Media"
          ],
          [
           "Enterprise Systems"
          ],
          [
           "Data Science & Analytics"
          ],
          [
           "Enterprise Systems"
          ],
          [
           "Data Science & Analytics"
          ],
          [
           "Digital Media"
          ],
          [
           "Digital Media"
          ],
          [
           "Digital Media"
          ],
          [
           "Digital Media"
          ],
          [
           "Digital Media"
          ],
          [
           "System and Security"
          ],
          [
           "Digital Media"
          ],
          [
           "Software Development"
          ],
          [
           "Enterprise Systems"
          ],
          [
           "Digital Media"
          ],
          [
           "Data Science & Analytics"
          ],
          [
           "Digital Media"
          ],
          [
           "Digital Media"
          ],
          [
           "Software Development"
          ],
          [
           "Digital Media"
          ],
          [
           "Digital Media"
          ],
          [
           "Digital Media"
          ],
          [
           "Digital Media"
          ],
          [
           "Digital Media"
          ],
          [
           "Digital Media"
          ],
          [
           "System and Security"
          ],
          [
           "Software Development"
          ],
          [
           "Digital Media"
          ],
          [
           "Software Development"
          ],
          [
           "Data Science & Analytics"
          ],
          [
           "System and Security"
          ],
          [
           "System and Security"
          ],
          [
           "System and Security"
          ],
          [
           "Enterprise Systems"
          ],
          [
           "Digital Media"
          ],
          [
           "Digital Media"
          ],
          [
           "Data Science & Analytics"
          ],
          [
           "System and Security"
          ],
          [
           "Software Development"
          ],
          [
           "Software Development"
          ],
          [
           "Data Science & Analytics"
          ],
          [
           "Digital Media"
          ],
          [
           "System and Security"
          ],
          [
           "Digital Media"
          ],
          [
           "Data Science & Analytics"
          ],
          [
           "System and Security"
          ],
          [
           "Software Development"
          ],
          [
           "Digital Media"
          ],
          [
           "Digital Media"
          ],
          [
           "Enterprise Systems"
          ],
          [
           "Digital Media"
          ],
          [
           "Digital Media"
          ],
          [
           "System and Security"
          ],
          [
           "System and Security"
          ],
          [
           "System and Security"
          ],
          [
           "Enterprise Systems"
          ],
          [
           "Enterprise Systems"
          ],
          [
           "Digital Media"
          ],
          [
           "Digital Media"
          ],
          [
           "Enterprise Systems"
          ],
          [
           "System and Security"
          ],
          [
           "Software Development"
          ],
          [
           "Enterprise Systems"
          ],
          [
           "System and Security"
          ],
          [
           "Enterprise Systems"
          ],
          [
           "System and Security"
          ],
          [
           "Software Development"
          ],
          [
           "Data Science & Analytics"
          ],
          [
           "Data Science & Analytics"
          ],
          [
           "Digital Media"
          ],
          [
           "Digital Media"
          ],
          [
           "Enterprise Systems"
          ],
          [
           "Data Science & Analytics"
          ],
          [
           "Data Science & Analytics"
          ],
          [
           "System and Security"
          ],
          [
           "Enterprise Systems"
          ],
          [
           "Data Science & Analytics"
          ],
          [
           "Digital Media"
          ],
          [
           "Software Development"
          ],
          [
           "Digital Media"
          ],
          [
           "System and Security"
          ],
          [
           "Enterprise Systems"
          ],
          [
           "Data Science & Analytics"
          ],
          [
           "Data Science & Analytics"
          ],
          [
           "Digital Media"
          ],
          [
           "System and Security"
          ],
          [
           "Data Science & Analytics"
          ],
          [
           "Digital Media"
          ],
          [
           "Digital Media"
          ],
          [
           "Data Science & Analytics"
          ],
          [
           "Data Science & Analytics"
          ],
          [
           "Enterprise Systems"
          ],
          [
           "Data Science & Analytics"
          ],
          [
           "Digital Media"
          ],
          [
           "Software Development"
          ],
          [
           "Data Science & Analytics"
          ],
          [
           "Digital Media"
          ],
          [
           "Data Science & Analytics"
          ],
          [
           "Enterprise Systems"
          ],
          [
           "System and Security"
          ],
          [
           "System and Security"
          ],
          [
           "System and Security"
          ],
          [
           "System and Security"
          ],
          [
           "Enterprise Systems"
          ],
          [
           "System and Security"
          ],
          [
           "System and Security"
          ],
          [
           "Software Development"
          ],
          [
           "Enterprise Systems"
          ],
          [
           "Digital Media"
          ],
          [
           "Digital Media"
          ],
          [
           "Data Science & Analytics"
          ],
          [
           "System and Security"
          ],
          [
           "Enterprise Systems"
          ],
          [
           "Software Development"
          ],
          [
           "System and Security"
          ],
          [
           "Data Science & Analytics"
          ],
          [
           "Enterprise Systems"
          ],
          [
           "Software Development"
          ],
          [
           "Digital Media"
          ],
          [
           "Digital Media"
          ],
          [
           "Software Development"
          ],
          [
           "System and Security"
          ],
          [
           "Digital Media"
          ],
          [
           "Digital Media"
          ],
          [
           "Digital Media"
          ],
          [
           "System and Security"
          ],
          [
           "Software Development"
          ],
          [
           "Enterprise Systems"
          ],
          [
           "Data Science & Analytics"
          ],
          [
           "System and Security"
          ],
          [
           "Enterprise Systems"
          ],
          [
           "Digital Media"
          ],
          [
           "Data Science & Analytics"
          ],
          [
           "Digital Media"
          ],
          [
           "System and Security"
          ],
          [
           "Enterprise Systems"
          ],
          [
           "Digital Media"
          ],
          [
           "Data Science & Analytics"
          ],
          [
           "Digital Media"
          ],
          [
           "Data Science & Analytics"
          ],
          [
           "Software Development"
          ],
          [
           "Digital Media"
          ],
          [
           "System and Security"
          ],
          [
           "Data Science & Analytics"
          ],
          [
           "System and Security"
          ],
          [
           "Data Science & Analytics"
          ],
          [
           "Data Science & Analytics"
          ],
          [
           "Data Science & Analytics"
          ],
          [
           "Data Science & Analytics"
          ],
          [
           "System and Security"
          ],
          [
           "Software Development"
          ],
          [
           "Software Development"
          ],
          [
           "Enterprise Systems"
          ],
          [
           "System and Security"
          ],
          [
           "Software Development"
          ],
          [
           "Enterprise Systems"
          ],
          [
           "Digital Media"
          ],
          [
           "Software Development"
          ],
          [
           "System and Security"
          ],
          [
           "Enterprise Systems"
          ],
          [
           "System and Security"
          ],
          [
           "System and Security"
          ],
          [
           "Data Science & Analytics"
          ],
          [
           "Software Development"
          ],
          [
           "System and Security"
          ],
          [
           "System and Security"
          ],
          [
           "Software Development"
          ],
          [
           "Software Development"
          ],
          [
           "Enterprise Systems"
          ],
          [
           "Data Science & Analytics"
          ],
          [
           "Enterprise Systems"
          ],
          [
           "System and Security"
          ],
          [
           "Enterprise Systems"
          ],
          [
           "Data Science & Analytics"
          ],
          [
           "Software Development"
          ],
          [
           "Data Science & Analytics"
          ],
          [
           "System and Security"
          ],
          [
           "Software Development"
          ],
          [
           "Enterprise Systems"
          ],
          [
           "Digital Media"
          ],
          [
           "Digital Media"
          ],
          [
           "Software Development"
          ],
          [
           "System and Security"
          ],
          [
           "System and Security"
          ],
          [
           "System and Security"
          ],
          [
           "Data Science & Analytics"
          ],
          [
           "Digital Media"
          ],
          [
           "Data Science & Analytics"
          ],
          [
           "Data Science & Analytics"
          ],
          [
           "System and Security"
          ],
          [
           "System and Security"
          ],
          [
           "Software Development"
          ],
          [
           "Enterprise Systems"
          ],
          [
           "Data Science & Analytics"
          ],
          [
           "Data Science & Analytics"
          ],
          [
           "Data Science & Analytics"
          ],
          [
           "Digital Media"
          ],
          [
           "System and Security"
          ],
          [
           "Software Development"
          ],
          [
           "Software Development"
          ],
          [
           "Software Development"
          ],
          [
           "Enterprise Systems"
          ],
          [
           "Software Development"
          ],
          [
           "Software Development"
          ],
          [
           "Digital Media"
          ],
          [
           "Digital Media"
          ],
          [
           "Digital Media"
          ],
          [
           "System and Security"
          ],
          [
           "Software Development"
          ],
          [
           "System and Security"
          ],
          [
           "System and Security"
          ],
          [
           "System and Security"
          ],
          [
           "Digital Media"
          ],
          [
           "System and Security"
          ],
          [
           "System and Security"
          ],
          [
           "Data Science & Analytics"
          ],
          [
           "Data Science & Analytics"
          ],
          [
           "Digital Media"
          ],
          [
           "Software Development"
          ],
          [
           "System and Security"
          ],
          [
           "Data Science & Analytics"
          ],
          [
           "System and Security"
          ],
          [
           "Digital Media"
          ],
          [
           "Digital Media"
          ],
          [
           "Software Development"
          ],
          [
           "Enterprise Systems"
          ],
          [
           "Data Science & Analytics"
          ],
          [
           "Digital Media"
          ],
          [
           "Digital Media"
          ],
          [
           "System and Security"
          ],
          [
           "Enterprise Systems"
          ],
          [
           "Data Science & Analytics"
          ],
          [
           "System and Security"
          ],
          [
           "Data Science & Analytics"
          ],
          [
           "Enterprise Systems"
          ],
          [
           "Enterprise Systems"
          ],
          [
           "Enterprise Systems"
          ],
          [
           "Enterprise Systems"
          ],
          [
           "System and Security"
          ],
          [
           "System and Security"
          ],
          [
           "Enterprise Systems"
          ],
          [
           "System and Security"
          ],
          [
           "Enterprise Systems"
          ],
          [
           "Data Science & Analytics"
          ],
          [
           "System and Security"
          ],
          [
           "Data Science & Analytics"
          ],
          [
           "Enterprise Systems"
          ],
          [
           "System and Security"
          ],
          [
           "System and Security"
          ],
          [
           "Enterprise Systems"
          ],
          [
           "Data Science & Analytics"
          ],
          [
           "Enterprise Systems"
          ],
          [
           "Software Development"
          ],
          [
           "Software Development"
          ],
          [
           "Enterprise Systems"
          ],
          [
           "System and Security"
          ],
          [
           "Enterprise Systems"
          ],
          [
           "Enterprise Systems"
          ],
          [
           "Digital Media"
          ],
          [
           "System and Security"
          ],
          [
           "System and Security"
          ],
          [
           "Digital Media"
          ],
          [
           "Digital Media"
          ],
          [
           "Digital Media"
          ],
          [
           "Digital Media"
          ],
          [
           "System and Security"
          ],
          [
           "Data Science & Analytics"
          ],
          [
           "System and Security"
          ],
          [
           "System and Security"
          ],
          [
           "System and Security"
          ],
          [
           "System and Security"
          ],
          [
           "Digital Media"
          ],
          [
           "Digital Media"
          ],
          [
           "System and Security"
          ],
          [
           "Software Development"
          ],
          [
           "Digital Media"
          ],
          [
           "Enterprise Systems"
          ],
          [
           "System and Security"
          ],
          [
           "System and Security"
          ],
          [
           "System and Security"
          ],
          [
           "System and Security"
          ],
          [
           "System and Security"
          ],
          [
           "System and Security"
          ],
          [
           "System and Security"
          ],
          [
           "Software Development"
          ],
          [
           "Enterprise Systems"
          ],
          [
           "Enterprise Systems"
          ],
          [
           "Digital Media"
          ],
          [
           "System and Security"
          ],
          [
           "Digital Media"
          ],
          [
           "Enterprise Systems"
          ],
          [
           "Digital Media"
          ],
          [
           "Digital Media"
          ],
          [
           "Digital Media"
          ],
          [
           "Digital Media"
          ],
          [
           "Digital Media"
          ],
          [
           "Digital Media"
          ],
          [
           "System and Security"
          ],
          [
           "Digital Media"
          ],
          [
           "Digital Media"
          ],
          [
           "Digital Media"
          ],
          [
           "Software Development"
          ],
          [
           "System and Security"
          ],
          [
           "Data Science & Analytics"
          ],
          [
           "Software Development"
          ],
          [
           "System and Security"
          ],
          [
           "Digital Media"
          ],
          [
           "Data Science & Analytics"
          ],
          [
           "System and Security"
          ],
          [
           "Data Science & Analytics"
          ],
          [
           "Data Science & Analytics"
          ],
          [
           "Software Development"
          ],
          [
           "Digital Media"
          ],
          [
           "Digital Media"
          ],
          [
           "Data Science & Analytics"
          ],
          [
           "Enterprise Systems"
          ],
          [
           "System and Security"
          ],
          [
           "Software Development"
          ],
          [
           "Software Development"
          ],
          [
           "Enterprise Systems"
          ],
          [
           "Software Development"
          ],
          [
           "System and Security"
          ],
          [
           "Data Science & Analytics"
          ],
          [
           "System and Security"
          ],
          [
           "Enterprise Systems"
          ],
          [
           "System and Security"
          ],
          [
           "Data Science & Analytics"
          ],
          [
           "Data Science & Analytics"
          ],
          [
           "Software Development"
          ],
          [
           "Software Development"
          ],
          [
           "System and Security"
          ],
          [
           "System and Security"
          ],
          [
           "Data Science & Analytics"
          ],
          [
           "Software Development"
          ],
          [
           "System and Security"
          ],
          [
           "System and Security"
          ],
          [
           "Data Science & Analytics"
          ],
          [
           "Data Science & Analytics"
          ],
          [
           "Data Science & Analytics"
          ],
          [
           "System and Security"
          ],
          [
           "Enterprise Systems"
          ],
          [
           "Data Science & Analytics"
          ],
          [
           "Data Science & Analytics"
          ],
          [
           "Enterprise Systems"
          ],
          [
           "System and Security"
          ],
          [
           "Software Development"
          ],
          [
           "Software Development"
          ],
          [
           "Digital Media"
          ],
          [
           "Digital Media"
          ],
          [
           "Digital Media"
          ],
          [
           "Software Development"
          ],
          [
           "Digital Media"
          ],
          [
           "Enterprise Systems"
          ],
          [
           "System and Security"
          ],
          [
           "System and Security"
          ],
          [
           "Data Science & Analytics"
          ],
          [
           "Enterprise Systems"
          ],
          [
           "Data Science & Analytics"
          ],
          [
           "Enterprise Systems"
          ],
          [
           "Digital Media"
          ],
          [
           "Data Science & Analytics"
          ],
          [
           "Data Science & Analytics"
          ],
          [
           "Data Science & Analytics"
          ],
          [
           "Digital Media"
          ],
          [
           "Enterprise Systems"
          ],
          [
           "Data Science & Analytics"
          ],
          [
           "System and Security"
          ],
          [
           "Digital Media"
          ],
          [
           "Software Development"
          ],
          [
           "Enterprise Systems"
          ],
          [
           "Data Science & Analytics"
          ],
          [
           "Enterprise Systems"
          ],
          [
           "Software Development"
          ],
          [
           "Data Science & Analytics"
          ],
          [
           "Data Science & Analytics"
          ],
          [
           "Enterprise Systems"
          ],
          [
           "Data Science & Analytics"
          ],
          [
           "Data Science & Analytics"
          ],
          [
           "Enterprise Systems"
          ],
          [
           "System and Security"
          ],
          [
           "Digital Media"
          ],
          [
           "System and Security"
          ],
          [
           "Software Development"
          ],
          [
           "Data Science & Analytics"
          ],
          [
           "Software Development"
          ],
          [
           "Digital Media"
          ],
          [
           "Digital Media"
          ],
          [
           "System and Security"
          ],
          [
           "Enterprise Systems"
          ],
          [
           "Digital Media"
          ],
          [
           "Enterprise Systems"
          ],
          [
           "Software Development"
          ],
          [
           "Enterprise Systems"
          ],
          [
           "Enterprise Systems"
          ],
          [
           "Data Science & Analytics"
          ],
          [
           "System and Security"
          ],
          [
           "Data Science & Analytics"
          ],
          [
           "Data Science & Analytics"
          ],
          [
           "Data Science & Analytics"
          ],
          [
           "System and Security"
          ],
          [
           "Enterprise Systems"
          ],
          [
           "Enterprise Systems"
          ],
          [
           "Software Development"
          ],
          [
           "Data Science & Analytics"
          ],
          [
           "System and Security"
          ],
          [
           "System and Security"
          ],
          [
           "System and Security"
          ],
          [
           "System and Security"
          ],
          [
           "Enterprise Systems"
          ],
          [
           "System and Security"
          ],
          [
           "Data Science & Analytics"
          ],
          [
           "System and Security"
          ],
          [
           "Software Development"
          ],
          [
           "Enterprise Systems"
          ],
          [
           "Software Development"
          ],
          [
           "Data Science & Analytics"
          ],
          [
           "System and Security"
          ],
          [
           "System and Security"
          ],
          [
           "Enterprise Systems"
          ],
          [
           "Digital Media"
          ],
          [
           "Software Development"
          ],
          [
           "System and Security"
          ],
          [
           "Digital Media"
          ],
          [
           "Software Development"
          ],
          [
           "Data Science & Analytics"
          ],
          [
           "System and Security"
          ],
          [
           "System and Security"
          ],
          [
           "System and Security"
          ],
          [
           "Digital Media"
          ],
          [
           "Digital Media"
          ],
          [
           "Software Development"
          ],
          [
           "Digital Media"
          ],
          [
           "Data Science & Analytics"
          ],
          [
           "Data Science & Analytics"
          ],
          [
           "Data Science & Analytics"
          ],
          [
           "Software Development"
          ],
          [
           "Enterprise Systems"
          ],
          [
           "Data Science & Analytics"
          ],
          [
           "Digital Media"
          ],
          [
           "Digital Media"
          ],
          [
           "System and Security"
          ],
          [
           "System and Security"
          ],
          [
           "Software Development"
          ],
          [
           "Enterprise Systems"
          ],
          [
           "Data Science & Analytics"
          ],
          [
           "System and Security"
          ],
          [
           "Digital Media"
          ],
          [
           "Enterprise Systems"
          ],
          [
           "Data Science & Analytics"
          ],
          [
           "System and Security"
          ],
          [
           "Enterprise Systems"
          ],
          [
           "System and Security"
          ],
          [
           "Enterprise Systems"
          ],
          [
           "Software Development"
          ],
          [
           "Digital Media"
          ],
          [
           "System and Security"
          ],
          [
           "System and Security"
          ],
          [
           "System and Security"
          ],
          [
           "Digital Media"
          ],
          [
           "Data Science & Analytics"
          ],
          [
           "Data Science & Analytics"
          ],
          [
           "Digital Media"
          ],
          [
           "Digital Media"
          ],
          [
           "Digital Media"
          ],
          [
           "Software Development"
          ],
          [
           "System and Security"
          ],
          [
           "System and Security"
          ],
          [
           "Digital Media"
          ],
          [
           "Software Development"
          ],
          [
           "Data Science & Analytics"
          ],
          [
           "Data Science & Analytics"
          ],
          [
           "System and Security"
          ],
          [
           "Enterprise Systems"
          ],
          [
           "System and Security"
          ],
          [
           "Software Development"
          ],
          [
           "Enterprise Systems"
          ],
          [
           "Enterprise Systems"
          ],
          [
           "Data Science & Analytics"
          ],
          [
           "Enterprise Systems"
          ],
          [
           "Digital Media"
          ],
          [
           "Digital Media"
          ],
          [
           "Digital Media"
          ],
          [
           "Enterprise Systems"
          ],
          [
           "System and Security"
          ],
          [
           "System and Security"
          ],
          [
           "Enterprise Systems"
          ],
          [
           "Data Science & Analytics"
          ],
          [
           "System and Security"
          ],
          [
           "System and Security"
          ],
          [
           "Data Science & Analytics"
          ],
          [
           "Data Science & Analytics"
          ],
          [
           "Digital Media"
          ],
          [
           "Software Development"
          ],
          [
           "Enterprise Systems"
          ],
          [
           "Data Science & Analytics"
          ],
          [
           "System and Security"
          ],
          [
           "Enterprise Systems"
          ],
          [
           "System and Security"
          ],
          [
           "Enterprise Systems"
          ],
          [
           "System and Security"
          ],
          [
           "Enterprise Systems"
          ],
          [
           "System and Security"
          ],
          [
           "Data Science & Analytics"
          ],
          [
           "Software Development"
          ],
          [
           "Software Development"
          ],
          [
           "System and Security"
          ],
          [
           "Enterprise Systems"
          ],
          [
           "Software Development"
          ],
          [
           "Data Science & Analytics"
          ],
          [
           "Data Science & Analytics"
          ],
          [
           "Data Science & Analytics"
          ],
          [
           "Software Development"
          ],
          [
           "System and Security"
          ],
          [
           "System and Security"
          ],
          [
           "System and Security"
          ],
          [
           "Digital Media"
          ],
          [
           "Digital Media"
          ],
          [
           "System and Security"
          ],
          [
           "System and Security"
          ],
          [
           "System and Security"
          ],
          [
           "System and Security"
          ],
          [
           "System and Security"
          ],
          [
           "Software Development"
          ],
          [
           "Software Development"
          ],
          [
           "Data Science & Analytics"
          ],
          [
           "Software Development"
          ],
          [
           "Enterprise Systems"
          ],
          [
           "Data Science & Analytics"
          ],
          [
           "Software Development"
          ],
          [
           "Enterprise Systems"
          ],
          [
           "Enterprise Systems"
          ],
          [
           "Data Science & Analytics"
          ],
          [
           "Software Development"
          ],
          [
           "Software Development"
          ],
          [
           "Enterprise Systems"
          ],
          [
           "Data Science & Analytics"
          ],
          [
           "Data Science & Analytics"
          ],
          [
           "Digital Media"
          ],
          [
           "System and Security"
          ],
          [
           "Data Science & Analytics"
          ],
          [
           "Digital Media"
          ],
          [
           "Digital Media"
          ],
          [
           "Enterprise Systems"
          ],
          [
           "System and Security"
          ],
          [
           "Data Science & Analytics"
          ],
          [
           "Data Science & Analytics"
          ],
          [
           "System and Security"
          ],
          [
           "Digital Media"
          ],
          [
           "Software Development"
          ],
          [
           "System and Security"
          ],
          [
           "Data Science & Analytics"
          ],
          [
           "Data Science & Analytics"
          ],
          [
           "Enterprise Systems"
          ],
          [
           "Data Science & Analytics"
          ],
          [
           "Data Science & Analytics"
          ],
          [
           "Software Development"
          ],
          [
           "Software Development"
          ],
          [
           "System and Security"
          ],
          [
           "Enterprise Systems"
          ],
          [
           "System and Security"
          ],
          [
           "System and Security"
          ],
          [
           "Software Development"
          ],
          [
           "Enterprise Systems"
          ],
          [
           "Digital Media"
          ],
          [
           "Enterprise Systems"
          ],
          [
           "System and Security"
          ],
          [
           "Software Development"
          ],
          [
           "Enterprise Systems"
          ],
          [
           "Digital Media"
          ],
          [
           "Data Science & Analytics"
          ],
          [
           "System and Security"
          ],
          [
           "Software Development"
          ],
          [
           "Enterprise Systems"
          ],
          [
           "Data Science & Analytics"
          ],
          [
           "Data Science & Analytics"
          ],
          [
           "System and Security"
          ],
          [
           "Software Development"
          ],
          [
           "Enterprise Systems"
          ],
          [
           "Enterprise Systems"
          ],
          [
           "Data Science & Analytics"
          ],
          [
           "Digital Media"
          ],
          [
           "Enterprise Systems"
          ],
          [
           "Software Development"
          ],
          [
           "System and Security"
          ],
          [
           "Data Science & Analytics"
          ],
          [
           "Digital Media"
          ],
          [
           "Enterprise Systems"
          ],
          [
           "Software Development"
          ],
          [
           "System and Security"
          ],
          [
           "Data Science & Analytics"
          ],
          [
           "Digital Media"
          ],
          [
           "Enterprise Systems"
          ],
          [
           "Software Development"
          ],
          [
           "System and Security"
          ]
         ],
         "domain": {
          "x": [
           0,
           1
          ],
          "y": [
           0,
           1
          ]
         },
         "hovertemplate": "labels=%{label}<br>Count=%{value}<br>parent=%{parent}<br>id=%{id}<br>Domain=%{customdata[0]}<extra></extra>",
         "ids": [
          "Digital Media/Soft/Creativity",
          "Data Science & Analytics/Technical/Clustering",
          "System and Security/Technical/Code Review",
          "Enterprise Systems/Technical/Cognos Analytics",
          "Data Science & Analytics/Soft/Collaboration",
          "Digital Media/Soft/Collaboration",
          "Enterprise Systems/Soft/Collaboration",
          "Software Development/Soft/Collaboration",
          "System and Security/Soft/Collaboration",
          "Data Science & Analytics/Soft/Collaboration & Teamwork",
          "Digital Media/Soft/Collaboration & Teamwork",
          "Software Development/Soft/Collaboration & Teamwork",
          "Data Science & Analytics/Soft/Collaboration with Cross-Functional Teams",
          "Data Science & Analytics/Soft/Communication",
          "Enterprise Systems/Soft/Communication",
          "Software Development/Soft/Communication",
          "System and Security/Soft/Communication",
          "Digital Media/Soft/Communication & Branding",
          "Enterprise Systems/Soft/Communication & Collaboration",
          "Data Science & Analytics/Soft/Communication & Presentation Skills",
          "Data Science & Analytics/Soft/Communication & Storytelling",
          "System and Security/Soft/Communication (Explaining Security Risks Clearly)",
          "Software Development/Soft/Communication (Technical & Non-Technical)",
          "Digital Media/Technical/Community Management",
          "System and Security/Technical/Cloud Workload Protection",
          "System and Security/Technical/Cloud Security Posture Management (CSPM)",
          "System and Security/Technical/Cloud Security",
          "Software Development/Technical/Cloud Computing",
          "Enterprise Systems/Soft/Decision-Making",
          "Data Science & Analytics/Soft/Decision-Making",
          "Digital Media/Soft/Decision Making",
          "Software Development/Soft/Debugging & Troubleshooting",
          "Data Science & Analytics/Technical/Databricks",
          "Data Science & Analytics/Technical/DataRobot",
          "Digital Media/Soft/Data-Driven Decision-Making (SEO, Social Media Analytics)",
          "Data Science & Analytics/Technical/Data Wrangling",
          "Enterprise Systems/Technical/Data Warehousing",
          "Digital Media/Technical/Campaign Management",
          "Digital Media/Technical/Canva",
          "System and Security/Technical/CompTIA CASP+",
          "System and Security/Technical/Carbon Black",
          "Software Development/Technical/Cassandra",
          "Data Science & Analytics/Technical/CatBoost",
          "Enterprise Systems/Soft/Change Management",
          "Digital Media/Technical/Chatbots",
          "Enterprise Systems/Technical/Chef",
          "Digital Media/Technical/Cinema 4D",
          "Data Science & Analytics/Technical/Classification",
          "Digital Media/Soft/Client & Stakeholder Management",
          "Software Development/Soft/Client & Stakeholder Management",
          "Software Development/Technical/Cloud",
          "System and Security/Technical/Cloud Access Security Broker",
          "Data Science & Analytics/Technical/Cassandra",
          "Digital Media/Technical/Deepfake TechnologyDigital Media",
          "System and Security/Technical/CompTIA CySA+",
          "System and Security/Technical/CompTIA Security+",
          "Digital Media/Soft/Creativity & Innovation",
          "Software Development/Soft/Creativity & Innovation",
          "Data Science & Analytics/Soft/Critical Thinking",
          "Software Development/Soft/Critical Thinking",
          "System and Security/Soft/Critical Thinking",
          "System and Security/Technical/CrowdStrike",
          "System and Security/Technical/Cryptography",
          "Data Science & Analytics/Soft/Curiosity & Continuous Learning",
          "System and Security/Technical/Cyber Kill Chain",
          "System and Security/Technical/Cybersecurity",
          "Software Development/Technical/Cypress",
          "Data Science & Analytics/Technical/D3.js",
          "Data Science & Analytics/Technical/DAX (Data Analysis Expressions)",
          "Enterprise Systems/Technical/DB2",
          "System and Security/Technical/DDoS Mitigation",
          "Data Science & Analytics/Technical/Dashboarding",
          "Data Science & Analytics/Technical/Dask",
          "Data Science & Analytics/Technical/Data Cleaning",
          "Data Science & Analytics/Technical/Data Mining",
          "Enterprise Systems/Technical/Data Modeling",
          "Data Science & Analytics/Technical/Data Pipelines",
          "System and Security/Technical/Data Protection",
          "Software Development/Technical/Data Structures",
          "Data Science & Analytics/Soft/Creativity & Innovation",
          "Software Development/Soft/Creativity",
          "Enterprise Systems/Soft/Creativity",
          "Data Science & Analytics/Technical/Data Warehousing",
          "System and Security/Technical/Compliance",
          "Software Development/Technical/Concurrency",
          "System and Security/Soft/Confidentiality & Discretion",
          "Enterprise Systems/Soft/Conflict Resolution",
          "System and Security/Technical/Container Security",
          "Digital Media/Technical/Content Creation",
          "Digital Media/Technical/Content Creator",
          "Digital Media/Technical/Content Marketing",
          "Digital Media/Technical/Content Strategy",
          "Enterprise Systems/Technical/Continuous Deployment",
          "Enterprise Systems/Technical/Continuous Integration",
          "System and Security/Technical/CompTIA PenTest+",
          "Software Development/Soft/Continuous Learning",
          "Digital Media/Technical/Conversion Rate Optimization (CRO)",
          "Data Science & Analytics/Technical/Convolutional Neural Networks (CNNs)",
          "Digital Media/Technical/Copywriting",
          "Data Science & Analytics/Soft/Creative",
          "Digital Media/Soft/Creative",
          "Enterprise Systems/Soft/Creative",
          "Software Development/Soft/Creative",
          "Digital Media/Technical/Creative Direction",
          "Digital Media/Technical/Creative Director",
          "Digital Media/Technical/Creative Writing",
          "Data Science & Analytics/Soft/Creativity",
          "System and Security/Soft/Continuous Learning & Curiosity",
          "Data Science & Analytics/Technical/Data Transformation",
          "Data Science & Analytics/Technical/Delta Lake",
          "Data Science & Analytics/Soft/Determined",
          "System and Security/Technical/Encryption",
          "System and Security/Technical/Endpoint Detection and Response (EDR)",
          "System and Security/Technical/Endpoint Security",
          "Digital Media/Technical/Engagement Metrics",
          "Enterprise Systems/Technical/Enterprise",
          "Enterprise Systems/Technical/Enterprise Architect",
          "Enterprise Systems/Technical/Enterprise Engineer",
          "Enterprise Systems/Technical/Enterprise Integration",
          "Enterprise Systems/Technical/Enterprise Solutions",
          "Enterprise Systems/Technical/Epicor ERP",
          "System and Security/Soft/Ethical",
          "Data Science & Analytics/Soft/Ethical Considerations in AI",
          "System and Security/Technical/Ethical Hacking",
          "System and Security/Soft/Ethical Judgment & Integrity",
          "Data Science & Analytics/Technical/Excel",
          "Enterprise Systems/Technical/ExcelSQL",
          "Data Science & Analytics/Soft/Experimentation & Research Mindset",
          "System and Security/Technical/Exploit Development",
          "Data Science & Analytics/Technical/Exploratory Data Analysis (EDA)",
          "System and Security/Technical/Extended Detection and Response (XDR)",
          "System and Security/Technical/FISMA",
          "Software Development/Technical/Design Patterns",
          "Digital Media/Technical/Facebook Marketing",
          "Data Science & Analytics/Technical/FastAPI",
          "Data Science & Analytics/Technical/Feature Engineering",
          "Data Science & Analytics/Technical/Feature Store",
          "System and Security/Technical/FedRAMP",
          "Digital Media/Soft/Emotional Intelligence (Understanding Audience Needs)",
          "Digital Media/Technical/Email Marketing",
          "Digital Media/Technical/Facebook Ads",
          "Digital Media/Technical/Editorial Planning",
          "System and Security/Technical/Elliptic Curve Cryptography (ECC)",
          "Enterprise Systems/Soft/Determined",
          "Software Development/Soft/Determined",
          "System and Security/Technical/DevSecOps",
          "System and Security/Technical/Digital Forensics",
          "Digital Media/Technical/Digital Illustration",
          "Digital Media/Technical/Digital Marketing",
          "Data Science & Analytics/Technical/Dimensionality Reduction",
          "System and Security/Technical/Disk Forensics",
          "Software Development/Technical/Django",
          "Data Science & Analytics/Technical/Docker",
          "Enterprise Systems/Technical/Docker",
          "Software Development/Technical/Docker",
          "System and Security/Technical/Docker Security",
          "Digital Media/Technical/Data Visualization",
          "System and Security/Soft/Documentation & Reporting",
          "Enterprise Systems/Soft/Documentation & Reporting",
          "Data Science & Analytics/Technical/ETL (Extract, Transform, Load)",
          "Software Development/Technical/Eclipse",
          "System and Security/Technical/ELK Stack",
          "System and Security/Technical/EDR Solutions",
          "Digital Media/Technical/E-commerce",
          "Enterprise Systems/Technical/ETL",
          "System and Security/Technical/Dynamic Code Analysis",
          "Software Development/Soft/Driven",
          "Enterprise Systems/Soft/Driven",
          "Data Science & Analytics/Soft/Driven",
          "Data Science & Analytics/Technical/Dplyr",
          "Data Science & Analytics/Soft/Domain Knowledge",
          "Software Development/Technical/DynamoDB",
          "System and Security/Technical/Security Information and Event Management",
          "Enterprise Systems/Technical/Security Information and Event Management",
          "System and Security/Technical/Security Awareness Training",
          "System and Security/Technical/Security Auditing",
          "System and Security/Technical/Secure SDLC",
          "System and Security/Technical/Secure Coding",
          "System and Security/Technical/Secrets Management",
          "Data Science & Analytics/Technical/Seaborn",
          "Software Development/Technical/Scrum",
          "Software Development/Technical/SQLite",
          "Data Science & Analytics/Technical/Scikit-learn",
          "Data Science & Analytics/Technical/Scala",
          "Enterprise Systems/Technical/Salesforce",
          "System and Security/Technical/SSL/TLS",
          "System and Security/Technical/Security Orchestration, Automation, and Response (SOAR)",
          "Software Development/Technical/SQL Server",
          "Data Science & Analytics/Technical/SQL Optimization",
          "System and Security/Technical/SQL Injection Prevention",
          "Software Development/Technical/SQL",
          "Software Development/Technical/iOS",
          "Digital Media/Technical/Scriptwriting",
          "System and Security/Technical/Security Risk Management",
          "Software Development/Soft/Self-Motivated",
          "Data Science & Analytics/Soft/Self Motivated",
          "Digital Media/Technical/Social Media Strategy",
          "Digital Media/Technical/Social Media Marketing",
          "Digital Media/Technical/Social Media Manager",
          "Digital Media/Technical/Social Media Insights",
          "Digital Media/Technical/Social Media Analytics",
          "Digital Media/Technical/Social Media",
          "Digital Media/Technical/Social Listening",
          "Enterprise Systems/Technical/Snowflake",
          "Data Science & Analytics/Technical/Snowflake",
          "Digital Media/Technical/Sketch",
          "System and Security/Technical/Single Sign-On (SSO)",
          "Digital Media/Technical/Shopify",
          "System and Security/Technical/Shodan",
          "Enterprise Systems/Technical/ServiceNow",
          "Data Science & Analytics/Technical/Sentiment Analysis",
          "Data Science & Analytics/Technical/Self-Supervised Learning",
          "Enterprise Systems/Soft/Self-Motivated",
          "Digital Media/Soft/Self-Motivated",
          "Data Science & Analytics/Soft/Self-Motivated",
          "Software Development/Soft/Self Motivated",
          "Enterprise Systems/Soft/Self Motivated",
          "Software Development/Technical/Selenium",
          "System and Security/Technical/Snort",
          "Software Development/Technical/macOS",
          "System and Security/Technical/Software Composition Analysis (SCA)",
          "Digital Media/Technical/Visual Design",
          "Digital Media/Technical/Visual Communication",
          "Enterprise Systems/Soft/Visual",
          "Data Science & Analytics/Soft/Visual",
          "Enterprise Systems/Soft/Visionary",
          "Data Science & Analytics/Soft/Visionary",
          "Digital Media/Technical/Virtual Reality (VR)",
          "Digital Media/Technical/Virtual Events",
          "Digital Media/Technical/Video Production",
          "Digital Media/Technical/Video Editor",
          "Digital Media/Technical/Video Editing",
          "System and Security/Technical/Vault",
          "Digital Media/Technical/Visual Effects",
          "Software Development/Technical/VS Code",
          "Enterprise Systems/Technical/VMware",
          "Digital Media/Technical/VFX",
          "Data Science & Analytics/Technical/VBA",
          "Digital Media/Technical/User Experience",
          "Digital Media/Technical/User Engagement",
          "Software Development/Technical/Unix",
          "Digital Media/Technical/UX/UI Designer",
          "Digital Media/Technical/UX Research",
          "Digital Media/Technical/UX",
          "Digital Media/Technical/UI/UX Design",
          "Digital Media/Technical/UI",
          "Digital Media/Technical/Typography",
          "System and Security/Technical/VPN",
          "Software Development/Technical/TypeScript",
          "Digital Media/Soft/Visual Thinking",
          "Software Development/Technical/Vue.js",
          "Data Science & Analytics/Technical/ggplot2",
          "System and Security/Technical/Zero Trust Security",
          "System and Security/Technical/Zero Trust Architecture",
          "System and Security/Technical/Zero Trust",
          "Enterprise Systems/Technical/Zachman FrameworkERP",
          "Digital Media/Technical/YouTube Marketing",
          "Digital Media/Technical/YouTube Live",
          "Data Science & Analytics/Technical/YOLO",
          "System and Security/Technical/YARA Rules",
          "Software Development/Technical/Xcode",
          "Software Development/Technical/Xamarin",
          "Data Science & Analytics/Technical/XGBoost",
          "Digital Media/Technical/Voiceover",
          "System and Security/Soft/Works well under pressure",
          "Digital Media/Technical/WordPress",
          "Data Science & Analytics/Technical/Word Embeddings",
          "System and Security/Technical/Wireshark",
          "Software Development/Technical/Windows",
          "Digital Media/Technical/Webinar Hosting",
          "Digital Media/Technical/Webflow",
          "Enterprise Systems/Technical/Web Services",
          "Digital Media/Technical/Web Designer",
          "Digital Media/Technical/Web Design",
          "System and Security/Technical/Web Application Security",
          "System and Security/Technical/Vulnerability Assessment",
          "System and Security/Technical/Vulnerability",
          "Enterprise Systems/Technical/Workday",
          "Enterprise Systems/Technical/TypeScript",
          "Digital Media/Technical/Viral Marketing",
          "Digital Media/Technical/Twitch Streaming",
          "Enterprise Systems/Technical/TOGAF",
          "System and Security/Technical/TLS Certificates",
          "Software Development/Technical/TDD (Test-Driven Development)",
          "Enterprise Systems/Soft/Systems Thinking",
          "System and Security/Technical/System Security",
          "Enterprise Systems/Technical/System Analyst",
          "System and Security/Technical/Symantec",
          "Software Development/Technical/Swift",
          "Data Science & Analytics/Technical/Support Vector Machines (SVM)",
          "Data Science & Analytics/Soft/Storytelling with Data",
          "Digital Media/Soft/Storytelling & Narrative Skills",
          "Digital Media/Technical/Storytelling",
          "Enterprise Systems/Soft/Storytelling",
          "Data Science & Analytics/Soft/Storytelling",
          "Data Science & Analytics/Technical/Statistical Analysis",
          "System and Security/Technical/Static Code Analysis",
          "Enterprise Systems/Soft/Stakeholder Management",
          "Data Science & Analytics/Soft/Stakeholder Engagement",
          "Digital Media/Technical/Twitter Marketing",
          "Software Development/Technical/Spring Boot",
          "Digital Media/Technical/Spotify Podcasting",
          "System and Security/Technical/Splunk",
          "Enterprise Systems/Technical/Splunk",
          "Data Science & Analytics/Technical/Spark",
          "Data Science & Analytics/Technical/SpaCy",
          "Digital Media/Technical/Sound Design",
          "System and Security/Technical/Sophos",
          "Data Science & Analytics/Technical/Tableau",
          "Digital Media/Technical/Tableau",
          "Digital Media/Technical/Sprout Social",
          "Data Science & Analytics/Soft/Teamwork",
          "Data Science & Analytics/Technical/Time Series Forecasting",
          "Enterprise Systems/Technical/Tableau",
          "Data Science & Analytics/Technical/Time Series Analysis",
          "Digital Media/Soft/Time Management & Deadlines",
          "Software Development/Soft/Time Management",
          "Data Science & Analytics/Soft/Time Management",
          "Digital Media/Technical/TikTok Marketing",
          "Data Science & Analytics/Technical/Tidyverse",
          "Enterprise Systems/Technical/Tibco",
          "System and Security/Technical/Threat Modeling",
          "System and Security/Technical/Threat Intelligence Platforms",
          "System and Security/Technical/Threat Intelligence",
          "System and Security/Technical/Threat Hunting",
          "Enterprise Systems/Soft/Time Management",
          "System and Security/Technical/Threat Analysis",
          "System and Security/Technical/Threat Feeds",
          "Software Development/Soft/Teamwork",
          "Enterprise Systems/Soft/Teamwork",
          "Digital Media/Technical/Technical Writing",
          "Digital Media/Soft/Teamwork",
          "Data Science & Analytics/Technical/TensorFlow",
          "System and Security/Soft/Teamwork & Collaboration",
          "Enterprise Systems/Technical/Terraform",
          "Software Development/Technical/Terraform",
          "System and Security/Technical/Terraform Security",
          "Data Science & Analytics/Technical/Text Classification",
          "Enterprise Systems/Technical/Teradata",
          "Software Development/Technical/JUnit",
          "Digital Media/Technical/Interactive Video",
          "Digital Media/Technical/Interactive Media",
          "Software Development/Technical/IntelliJ IDEA",
          "System and Security/Soft/Integrity",
          "Digital Media/Technical/Instagram Marketing",
          "Digital Media/Soft/Inspired",
          "Digital Media/Soft/Insightful",
          "System and Security/Technical/Infrastructure as Code (IaC)",
          "Software Development/Soft/Innovative",
          "Enterprise Systems/Soft/Innovative",
          "Data Science & Analytics/Soft/Innovative",
          "System and Security/Technical/Information Security",
          "Enterprise Systems/Technical/Infor ERP",
          "Digital Media/Technical/Infographics",
          "Data Science & Analytics/Technical/Java",
          "Digital Media/Technical/Influencer Marketing",
          "System and Security/Soft/Innovative",
          "Enterprise Systems/Technical/Java",
          "Digital Media/Technical/KPI Tracking",
          "Data Science & Analytics/Technical/JavaScript",
          "Digital Media/Technical/Influencer",
          "Data Science & Analytics/Technical/Kubeflow",
          "Software Development/Technical/Kotlin",
          "Digital Media/Technical/Klaviyo",
          "System and Security/Technical/Kerberos",
          "Data Science & Analytics/Technical/Keras",
          "System and Security/Technical/Kali Linux",
          "Data Science & Analytics/Technical/Kafka",
          "Data Science & Analytics/Technical/KPI Analysis",
          "Data Science & Analytics/Technical/Jupyter Notebook",
          "Data Science & Analytics/Technical/Julia",
          "System and Security/Technical/John the Ripper",
          "Software Development/Technical/Jest",
          "Software Development/Technical/Jenkins",
          "Enterprise Systems/Technical/Jenkins",
          "System and Security/Technical/JavaScript",
          "Software Development/Technical/JavaScript",
          "Enterprise Systems/Technical/JavaScript",
          "Digital Media/Technical/JavaScript",
          "Software Development/Technical/Java",
          "System and Security/Technical/Indicator of Compromise (IOC)",
          "Enterprise Systems/Technical/JD Edwards",
          "System and Security/Technical/Incident Response",
          "System and Security/Technical/GDPR",
          "Data Science & Analytics/Technical/GANs (Generative Adversarial Networks)",
          "Software Development/Technical/Functional Programming",
          "System and Security/Technical/Forensics",
          "System and Security/Technical/Forensic Analysis",
          "Software Development/Technical/Flutter",
          "Software Development/Soft/Flexible",
          "Enterprise Systems/Soft/Flexible",
          "Data Science & Analytics/Soft/Flexible",
          "Enterprise Systems/Technical/GDPR Compliance",
          "System and Security/Soft/Flexibility",
          "Enterprise Systems/Soft/Flexibility",
          "Data Science & Analytics/Soft/Flexibility",
          "Software Development/Technical/Flask",
          "Data Science & Analytics/Technical/Flask",
          "System and Security/Technical/Firewall",
          "Software Development/Technical/Firebase",
          "Enterprise Systems/Technical/FinanceSQL Server",
          "Digital Media/Technical/Final Cut Pro",
          "Digital Media/Technical/Figma",
          "Software Development/Soft/Flexibility",
          "System and Security/Technical/Federated Identity Management",
          "System and Security/Technical/GIAC",
          "System and Security/Technical/GSEC",
          "Data Science & Analytics/Technical/Google Sheets",
          "Digital Media/Technical/Google Data Studio",
          "Data Science & Analytics/Technical/Google Data Studio",
          "Data Science & Analytics/Technical/Google Colab",
          "System and Security/Technical/Google Cloud Security EngineerCybersecurity",
          "System and Security/Technical/Google Cloud Security",
          "Software Development/Technical/Google Cloud Platform",
          "Enterprise Systems/Technical/Google Cloud Platform",
          "Data Science & Analytics/Technical/Google Cloud Platform",
          "Data Science & Analytics/Technical/GPT",
          "Data Science & Analytics/Technical/Google BigQuery",
          "Digital Media/Technical/Google Ads",
          "System and Security/Technical/Go",
          "Software Development/Technical/Go",
          "Software Development/Technical/GitLab",
          "Software Development/Technical/GitHub Actions",
          "Enterprise Systems/Technical/GitHub Actions",
          "Software Development/Technical/GitHub",
          "Software Development/Technical/Git",
          "Digital Media/Technical/GarageBand",
          "Digital Media/Technical/Google Analytics",
          "Digital Media/Technical/Google Tag Manager",
          "System and Security/Soft/Incident Response Under Pressure",
          "Software Development/Technical/GraphQL API",
          "System and Security/Soft/Honesty",
          "System and Security/Soft/Honest",
          "System and Security/Technical/Homomorphic Encryption",
          "Digital Media/Technical/Hashtag Strategy",
          "System and Security/Technical/Hashing",
          "System and Security/Technical/HashiCorp Vault",
          "Data Science & Analytics/Soft/Handling Ambiguity",
          "Data Science & Analytics/Technical/Hadoop",
          "Digital Media/Technical/Hootsuite",
          "Software Development/Technical/HTML",
          "System and Security/Technical/HIPAA",
          "Data Science & Analytics/Technical/H2O.ai",
          "System and Security/Technical/Graylog",
          "Digital Media/Technical/Graphic Designer",
          "Digital Media/Technical/Graphic Design",
          "Software Development/Technical/GraphQL",
          "Enterprise Systems/Technical/GraphQL",
          "Data Science & Analytics/Technical/Gradient Boosting",
          "Digital Media/Technical/HTML",
          "Digital Media/Technical/HubSpot",
          "System and Security/Technical/Hashcat",
          "Enterprise Systems/Technical/Hybrid Cloud",
          "Data Science & Analytics/Technical/Image Processing",
          "System and Security/Technical/Identity and Access Management (IAM)",
          "Data Science & Analytics/Technical/Hugging Face Transformers",
          "Enterprise Systems/Technical/ITIL",
          "Enterprise Systems/Technical/IT Operations",
          "Enterprise Systems/Soft/IT Governance & Compliance Awareness",
          "Enterprise Systems/Technical/IT Consultant",
          "System and Security/Technical/IT Auditor",
          "System and Security/Technical/ISO 27001",
          "Enterprise Systems/Technical/Identity and Access Management",
          "System and Security/Technical/IPSec",
          "Enterprise Systems/Technical/ISO 27001",
          "Data Science & Analytics/Technical/Hypothesis Testing",
          "System and Security/Technical/IAM",
          "Data Science & Analytics/Technical/IBM Cognos",
          "Enterprise Systems/Technical/IAM",
          "System and Security/Technical/IDS",
          "System and Security/Technical/IPS",
          "Enterprise Systems/Technical/IBM WebSphere",
          "Data Science & Analytics/Technical/C++",
          "Enterprise Systems/Soft/Business Process Understanding",
          "Software Development/Technical/C++",
          "Software Development/Technical/C#",
          "Enterprise Systems/Technical/C#",
          "System and Security/Technical/C",
          "Enterprise Systems/Technical/Business Systems",
          "Enterprise Systems/Technical/Business Applications",
          "Digital Media/Technical/Buffer",
          "System and Security/Technical/Burp Suite",
          "System and Security/Technical/Bug Bounty Programs",
          "Digital Media/Technical/Branding",
          "Digital Media/Technical/Brand Storytelling",
          "Digital Media/Technical/Brand Management",
          "Digital Media/Technical/Brand Identity",
          "System and Security/Technical/C++",
          "Data Science & Analytics/Soft/Business Acumen",
          "System and Security/Technical/CASB",
          "System and Security/Technical/AES",
          "System and Security/Technical/CEH",
          "System and Security/Technical/Blue Teaming",
          "Digital Media/Technical/2D Animation",
          "Digital Media/Technical/3D Animation",
          "System and Security/Technical/802.1X",
          "Software Development/Technical/CSS",
          "Digital Media/Technical/CSS",
          "Enterprise Systems/Technical/CRM",
          "System and Security/Technical/CCSP",
          "System and Security/Technical/COBIT",
          "System and Security/Technical/CISSP",
          "System and Security/Technical/CISM",
          "System and Security/Technical/CISA",
          "System and Security/Technical/CIS Controls",
          "System and Security/Technical/CI/CD Security",
          "Software Development/Technical/CI/CD",
          "Enterprise Systems/Technical/CI/CD",
          "Enterprise Systems/Technical/COBIT",
          "Digital Media/Technical/A/B Testing",
          "System and Security/Technical/BloodHound",
          "Digital Media/Technical/Blender",
          "Enterprise Systems/Soft/Adaptability to Change (New ERPs & Software)",
          "Digital Media/Soft/Adaptability to Trends & Platforms",
          "Digital Media/Technical/Adobe",
          "Digital Media/Technical/Adobe After Effects",
          "Digital Media/Technical/Adobe Analytics",
          "Digital Media/Technical/Adobe Audition",
          "Digital Media/Technical/Adobe Illustrator",
          "System and Security/Soft/Adaptability (Handling New Threats)",
          "Digital Media/Technical/Adobe InDesign",
          "Digital Media/Technical/Adobe Premiere Pro",
          "Digital Media/Technical/Affiliate Marketing",
          "Software Development/Soft/Agile & Scrum Methodologies",
          "System and Security/Technical/Aircrack-ng",
          "Data Science & Analytics/Technical/Airflow",
          "Software Development/Technical/Algorithms",
          "System and Security/Technical/AlienVault",
          "Digital Media/Technical/Adobe Photoshop",
          "Data Science & Analytics/Technical/Alteryx",
          "System and Security/Soft/Adaptability",
          "Data Science & Analytics/Soft/Adaptability",
          "Data Science & Analytics/Technical/AI",
          "Software Development/Technical/AI",
          "Digital Media/Technical/AI in Media",
          "Digital Media/Technical/AI-Generated Content",
          "Data Science & Analytics/Technical/ANOVA",
          "Enterprise Systems/Technical/API Management",
          "System and Security/Technical/API Security",
          "Software Development/Soft/Adaptability",
          "Software Development/Technical/ASP.NET",
          "Enterprise Systems/Technical/AWS",
          "Software Development/Technical/AWS",
          "System and Security/Technical/AWS Certified Security Specialty",
          "Data Science & Analytics/Technical/AWS Redshift",
          "System and Security/Technical/AWS Security",
          "Enterprise Systems/Technical/Active Directory",
          "System and Security/Technical/Active Directory",
          "Data Science & Analytics/Technical/AWS",
          "Data Science & Analytics/Soft/Analytical Thinking",
          "Software Development/Technical/Android",
          "Software Development/Technical/Android Studio",
          "System and Security/Soft/Awareness",
          "System and Security/Soft/Awareness of Compliance & Regulations",
          "Data Science & Analytics/Technical/Azure",
          "Software Development/Technical/Azure",
          "System and Security/Technical/Azure Security",
          "System and Security/Technical/Azure Security Engineer Associate",
          "Data Science & Analytics/Technical/Azure Synapse Analytics",
          "Data Science & Analytics/Technical/AutoML",
          "Data Science & Analytics/Technical/BERT",
          "System and Security/Technical/Bash",
          "Enterprise Systems/Technical/Bash Scripting",
          "Data Science & Analytics/Technical/Bayesian Statistics",
          "Data Science & Analytics/Technical/BigQuery",
          "Enterprise Systems/Technical/BigQuery",
          "System and Security/Technical/BitLocker",
          "Software Development/Technical/Bitbucket",
          "Software Development/Technical/Bash",
          "Digital Media/Technical/Augmented Reality (AR)",
          "Digital Media/Technical/Audio Editing",
          "Digital Media/Technical/Audacity",
          "Software Development/Technical/Angular",
          "Digital Media/Technical/Animation",
          "Enterprise Systems/Technical/Ansible",
          "System and Security/Technical/Ansible Security",
          "System and Security/Technical/Antivirus",
          "Data Science & Analytics/Technical/Apache Airflow",
          "Enterprise Systems/Technical/Apache Kafka",
          "Data Science & Analytics/Technical/Apache Spark",
          "Enterprise Systems/Technical/Apex",
          "Digital Media/Technical/Art Direction",
          "Data Science & Analytics/Technical/Artificial Intelligence",
          "Data Science & Analytics/Technical/Artificial IntelligenceOpenCV",
          "Data Science & Analytics/Soft/Attention to Detail",
          "Digital Media/Soft/Attention to Detail",
          "Enterprise Systems/Soft/Attention to Detail",
          "Data Science & Analytics/Technical/A/B Testing",
          "System and Security/Soft/Attention to Detail",
          "Digital Media/Technical/Blogging",
          "Software Development/Soft/Attention to Detail",
          "Enterprise Systems/Technical/.NET Framework",
          "Data Science & Analytics/Technical/Random Forest",
          "Enterprise Systems/Technical/NetSuite",
          "Software Development/Technical/NetBeans",
          "Data Science & Analytics/Technical/Natural Language Processing (NLP)",
          "Data Science & Analytics/Technical/Named Entity Recognition (NER)",
          "Enterprise Systems/Technical/Nagios",
          "Data Science & Analytics/Technical/NLTK",
          "Data Science & Analytics/Technical/NLP",
          "Enterprise Systems/Technical/NIST Framework",
          "System and Security/Technical/NIST",
          "Digital Media/Technical/NFTs",
          "System and Security/Technical/Network Forensics",
          "Software Development/Technical/MySQL",
          "Data Science & Analytics/Technical/MySQL",
          "Software Development/Technical/Multithreading",
          "Digital Media/Technical/Multimedia Production",
          "Digital Media/Technical/Multimedia",
          "System and Security/Technical/Multi-Factor Authentication (MFA)",
          "Enterprise Systems/Technical/MuleSoft",
          "Digital Media/Technical/Motion Graphics",
          "Enterprise Systems/Technical/Monitoring Tools",
          "Software Development/Technical/MongoDB",
          "Enterprise Systems/Technical/MongoDB",
          "Enterprise Systems/Technical/MySQL",
          "Data Science & Analytics/Technical/MongoDB",
          "System and Security/Technical/Network Security",
          "Data Science & Analytics/Technical/Neural Networks",
          "Data Science & Analytics/Technical/Oracle",
          "Data Science & Analytics/Technical/Optimization",
          "System and Security/Technical/OpenVAS",
          "Enterprise Systems/Technical/OpenShift",
          "Enterprise Systems/Technical/Online Analytical Processing",
          "Software Development/Technical/Object-Oriented Programming (OOP)",
          "Data Science & Analytics/Technical/Object Detection",
          "System and Security/Technical/OWASP",
          "System and Security/Technical/OSINT",
          "System and Security/Technical/OSCP",
          "System and Security/Technical/Network Segmentation",
          "Enterprise Systems/Technical/OLAP",
          "System and Security/Technical/OAuth",
          "Data Science & Analytics/Technical/NumPy",
          "System and Security/Technical/Norton",
          "Software Development/Technical/Node.js",
          "Enterprise Systems/Technical/Node.js",
          "Software Development/Technical/NoSQL",
          "Data Science & Analytics/Technical/NoSQL",
          "System and Security/Technical/Nmap",
          "System and Security/Technical/Nikto",
          "Enterprise Systems/Technical/New Relic",
          "Digital Media/Technical/OBS Studio",
          "Software Development/Technical/Mocha",
          "System and Security/Technical/Mobile Device Management (MDM)",
          "Digital Media/Technical/Mixing and Mastering",
          "Software Development/Soft/Logical Thinking",
          "Data Science & Analytics/Soft/Logical & Analytical Thinking",
          "System and Security/Technical/LogRhythm",
          "System and Security/Technical/Log Analysis",
          "System and Security/Technical/Load Balancer",
          "Digital Media/Technical/Livestream Production",
          "Digital Media/Technical/Live Video Editing",
          "Software Development/Technical/Linux",
          "Digital Media/Technical/LinkedIn Marketing",
          "Data Science & Analytics/Technical/Linear Algebra",
          "Data Science & Analytics/Technical/Looker",
          "Data Science & Analytics/Technical/LightGBM",
          "Software Development/Soft/Leadership",
          "Enterprise Systems/Soft/Leadership",
          "Data Science & Analytics/Soft/Leadership",
          "Digital Media/Technical/Lead Generation",
          "Digital Media/Technical/Landing Page Optimization",
          "System and Security/Technical/LDAP",
          "System and Security/Technical/Kubernetes Security",
          "Software Development/Technical/Kubernetes",
          "Enterprise Systems/Technical/Kubernetes",
          "Data Science & Analytics/Technical/Kubernetes",
          "System and Security/Soft/Leadership",
          "Digital Media/Technical/Looker",
          "Enterprise Systems/Technical/Looker",
          "Data Science & Analytics/Technical/MATLAB",
          "System and Security/Technical/Microsoft Sentinel",
          "Enterprise Systems/Technical/Microsoft Dynamics",
          "System and Security/Technical/Microsoft Defender",
          "Enterprise Systems/Technical/Microsoft Azure",
          "Software Development/Technical/Microservices",
          "Digital Media/Technical/Metaverse",
          "System and Security/Technical/Metasploit",
          "System and Security/Technical/Memory Forensics",
          "System and Security/Technical/McAfee",
          "Digital Media/Technical/Maya",
          "Data Science & Analytics/Technical/Matplotlib",
          "Data Science & Analytics/Technical/Markov Chains",
          "Digital Media/Technical/Marketing Strategy",
          "Digital Media/Technical/Marketing Automation",
          "Digital Media/Technical/Marketing",
          "Software Development/Technical/Management",
          "System and Security/Technical/Malware Analysis",
          "System and Security/Technical/Maltego",
          "Digital Media/Technical/Mailchimp",
          "Software Development/Technical/Machine LearningEngineer",
          "Data Science & Analytics/Technical/Machine Learning",
          "Data Science & Analytics/Technical/MLflow",
          "System and Security/Technical/MITRE ATT&CK Framework",
          "Enterprise Systems/Technical/Oracle",
          "System and Security/Technical/RSA",
          "Software Development/Technical/Oracle",
          "Enterprise Systems/Technical/Oracle ERP",
          "Enterprise Systems/Technical/SAP BusinessObjects",
          "Data Science & Analytics/Technical/SAS",
          "Enterprise Systems/Technical/SAS",
          "Digital Media/Technical/SEM",
          "Digital Media/Technical/SEO",
          "Digital Media/Technical/SEO Writing",
          "Enterprise Systems/Technical/SIEM",
          "System and Security/Technical/SIEM",
          "System and Security/Technical/SIEM Investigation",
          "Enterprise Systems/Technical/SOAP",
          "Data Science & Analytics/Technical/SAP BusinessObjects",
          "System and Security/Technical/SOC 2",
          "System and Security/Technical/SOC Analyst",
          "Data Science & Analytics/Technical/SPSS",
          "Data Science & Analytics/Technical/SQL",
          "Digital Media/Technical/ROI Analysis",
          "Software Development/Technical/REST API",
          "Enterprise Systems/Technical/REST",
          "Data Science & Analytics/Technical/R",
          "System and Security/Technical/Quantum Cryptography",
          "Enterprise Systems/Technical/QlikView",
          "System and Security/Technical/QRadar",
          "Enterprise Systems/Technical/SOC 2 Compliance",
          "System and Security/Technical/Python",
          "Enterprise Systems/Technical/SAP",
          "System and Security/Technical/Rust",
          "Data Science & Analytics/Technical/RapidMiner",
          "Software Development/Technical/React",
          "Software Development/Technical/React Native",
          "System and Security/Technical/Red Teaming",
          "Enterprise Systems/Technical/Redis",
          "Software Development/Technical/Redis",
          "Data Science & Analytics/Technical/Regression Analysis",
          "Data Science & Analytics/Technical/Reinforcement Learning",
          "Data Science & Analytics/Technical/Reporting Automation",
          "Software Development/Soft/Resilience (Handling Bugs & Failures)",
          "System and Security/Technical/SAML",
          "System and Security/Soft/Resilience (Handling Incidents & Breaches)",
          "System and Security/Technical/Responder",
          "Digital Media/Technical/Responsive Design",
          "Digital Media/Technical/Restream",
          "System and Security/Technical/Reverse Engineering",
          "System and Security/Soft/Risk Assessment",
          "System and Security/Technical/Risk Assessment",
          "System and Security/Soft/Risk Assessment & Decision-Making",
          "System and Security/Technical/Risk Management",
          "Software Development/Technical/Ruby",
          "Software Development/Technical/Rust",
          "Data Science & Analytics/Soft/Resilience (Iterating Over Models)",
          "Software Development/Technical/Python",
          "Enterprise Systems/Technical/Python",
          "Data Science & Analytics/Technical/Python",
          "Software Development/Technical/PowerShell",
          "Enterprise Systems/Technical/PowerShell",
          "Enterprise Systems/Technical/Power BI",
          "Data Science & Analytics/Technical/Power BI",
          "Software Development/Technical/Postman",
          "Software Development/Technical/PostgreSQL",
          "Enterprise Systems/Technical/PostgreSQL",
          "Data Science & Analytics/Technical/PostgreSQL",
          "Data Science & Analytics/Technical/Polars",
          "Digital Media/Technical/Podcasting",
          "System and Security/Technical/PowerShell",
          "Data Science & Analytics/Technical/Plotly",
          "Digital Media/Technical/Pinterest Marketing",
          "Digital Media/Soft/Persuasion & Marketing Insight",
          "Enterprise Systems/Technical/PeopleSoft",
          "System and Security/Technical/Penetration Testing",
          "Data Science & Analytics/Soft/Pattern Recognition",
          "Data Science & Analytics/Technical/Pandas",
          "System and Security/Technical/Packet Analysis",
          "Digital Media/Technical/PPC",
          "Software Development/Technical/PHP",
          "System and Security/Technical/PCI DSS",
          "Data Science & Analytics/Technical/Pivot Tables",
          "Data Science & Analytics/Soft/Presentation",
          "Enterprise Systems/Soft/Presentation",
          "Data Science & Analytics/Technical/Presto",
          "Data Science & Analytics/Technical/PyTorch",
          "Software Development/Technical/PyTest",
          "Software Development/Technical/PyCharm",
          "System and Security/Technical/Purple Teaming",
          "Enterprise Systems/Technical/Puppet",
          "System and Security/Technical/Public Key Infrastructure (PKI)",
          "System and Security/Technical/Proxy Server",
          "Software Development/Technical/Project Manager",
          "Enterprise Systems/Soft/Project Management",
          "Digital Media/Soft/Project Management",
          "Enterprise Systems/Technical/Process Automation",
          "System and Security/Soft/Problem-Solving",
          "Software Development/Soft/Problem-Solving",
          "Enterprise Systems/Soft/Problem-Solving",
          "Digital Media/Soft/Problem-Solving",
          "Data Science & Analytics/Soft/Problem-Solving",
          "System and Security/Soft/Problem Solving",
          "Software Development/Soft/Problem Solving",
          "Enterprise Systems/Soft/Problem Solving",
          "Data Science & Analytics/Soft/Problem Solving",
          "Data Science & Analytics/Technical/Probability",
          "System and Security/Technical/Privileged Access Management (PAM)",
          "Software Development/Soft/Prioritization",
          "Enterprise Systems/Technical/Oracle Database",
          "Enterprise Systems/Technical/RabbitMQ",
          "Data Science & Analytics/Soft",
          "Digital Media/Soft",
          "Enterprise Systems/Soft",
          "Software Development/Soft",
          "System and Security/Soft",
          "Data Science & Analytics/Technical",
          "Digital Media/Technical",
          "Enterprise Systems/Technical",
          "Software Development/Technical",
          "System and Security/Technical",
          "Data Science & Analytics",
          "Digital Media",
          "Enterprise Systems",
          "Software Development",
          "System and Security"
         ],
         "insidetextorientation": "radial",
         "labels": [
          "Creativity",
          "Clustering",
          "Code Review",
          "Cognos Analytics",
          "Collaboration",
          "Collaboration",
          "Collaboration",
          "Collaboration",
          "Collaboration",
          "Collaboration & Teamwork",
          "Collaboration & Teamwork",
          "Collaboration & Teamwork",
          "Collaboration with Cross-Functional Teams",
          "Communication",
          "Communication",
          "Communication",
          "Communication",
          "Communication & Branding",
          "Communication & Collaboration",
          "Communication & Presentation Skills",
          "Communication & Storytelling",
          "Communication (Explaining Security Risks Clearly)",
          "Communication (Technical & Non-Technical)",
          "Community Management",
          "Cloud Workload Protection",
          "Cloud Security Posture Management (CSPM)",
          "Cloud Security",
          "Cloud Computing",
          "Decision-Making",
          "Decision-Making",
          "Decision Making",
          "Debugging & Troubleshooting",
          "Databricks",
          "DataRobot",
          "Data-Driven Decision-Making (SEO, Social Media Analytics)",
          "Data Wrangling",
          "Data Warehousing",
          "Campaign Management",
          "Canva",
          "CompTIA CASP+",
          "Carbon Black",
          "Cassandra",
          "CatBoost",
          "Change Management",
          "Chatbots",
          "Chef",
          "Cinema 4D",
          "Classification",
          "Client & Stakeholder Management",
          "Client & Stakeholder Management",
          "Cloud",
          "Cloud Access Security Broker",
          "Cassandra",
          "Deepfake TechnologyDigital Media",
          "CompTIA CySA+",
          "CompTIA Security+",
          "Creativity & Innovation",
          "Creativity & Innovation",
          "Critical Thinking",
          "Critical Thinking",
          "Critical Thinking",
          "CrowdStrike",
          "Cryptography",
          "Curiosity & Continuous Learning",
          "Cyber Kill Chain",
          "Cybersecurity",
          "Cypress",
          "D3.js",
          "DAX (Data Analysis Expressions)",
          "DB2",
          "DDoS Mitigation",
          "Dashboarding",
          "Dask",
          "Data Cleaning",
          "Data Mining",
          "Data Modeling",
          "Data Pipelines",
          "Data Protection",
          "Data Structures",
          "Creativity & Innovation",
          "Creativity",
          "Creativity",
          "Data Warehousing",
          "Compliance",
          "Concurrency",
          "Confidentiality & Discretion",
          "Conflict Resolution",
          "Container Security",
          "Content Creation",
          "Content Creator",
          "Content Marketing",
          "Content Strategy",
          "Continuous Deployment",
          "Continuous Integration",
          "CompTIA PenTest+",
          "Continuous Learning",
          "Conversion Rate Optimization (CRO)",
          "Convolutional Neural Networks (CNNs)",
          "Copywriting",
          "Creative",
          "Creative",
          "Creative",
          "Creative",
          "Creative Direction",
          "Creative Director",
          "Creative Writing",
          "Creativity",
          "Continuous Learning & Curiosity",
          "Data Transformation",
          "Delta Lake",
          "Determined",
          "Encryption",
          "Endpoint Detection and Response (EDR)",
          "Endpoint Security",
          "Engagement Metrics",
          "Enterprise",
          "Enterprise Architect",
          "Enterprise Engineer",
          "Enterprise Integration",
          "Enterprise Solutions",
          "Epicor ERP",
          "Ethical",
          "Ethical Considerations in AI",
          "Ethical Hacking",
          "Ethical Judgment & Integrity",
          "Excel",
          "ExcelSQL",
          "Experimentation & Research Mindset",
          "Exploit Development",
          "Exploratory Data Analysis (EDA)",
          "Extended Detection and Response (XDR)",
          "FISMA",
          "Design Patterns",
          "Facebook Marketing",
          "FastAPI",
          "Feature Engineering",
          "Feature Store",
          "FedRAMP",
          "Emotional Intelligence (Understanding Audience Needs)",
          "Email Marketing",
          "Facebook Ads",
          "Editorial Planning",
          "Elliptic Curve Cryptography (ECC)",
          "Determined",
          "Determined",
          "DevSecOps",
          "Digital Forensics",
          "Digital Illustration",
          "Digital Marketing",
          "Dimensionality Reduction",
          "Disk Forensics",
          "Django",
          "Docker",
          "Docker",
          "Docker",
          "Docker Security",
          "Data Visualization",
          "Documentation & Reporting",
          "Documentation & Reporting",
          "ETL (Extract, Transform, Load)",
          "Eclipse",
          "ELK Stack",
          "EDR Solutions",
          "E-commerce",
          "ETL",
          "Dynamic Code Analysis",
          "Driven",
          "Driven",
          "Driven",
          "Dplyr",
          "Domain Knowledge",
          "DynamoDB",
          "Security Information and Event Management",
          "Security Information and Event Management",
          "Security Awareness Training",
          "Security Auditing",
          "Secure SDLC",
          "Secure Coding",
          "Secrets Management",
          "Seaborn",
          "Scrum",
          "SQLite",
          "Scikit-learn",
          "Scala",
          "Salesforce",
          "SSL/TLS",
          "Security Orchestration, Automation, and Response (SOAR)",
          "SQL Server",
          "SQL Optimization",
          "SQL Injection Prevention",
          "SQL",
          "iOS",
          "Scriptwriting",
          "Security Risk Management",
          "Self-Motivated",
          "Self Motivated",
          "Social Media Strategy",
          "Social Media Marketing",
          "Social Media Manager",
          "Social Media Insights",
          "Social Media Analytics",
          "Social Media",
          "Social Listening",
          "Snowflake",
          "Snowflake",
          "Sketch",
          "Single Sign-On (SSO)",
          "Shopify",
          "Shodan",
          "ServiceNow",
          "Sentiment Analysis",
          "Self-Supervised Learning",
          "Self-Motivated",
          "Self-Motivated",
          "Self-Motivated",
          "Self Motivated",
          "Self Motivated",
          "Selenium",
          "Snort",
          "macOS",
          "Software Composition Analysis (SCA)",
          "Visual Design",
          "Visual Communication",
          "Visual",
          "Visual",
          "Visionary",
          "Visionary",
          "Virtual Reality (VR)",
          "Virtual Events",
          "Video Production",
          "Video Editor",
          "Video Editing",
          "Vault",
          "Visual Effects",
          "VS Code",
          "VMware",
          "VFX",
          "VBA",
          "User Experience",
          "User Engagement",
          "Unix",
          "UX/UI Designer",
          "UX Research",
          "UX",
          "UI/UX Design",
          "UI",
          "Typography",
          "VPN",
          "TypeScript",
          "Visual Thinking",
          "Vue.js",
          "ggplot2",
          "Zero Trust Security",
          "Zero Trust Architecture",
          "Zero Trust",
          "Zachman FrameworkERP",
          "YouTube Marketing",
          "YouTube Live",
          "YOLO",
          "YARA Rules",
          "Xcode",
          "Xamarin",
          "XGBoost",
          "Voiceover",
          "Works well under pressure",
          "WordPress",
          "Word Embeddings",
          "Wireshark",
          "Windows",
          "Webinar Hosting",
          "Webflow",
          "Web Services",
          "Web Designer",
          "Web Design",
          "Web Application Security",
          "Vulnerability Assessment",
          "Vulnerability",
          "Workday",
          "TypeScript",
          "Viral Marketing",
          "Twitch Streaming",
          "TOGAF",
          "TLS Certificates",
          "TDD (Test-Driven Development)",
          "Systems Thinking",
          "System Security",
          "System Analyst",
          "Symantec",
          "Swift",
          "Support Vector Machines (SVM)",
          "Storytelling with Data",
          "Storytelling & Narrative Skills",
          "Storytelling",
          "Storytelling",
          "Storytelling",
          "Statistical Analysis",
          "Static Code Analysis",
          "Stakeholder Management",
          "Stakeholder Engagement",
          "Twitter Marketing",
          "Spring Boot",
          "Spotify Podcasting",
          "Splunk",
          "Splunk",
          "Spark",
          "SpaCy",
          "Sound Design",
          "Sophos",
          "Tableau",
          "Tableau",
          "Sprout Social",
          "Teamwork",
          "Time Series Forecasting",
          "Tableau",
          "Time Series Analysis",
          "Time Management & Deadlines",
          "Time Management",
          "Time Management",
          "TikTok Marketing",
          "Tidyverse",
          "Tibco",
          "Threat Modeling",
          "Threat Intelligence Platforms",
          "Threat Intelligence",
          "Threat Hunting",
          "Time Management",
          "Threat Analysis",
          "Threat Feeds",
          "Teamwork",
          "Teamwork",
          "Technical Writing",
          "Teamwork",
          "TensorFlow",
          "Teamwork & Collaboration",
          "Terraform",
          "Terraform",
          "Terraform Security",
          "Text Classification",
          "Teradata",
          "JUnit",
          "Interactive Video",
          "Interactive Media",
          "IntelliJ IDEA",
          "Integrity",
          "Instagram Marketing",
          "Inspired",
          "Insightful",
          "Infrastructure as Code (IaC)",
          "Innovative",
          "Innovative",
          "Innovative",
          "Information Security",
          "Infor ERP",
          "Infographics",
          "Java",
          "Influencer Marketing",
          "Innovative",
          "Java",
          "KPI Tracking",
          "JavaScript",
          "Influencer",
          "Kubeflow",
          "Kotlin",
          "Klaviyo",
          "Kerberos",
          "Keras",
          "Kali Linux",
          "Kafka",
          "KPI Analysis",
          "Jupyter Notebook",
          "Julia",
          "John the Ripper",
          "Jest",
          "Jenkins",
          "Jenkins",
          "JavaScript",
          "JavaScript",
          "JavaScript",
          "JavaScript",
          "Java",
          "Indicator of Compromise (IOC)",
          "JD Edwards",
          "Incident Response",
          "GDPR",
          "GANs (Generative Adversarial Networks)",
          "Functional Programming",
          "Forensics",
          "Forensic Analysis",
          "Flutter",
          "Flexible",
          "Flexible",
          "Flexible",
          "GDPR Compliance",
          "Flexibility",
          "Flexibility",
          "Flexibility",
          "Flask",
          "Flask",
          "Firewall",
          "Firebase",
          "FinanceSQL Server",
          "Final Cut Pro",
          "Figma",
          "Flexibility",
          "Federated Identity Management",
          "GIAC",
          "GSEC",
          "Google Sheets",
          "Google Data Studio",
          "Google Data Studio",
          "Google Colab",
          "Google Cloud Security EngineerCybersecurity",
          "Google Cloud Security",
          "Google Cloud Platform",
          "Google Cloud Platform",
          "Google Cloud Platform",
          "GPT",
          "Google BigQuery",
          "Google Ads",
          "Go",
          "Go",
          "GitLab",
          "GitHub Actions",
          "GitHub Actions",
          "GitHub",
          "Git",
          "GarageBand",
          "Google Analytics",
          "Google Tag Manager",
          "Incident Response Under Pressure",
          "GraphQL API",
          "Honesty",
          "Honest",
          "Homomorphic Encryption",
          "Hashtag Strategy",
          "Hashing",
          "HashiCorp Vault",
          "Handling Ambiguity",
          "Hadoop",
          "Hootsuite",
          "HTML",
          "HIPAA",
          "H2O.ai",
          "Graylog",
          "Graphic Designer",
          "Graphic Design",
          "GraphQL",
          "GraphQL",
          "Gradient Boosting",
          "HTML",
          "HubSpot",
          "Hashcat",
          "Hybrid Cloud",
          "Image Processing",
          "Identity and Access Management (IAM)",
          "Hugging Face Transformers",
          "ITIL",
          "IT Operations",
          "IT Governance & Compliance Awareness",
          "IT Consultant",
          "IT Auditor",
          "ISO 27001",
          "Identity and Access Management",
          "IPSec",
          "ISO 27001",
          "Hypothesis Testing",
          "IAM",
          "IBM Cognos",
          "IAM",
          "IDS",
          "IPS",
          "IBM WebSphere",
          "C++",
          "Business Process Understanding",
          "C++",
          "C#",
          "C#",
          "C",
          "Business Systems",
          "Business Applications",
          "Buffer",
          "Burp Suite",
          "Bug Bounty Programs",
          "Branding",
          "Brand Storytelling",
          "Brand Management",
          "Brand Identity",
          "C++",
          "Business Acumen",
          "CASB",
          "AES",
          "CEH",
          "Blue Teaming",
          "2D Animation",
          "3D Animation",
          "802.1X",
          "CSS",
          "CSS",
          "CRM",
          "CCSP",
          "COBIT",
          "CISSP",
          "CISM",
          "CISA",
          "CIS Controls",
          "CI/CD Security",
          "CI/CD",
          "CI/CD",
          "COBIT",
          "A/B Testing",
          "BloodHound",
          "Blender",
          "Adaptability to Change (New ERPs & Software)",
          "Adaptability to Trends & Platforms",
          "Adobe",
          "Adobe After Effects",
          "Adobe Analytics",
          "Adobe Audition",
          "Adobe Illustrator",
          "Adaptability (Handling New Threats)",
          "Adobe InDesign",
          "Adobe Premiere Pro",
          "Affiliate Marketing",
          "Agile & Scrum Methodologies",
          "Aircrack-ng",
          "Airflow",
          "Algorithms",
          "AlienVault",
          "Adobe Photoshop",
          "Alteryx",
          "Adaptability",
          "Adaptability",
          "AI",
          "AI",
          "AI in Media",
          "AI-Generated Content",
          "ANOVA",
          "API Management",
          "API Security",
          "Adaptability",
          "ASP.NET",
          "AWS",
          "AWS",
          "AWS Certified Security Specialty",
          "AWS Redshift",
          "AWS Security",
          "Active Directory",
          "Active Directory",
          "AWS",
          "Analytical Thinking",
          "Android",
          "Android Studio",
          "Awareness",
          "Awareness of Compliance & Regulations",
          "Azure",
          "Azure",
          "Azure Security",
          "Azure Security Engineer Associate",
          "Azure Synapse Analytics",
          "AutoML",
          "BERT",
          "Bash",
          "Bash Scripting",
          "Bayesian Statistics",
          "BigQuery",
          "BigQuery",
          "BitLocker",
          "Bitbucket",
          "Bash",
          "Augmented Reality (AR)",
          "Audio Editing",
          "Audacity",
          "Angular",
          "Animation",
          "Ansible",
          "Ansible Security",
          "Antivirus",
          "Apache Airflow",
          "Apache Kafka",
          "Apache Spark",
          "Apex",
          "Art Direction",
          "Artificial Intelligence",
          "Artificial IntelligenceOpenCV",
          "Attention to Detail",
          "Attention to Detail",
          "Attention to Detail",
          "A/B Testing",
          "Attention to Detail",
          "Blogging",
          "Attention to Detail",
          ".NET Framework",
          "Random Forest",
          "NetSuite",
          "NetBeans",
          "Natural Language Processing (NLP)",
          "Named Entity Recognition (NER)",
          "Nagios",
          "NLTK",
          "NLP",
          "NIST Framework",
          "NIST",
          "NFTs",
          "Network Forensics",
          "MySQL",
          "MySQL",
          "Multithreading",
          "Multimedia Production",
          "Multimedia",
          "Multi-Factor Authentication (MFA)",
          "MuleSoft",
          "Motion Graphics",
          "Monitoring Tools",
          "MongoDB",
          "MongoDB",
          "MySQL",
          "MongoDB",
          "Network Security",
          "Neural Networks",
          "Oracle",
          "Optimization",
          "OpenVAS",
          "OpenShift",
          "Online Analytical Processing",
          "Object-Oriented Programming (OOP)",
          "Object Detection",
          "OWASP",
          "OSINT",
          "OSCP",
          "Network Segmentation",
          "OLAP",
          "OAuth",
          "NumPy",
          "Norton",
          "Node.js",
          "Node.js",
          "NoSQL",
          "NoSQL",
          "Nmap",
          "Nikto",
          "New Relic",
          "OBS Studio",
          "Mocha",
          "Mobile Device Management (MDM)",
          "Mixing and Mastering",
          "Logical Thinking",
          "Logical & Analytical Thinking",
          "LogRhythm",
          "Log Analysis",
          "Load Balancer",
          "Livestream Production",
          "Live Video Editing",
          "Linux",
          "LinkedIn Marketing",
          "Linear Algebra",
          "Looker",
          "LightGBM",
          "Leadership",
          "Leadership",
          "Leadership",
          "Lead Generation",
          "Landing Page Optimization",
          "LDAP",
          "Kubernetes Security",
          "Kubernetes",
          "Kubernetes",
          "Kubernetes",
          "Leadership",
          "Looker",
          "Looker",
          "MATLAB",
          "Microsoft Sentinel",
          "Microsoft Dynamics",
          "Microsoft Defender",
          "Microsoft Azure",
          "Microservices",
          "Metaverse",
          "Metasploit",
          "Memory Forensics",
          "McAfee",
          "Maya",
          "Matplotlib",
          "Markov Chains",
          "Marketing Strategy",
          "Marketing Automation",
          "Marketing",
          "Management",
          "Malware Analysis",
          "Maltego",
          "Mailchimp",
          "Machine LearningEngineer",
          "Machine Learning",
          "MLflow",
          "MITRE ATT&CK Framework",
          "Oracle",
          "RSA",
          "Oracle",
          "Oracle ERP",
          "SAP BusinessObjects",
          "SAS",
          "SAS",
          "SEM",
          "SEO",
          "SEO Writing",
          "SIEM",
          "SIEM",
          "SIEM Investigation",
          "SOAP",
          "SAP BusinessObjects",
          "SOC 2",
          "SOC Analyst",
          "SPSS",
          "SQL",
          "ROI Analysis",
          "REST API",
          "REST",
          "R",
          "Quantum Cryptography",
          "QlikView",
          "QRadar",
          "SOC 2 Compliance",
          "Python",
          "SAP",
          "Rust",
          "RapidMiner",
          "React",
          "React Native",
          "Red Teaming",
          "Redis",
          "Redis",
          "Regression Analysis",
          "Reinforcement Learning",
          "Reporting Automation",
          "Resilience (Handling Bugs & Failures)",
          "SAML",
          "Resilience (Handling Incidents & Breaches)",
          "Responder",
          "Responsive Design",
          "Restream",
          "Reverse Engineering",
          "Risk Assessment",
          "Risk Assessment",
          "Risk Assessment & Decision-Making",
          "Risk Management",
          "Ruby",
          "Rust",
          "Resilience (Iterating Over Models)",
          "Python",
          "Python",
          "Python",
          "PowerShell",
          "PowerShell",
          "Power BI",
          "Power BI",
          "Postman",
          "PostgreSQL",
          "PostgreSQL",
          "PostgreSQL",
          "Polars",
          "Podcasting",
          "PowerShell",
          "Plotly",
          "Pinterest Marketing",
          "Persuasion & Marketing Insight",
          "PeopleSoft",
          "Penetration Testing",
          "Pattern Recognition",
          "Pandas",
          "Packet Analysis",
          "PPC",
          "PHP",
          "PCI DSS",
          "Pivot Tables",
          "Presentation",
          "Presentation",
          "Presto",
          "PyTorch",
          "PyTest",
          "PyCharm",
          "Purple Teaming",
          "Puppet",
          "Public Key Infrastructure (PKI)",
          "Proxy Server",
          "Project Manager",
          "Project Management",
          "Project Management",
          "Process Automation",
          "Problem-Solving",
          "Problem-Solving",
          "Problem-Solving",
          "Problem-Solving",
          "Problem-Solving",
          "Problem Solving",
          "Problem Solving",
          "Problem Solving",
          "Problem Solving",
          "Probability",
          "Privileged Access Management (PAM)",
          "Prioritization",
          "Oracle Database",
          "RabbitMQ",
          "Soft",
          "Soft",
          "Soft",
          "Soft",
          "Soft",
          "Technical",
          "Technical",
          "Technical",
          "Technical",
          "Technical",
          "Data Science & Analytics",
          "Digital Media",
          "Enterprise Systems",
          "Software Development",
          "System and Security"
         ],
         "marker": {
          "colors": [
           "rgb(102, 197, 204)",
           "rgb(246, 207, 113)",
           "rgb(248, 156, 116)",
           "rgb(220, 176, 242)",
           "rgb(246, 207, 113)",
           "rgb(102, 197, 204)",
           "rgb(220, 176, 242)",
           "rgb(135, 197, 95)",
           "rgb(248, 156, 116)",
           "rgb(246, 207, 113)",
           "rgb(102, 197, 204)",
           "rgb(135, 197, 95)",
           "rgb(246, 207, 113)",
           "rgb(246, 207, 113)",
           "rgb(220, 176, 242)",
           "rgb(135, 197, 95)",
           "rgb(248, 156, 116)",
           "rgb(102, 197, 204)",
           "rgb(220, 176, 242)",
           "rgb(246, 207, 113)",
           "rgb(246, 207, 113)",
           "rgb(248, 156, 116)",
           "rgb(135, 197, 95)",
           "rgb(102, 197, 204)",
           "rgb(248, 156, 116)",
           "rgb(248, 156, 116)",
           "rgb(248, 156, 116)",
           "rgb(135, 197, 95)",
           "rgb(220, 176, 242)",
           "rgb(246, 207, 113)",
           "rgb(102, 197, 204)",
           "rgb(135, 197, 95)",
           "rgb(246, 207, 113)",
           "rgb(246, 207, 113)",
           "rgb(102, 197, 204)",
           "rgb(246, 207, 113)",
           "rgb(220, 176, 242)",
           "rgb(102, 197, 204)",
           "rgb(102, 197, 204)",
           "rgb(248, 156, 116)",
           "rgb(248, 156, 116)",
           "rgb(135, 197, 95)",
           "rgb(246, 207, 113)",
           "rgb(220, 176, 242)",
           "rgb(102, 197, 204)",
           "rgb(220, 176, 242)",
           "rgb(102, 197, 204)",
           "rgb(246, 207, 113)",
           "rgb(102, 197, 204)",
           "rgb(135, 197, 95)",
           "rgb(135, 197, 95)",
           "rgb(248, 156, 116)",
           "rgb(246, 207, 113)",
           "rgb(102, 197, 204)",
           "rgb(248, 156, 116)",
           "rgb(248, 156, 116)",
           "rgb(102, 197, 204)",
           "rgb(135, 197, 95)",
           "rgb(246, 207, 113)",
           "rgb(135, 197, 95)",
           "rgb(248, 156, 116)",
           "rgb(248, 156, 116)",
           "rgb(248, 156, 116)",
           "rgb(246, 207, 113)",
           "rgb(248, 156, 116)",
           "rgb(248, 156, 116)",
           "rgb(135, 197, 95)",
           "rgb(246, 207, 113)",
           "rgb(246, 207, 113)",
           "rgb(220, 176, 242)",
           "rgb(248, 156, 116)",
           "rgb(246, 207, 113)",
           "rgb(246, 207, 113)",
           "rgb(246, 207, 113)",
           "rgb(246, 207, 113)",
           "rgb(220, 176, 242)",
           "rgb(246, 207, 113)",
           "rgb(248, 156, 116)",
           "rgb(135, 197, 95)",
           "rgb(246, 207, 113)",
           "rgb(135, 197, 95)",
           "rgb(220, 176, 242)",
           "rgb(246, 207, 113)",
           "rgb(248, 156, 116)",
           "rgb(135, 197, 95)",
           "rgb(248, 156, 116)",
           "rgb(220, 176, 242)",
           "rgb(248, 156, 116)",
           "rgb(102, 197, 204)",
           "rgb(102, 197, 204)",
           "rgb(102, 197, 204)",
           "rgb(102, 197, 204)",
           "rgb(220, 176, 242)",
           "rgb(220, 176, 242)",
           "rgb(248, 156, 116)",
           "rgb(135, 197, 95)",
           "rgb(102, 197, 204)",
           "rgb(246, 207, 113)",
           "rgb(102, 197, 204)",
           "rgb(246, 207, 113)",
           "rgb(102, 197, 204)",
           "rgb(220, 176, 242)",
           "rgb(135, 197, 95)",
           "rgb(102, 197, 204)",
           "rgb(102, 197, 204)",
           "rgb(102, 197, 204)",
           "rgb(246, 207, 113)",
           "rgb(248, 156, 116)",
           "rgb(246, 207, 113)",
           "rgb(246, 207, 113)",
           "rgb(246, 207, 113)",
           "rgb(248, 156, 116)",
           "rgb(248, 156, 116)",
           "rgb(248, 156, 116)",
           "rgb(102, 197, 204)",
           "rgb(220, 176, 242)",
           "rgb(220, 176, 242)",
           "rgb(220, 176, 242)",
           "rgb(220, 176, 242)",
           "rgb(220, 176, 242)",
           "rgb(220, 176, 242)",
           "rgb(248, 156, 116)",
           "rgb(246, 207, 113)",
           "rgb(248, 156, 116)",
           "rgb(248, 156, 116)",
           "rgb(246, 207, 113)",
           "rgb(220, 176, 242)",
           "rgb(246, 207, 113)",
           "rgb(248, 156, 116)",
           "rgb(246, 207, 113)",
           "rgb(248, 156, 116)",
           "rgb(248, 156, 116)",
           "rgb(135, 197, 95)",
           "rgb(102, 197, 204)",
           "rgb(246, 207, 113)",
           "rgb(246, 207, 113)",
           "rgb(246, 207, 113)",
           "rgb(248, 156, 116)",
           "rgb(102, 197, 204)",
           "rgb(102, 197, 204)",
           "rgb(102, 197, 204)",
           "rgb(102, 197, 204)",
           "rgb(248, 156, 116)",
           "rgb(220, 176, 242)",
           "rgb(135, 197, 95)",
           "rgb(248, 156, 116)",
           "rgb(248, 156, 116)",
           "rgb(102, 197, 204)",
           "rgb(102, 197, 204)",
           "rgb(246, 207, 113)",
           "rgb(248, 156, 116)",
           "rgb(135, 197, 95)",
           "rgb(246, 207, 113)",
           "rgb(220, 176, 242)",
           "rgb(135, 197, 95)",
           "rgb(248, 156, 116)",
           "rgb(102, 197, 204)",
           "rgb(248, 156, 116)",
           "rgb(220, 176, 242)",
           "rgb(246, 207, 113)",
           "rgb(135, 197, 95)",
           "rgb(248, 156, 116)",
           "rgb(248, 156, 116)",
           "rgb(102, 197, 204)",
           "rgb(220, 176, 242)",
           "rgb(248, 156, 116)",
           "rgb(135, 197, 95)",
           "rgb(220, 176, 242)",
           "rgb(246, 207, 113)",
           "rgb(246, 207, 113)",
           "rgb(246, 207, 113)",
           "rgb(135, 197, 95)",
           "rgb(248, 156, 116)",
           "rgb(220, 176, 242)",
           "rgb(248, 156, 116)",
           "rgb(248, 156, 116)",
           "rgb(248, 156, 116)",
           "rgb(248, 156, 116)",
           "rgb(248, 156, 116)",
           "rgb(246, 207, 113)",
           "rgb(135, 197, 95)",
           "rgb(135, 197, 95)",
           "rgb(246, 207, 113)",
           "rgb(246, 207, 113)",
           "rgb(220, 176, 242)",
           "rgb(248, 156, 116)",
           "rgb(248, 156, 116)",
           "rgb(135, 197, 95)",
           "rgb(246, 207, 113)",
           "rgb(248, 156, 116)",
           "rgb(135, 197, 95)",
           "rgb(135, 197, 95)",
           "rgb(102, 197, 204)",
           "rgb(248, 156, 116)",
           "rgb(135, 197, 95)",
           "rgb(246, 207, 113)",
           "rgb(102, 197, 204)",
           "rgb(102, 197, 204)",
           "rgb(102, 197, 204)",
           "rgb(102, 197, 204)",
           "rgb(102, 197, 204)",
           "rgb(102, 197, 204)",
           "rgb(102, 197, 204)",
           "rgb(220, 176, 242)",
           "rgb(246, 207, 113)",
           "rgb(102, 197, 204)",
           "rgb(248, 156, 116)",
           "rgb(102, 197, 204)",
           "rgb(248, 156, 116)",
           "rgb(220, 176, 242)",
           "rgb(246, 207, 113)",
           "rgb(246, 207, 113)",
           "rgb(220, 176, 242)",
           "rgb(102, 197, 204)",
           "rgb(246, 207, 113)",
           "rgb(135, 197, 95)",
           "rgb(220, 176, 242)",
           "rgb(135, 197, 95)",
           "rgb(248, 156, 116)",
           "rgb(135, 197, 95)",
           "rgb(248, 156, 116)",
           "rgb(102, 197, 204)",
           "rgb(102, 197, 204)",
           "rgb(220, 176, 242)",
           "rgb(246, 207, 113)",
           "rgb(220, 176, 242)",
           "rgb(246, 207, 113)",
           "rgb(102, 197, 204)",
           "rgb(102, 197, 204)",
           "rgb(102, 197, 204)",
           "rgb(102, 197, 204)",
           "rgb(102, 197, 204)",
           "rgb(248, 156, 116)",
           "rgb(102, 197, 204)",
           "rgb(135, 197, 95)",
           "rgb(220, 176, 242)",
           "rgb(102, 197, 204)",
           "rgb(246, 207, 113)",
           "rgb(102, 197, 204)",
           "rgb(102, 197, 204)",
           "rgb(135, 197, 95)",
           "rgb(102, 197, 204)",
           "rgb(102, 197, 204)",
           "rgb(102, 197, 204)",
           "rgb(102, 197, 204)",
           "rgb(102, 197, 204)",
           "rgb(102, 197, 204)",
           "rgb(248, 156, 116)",
           "rgb(135, 197, 95)",
           "rgb(102, 197, 204)",
           "rgb(135, 197, 95)",
           "rgb(246, 207, 113)",
           "rgb(248, 156, 116)",
           "rgb(248, 156, 116)",
           "rgb(248, 156, 116)",
           "rgb(220, 176, 242)",
           "rgb(102, 197, 204)",
           "rgb(102, 197, 204)",
           "rgb(246, 207, 113)",
           "rgb(248, 156, 116)",
           "rgb(135, 197, 95)",
           "rgb(135, 197, 95)",
           "rgb(246, 207, 113)",
           "rgb(102, 197, 204)",
           "rgb(248, 156, 116)",
           "rgb(102, 197, 204)",
           "rgb(246, 207, 113)",
           "rgb(248, 156, 116)",
           "rgb(135, 197, 95)",
           "rgb(102, 197, 204)",
           "rgb(102, 197, 204)",
           "rgb(220, 176, 242)",
           "rgb(102, 197, 204)",
           "rgb(102, 197, 204)",
           "rgb(248, 156, 116)",
           "rgb(248, 156, 116)",
           "rgb(248, 156, 116)",
           "rgb(220, 176, 242)",
           "rgb(220, 176, 242)",
           "rgb(102, 197, 204)",
           "rgb(102, 197, 204)",
           "rgb(220, 176, 242)",
           "rgb(248, 156, 116)",
           "rgb(135, 197, 95)",
           "rgb(220, 176, 242)",
           "rgb(248, 156, 116)",
           "rgb(220, 176, 242)",
           "rgb(248, 156, 116)",
           "rgb(135, 197, 95)",
           "rgb(246, 207, 113)",
           "rgb(246, 207, 113)",
           "rgb(102, 197, 204)",
           "rgb(102, 197, 204)",
           "rgb(220, 176, 242)",
           "rgb(246, 207, 113)",
           "rgb(246, 207, 113)",
           "rgb(248, 156, 116)",
           "rgb(220, 176, 242)",
           "rgb(246, 207, 113)",
           "rgb(102, 197, 204)",
           "rgb(135, 197, 95)",
           "rgb(102, 197, 204)",
           "rgb(248, 156, 116)",
           "rgb(220, 176, 242)",
           "rgb(246, 207, 113)",
           "rgb(246, 207, 113)",
           "rgb(102, 197, 204)",
           "rgb(248, 156, 116)",
           "rgb(246, 207, 113)",
           "rgb(102, 197, 204)",
           "rgb(102, 197, 204)",
           "rgb(246, 207, 113)",
           "rgb(246, 207, 113)",
           "rgb(220, 176, 242)",
           "rgb(246, 207, 113)",
           "rgb(102, 197, 204)",
           "rgb(135, 197, 95)",
           "rgb(246, 207, 113)",
           "rgb(102, 197, 204)",
           "rgb(246, 207, 113)",
           "rgb(220, 176, 242)",
           "rgb(248, 156, 116)",
           "rgb(248, 156, 116)",
           "rgb(248, 156, 116)",
           "rgb(248, 156, 116)",
           "rgb(220, 176, 242)",
           "rgb(248, 156, 116)",
           "rgb(248, 156, 116)",
           "rgb(135, 197, 95)",
           "rgb(220, 176, 242)",
           "rgb(102, 197, 204)",
           "rgb(102, 197, 204)",
           "rgb(246, 207, 113)",
           "rgb(248, 156, 116)",
           "rgb(220, 176, 242)",
           "rgb(135, 197, 95)",
           "rgb(248, 156, 116)",
           "rgb(246, 207, 113)",
           "rgb(220, 176, 242)",
           "rgb(135, 197, 95)",
           "rgb(102, 197, 204)",
           "rgb(102, 197, 204)",
           "rgb(135, 197, 95)",
           "rgb(248, 156, 116)",
           "rgb(102, 197, 204)",
           "rgb(102, 197, 204)",
           "rgb(102, 197, 204)",
           "rgb(248, 156, 116)",
           "rgb(135, 197, 95)",
           "rgb(220, 176, 242)",
           "rgb(246, 207, 113)",
           "rgb(248, 156, 116)",
           "rgb(220, 176, 242)",
           "rgb(102, 197, 204)",
           "rgb(246, 207, 113)",
           "rgb(102, 197, 204)",
           "rgb(248, 156, 116)",
           "rgb(220, 176, 242)",
           "rgb(102, 197, 204)",
           "rgb(246, 207, 113)",
           "rgb(102, 197, 204)",
           "rgb(246, 207, 113)",
           "rgb(135, 197, 95)",
           "rgb(102, 197, 204)",
           "rgb(248, 156, 116)",
           "rgb(246, 207, 113)",
           "rgb(248, 156, 116)",
           "rgb(246, 207, 113)",
           "rgb(246, 207, 113)",
           "rgb(246, 207, 113)",
           "rgb(246, 207, 113)",
           "rgb(248, 156, 116)",
           "rgb(135, 197, 95)",
           "rgb(135, 197, 95)",
           "rgb(220, 176, 242)",
           "rgb(248, 156, 116)",
           "rgb(135, 197, 95)",
           "rgb(220, 176, 242)",
           "rgb(102, 197, 204)",
           "rgb(135, 197, 95)",
           "rgb(248, 156, 116)",
           "rgb(220, 176, 242)",
           "rgb(248, 156, 116)",
           "rgb(248, 156, 116)",
           "rgb(246, 207, 113)",
           "rgb(135, 197, 95)",
           "rgb(248, 156, 116)",
           "rgb(248, 156, 116)",
           "rgb(135, 197, 95)",
           "rgb(135, 197, 95)",
           "rgb(220, 176, 242)",
           "rgb(246, 207, 113)",
           "rgb(220, 176, 242)",
           "rgb(248, 156, 116)",
           "rgb(220, 176, 242)",
           "rgb(246, 207, 113)",
           "rgb(135, 197, 95)",
           "rgb(246, 207, 113)",
           "rgb(248, 156, 116)",
           "rgb(135, 197, 95)",
           "rgb(220, 176, 242)",
           "rgb(102, 197, 204)",
           "rgb(102, 197, 204)",
           "rgb(135, 197, 95)",
           "rgb(248, 156, 116)",
           "rgb(248, 156, 116)",
           "rgb(248, 156, 116)",
           "rgb(246, 207, 113)",
           "rgb(102, 197, 204)",
           "rgb(246, 207, 113)",
           "rgb(246, 207, 113)",
           "rgb(248, 156, 116)",
           "rgb(248, 156, 116)",
           "rgb(135, 197, 95)",
           "rgb(220, 176, 242)",
           "rgb(246, 207, 113)",
           "rgb(246, 207, 113)",
           "rgb(246, 207, 113)",
           "rgb(102, 197, 204)",
           "rgb(248, 156, 116)",
           "rgb(135, 197, 95)",
           "rgb(135, 197, 95)",
           "rgb(135, 197, 95)",
           "rgb(220, 176, 242)",
           "rgb(135, 197, 95)",
           "rgb(135, 197, 95)",
           "rgb(102, 197, 204)",
           "rgb(102, 197, 204)",
           "rgb(102, 197, 204)",
           "rgb(248, 156, 116)",
           "rgb(135, 197, 95)",
           "rgb(248, 156, 116)",
           "rgb(248, 156, 116)",
           "rgb(248, 156, 116)",
           "rgb(102, 197, 204)",
           "rgb(248, 156, 116)",
           "rgb(248, 156, 116)",
           "rgb(246, 207, 113)",
           "rgb(246, 207, 113)",
           "rgb(102, 197, 204)",
           "rgb(135, 197, 95)",
           "rgb(248, 156, 116)",
           "rgb(246, 207, 113)",
           "rgb(248, 156, 116)",
           "rgb(102, 197, 204)",
           "rgb(102, 197, 204)",
           "rgb(135, 197, 95)",
           "rgb(220, 176, 242)",
           "rgb(246, 207, 113)",
           "rgb(102, 197, 204)",
           "rgb(102, 197, 204)",
           "rgb(248, 156, 116)",
           "rgb(220, 176, 242)",
           "rgb(246, 207, 113)",
           "rgb(248, 156, 116)",
           "rgb(246, 207, 113)",
           "rgb(220, 176, 242)",
           "rgb(220, 176, 242)",
           "rgb(220, 176, 242)",
           "rgb(220, 176, 242)",
           "rgb(248, 156, 116)",
           "rgb(248, 156, 116)",
           "rgb(220, 176, 242)",
           "rgb(248, 156, 116)",
           "rgb(220, 176, 242)",
           "rgb(246, 207, 113)",
           "rgb(248, 156, 116)",
           "rgb(246, 207, 113)",
           "rgb(220, 176, 242)",
           "rgb(248, 156, 116)",
           "rgb(248, 156, 116)",
           "rgb(220, 176, 242)",
           "rgb(246, 207, 113)",
           "rgb(220, 176, 242)",
           "rgb(135, 197, 95)",
           "rgb(135, 197, 95)",
           "rgb(220, 176, 242)",
           "rgb(248, 156, 116)",
           "rgb(220, 176, 242)",
           "rgb(220, 176, 242)",
           "rgb(102, 197, 204)",
           "rgb(248, 156, 116)",
           "rgb(248, 156, 116)",
           "rgb(102, 197, 204)",
           "rgb(102, 197, 204)",
           "rgb(102, 197, 204)",
           "rgb(102, 197, 204)",
           "rgb(248, 156, 116)",
           "rgb(246, 207, 113)",
           "rgb(248, 156, 116)",
           "rgb(248, 156, 116)",
           "rgb(248, 156, 116)",
           "rgb(248, 156, 116)",
           "rgb(102, 197, 204)",
           "rgb(102, 197, 204)",
           "rgb(248, 156, 116)",
           "rgb(135, 197, 95)",
           "rgb(102, 197, 204)",
           "rgb(220, 176, 242)",
           "rgb(248, 156, 116)",
           "rgb(248, 156, 116)",
           "rgb(248, 156, 116)",
           "rgb(248, 156, 116)",
           "rgb(248, 156, 116)",
           "rgb(248, 156, 116)",
           "rgb(248, 156, 116)",
           "rgb(135, 197, 95)",
           "rgb(220, 176, 242)",
           "rgb(220, 176, 242)",
           "rgb(102, 197, 204)",
           "rgb(248, 156, 116)",
           "rgb(102, 197, 204)",
           "rgb(220, 176, 242)",
           "rgb(102, 197, 204)",
           "rgb(102, 197, 204)",
           "rgb(102, 197, 204)",
           "rgb(102, 197, 204)",
           "rgb(102, 197, 204)",
           "rgb(102, 197, 204)",
           "rgb(248, 156, 116)",
           "rgb(102, 197, 204)",
           "rgb(102, 197, 204)",
           "rgb(102, 197, 204)",
           "rgb(135, 197, 95)",
           "rgb(248, 156, 116)",
           "rgb(246, 207, 113)",
           "rgb(135, 197, 95)",
           "rgb(248, 156, 116)",
           "rgb(102, 197, 204)",
           "rgb(246, 207, 113)",
           "rgb(248, 156, 116)",
           "rgb(246, 207, 113)",
           "rgb(246, 207, 113)",
           "rgb(135, 197, 95)",
           "rgb(102, 197, 204)",
           "rgb(102, 197, 204)",
           "rgb(246, 207, 113)",
           "rgb(220, 176, 242)",
           "rgb(248, 156, 116)",
           "rgb(135, 197, 95)",
           "rgb(135, 197, 95)",
           "rgb(220, 176, 242)",
           "rgb(135, 197, 95)",
           "rgb(248, 156, 116)",
           "rgb(246, 207, 113)",
           "rgb(248, 156, 116)",
           "rgb(220, 176, 242)",
           "rgb(248, 156, 116)",
           "rgb(246, 207, 113)",
           "rgb(246, 207, 113)",
           "rgb(135, 197, 95)",
           "rgb(135, 197, 95)",
           "rgb(248, 156, 116)",
           "rgb(248, 156, 116)",
           "rgb(246, 207, 113)",
           "rgb(135, 197, 95)",
           "rgb(248, 156, 116)",
           "rgb(248, 156, 116)",
           "rgb(246, 207, 113)",
           "rgb(246, 207, 113)",
           "rgb(246, 207, 113)",
           "rgb(248, 156, 116)",
           "rgb(220, 176, 242)",
           "rgb(246, 207, 113)",
           "rgb(246, 207, 113)",
           "rgb(220, 176, 242)",
           "rgb(248, 156, 116)",
           "rgb(135, 197, 95)",
           "rgb(135, 197, 95)",
           "rgb(102, 197, 204)",
           "rgb(102, 197, 204)",
           "rgb(102, 197, 204)",
           "rgb(135, 197, 95)",
           "rgb(102, 197, 204)",
           "rgb(220, 176, 242)",
           "rgb(248, 156, 116)",
           "rgb(248, 156, 116)",
           "rgb(246, 207, 113)",
           "rgb(220, 176, 242)",
           "rgb(246, 207, 113)",
           "rgb(220, 176, 242)",
           "rgb(102, 197, 204)",
           "rgb(246, 207, 113)",
           "rgb(246, 207, 113)",
           "rgb(246, 207, 113)",
           "rgb(102, 197, 204)",
           "rgb(220, 176, 242)",
           "rgb(246, 207, 113)",
           "rgb(248, 156, 116)",
           "rgb(102, 197, 204)",
           "rgb(135, 197, 95)",
           "rgb(220, 176, 242)",
           "rgb(246, 207, 113)",
           "rgb(220, 176, 242)",
           "rgb(135, 197, 95)",
           "rgb(246, 207, 113)",
           "rgb(246, 207, 113)",
           "rgb(220, 176, 242)",
           "rgb(246, 207, 113)",
           "rgb(246, 207, 113)",
           "rgb(220, 176, 242)",
           "rgb(248, 156, 116)",
           "rgb(102, 197, 204)",
           "rgb(248, 156, 116)",
           "rgb(135, 197, 95)",
           "rgb(246, 207, 113)",
           "rgb(135, 197, 95)",
           "rgb(102, 197, 204)",
           "rgb(102, 197, 204)",
           "rgb(248, 156, 116)",
           "rgb(220, 176, 242)",
           "rgb(102, 197, 204)",
           "rgb(220, 176, 242)",
           "rgb(135, 197, 95)",
           "rgb(220, 176, 242)",
           "rgb(220, 176, 242)",
           "rgb(246, 207, 113)",
           "rgb(248, 156, 116)",
           "rgb(246, 207, 113)",
           "rgb(246, 207, 113)",
           "rgb(246, 207, 113)",
           "rgb(248, 156, 116)",
           "rgb(220, 176, 242)",
           "rgb(220, 176, 242)",
           "rgb(135, 197, 95)",
           "rgb(246, 207, 113)",
           "rgb(248, 156, 116)",
           "rgb(248, 156, 116)",
           "rgb(248, 156, 116)",
           "rgb(248, 156, 116)",
           "rgb(220, 176, 242)",
           "rgb(248, 156, 116)",
           "rgb(246, 207, 113)",
           "rgb(248, 156, 116)",
           "rgb(135, 197, 95)",
           "rgb(220, 176, 242)",
           "rgb(135, 197, 95)",
           "rgb(246, 207, 113)",
           "rgb(248, 156, 116)",
           "rgb(248, 156, 116)",
           "rgb(220, 176, 242)",
           "rgb(102, 197, 204)",
           "rgb(135, 197, 95)",
           "rgb(248, 156, 116)",
           "rgb(102, 197, 204)",
           "rgb(135, 197, 95)",
           "rgb(246, 207, 113)",
           "rgb(248, 156, 116)",
           "rgb(248, 156, 116)",
           "rgb(248, 156, 116)",
           "rgb(102, 197, 204)",
           "rgb(102, 197, 204)",
           "rgb(135, 197, 95)",
           "rgb(102, 197, 204)",
           "rgb(246, 207, 113)",
           "rgb(246, 207, 113)",
           "rgb(246, 207, 113)",
           "rgb(135, 197, 95)",
           "rgb(220, 176, 242)",
           "rgb(246, 207, 113)",
           "rgb(102, 197, 204)",
           "rgb(102, 197, 204)",
           "rgb(248, 156, 116)",
           "rgb(248, 156, 116)",
           "rgb(135, 197, 95)",
           "rgb(220, 176, 242)",
           "rgb(246, 207, 113)",
           "rgb(248, 156, 116)",
           "rgb(102, 197, 204)",
           "rgb(220, 176, 242)",
           "rgb(246, 207, 113)",
           "rgb(248, 156, 116)",
           "rgb(220, 176, 242)",
           "rgb(248, 156, 116)",
           "rgb(220, 176, 242)",
           "rgb(135, 197, 95)",
           "rgb(102, 197, 204)",
           "rgb(248, 156, 116)",
           "rgb(248, 156, 116)",
           "rgb(248, 156, 116)",
           "rgb(102, 197, 204)",
           "rgb(246, 207, 113)",
           "rgb(246, 207, 113)",
           "rgb(102, 197, 204)",
           "rgb(102, 197, 204)",
           "rgb(102, 197, 204)",
           "rgb(135, 197, 95)",
           "rgb(248, 156, 116)",
           "rgb(248, 156, 116)",
           "rgb(102, 197, 204)",
           "rgb(135, 197, 95)",
           "rgb(246, 207, 113)",
           "rgb(246, 207, 113)",
           "rgb(248, 156, 116)",
           "rgb(220, 176, 242)",
           "rgb(248, 156, 116)",
           "rgb(135, 197, 95)",
           "rgb(220, 176, 242)",
           "rgb(220, 176, 242)",
           "rgb(246, 207, 113)",
           "rgb(220, 176, 242)",
           "rgb(102, 197, 204)",
           "rgb(102, 197, 204)",
           "rgb(102, 197, 204)",
           "rgb(220, 176, 242)",
           "rgb(248, 156, 116)",
           "rgb(248, 156, 116)",
           "rgb(220, 176, 242)",
           "rgb(246, 207, 113)",
           "rgb(248, 156, 116)",
           "rgb(248, 156, 116)",
           "rgb(246, 207, 113)",
           "rgb(246, 207, 113)",
           "rgb(102, 197, 204)",
           "rgb(135, 197, 95)",
           "rgb(220, 176, 242)",
           "rgb(246, 207, 113)",
           "rgb(248, 156, 116)",
           "rgb(220, 176, 242)",
           "rgb(248, 156, 116)",
           "rgb(220, 176, 242)",
           "rgb(248, 156, 116)",
           "rgb(220, 176, 242)",
           "rgb(248, 156, 116)",
           "rgb(246, 207, 113)",
           "rgb(135, 197, 95)",
           "rgb(135, 197, 95)",
           "rgb(248, 156, 116)",
           "rgb(220, 176, 242)",
           "rgb(135, 197, 95)",
           "rgb(246, 207, 113)",
           "rgb(246, 207, 113)",
           "rgb(246, 207, 113)",
           "rgb(135, 197, 95)",
           "rgb(248, 156, 116)",
           "rgb(248, 156, 116)",
           "rgb(248, 156, 116)",
           "rgb(102, 197, 204)",
           "rgb(102, 197, 204)",
           "rgb(248, 156, 116)",
           "rgb(248, 156, 116)",
           "rgb(248, 156, 116)",
           "rgb(248, 156, 116)",
           "rgb(248, 156, 116)",
           "rgb(135, 197, 95)",
           "rgb(135, 197, 95)",
           "rgb(246, 207, 113)",
           "rgb(135, 197, 95)",
           "rgb(220, 176, 242)",
           "rgb(246, 207, 113)",
           "rgb(135, 197, 95)",
           "rgb(220, 176, 242)",
           "rgb(220, 176, 242)",
           "rgb(246, 207, 113)",
           "rgb(135, 197, 95)",
           "rgb(135, 197, 95)",
           "rgb(220, 176, 242)",
           "rgb(246, 207, 113)",
           "rgb(246, 207, 113)",
           "rgb(102, 197, 204)",
           "rgb(248, 156, 116)",
           "rgb(246, 207, 113)",
           "rgb(102, 197, 204)",
           "rgb(102, 197, 204)",
           "rgb(220, 176, 242)",
           "rgb(248, 156, 116)",
           "rgb(246, 207, 113)",
           "rgb(246, 207, 113)",
           "rgb(248, 156, 116)",
           "rgb(102, 197, 204)",
           "rgb(135, 197, 95)",
           "rgb(248, 156, 116)",
           "rgb(246, 207, 113)",
           "rgb(246, 207, 113)",
           "rgb(220, 176, 242)",
           "rgb(246, 207, 113)",
           "rgb(246, 207, 113)",
           "rgb(135, 197, 95)",
           "rgb(135, 197, 95)",
           "rgb(248, 156, 116)",
           "rgb(220, 176, 242)",
           "rgb(248, 156, 116)",
           "rgb(248, 156, 116)",
           "rgb(135, 197, 95)",
           "rgb(220, 176, 242)",
           "rgb(102, 197, 204)",
           "rgb(220, 176, 242)",
           "rgb(248, 156, 116)",
           "rgb(135, 197, 95)",
           "rgb(220, 176, 242)",
           "rgb(102, 197, 204)",
           "rgb(246, 207, 113)",
           "rgb(248, 156, 116)",
           "rgb(135, 197, 95)",
           "rgb(220, 176, 242)",
           "rgb(246, 207, 113)",
           "rgb(246, 207, 113)",
           "rgb(248, 156, 116)",
           "rgb(135, 197, 95)",
           "rgb(220, 176, 242)",
           "rgb(220, 176, 242)",
           "rgb(246, 207, 113)",
           "rgb(102, 197, 204)",
           "rgb(220, 176, 242)",
           "rgb(135, 197, 95)",
           "rgb(248, 156, 116)",
           "rgb(246, 207, 113)",
           "rgb(102, 197, 204)",
           "rgb(220, 176, 242)",
           "rgb(135, 197, 95)",
           "rgb(248, 156, 116)",
           "rgb(246, 207, 113)",
           "rgb(102, 197, 204)",
           "rgb(220, 176, 242)",
           "rgb(135, 197, 95)",
           "rgb(248, 156, 116)"
          ],
          "line": {
           "color": "white",
           "width": 2
          }
         },
         "maxdepth": 2,
         "name": "",
         "parents": [
          "Digital Media/Soft",
          "Data Science & Analytics/Technical",
          "System and Security/Technical",
          "Enterprise Systems/Technical",
          "Data Science & Analytics/Soft",
          "Digital Media/Soft",
          "Enterprise Systems/Soft",
          "Software Development/Soft",
          "System and Security/Soft",
          "Data Science & Analytics/Soft",
          "Digital Media/Soft",
          "Software Development/Soft",
          "Data Science & Analytics/Soft",
          "Data Science & Analytics/Soft",
          "Enterprise Systems/Soft",
          "Software Development/Soft",
          "System and Security/Soft",
          "Digital Media/Soft",
          "Enterprise Systems/Soft",
          "Data Science & Analytics/Soft",
          "Data Science & Analytics/Soft",
          "System and Security/Soft",
          "Software Development/Soft",
          "Digital Media/Technical",
          "System and Security/Technical",
          "System and Security/Technical",
          "System and Security/Technical",
          "Software Development/Technical",
          "Enterprise Systems/Soft",
          "Data Science & Analytics/Soft",
          "Digital Media/Soft",
          "Software Development/Soft",
          "Data Science & Analytics/Technical",
          "Data Science & Analytics/Technical",
          "Digital Media/Soft",
          "Data Science & Analytics/Technical",
          "Enterprise Systems/Technical",
          "Digital Media/Technical",
          "Digital Media/Technical",
          "System and Security/Technical",
          "System and Security/Technical",
          "Software Development/Technical",
          "Data Science & Analytics/Technical",
          "Enterprise Systems/Soft",
          "Digital Media/Technical",
          "Enterprise Systems/Technical",
          "Digital Media/Technical",
          "Data Science & Analytics/Technical",
          "Digital Media/Soft",
          "Software Development/Soft",
          "Software Development/Technical",
          "System and Security/Technical",
          "Data Science & Analytics/Technical",
          "Digital Media/Technical",
          "System and Security/Technical",
          "System and Security/Technical",
          "Digital Media/Soft",
          "Software Development/Soft",
          "Data Science & Analytics/Soft",
          "Software Development/Soft",
          "System and Security/Soft",
          "System and Security/Technical",
          "System and Security/Technical",
          "Data Science & Analytics/Soft",
          "System and Security/Technical",
          "System and Security/Technical",
          "Software Development/Technical",
          "Data Science & Analytics/Technical",
          "Data Science & Analytics/Technical",
          "Enterprise Systems/Technical",
          "System and Security/Technical",
          "Data Science & Analytics/Technical",
          "Data Science & Analytics/Technical",
          "Data Science & Analytics/Technical",
          "Data Science & Analytics/Technical",
          "Enterprise Systems/Technical",
          "Data Science & Analytics/Technical",
          "System and Security/Technical",
          "Software Development/Technical",
          "Data Science & Analytics/Soft",
          "Software Development/Soft",
          "Enterprise Systems/Soft",
          "Data Science & Analytics/Technical",
          "System and Security/Technical",
          "Software Development/Technical",
          "System and Security/Soft",
          "Enterprise Systems/Soft",
          "System and Security/Technical",
          "Digital Media/Technical",
          "Digital Media/Technical",
          "Digital Media/Technical",
          "Digital Media/Technical",
          "Enterprise Systems/Technical",
          "Enterprise Systems/Technical",
          "System and Security/Technical",
          "Software Development/Soft",
          "Digital Media/Technical",
          "Data Science & Analytics/Technical",
          "Digital Media/Technical",
          "Data Science & Analytics/Soft",
          "Digital Media/Soft",
          "Enterprise Systems/Soft",
          "Software Development/Soft",
          "Digital Media/Technical",
          "Digital Media/Technical",
          "Digital Media/Technical",
          "Data Science & Analytics/Soft",
          "System and Security/Soft",
          "Data Science & Analytics/Technical",
          "Data Science & Analytics/Technical",
          "Data Science & Analytics/Soft",
          "System and Security/Technical",
          "System and Security/Technical",
          "System and Security/Technical",
          "Digital Media/Technical",
          "Enterprise Systems/Technical",
          "Enterprise Systems/Technical",
          "Enterprise Systems/Technical",
          "Enterprise Systems/Technical",
          "Enterprise Systems/Technical",
          "Enterprise Systems/Technical",
          "System and Security/Soft",
          "Data Science & Analytics/Soft",
          "System and Security/Technical",
          "System and Security/Soft",
          "Data Science & Analytics/Technical",
          "Enterprise Systems/Technical",
          "Data Science & Analytics/Soft",
          "System and Security/Technical",
          "Data Science & Analytics/Technical",
          "System and Security/Technical",
          "System and Security/Technical",
          "Software Development/Technical",
          "Digital Media/Technical",
          "Data Science & Analytics/Technical",
          "Data Science & Analytics/Technical",
          "Data Science & Analytics/Technical",
          "System and Security/Technical",
          "Digital Media/Soft",
          "Digital Media/Technical",
          "Digital Media/Technical",
          "Digital Media/Technical",
          "System and Security/Technical",
          "Enterprise Systems/Soft",
          "Software Development/Soft",
          "System and Security/Technical",
          "System and Security/Technical",
          "Digital Media/Technical",
          "Digital Media/Technical",
          "Data Science & Analytics/Technical",
          "System and Security/Technical",
          "Software Development/Technical",
          "Data Science & Analytics/Technical",
          "Enterprise Systems/Technical",
          "Software Development/Technical",
          "System and Security/Technical",
          "Digital Media/Technical",
          "System and Security/Soft",
          "Enterprise Systems/Soft",
          "Data Science & Analytics/Technical",
          "Software Development/Technical",
          "System and Security/Technical",
          "System and Security/Technical",
          "Digital Media/Technical",
          "Enterprise Systems/Technical",
          "System and Security/Technical",
          "Software Development/Soft",
          "Enterprise Systems/Soft",
          "Data Science & Analytics/Soft",
          "Data Science & Analytics/Technical",
          "Data Science & Analytics/Soft",
          "Software Development/Technical",
          "System and Security/Technical",
          "Enterprise Systems/Technical",
          "System and Security/Technical",
          "System and Security/Technical",
          "System and Security/Technical",
          "System and Security/Technical",
          "System and Security/Technical",
          "Data Science & Analytics/Technical",
          "Software Development/Technical",
          "Software Development/Technical",
          "Data Science & Analytics/Technical",
          "Data Science & Analytics/Technical",
          "Enterprise Systems/Technical",
          "System and Security/Technical",
          "System and Security/Technical",
          "Software Development/Technical",
          "Data Science & Analytics/Technical",
          "System and Security/Technical",
          "Software Development/Technical",
          "Software Development/Technical",
          "Digital Media/Technical",
          "System and Security/Technical",
          "Software Development/Soft",
          "Data Science & Analytics/Soft",
          "Digital Media/Technical",
          "Digital Media/Technical",
          "Digital Media/Technical",
          "Digital Media/Technical",
          "Digital Media/Technical",
          "Digital Media/Technical",
          "Digital Media/Technical",
          "Enterprise Systems/Technical",
          "Data Science & Analytics/Technical",
          "Digital Media/Technical",
          "System and Security/Technical",
          "Digital Media/Technical",
          "System and Security/Technical",
          "Enterprise Systems/Technical",
          "Data Science & Analytics/Technical",
          "Data Science & Analytics/Technical",
          "Enterprise Systems/Soft",
          "Digital Media/Soft",
          "Data Science & Analytics/Soft",
          "Software Development/Soft",
          "Enterprise Systems/Soft",
          "Software Development/Technical",
          "System and Security/Technical",
          "Software Development/Technical",
          "System and Security/Technical",
          "Digital Media/Technical",
          "Digital Media/Technical",
          "Enterprise Systems/Soft",
          "Data Science & Analytics/Soft",
          "Enterprise Systems/Soft",
          "Data Science & Analytics/Soft",
          "Digital Media/Technical",
          "Digital Media/Technical",
          "Digital Media/Technical",
          "Digital Media/Technical",
          "Digital Media/Technical",
          "System and Security/Technical",
          "Digital Media/Technical",
          "Software Development/Technical",
          "Enterprise Systems/Technical",
          "Digital Media/Technical",
          "Data Science & Analytics/Technical",
          "Digital Media/Technical",
          "Digital Media/Technical",
          "Software Development/Technical",
          "Digital Media/Technical",
          "Digital Media/Technical",
          "Digital Media/Technical",
          "Digital Media/Technical",
          "Digital Media/Technical",
          "Digital Media/Technical",
          "System and Security/Technical",
          "Software Development/Technical",
          "Digital Media/Soft",
          "Software Development/Technical",
          "Data Science & Analytics/Technical",
          "System and Security/Technical",
          "System and Security/Technical",
          "System and Security/Technical",
          "Enterprise Systems/Technical",
          "Digital Media/Technical",
          "Digital Media/Technical",
          "Data Science & Analytics/Technical",
          "System and Security/Technical",
          "Software Development/Technical",
          "Software Development/Technical",
          "Data Science & Analytics/Technical",
          "Digital Media/Technical",
          "System and Security/Soft",
          "Digital Media/Technical",
          "Data Science & Analytics/Technical",
          "System and Security/Technical",
          "Software Development/Technical",
          "Digital Media/Technical",
          "Digital Media/Technical",
          "Enterprise Systems/Technical",
          "Digital Media/Technical",
          "Digital Media/Technical",
          "System and Security/Technical",
          "System and Security/Technical",
          "System and Security/Technical",
          "Enterprise Systems/Technical",
          "Enterprise Systems/Technical",
          "Digital Media/Technical",
          "Digital Media/Technical",
          "Enterprise Systems/Technical",
          "System and Security/Technical",
          "Software Development/Technical",
          "Enterprise Systems/Soft",
          "System and Security/Technical",
          "Enterprise Systems/Technical",
          "System and Security/Technical",
          "Software Development/Technical",
          "Data Science & Analytics/Technical",
          "Data Science & Analytics/Soft",
          "Digital Media/Soft",
          "Digital Media/Technical",
          "Enterprise Systems/Soft",
          "Data Science & Analytics/Soft",
          "Data Science & Analytics/Technical",
          "System and Security/Technical",
          "Enterprise Systems/Soft",
          "Data Science & Analytics/Soft",
          "Digital Media/Technical",
          "Software Development/Technical",
          "Digital Media/Technical",
          "System and Security/Technical",
          "Enterprise Systems/Technical",
          "Data Science & Analytics/Technical",
          "Data Science & Analytics/Technical",
          "Digital Media/Technical",
          "System and Security/Technical",
          "Data Science & Analytics/Technical",
          "Digital Media/Technical",
          "Digital Media/Technical",
          "Data Science & Analytics/Soft",
          "Data Science & Analytics/Technical",
          "Enterprise Systems/Technical",
          "Data Science & Analytics/Technical",
          "Digital Media/Soft",
          "Software Development/Soft",
          "Data Science & Analytics/Soft",
          "Digital Media/Technical",
          "Data Science & Analytics/Technical",
          "Enterprise Systems/Technical",
          "System and Security/Technical",
          "System and Security/Technical",
          "System and Security/Technical",
          "System and Security/Technical",
          "Enterprise Systems/Soft",
          "System and Security/Technical",
          "System and Security/Technical",
          "Software Development/Soft",
          "Enterprise Systems/Soft",
          "Digital Media/Technical",
          "Digital Media/Soft",
          "Data Science & Analytics/Technical",
          "System and Security/Soft",
          "Enterprise Systems/Technical",
          "Software Development/Technical",
          "System and Security/Technical",
          "Data Science & Analytics/Technical",
          "Enterprise Systems/Technical",
          "Software Development/Technical",
          "Digital Media/Technical",
          "Digital Media/Technical",
          "Software Development/Technical",
          "System and Security/Soft",
          "Digital Media/Technical",
          "Digital Media/Soft",
          "Digital Media/Soft",
          "System and Security/Technical",
          "Software Development/Soft",
          "Enterprise Systems/Soft",
          "Data Science & Analytics/Soft",
          "System and Security/Technical",
          "Enterprise Systems/Technical",
          "Digital Media/Technical",
          "Data Science & Analytics/Technical",
          "Digital Media/Technical",
          "System and Security/Soft",
          "Enterprise Systems/Technical",
          "Digital Media/Technical",
          "Data Science & Analytics/Technical",
          "Digital Media/Technical",
          "Data Science & Analytics/Technical",
          "Software Development/Technical",
          "Digital Media/Technical",
          "System and Security/Technical",
          "Data Science & Analytics/Technical",
          "System and Security/Technical",
          "Data Science & Analytics/Technical",
          "Data Science & Analytics/Technical",
          "Data Science & Analytics/Technical",
          "Data Science & Analytics/Technical",
          "System and Security/Technical",
          "Software Development/Technical",
          "Software Development/Technical",
          "Enterprise Systems/Technical",
          "System and Security/Technical",
          "Software Development/Technical",
          "Enterprise Systems/Technical",
          "Digital Media/Technical",
          "Software Development/Technical",
          "System and Security/Technical",
          "Enterprise Systems/Technical",
          "System and Security/Technical",
          "System and Security/Technical",
          "Data Science & Analytics/Technical",
          "Software Development/Technical",
          "System and Security/Technical",
          "System and Security/Technical",
          "Software Development/Technical",
          "Software Development/Soft",
          "Enterprise Systems/Soft",
          "Data Science & Analytics/Soft",
          "Enterprise Systems/Technical",
          "System and Security/Soft",
          "Enterprise Systems/Soft",
          "Data Science & Analytics/Soft",
          "Software Development/Technical",
          "Data Science & Analytics/Technical",
          "System and Security/Technical",
          "Software Development/Technical",
          "Enterprise Systems/Technical",
          "Digital Media/Technical",
          "Digital Media/Technical",
          "Software Development/Soft",
          "System and Security/Technical",
          "System and Security/Technical",
          "System and Security/Technical",
          "Data Science & Analytics/Technical",
          "Digital Media/Technical",
          "Data Science & Analytics/Technical",
          "Data Science & Analytics/Technical",
          "System and Security/Technical",
          "System and Security/Technical",
          "Software Development/Technical",
          "Enterprise Systems/Technical",
          "Data Science & Analytics/Technical",
          "Data Science & Analytics/Technical",
          "Data Science & Analytics/Technical",
          "Digital Media/Technical",
          "System and Security/Technical",
          "Software Development/Technical",
          "Software Development/Technical",
          "Software Development/Technical",
          "Enterprise Systems/Technical",
          "Software Development/Technical",
          "Software Development/Technical",
          "Digital Media/Technical",
          "Digital Media/Technical",
          "Digital Media/Technical",
          "System and Security/Soft",
          "Software Development/Technical",
          "System and Security/Soft",
          "System and Security/Soft",
          "System and Security/Technical",
          "Digital Media/Technical",
          "System and Security/Technical",
          "System and Security/Technical",
          "Data Science & Analytics/Soft",
          "Data Science & Analytics/Technical",
          "Digital Media/Technical",
          "Software Development/Technical",
          "System and Security/Technical",
          "Data Science & Analytics/Technical",
          "System and Security/Technical",
          "Digital Media/Technical",
          "Digital Media/Technical",
          "Software Development/Technical",
          "Enterprise Systems/Technical",
          "Data Science & Analytics/Technical",
          "Digital Media/Technical",
          "Digital Media/Technical",
          "System and Security/Technical",
          "Enterprise Systems/Technical",
          "Data Science & Analytics/Technical",
          "System and Security/Technical",
          "Data Science & Analytics/Technical",
          "Enterprise Systems/Technical",
          "Enterprise Systems/Technical",
          "Enterprise Systems/Soft",
          "Enterprise Systems/Technical",
          "System and Security/Technical",
          "System and Security/Technical",
          "Enterprise Systems/Technical",
          "System and Security/Technical",
          "Enterprise Systems/Technical",
          "Data Science & Analytics/Technical",
          "System and Security/Technical",
          "Data Science & Analytics/Technical",
          "Enterprise Systems/Technical",
          "System and Security/Technical",
          "System and Security/Technical",
          "Enterprise Systems/Technical",
          "Data Science & Analytics/Technical",
          "Enterprise Systems/Soft",
          "Software Development/Technical",
          "Software Development/Technical",
          "Enterprise Systems/Technical",
          "System and Security/Technical",
          "Enterprise Systems/Technical",
          "Enterprise Systems/Technical",
          "Digital Media/Technical",
          "System and Security/Technical",
          "System and Security/Technical",
          "Digital Media/Technical",
          "Digital Media/Technical",
          "Digital Media/Technical",
          "Digital Media/Technical",
          "System and Security/Technical",
          "Data Science & Analytics/Soft",
          "System and Security/Technical",
          "System and Security/Technical",
          "System and Security/Technical",
          "System and Security/Technical",
          "Digital Media/Technical",
          "Digital Media/Technical",
          "System and Security/Technical",
          "Software Development/Technical",
          "Digital Media/Technical",
          "Enterprise Systems/Technical",
          "System and Security/Technical",
          "System and Security/Technical",
          "System and Security/Technical",
          "System and Security/Technical",
          "System and Security/Technical",
          "System and Security/Technical",
          "System and Security/Technical",
          "Software Development/Technical",
          "Enterprise Systems/Technical",
          "Enterprise Systems/Technical",
          "Digital Media/Technical",
          "System and Security/Technical",
          "Digital Media/Technical",
          "Enterprise Systems/Soft",
          "Digital Media/Soft",
          "Digital Media/Technical",
          "Digital Media/Technical",
          "Digital Media/Technical",
          "Digital Media/Technical",
          "Digital Media/Technical",
          "System and Security/Soft",
          "Digital Media/Technical",
          "Digital Media/Technical",
          "Digital Media/Technical",
          "Software Development/Soft",
          "System and Security/Technical",
          "Data Science & Analytics/Technical",
          "Software Development/Technical",
          "System and Security/Technical",
          "Digital Media/Technical",
          "Data Science & Analytics/Technical",
          "System and Security/Soft",
          "Data Science & Analytics/Soft",
          "Data Science & Analytics/Technical",
          "Software Development/Technical",
          "Digital Media/Technical",
          "Digital Media/Technical",
          "Data Science & Analytics/Technical",
          "Enterprise Systems/Technical",
          "System and Security/Technical",
          "Software Development/Soft",
          "Software Development/Technical",
          "Enterprise Systems/Technical",
          "Software Development/Technical",
          "System and Security/Technical",
          "Data Science & Analytics/Technical",
          "System and Security/Technical",
          "Enterprise Systems/Technical",
          "System and Security/Technical",
          "Data Science & Analytics/Technical",
          "Data Science & Analytics/Soft",
          "Software Development/Technical",
          "Software Development/Technical",
          "System and Security/Soft",
          "System and Security/Soft",
          "Data Science & Analytics/Technical",
          "Software Development/Technical",
          "System and Security/Technical",
          "System and Security/Technical",
          "Data Science & Analytics/Technical",
          "Data Science & Analytics/Technical",
          "Data Science & Analytics/Technical",
          "System and Security/Technical",
          "Enterprise Systems/Technical",
          "Data Science & Analytics/Technical",
          "Data Science & Analytics/Technical",
          "Enterprise Systems/Technical",
          "System and Security/Technical",
          "Software Development/Technical",
          "Software Development/Technical",
          "Digital Media/Technical",
          "Digital Media/Technical",
          "Digital Media/Technical",
          "Software Development/Technical",
          "Digital Media/Technical",
          "Enterprise Systems/Technical",
          "System and Security/Technical",
          "System and Security/Technical",
          "Data Science & Analytics/Technical",
          "Enterprise Systems/Technical",
          "Data Science & Analytics/Technical",
          "Enterprise Systems/Technical",
          "Digital Media/Technical",
          "Data Science & Analytics/Technical",
          "Data Science & Analytics/Technical",
          "Data Science & Analytics/Soft",
          "Digital Media/Soft",
          "Enterprise Systems/Soft",
          "Data Science & Analytics/Technical",
          "System and Security/Soft",
          "Digital Media/Technical",
          "Software Development/Soft",
          "Enterprise Systems/Technical",
          "Data Science & Analytics/Technical",
          "Enterprise Systems/Technical",
          "Software Development/Technical",
          "Data Science & Analytics/Technical",
          "Data Science & Analytics/Technical",
          "Enterprise Systems/Technical",
          "Data Science & Analytics/Technical",
          "Data Science & Analytics/Technical",
          "Enterprise Systems/Technical",
          "System and Security/Technical",
          "Digital Media/Technical",
          "System and Security/Technical",
          "Software Development/Technical",
          "Data Science & Analytics/Technical",
          "Software Development/Technical",
          "Digital Media/Technical",
          "Digital Media/Technical",
          "System and Security/Technical",
          "Enterprise Systems/Technical",
          "Digital Media/Technical",
          "Enterprise Systems/Technical",
          "Software Development/Technical",
          "Enterprise Systems/Technical",
          "Enterprise Systems/Technical",
          "Data Science & Analytics/Technical",
          "System and Security/Technical",
          "Data Science & Analytics/Technical",
          "Data Science & Analytics/Technical",
          "Data Science & Analytics/Technical",
          "System and Security/Technical",
          "Enterprise Systems/Technical",
          "Enterprise Systems/Technical",
          "Software Development/Technical",
          "Data Science & Analytics/Technical",
          "System and Security/Technical",
          "System and Security/Technical",
          "System and Security/Technical",
          "System and Security/Technical",
          "Enterprise Systems/Technical",
          "System and Security/Technical",
          "Data Science & Analytics/Technical",
          "System and Security/Technical",
          "Software Development/Technical",
          "Enterprise Systems/Technical",
          "Software Development/Technical",
          "Data Science & Analytics/Technical",
          "System and Security/Technical",
          "System and Security/Technical",
          "Enterprise Systems/Technical",
          "Digital Media/Technical",
          "Software Development/Technical",
          "System and Security/Technical",
          "Digital Media/Technical",
          "Software Development/Soft",
          "Data Science & Analytics/Soft",
          "System and Security/Technical",
          "System and Security/Technical",
          "System and Security/Technical",
          "Digital Media/Technical",
          "Digital Media/Technical",
          "Software Development/Technical",
          "Digital Media/Technical",
          "Data Science & Analytics/Technical",
          "Data Science & Analytics/Technical",
          "Data Science & Analytics/Technical",
          "Software Development/Soft",
          "Enterprise Systems/Soft",
          "Data Science & Analytics/Soft",
          "Digital Media/Technical",
          "Digital Media/Technical",
          "System and Security/Technical",
          "System and Security/Technical",
          "Software Development/Technical",
          "Enterprise Systems/Technical",
          "Data Science & Analytics/Technical",
          "System and Security/Soft",
          "Digital Media/Technical",
          "Enterprise Systems/Technical",
          "Data Science & Analytics/Technical",
          "System and Security/Technical",
          "Enterprise Systems/Technical",
          "System and Security/Technical",
          "Enterprise Systems/Technical",
          "Software Development/Technical",
          "Digital Media/Technical",
          "System and Security/Technical",
          "System and Security/Technical",
          "System and Security/Technical",
          "Digital Media/Technical",
          "Data Science & Analytics/Technical",
          "Data Science & Analytics/Technical",
          "Digital Media/Technical",
          "Digital Media/Technical",
          "Digital Media/Technical",
          "Software Development/Technical",
          "System and Security/Technical",
          "System and Security/Technical",
          "Digital Media/Technical",
          "Software Development/Technical",
          "Data Science & Analytics/Technical",
          "Data Science & Analytics/Technical",
          "System and Security/Technical",
          "Enterprise Systems/Technical",
          "System and Security/Technical",
          "Software Development/Technical",
          "Enterprise Systems/Technical",
          "Enterprise Systems/Technical",
          "Data Science & Analytics/Technical",
          "Enterprise Systems/Technical",
          "Digital Media/Technical",
          "Digital Media/Technical",
          "Digital Media/Technical",
          "Enterprise Systems/Technical",
          "System and Security/Technical",
          "System and Security/Technical",
          "Enterprise Systems/Technical",
          "Data Science & Analytics/Technical",
          "System and Security/Technical",
          "System and Security/Technical",
          "Data Science & Analytics/Technical",
          "Data Science & Analytics/Technical",
          "Digital Media/Technical",
          "Software Development/Technical",
          "Enterprise Systems/Technical",
          "Data Science & Analytics/Technical",
          "System and Security/Technical",
          "Enterprise Systems/Technical",
          "System and Security/Technical",
          "Enterprise Systems/Technical",
          "System and Security/Technical",
          "Enterprise Systems/Technical",
          "System and Security/Technical",
          "Data Science & Analytics/Technical",
          "Software Development/Technical",
          "Software Development/Technical",
          "System and Security/Technical",
          "Enterprise Systems/Technical",
          "Software Development/Technical",
          "Data Science & Analytics/Technical",
          "Data Science & Analytics/Technical",
          "Data Science & Analytics/Technical",
          "Software Development/Soft",
          "System and Security/Technical",
          "System and Security/Soft",
          "System and Security/Technical",
          "Digital Media/Technical",
          "Digital Media/Technical",
          "System and Security/Technical",
          "System and Security/Soft",
          "System and Security/Technical",
          "System and Security/Soft",
          "System and Security/Technical",
          "Software Development/Technical",
          "Software Development/Technical",
          "Data Science & Analytics/Soft",
          "Software Development/Technical",
          "Enterprise Systems/Technical",
          "Data Science & Analytics/Technical",
          "Software Development/Technical",
          "Enterprise Systems/Technical",
          "Enterprise Systems/Technical",
          "Data Science & Analytics/Technical",
          "Software Development/Technical",
          "Software Development/Technical",
          "Enterprise Systems/Technical",
          "Data Science & Analytics/Technical",
          "Data Science & Analytics/Technical",
          "Digital Media/Technical",
          "System and Security/Technical",
          "Data Science & Analytics/Technical",
          "Digital Media/Technical",
          "Digital Media/Soft",
          "Enterprise Systems/Technical",
          "System and Security/Technical",
          "Data Science & Analytics/Soft",
          "Data Science & Analytics/Technical",
          "System and Security/Technical",
          "Digital Media/Technical",
          "Software Development/Technical",
          "System and Security/Technical",
          "Data Science & Analytics/Technical",
          "Data Science & Analytics/Soft",
          "Enterprise Systems/Soft",
          "Data Science & Analytics/Technical",
          "Data Science & Analytics/Technical",
          "Software Development/Technical",
          "Software Development/Technical",
          "System and Security/Technical",
          "Enterprise Systems/Technical",
          "System and Security/Technical",
          "System and Security/Technical",
          "Software Development/Technical",
          "Enterprise Systems/Soft",
          "Digital Media/Soft",
          "Enterprise Systems/Technical",
          "System and Security/Soft",
          "Software Development/Soft",
          "Enterprise Systems/Soft",
          "Digital Media/Soft",
          "Data Science & Analytics/Soft",
          "System and Security/Soft",
          "Software Development/Soft",
          "Enterprise Systems/Soft",
          "Data Science & Analytics/Soft",
          "Data Science & Analytics/Technical",
          "System and Security/Technical",
          "Software Development/Soft",
          "Enterprise Systems/Technical",
          "Enterprise Systems/Technical",
          "Data Science & Analytics",
          "Digital Media",
          "Enterprise Systems",
          "Software Development",
          "System and Security",
          "Data Science & Analytics",
          "Digital Media",
          "Enterprise Systems",
          "Software Development",
          "System and Security",
          "",
          "",
          "",
          "",
          ""
         ],
         "textfont": {
          "size": 12
         },
         "textinfo": "label",
         "type": "sunburst",
         "values": [
          97,
          1,
          70,
          0,
          436,
          436,
          436,
          436,
          436,
          0,
          0,
          0,
          3,
          1366,
          1366,
          1366,
          1366,
          0,
          0,
          0,
          0,
          0,
          0,
          0,
          0,
          0,
          6,
          31,
          118,
          118,
          64,
          0,
          35,
          0,
          0,
          1,
          29,
          4,
          11,
          0,
          0,
          5,
          0,
          44,
          1,
          24,
          0,
          160,
          0,
          0,
          322,
          0,
          5,
          0,
          0,
          1,
          0,
          0,
          59,
          59,
          59,
          0,
          2,
          0,
          0,
          79,
          7,
          0,
          0,
          8,
          0,
          8,
          2,
          1,
          36,
          25,
          27,
          21,
          29,
          0,
          97,
          97,
          29,
          539,
          2,
          0,
          13,
          0,
          7,
          15,
          1,
          1,
          20,
          37,
          0,
          94,
          0,
          0,
          1,
          279,
          279,
          279,
          279,
          1,
          29,
          0,
          97,
          0,
          6,
          7,
          250,
          12,
          0,
          0,
          0,
          275,
          12,
          0,
          4,
          8,
          0,
          92,
          1,
          1,
          0,
          1306,
          0,
          0,
          0,
          2,
          0,
          2,
          27,
          0,
          3,
          9,
          0,
          2,
          0,
          6,
          0,
          0,
          0,
          250,
          250,
          26,
          0,
          0,
          25,
          1,
          0,
          6,
          78,
          78,
          78,
          0,
          66,
          0,
          0,
          3,
          3,
          3,
          0,
          28,
          59,
          0,
          401,
          401,
          401,
          0,
          10,
          5,
          0,
          0,
          0,
          0,
          0,
          2,
          0,
          3,
          80,
          0,
          8,
          297,
          52,
          2,
          0,
          63,
          0,
          0,
          366,
          221,
          0,
          0,
          72,
          15,
          1,
          0,
          0,
          0,
          0,
          85,
          0,
          20,
          20,
          13,
          0,
          4,
          0,
          18,
          0,
          0,
          72,
          72,
          72,
          15,
          15,
          7,
          0,
          8,
          0,
          4,
          7,
          277,
          277,
          8,
          8,
          0,
          0,
          1,
          0,
          1,
          10,
          0,
          0,
          27,
          3,
          18,
          38,
          4,
          31,
          6,
          3,
          275,
          11,
          2483,
          2,
          11,
          35,
          0,
          9,
          0,
          0,
          0,
          8,
          0,
          0,
          0,
          1,
          0,
          2,
          1,
          1,
          1,
          2,
          8,
          0,
          1,
          100,
          0,
          0,
          44,
          0,
          6,
          0,
          1,
          11,
          78,
          35,
          0,
          0,
          6,
          0,
          0,
          2,
          2,
          7,
          1,
          21,
          0,
          0,
          0,
          34,
          34,
          34,
          33,
          0,
          17,
          15,
          0,
          28,
          0,
          1,
          1,
          51,
          1,
          3,
          1,
          87,
          87,
          0,
          148,
          1,
          87,
          11,
          0,
          103,
          103,
          0,
          0,
          2,
          3,
          0,
          2,
          4,
          103,
          1,
          0,
          148,
          148,
          19,
          148,
          17,
          0,
          31,
          31,
          0,
          0,
          1,
          9,
          0,
          11,
          0,
          302,
          0,
          35,
          11,
          8,
          537,
          537,
          537,
          15,
          1,
          6,
          222,
          1,
          537,
          222,
          0,
          116,
          4,
          1,
          3,
          1,
          1,
          4,
          0,
          35,
          0,
          2,
          0,
          0,
          7,
          47,
          47,
          116,
          116,
          116,
          116,
          222,
          0,
          0,
          26,
          11,
          0,
          2,
          3,
          1,
          0,
          817,
          817,
          817,
          2,
          267,
          267,
          267,
          8,
          8,
          25,
          4,
          0,
          1,
          10,
          267,
          0,
          0,
          0,
          31,
          1,
          1,
          0,
          0,
          0,
          11,
          11,
          11,
          20,
          1,
          9,
          1871,
          1871,
          31,
          15,
          15,
          66,
          601,
          0,
          19,
          2,
          0,
          3,
          39,
          83,
          0,
          0,
          0,
          1,
          0,
          13,
          1,
          77,
          27,
          0,
          0,
          5,
          9,
          9,
          9,
          0,
          77,
          4,
          0,
          10,
          4,
          0,
          0,
          21,
          11,
          0,
          4,
          0,
          4,
          0,
          5,
          4,
          6,
          36,
          2,
          36,
          121,
          684,
          0,
          109,
          0,
          109,
          93,
          93,
          2571,
          12,
          6,
          2,
          0,
          0,
          10,
          0,
          0,
          0,
          109,
          51,
          5,
          10,
          77,
          0,
          0,
          0,
          1,
          60,
          60,
          67,
          5,
          0,
          9,
          15,
          11,
          0,
          0,
          75,
          75,
          0,
          8,
          0,
          0,
          0,
          0,
          46,
          0,
          10,
          0,
          2,
          0,
          1,
          0,
          0,
          0,
          0,
          5,
          50,
          0,
          2,
          0,
          41,
          41,
          2484,
          2484,
          0,
          0,
          0,
          3,
          0,
          41,
          18,
          607,
          607,
          0,
          0,
          0,
          16,
          16,
          607,
          11,
          25,
          0,
          123,
          0,
          146,
          146,
          2,
          0,
          1,
          1,
          45,
          32,
          3,
          0,
          7,
          7,
          0,
          23,
          32,
          0,
          0,
          0,
          49,
          15,
          29,
          0,
          0,
          1,
          2,
          9,
          45,
          0,
          79,
          0,
          343,
          343,
          343,
          8,
          343,
          0,
          343,
          4,
          1,
          9,
          0,
          2,
          0,
          4,
          1,
          18,
          0,
          614,
          22,
          1,
          46,
          46,
          1,
          0,
          4,
          1,
          3,
          0,
          9,
          17,
          17,
          46,
          17,
          10,
          5,
          94,
          186,
          0,
          7,
          0,
          2,
          0,
          4,
          5,
          0,
          0,
          4,
          6,
          16,
          1,
          30,
          30,
          48,
          48,
          2,
          0,
          0,
          0,
          1,
          1,
          0,
          16,
          0,
          0,
          1,
          3,
          0,
          0,
          86,
          0,
          1,
          8,
          0,
          625,
          625,
          625,
          5,
          0,
          5,
          0,
          70,
          70,
          70,
          625,
          8,
          8,
          15,
          0,
          12,
          0,
          24,
          35,
          3,
          0,
          1,
          0,
          0,
          4,
          0,
          15,
          4,
          278,
          1355,
          7,
          0,
          0,
          0,
          124,
          2,
          0,
          94,
          148,
          94,
          1,
          0,
          236,
          236,
          745,
          32,
          0,
          24,
          24,
          0,
          18,
          0,
          4,
          1,
          5,
          366,
          0,
          13,
          840,
          2571,
          0,
          8,
          0,
          0,
          272,
          120,
          415,
          0,
          139,
          6,
          0,
          40,
          40,
          1,
          12,
          1,
          0,
          5,
          0,
          3,
          5,
          1,
          3,
          41,
          41,
          0,
          61,
          10,
          415,
          0,
          272,
          272,
          272,
          21,
          21,
          66,
          66,
          8,
          30,
          30,
          30,
          0,
          0,
          21,
          0,
          0,
          0,
          14,
          4,
          4,
          25,
          0,
          0,
          20,
          1,
          5,
          323,
          323,
          2,
          18,
          1,
          0,
          0,
          4,
          1,
          1,
          75,
          292,
          292,
          9,
          286,
          286,
          286,
          286,
          286,
          140,
          140,
          140,
          140,
          2,
          0,
          39,
          2,
          4,
          7137,
          2063,
          7310,
          6431,
          4782,
          10518,
          4850,
          4512,
          11226,
          8310,
          17655,
          6913,
          11822,
          17657,
          13092
         ]
        }
       ],
       "layout": {
        "height": 800,
        "legend": {
         "tracegroupgap": 0
        },
        "margin": {
         "b": 0,
         "l": 0,
         "r": 0,
         "t": 50
        },
        "sunburstcolorway": [
         "rgb(102, 197, 204)",
         "rgb(246, 207, 113)",
         "rgb(248, 156, 116)",
         "rgb(220, 176, 242)",
         "rgb(135, 197, 95)",
         "rgb(158, 185, 243)",
         "rgb(254, 136, 177)",
         "rgb(201, 219, 116)",
         "rgb(139, 224, 164)",
         "rgb(180, 151, 231)",
         "rgb(179, 179, 179)"
        ],
        "template": {
         "data": {
          "bar": [
           {
            "error_x": {
             "color": "#2a3f5f"
            },
            "error_y": {
             "color": "#2a3f5f"
            },
            "marker": {
             "line": {
              "color": "#E5ECF6",
              "width": 0.5
             },
             "pattern": {
              "fillmode": "overlay",
              "size": 10,
              "solidity": 0.2
             }
            },
            "type": "bar"
           }
          ],
          "barpolar": [
           {
            "marker": {
             "line": {
              "color": "#E5ECF6",
              "width": 0.5
             },
             "pattern": {
              "fillmode": "overlay",
              "size": 10,
              "solidity": 0.2
             }
            },
            "type": "barpolar"
           }
          ],
          "carpet": [
           {
            "aaxis": {
             "endlinecolor": "#2a3f5f",
             "gridcolor": "white",
             "linecolor": "white",
             "minorgridcolor": "white",
             "startlinecolor": "#2a3f5f"
            },
            "baxis": {
             "endlinecolor": "#2a3f5f",
             "gridcolor": "white",
             "linecolor": "white",
             "minorgridcolor": "white",
             "startlinecolor": "#2a3f5f"
            },
            "type": "carpet"
           }
          ],
          "choropleth": [
           {
            "colorbar": {
             "outlinewidth": 0,
             "ticks": ""
            },
            "type": "choropleth"
           }
          ],
          "contour": [
           {
            "colorbar": {
             "outlinewidth": 0,
             "ticks": ""
            },
            "colorscale": [
             [
              0,
              "#0d0887"
             ],
             [
              0.1111111111111111,
              "#46039f"
             ],
             [
              0.2222222222222222,
              "#7201a8"
             ],
             [
              0.3333333333333333,
              "#9c179e"
             ],
             [
              0.4444444444444444,
              "#bd3786"
             ],
             [
              0.5555555555555556,
              "#d8576b"
             ],
             [
              0.6666666666666666,
              "#ed7953"
             ],
             [
              0.7777777777777778,
              "#fb9f3a"
             ],
             [
              0.8888888888888888,
              "#fdca26"
             ],
             [
              1,
              "#f0f921"
             ]
            ],
            "type": "contour"
           }
          ],
          "contourcarpet": [
           {
            "colorbar": {
             "outlinewidth": 0,
             "ticks": ""
            },
            "type": "contourcarpet"
           }
          ],
          "heatmap": [
           {
            "colorbar": {
             "outlinewidth": 0,
             "ticks": ""
            },
            "colorscale": [
             [
              0,
              "#0d0887"
             ],
             [
              0.1111111111111111,
              "#46039f"
             ],
             [
              0.2222222222222222,
              "#7201a8"
             ],
             [
              0.3333333333333333,
              "#9c179e"
             ],
             [
              0.4444444444444444,
              "#bd3786"
             ],
             [
              0.5555555555555556,
              "#d8576b"
             ],
             [
              0.6666666666666666,
              "#ed7953"
             ],
             [
              0.7777777777777778,
              "#fb9f3a"
             ],
             [
              0.8888888888888888,
              "#fdca26"
             ],
             [
              1,
              "#f0f921"
             ]
            ],
            "type": "heatmap"
           }
          ],
          "heatmapgl": [
           {
            "colorbar": {
             "outlinewidth": 0,
             "ticks": ""
            },
            "colorscale": [
             [
              0,
              "#0d0887"
             ],
             [
              0.1111111111111111,
              "#46039f"
             ],
             [
              0.2222222222222222,
              "#7201a8"
             ],
             [
              0.3333333333333333,
              "#9c179e"
             ],
             [
              0.4444444444444444,
              "#bd3786"
             ],
             [
              0.5555555555555556,
              "#d8576b"
             ],
             [
              0.6666666666666666,
              "#ed7953"
             ],
             [
              0.7777777777777778,
              "#fb9f3a"
             ],
             [
              0.8888888888888888,
              "#fdca26"
             ],
             [
              1,
              "#f0f921"
             ]
            ],
            "type": "heatmapgl"
           }
          ],
          "histogram": [
           {
            "marker": {
             "pattern": {
              "fillmode": "overlay",
              "size": 10,
              "solidity": 0.2
             }
            },
            "type": "histogram"
           }
          ],
          "histogram2d": [
           {
            "colorbar": {
             "outlinewidth": 0,
             "ticks": ""
            },
            "colorscale": [
             [
              0,
              "#0d0887"
             ],
             [
              0.1111111111111111,
              "#46039f"
             ],
             [
              0.2222222222222222,
              "#7201a8"
             ],
             [
              0.3333333333333333,
              "#9c179e"
             ],
             [
              0.4444444444444444,
              "#bd3786"
             ],
             [
              0.5555555555555556,
              "#d8576b"
             ],
             [
              0.6666666666666666,
              "#ed7953"
             ],
             [
              0.7777777777777778,
              "#fb9f3a"
             ],
             [
              0.8888888888888888,
              "#fdca26"
             ],
             [
              1,
              "#f0f921"
             ]
            ],
            "type": "histogram2d"
           }
          ],
          "histogram2dcontour": [
           {
            "colorbar": {
             "outlinewidth": 0,
             "ticks": ""
            },
            "colorscale": [
             [
              0,
              "#0d0887"
             ],
             [
              0.1111111111111111,
              "#46039f"
             ],
             [
              0.2222222222222222,
              "#7201a8"
             ],
             [
              0.3333333333333333,
              "#9c179e"
             ],
             [
              0.4444444444444444,
              "#bd3786"
             ],
             [
              0.5555555555555556,
              "#d8576b"
             ],
             [
              0.6666666666666666,
              "#ed7953"
             ],
             [
              0.7777777777777778,
              "#fb9f3a"
             ],
             [
              0.8888888888888888,
              "#fdca26"
             ],
             [
              1,
              "#f0f921"
             ]
            ],
            "type": "histogram2dcontour"
           }
          ],
          "mesh3d": [
           {
            "colorbar": {
             "outlinewidth": 0,
             "ticks": ""
            },
            "type": "mesh3d"
           }
          ],
          "parcoords": [
           {
            "line": {
             "colorbar": {
              "outlinewidth": 0,
              "ticks": ""
             }
            },
            "type": "parcoords"
           }
          ],
          "pie": [
           {
            "automargin": true,
            "type": "pie"
           }
          ],
          "scatter": [
           {
            "fillpattern": {
             "fillmode": "overlay",
             "size": 10,
             "solidity": 0.2
            },
            "type": "scatter"
           }
          ],
          "scatter3d": [
           {
            "line": {
             "colorbar": {
              "outlinewidth": 0,
              "ticks": ""
             }
            },
            "marker": {
             "colorbar": {
              "outlinewidth": 0,
              "ticks": ""
             }
            },
            "type": "scatter3d"
           }
          ],
          "scattercarpet": [
           {
            "marker": {
             "colorbar": {
              "outlinewidth": 0,
              "ticks": ""
             }
            },
            "type": "scattercarpet"
           }
          ],
          "scattergeo": [
           {
            "marker": {
             "colorbar": {
              "outlinewidth": 0,
              "ticks": ""
             }
            },
            "type": "scattergeo"
           }
          ],
          "scattergl": [
           {
            "marker": {
             "colorbar": {
              "outlinewidth": 0,
              "ticks": ""
             }
            },
            "type": "scattergl"
           }
          ],
          "scattermapbox": [
           {
            "marker": {
             "colorbar": {
              "outlinewidth": 0,
              "ticks": ""
             }
            },
            "type": "scattermapbox"
           }
          ],
          "scatterpolar": [
           {
            "marker": {
             "colorbar": {
              "outlinewidth": 0,
              "ticks": ""
             }
            },
            "type": "scatterpolar"
           }
          ],
          "scatterpolargl": [
           {
            "marker": {
             "colorbar": {
              "outlinewidth": 0,
              "ticks": ""
             }
            },
            "type": "scatterpolargl"
           }
          ],
          "scatterternary": [
           {
            "marker": {
             "colorbar": {
              "outlinewidth": 0,
              "ticks": ""
             }
            },
            "type": "scatterternary"
           }
          ],
          "surface": [
           {
            "colorbar": {
             "outlinewidth": 0,
             "ticks": ""
            },
            "colorscale": [
             [
              0,
              "#0d0887"
             ],
             [
              0.1111111111111111,
              "#46039f"
             ],
             [
              0.2222222222222222,
              "#7201a8"
             ],
             [
              0.3333333333333333,
              "#9c179e"
             ],
             [
              0.4444444444444444,
              "#bd3786"
             ],
             [
              0.5555555555555556,
              "#d8576b"
             ],
             [
              0.6666666666666666,
              "#ed7953"
             ],
             [
              0.7777777777777778,
              "#fb9f3a"
             ],
             [
              0.8888888888888888,
              "#fdca26"
             ],
             [
              1,
              "#f0f921"
             ]
            ],
            "type": "surface"
           }
          ],
          "table": [
           {
            "cells": {
             "fill": {
              "color": "#EBF0F8"
             },
             "line": {
              "color": "white"
             }
            },
            "header": {
             "fill": {
              "color": "#C8D4E3"
             },
             "line": {
              "color": "white"
             }
            },
            "type": "table"
           }
          ]
         },
         "layout": {
          "annotationdefaults": {
           "arrowcolor": "#2a3f5f",
           "arrowhead": 0,
           "arrowwidth": 1
          },
          "autotypenumbers": "strict",
          "coloraxis": {
           "colorbar": {
            "outlinewidth": 0,
            "ticks": ""
           }
          },
          "colorscale": {
           "diverging": [
            [
             0,
             "#8e0152"
            ],
            [
             0.1,
             "#c51b7d"
            ],
            [
             0.2,
             "#de77ae"
            ],
            [
             0.3,
             "#f1b6da"
            ],
            [
             0.4,
             "#fde0ef"
            ],
            [
             0.5,
             "#f7f7f7"
            ],
            [
             0.6,
             "#e6f5d0"
            ],
            [
             0.7,
             "#b8e186"
            ],
            [
             0.8,
             "#7fbc41"
            ],
            [
             0.9,
             "#4d9221"
            ],
            [
             1,
             "#276419"
            ]
           ],
           "sequential": [
            [
             0,
             "#0d0887"
            ],
            [
             0.1111111111111111,
             "#46039f"
            ],
            [
             0.2222222222222222,
             "#7201a8"
            ],
            [
             0.3333333333333333,
             "#9c179e"
            ],
            [
             0.4444444444444444,
             "#bd3786"
            ],
            [
             0.5555555555555556,
             "#d8576b"
            ],
            [
             0.6666666666666666,
             "#ed7953"
            ],
            [
             0.7777777777777778,
             "#fb9f3a"
            ],
            [
             0.8888888888888888,
             "#fdca26"
            ],
            [
             1,
             "#f0f921"
            ]
           ],
           "sequentialminus": [
            [
             0,
             "#0d0887"
            ],
            [
             0.1111111111111111,
             "#46039f"
            ],
            [
             0.2222222222222222,
             "#7201a8"
            ],
            [
             0.3333333333333333,
             "#9c179e"
            ],
            [
             0.4444444444444444,
             "#bd3786"
            ],
            [
             0.5555555555555556,
             "#d8576b"
            ],
            [
             0.6666666666666666,
             "#ed7953"
            ],
            [
             0.7777777777777778,
             "#fb9f3a"
            ],
            [
             0.8888888888888888,
             "#fdca26"
            ],
            [
             1,
             "#f0f921"
            ]
           ]
          },
          "colorway": [
           "#636efa",
           "#EF553B",
           "#00cc96",
           "#ab63fa",
           "#FFA15A",
           "#19d3f3",
           "#FF6692",
           "#B6E880",
           "#FF97FF",
           "#FECB52"
          ],
          "font": {
           "color": "#2a3f5f"
          },
          "geo": {
           "bgcolor": "white",
           "lakecolor": "white",
           "landcolor": "#E5ECF6",
           "showlakes": true,
           "showland": true,
           "subunitcolor": "white"
          },
          "hoverlabel": {
           "align": "left"
          },
          "hovermode": "closest",
          "mapbox": {
           "style": "light"
          },
          "paper_bgcolor": "white",
          "plot_bgcolor": "#E5ECF6",
          "polar": {
           "angularaxis": {
            "gridcolor": "white",
            "linecolor": "white",
            "ticks": ""
           },
           "bgcolor": "#E5ECF6",
           "radialaxis": {
            "gridcolor": "white",
            "linecolor": "white",
            "ticks": ""
           }
          },
          "scene": {
           "xaxis": {
            "backgroundcolor": "#E5ECF6",
            "gridcolor": "white",
            "gridwidth": 2,
            "linecolor": "white",
            "showbackground": true,
            "ticks": "",
            "zerolinecolor": "white"
           },
           "yaxis": {
            "backgroundcolor": "#E5ECF6",
            "gridcolor": "white",
            "gridwidth": 2,
            "linecolor": "white",
            "showbackground": true,
            "ticks": "",
            "zerolinecolor": "white"
           },
           "zaxis": {
            "backgroundcolor": "#E5ECF6",
            "gridcolor": "white",
            "gridwidth": 2,
            "linecolor": "white",
            "showbackground": true,
            "ticks": "",
            "zerolinecolor": "white"
           }
          },
          "shapedefaults": {
           "line": {
            "color": "#2a3f5f"
           }
          },
          "ternary": {
           "aaxis": {
            "gridcolor": "white",
            "linecolor": "white",
            "ticks": ""
           },
           "baxis": {
            "gridcolor": "white",
            "linecolor": "white",
            "ticks": ""
           },
           "bgcolor": "#E5ECF6",
           "caxis": {
            "gridcolor": "white",
            "linecolor": "white",
            "ticks": ""
           }
          },
          "title": {
           "x": 0.05
          },
          "xaxis": {
           "automargin": true,
           "gridcolor": "white",
           "linecolor": "white",
           "ticks": "",
           "title": {
            "standoff": 15
           },
           "zerolinecolor": "white",
           "zerolinewidth": 2
          },
          "yaxis": {
           "automargin": true,
           "gridcolor": "white",
           "linecolor": "white",
           "ticks": "",
           "title": {
            "standoff": 15
           },
           "zerolinecolor": "white",
           "zerolinewidth": 2
          }
         }
        },
        "title": {
         "font": {
          "size": 24
         },
         "text": "Job Market Overview: Click to Explore Technical & Soft Skills",
         "x": 0.5
        },
        "width": 800
       }
      }
     },
     "metadata": {},
     "output_type": "display_data"
    }
   ],
   "source": [
    "# Adding 'Domain' and 'Category' columns for each DataFrame\n",
    "\n",
    "# Software Development domain\n",
    "sd_keyword_df['Domain'] = 'Software Development'\n",
    "sd_keyword_df['Category'] = 'Technical'\n",
    "sd_soft_df['Domain'] = 'Software Development'\n",
    "sd_soft_df['Category'] = 'Soft'\n",
    "\n",
    "# Data Science & Analytics domain\n",
    "dsa_keyword_df['Domain'] = 'Data Science & Analytics'\n",
    "dsa_keyword_df['Category'] = 'Technical'\n",
    "dsa_soft_df['Domain'] = 'Data Science & Analytics'\n",
    "dsa_soft_df['Category'] = 'Soft'\n",
    "\n",
    "# Enterprise Systems domain\n",
    "es_keyword_df['Domain'] = 'Enterprise Systems'\n",
    "es_keyword_df['Category'] = 'Technical'\n",
    "es_soft_df['Domain'] = 'Enterprise Systems'\n",
    "es_soft_df['Category'] = 'Soft'\n",
    "\n",
    "# System and Security domain\n",
    "ss_keyword_df['Domain'] = 'System and Security'\n",
    "ss_keyword_df['Category'] = 'Technical'\n",
    "ss_soft_df['Domain'] = 'System and Security'\n",
    "ss_soft_df['Category'] = 'Soft'\n",
    "\n",
    "# Digital Media domain\n",
    "dm_keyword_df['Domain'] = 'Digital Media'\n",
    "dm_keyword_df['Category'] = 'Technical'\n",
    "dm_soft_df['Domain'] = 'Digital Media'\n",
    "dm_soft_df['Category'] = 'Soft'\n",
    "\n",
    "# Concatenating DataFrames for each domain\n",
    "sd_combined = pd.concat([sd_keyword_df, sd_soft_df], ignore_index=True)\n",
    "dsa_combined = pd.concat([dsa_keyword_df, dsa_soft_df], ignore_index=True)\n",
    "es_combined = pd.concat([es_keyword_df, es_soft_df], ignore_index=True)\n",
    "ss_combined = pd.concat([ss_keyword_df, ss_soft_df], ignore_index=True)\n",
    "dm_combined = pd.concat([dm_keyword_df, dm_soft_df], ignore_index=True)\n",
    "\n",
    "# Combined all DataFrames into one\n",
    "combined_df = pd.concat([\n",
    "    sd_combined, dsa_combined,\n",
    "    es_combined, ss_combined, dm_combined\n",
    "], ignore_index=True)\n",
    "\n",
    "# Create the sunburst chart (Technical & Soft Skills only)\n",
    "fig = px.sunburst(\n",
    "    combined_df,\n",
    "    path=['Domain', 'Category', 'Keyword'],\n",
    "    values='Count',\n",
    "    title='Job Market Overview: Click to Explore Technical & Soft Skills',\n",
    "    color='Domain',\n",
    "    color_discrete_sequence=px.colors.qualitative.Pastel,\n",
    "    branchvalues='total'\n",
    ")\n",
    "\n",
    "# For readability and style\n",
    "fig.update_traces(\n",
    "    textinfo='label',\n",
    "    textfont_size=12,\n",
    "    insidetextorientation='radial',\n",
    "    marker=dict(line=dict(color='white', width=2)),\n",
    "    maxdepth=2  # Only Domain & Category visible initially\n",
    ")\n",
    "\n",
    "fig.update_layout(\n",
    "    margin=dict(t=50, l=0, r=0, b=0),\n",
    "    width=800, height=800,\n",
    "    title_x=0.5,\n",
    "    title_font_size=24\n",
    ")\n",
    "\n",
    "fig.show()\n"
   ]
  },
  {
   "cell_type": "code",
   "execution_count": 34,
   "id": "0a2166ff",
   "metadata": {},
   "outputs": [
    {
     "data": {
      "application/vnd.plotly.v1+json": {
       "config": {
        "plotlyServerURL": "https://plot.ly"
       },
       "data": [
        {
         "branchvalues": "total",
         "customdata": [
          [
           "System and Security"
          ],
          [
           "Enterprise Systems"
          ],
          [
           "Data Science & Analytics"
          ],
          [
           "Data Science & Analytics"
          ],
          [
           "Data Science & Analytics"
          ],
          [
           "Data Science & Analytics"
          ],
          [
           "Data Science & Analytics"
          ],
          [
           "Software Development"
          ],
          [
           "System and Security"
          ],
          [
           "Enterprise Systems"
          ],
          [
           "System and Security"
          ],
          [
           "Data Science & Analytics"
          ],
          [
           "System and Security"
          ],
          [
           "Enterprise Systems"
          ],
          [
           "Data Science & Analytics"
          ],
          [
           "Digital Media"
          ],
          [
           "Enterprise Systems"
          ],
          [
           "Software Development"
          ],
          [
           "System and Security"
          ],
          [
           "Data Science & Analytics"
          ],
          [
           "Digital Media"
          ],
          [
           "Software Development"
          ],
          [
           "Data Science & Analytics"
          ],
          [
           "Data Science & Analytics"
          ],
          [
           "Data Science & Analytics"
          ],
          [
           "Enterprise Systems"
          ],
          [
           "System and Security"
          ],
          [
           "Data Science & Analytics"
          ],
          [
           "System and Security"
          ],
          [
           "Data Science & Analytics"
          ],
          [
           "Digital Media"
          ],
          [
           "Digital Media"
          ],
          [
           "System and Security"
          ],
          [
           "System and Security"
          ],
          [
           "Software Development"
          ],
          [
           "Enterprise Systems"
          ],
          [
           "Data Science & Analytics"
          ],
          [
           "Software Development"
          ],
          [
           "Data Science & Analytics"
          ],
          [
           "Digital Media"
          ],
          [
           "Enterprise Systems"
          ],
          [
           "Data Science & Analytics"
          ],
          [
           "Digital Media"
          ],
          [
           "Software Development"
          ],
          [
           "Data Science & Analytics"
          ],
          [
           "Data Science & Analytics"
          ],
          [
           "Digital Media"
          ],
          [
           "Data Science & Analytics"
          ],
          [
           "Enterprise Systems"
          ],
          [
           "Data Science & Analytics"
          ],
          [
           "Digital Media"
          ],
          [
           "Software Development"
          ],
          [
           "Software Development"
          ],
          [
           "Software Development"
          ],
          [
           "Digital Media"
          ],
          [
           "Digital Media"
          ],
          [
           "Data Science & Analytics"
          ],
          [
           "Digital Media"
          ],
          [
           "Enterprise Systems"
          ],
          [
           "Software Development"
          ],
          [
           "Digital Media"
          ],
          [
           "Digital Media"
          ],
          [
           "Digital Media"
          ],
          [
           "Data Science & Analytics"
          ],
          [
           "Digital Media"
          ],
          [
           "Enterprise Systems"
          ],
          [
           "Software Development"
          ],
          [
           "Data Science & Analytics"
          ],
          [
           "Digital Media"
          ],
          [
           "Software Development"
          ],
          [
           "Data Science & Analytics"
          ],
          [
           "Software Development"
          ],
          [
           "Data Science & Analytics"
          ],
          [
           "System and Security"
          ],
          [
           "System and Security"
          ],
          [
           "Data Science & Analytics"
          ],
          [
           "System and Security"
          ],
          [
           "System and Security"
          ],
          [
           "Data Science & Analytics"
          ],
          [
           "System and Security"
          ],
          [
           "Digital Media"
          ],
          [
           "Software Development"
          ],
          [
           "Enterprise Systems"
          ],
          [
           "Data Science & Analytics"
          ],
          [
           "Data Science & Analytics"
          ],
          [
           "System and Security"
          ],
          [
           "Software Development"
          ],
          [
           "Digital Media"
          ],
          [
           "System and Security"
          ],
          [
           "System and Security"
          ],
          [
           "System and Security"
          ],
          [
           "System and Security"
          ],
          [
           "System and Security"
          ],
          [
           "Software Development"
          ],
          [
           "System and Security"
          ],
          [
           "Enterprise Systems"
          ],
          [
           "Data Science & Analytics"
          ],
          [
           "Software Development"
          ],
          [
           "System and Security"
          ],
          [
           "Digital Media"
          ],
          [
           "Digital Media"
          ],
          [
           "Digital Media"
          ],
          [
           "Digital Media"
          ],
          [
           "Enterprise Systems"
          ],
          [
           "Enterprise Systems"
          ],
          [
           "System and Security"
          ],
          [
           "Software Development"
          ],
          [
           "Data Science & Analytics"
          ],
          [
           "Software Development"
          ],
          [
           "Data Science & Analytics"
          ],
          [
           "System and Security"
          ],
          [
           "Software Development"
          ],
          [
           "Enterprise Systems"
          ],
          [
           "Data Science & Analytics"
          ],
          [
           "Software Development"
          ],
          [
           "Data Science & Analytics"
          ],
          [
           "Enterprise Systems"
          ],
          [
           "Software Development"
          ],
          [
           "Enterprise Systems"
          ],
          [
           "Digital Media"
          ],
          [
           "Digital Media"
          ],
          [
           "System and Security"
          ],
          [
           "System and Security"
          ],
          [
           "Data Science & Analytics"
          ],
          [
           "Data Science & Analytics"
          ],
          [
           "Data Science & Analytics"
          ],
          [
           "Enterprise Systems"
          ],
          [
           "Software Development"
          ],
          [
           "Software Development"
          ],
          [
           "System and Security"
          ],
          [
           "System and Security"
          ],
          [
           "Software Development"
          ],
          [
           "Software Development"
          ],
          [
           "Software Development"
          ],
          [
           "Enterprise Systems"
          ],
          [
           "Software Development"
          ],
          [
           "Software Development"
          ],
          [
           "Digital Media"
          ],
          [
           "Digital Media"
          ],
          [
           "Software Development"
          ],
          [
           "System and Security"
          ],
          [
           "Data Science & Analytics"
          ],
          [
           "System and Security"
          ],
          [
           "Enterprise Systems"
          ],
          [
           "System and Security"
          ],
          [
           "Data Science & Analytics"
          ],
          [
           "Software Development"
          ],
          [
           "System and Security"
          ],
          [
           "Data Science & Analytics"
          ],
          [
           "Digital Media"
          ],
          [
           "System and Security"
          ],
          [
           "System and Security"
          ],
          [
           "Digital Media"
          ],
          [
           "Software Development"
          ],
          [
           "Data Science & Analytics"
          ],
          [
           "Enterprise Systems"
          ],
          [
           "System and Security"
          ],
          [
           "System and Security"
          ],
          [
           "Digital Media"
          ],
          [
           "Software Development"
          ],
          [
           "System and Security"
          ],
          [
           "Software Development"
          ],
          [
           "Enterprise Systems"
          ],
          [
           "Data Science & Analytics"
          ],
          [
           "Data Science & Analytics"
          ],
          [
           "Data Science & Analytics"
          ],
          [
           "System and Security"
          ],
          [
           "Enterprise Systems"
          ],
          [
           "System and Security"
          ],
          [
           "System and Security"
          ],
          [
           "Digital Media"
          ],
          [
           "System and Security"
          ],
          [
           "System and Security"
          ],
          [
           "Digital Media"
          ],
          [
           "Data Science & Analytics"
          ],
          [
           "System and Security"
          ],
          [
           "Data Science & Analytics"
          ],
          [
           "Enterprise Systems"
          ],
          [
           "Data Science & Analytics"
          ],
          [
           "System and Security"
          ],
          [
           "System and Security"
          ],
          [
           "Data Science & Analytics"
          ],
          [
           "Data Science & Analytics"
          ],
          [
           "Enterprise Systems"
          ],
          [
           "Enterprise Systems"
          ],
          [
           "Enterprise Systems"
          ],
          [
           "Enterprise Systems"
          ],
          [
           "Enterprise Systems"
          ],
          [
           "Enterprise Systems"
          ],
          [
           "Digital Media"
          ],
          [
           "System and Security"
          ],
          [
           "System and Security"
          ],
          [
           "System and Security"
          ],
          [
           "System and Security"
          ],
          [
           "System and Security"
          ],
          [
           "System and Security"
          ],
          [
           "System and Security"
          ],
          [
           "System and Security"
          ],
          [
           "System and Security"
          ],
          [
           "Software Development"
          ],
          [
           "Software Development"
          ],
          [
           "Enterprise Systems"
          ],
          [
           "Data Science & Analytics"
          ],
          [
           "Enterprise Systems"
          ],
          [
           "Software Development"
          ],
          [
           "Data Science & Analytics"
          ],
          [
           "Digital Media"
          ],
          [
           "Software Development"
          ],
          [
           "Data Science & Analytics"
          ],
          [
           "Data Science & Analytics"
          ],
          [
           "Enterprise Systems"
          ],
          [
           "Digital Media"
          ],
          [
           "System and Security"
          ],
          [
           "Enterprise Systems"
          ],
          [
           "System and Security"
          ],
          [
           "Software Development"
          ],
          [
           "Digital Media"
          ],
          [
           "Software Development"
          ],
          [
           "Data Science & Analytics"
          ],
          [
           "Digital Media"
          ],
          [
           "Enterprise Systems"
          ],
          [
           "System and Security"
          ],
          [
           "Software Development"
          ],
          [
           "Digital Media"
          ],
          [
           "System and Security"
          ],
          [
           "Digital Media"
          ],
          [
           "Digital Media"
          ],
          [
           "Digital Media"
          ],
          [
           "Digital Media"
          ],
          [
           "Digital Media"
          ],
          [
           "Data Science & Analytics"
          ],
          [
           "Digital Media"
          ],
          [
           "Enterprise Systems"
          ],
          [
           "Digital Media"
          ],
          [
           "Digital Media"
          ],
          [
           "Digital Media"
          ],
          [
           "Data Science & Analytics"
          ],
          [
           "Data Science & Analytics"
          ],
          [
           "Data Science & Analytics"
          ],
          [
           "Software Development"
          ],
          [
           "Digital Media"
          ],
          [
           "Software Development"
          ],
          [
           "Digital Media"
          ],
          [
           "Software Development"
          ],
          [
           "Digital Media"
          ],
          [
           "Digital Media"
          ],
          [
           "Digital Media"
          ],
          [
           "Digital Media"
          ],
          [
           "Digital Media"
          ],
          [
           "Enterprise Systems"
          ],
          [
           "Data Science & Analytics"
          ],
          [
           "Enterprise Systems"
          ],
          [
           "Digital Media"
          ],
          [
           "Enterprise Systems"
          ],
          [
           "System and Security"
          ],
          [
           "Data Science & Analytics"
          ],
          [
           "Software Development"
          ],
          [
           "Software Development"
          ],
          [
           "System and Security"
          ],
          [
           "Digital Media"
          ],
          [
           "Data Science & Analytics"
          ],
          [
           "Digital Media"
          ],
          [
           "Enterprise Systems"
          ],
          [
           "System and Security"
          ],
          [
           "System and Security"
          ],
          [
           "System and Security"
          ],
          [
           "Data Science & Analytics"
          ],
          [
           "Digital Media"
          ],
          [
           "Data Science & Analytics"
          ],
          [
           "System and Security"
          ],
          [
           "Software Development"
          ],
          [
           "Digital Media"
          ],
          [
           "Digital Media"
          ],
          [
           "Digital Media"
          ],
          [
           "Digital Media"
          ],
          [
           "Software Development"
          ],
          [
           "System and Security"
          ],
          [
           "System and Security"
          ],
          [
           "Data Science & Analytics"
          ],
          [
           "Software Development"
          ],
          [
           "System and Security"
          ],
          [
           "Digital Media"
          ],
          [
           "Digital Media"
          ],
          [
           "Enterprise Systems"
          ],
          [
           "Digital Media"
          ],
          [
           "Digital Media"
          ],
          [
           "Software Development"
          ],
          [
           "Enterprise Systems"
          ],
          [
           "Software Development"
          ],
          [
           "Software Development"
          ],
          [
           "Data Science & Analytics"
          ],
          [
           "Software Development"
          ],
          [
           "Digital Media"
          ],
          [
           "Data Science & Analytics"
          ],
          [
           "Software Development"
          ],
          [
           "Data Science & Analytics"
          ],
          [
           "Software Development"
          ],
          [
           "Enterprise Systems"
          ],
          [
           "System and Security"
          ],
          [
           "Data Science & Analytics"
          ],
          [
           "Data Science & Analytics"
          ],
          [
           "Enterprise Systems"
          ],
          [
           "Digital Media"
          ],
          [
           "Digital Media"
          ],
          [
           "Data Science & Analytics"
          ],
          [
           "Digital Media"
          ],
          [
           "System and Security"
          ],
          [
           "Enterprise Systems"
          ],
          [
           "System and Security"
          ],
          [
           "Data Science & Analytics"
          ],
          [
           "Enterprise Systems"
          ],
          [
           "Digital Media"
          ],
          [
           "Digital Media"
          ],
          [
           "Digital Media"
          ],
          [
           "Digital Media"
          ],
          [
           "Digital Media"
          ],
          [
           "Data Science & Analytics"
          ],
          [
           "Digital Media"
          ],
          [
           "System and Security"
          ],
          [
           "System and Security"
          ],
          [
           "Digital Media"
          ],
          [
           "Data Science & Analytics"
          ],
          [
           "Data Science & Analytics"
          ],
          [
           "Data Science & Analytics"
          ],
          [
           "Data Science & Analytics"
          ],
          [
           "Digital Media"
          ],
          [
           "System and Security"
          ],
          [
           "Enterprise Systems"
          ],
          [
           "Software Development"
          ],
          [
           "System and Security"
          ],
          [
           "Data Science & Analytics"
          ],
          [
           "System and Security"
          ],
          [
           "System and Security"
          ],
          [
           "Enterprise Systems"
          ],
          [
           "System and Security"
          ],
          [
           "System and Security"
          ],
          [
           "Enterprise Systems"
          ],
          [
           "Data Science & Analytics"
          ],
          [
           "Digital Media"
          ],
          [
           "Data Science & Analytics"
          ],
          [
           "Software Development"
          ],
          [
           "System and Security"
          ],
          [
           "Data Science & Analytics"
          ],
          [
           "System and Security"
          ],
          [
           "System and Security"
          ],
          [
           "Enterprise Systems"
          ],
          [
           "Digital Media"
          ],
          [
           "Enterprise Systems"
          ],
          [
           "Software Development"
          ],
          [
           "System and Security"
          ],
          [
           "Enterprise Systems"
          ],
          [
           "Data Science & Analytics"
          ],
          [
           "System and Security"
          ],
          [
           "Digital Media"
          ],
          [
           "Enterprise Systems"
          ],
          [
           "Software Development"
          ],
          [
           "Data Science & Analytics"
          ],
          [
           "Digital Media"
          ],
          [
           "Software Development"
          ],
          [
           "Enterprise Systems"
          ],
          [
           "Data Science & Analytics"
          ],
          [
           "Digital Media"
          ],
          [
           "Data Science & Analytics"
          ],
          [
           "System and Security"
          ],
          [
           "Data Science & Analytics"
          ],
          [
           "Data Science & Analytics"
          ],
          [
           "System and Security"
          ],
          [
           "Digital Media"
          ],
          [
           "Software Development"
          ],
          [
           "Data Science & Analytics"
          ],
          [
           "Software Development"
          ],
          [
           "Data Science & Analytics"
          ],
          [
           "System and Security"
          ],
          [
           "Software Development"
          ],
          [
           "Software Development"
          ],
          [
           "Data Science & Analytics"
          ],
          [
           "Software Development"
          ],
          [
           "Software Development"
          ],
          [
           "System and Security"
          ],
          [
           "Software Development"
          ],
          [
           "Enterprise Systems"
          ],
          [
           "Digital Media"
          ],
          [
           "Data Science & Analytics"
          ],
          [
           "Data Science & Analytics"
          ],
          [
           "Data Science & Analytics"
          ],
          [
           "Enterprise Systems"
          ],
          [
           "System and Security"
          ],
          [
           "System and Security"
          ],
          [
           "Enterprise Systems"
          ],
          [
           "Data Science & Analytics"
          ],
          [
           "Data Science & Analytics"
          ],
          [
           "System and Security"
          ],
          [
           "Data Science & Analytics"
          ],
          [
           "Enterprise Systems"
          ],
          [
           "Digital Media"
          ],
          [
           "Data Science & Analytics"
          ],
          [
           "Software Development"
          ],
          [
           "Data Science & Analytics"
          ],
          [
           "System and Security"
          ],
          [
           "System and Security"
          ],
          [
           "Digital Media"
          ],
          [
           "Digital Media"
          ],
          [
           "Software Development"
          ],
          [
           "Digital Media"
          ],
          [
           "Data Science & Analytics"
          ],
          [
           "Data Science & Analytics"
          ],
          [
           "System and Security"
          ],
          [
           "Software Development"
          ],
          [
           "Enterprise Systems"
          ],
          [
           "Data Science & Analytics"
          ],
          [
           "Digital Media"
          ],
          [
           "Digital Media"
          ],
          [
           "System and Security"
          ],
          [
           "Software Development"
          ],
          [
           "Data Science & Analytics"
          ],
          [
           "Enterprise Systems"
          ],
          [
           "Enterprise Systems"
          ],
          [
           "System and Security"
          ],
          [
           "System and Security"
          ],
          [
           "Digital Media"
          ],
          [
           "Software Development"
          ],
          [
           "Data Science & Analytics"
          ],
          [
           "Data Science & Analytics"
          ],
          [
           "System and Security"
          ],
          [
           "System and Security"
          ],
          [
           "System and Security"
          ],
          [
           "Digital Media"
          ],
          [
           "System and Security"
          ],
          [
           "System and Security"
          ],
          [
           "System and Security"
          ],
          [
           "Digital Media"
          ],
          [
           "Digital Media"
          ],
          [
           "Digital Media"
          ],
          [
           "Digital Media"
          ],
          [
           "Data Science & Analytics"
          ],
          [
           "Data Science & Analytics"
          ],
          [
           "Digital Media"
          ],
          [
           "Digital Media"
          ],
          [
           "Software Development"
          ],
          [
           "Software Development"
          ],
          [
           "Software Development"
          ],
          [
           "Enterprise Systems"
          ],
          [
           "Data Science & Analytics"
          ],
          [
           "Data Science & Analytics"
          ],
          [
           "Digital Media"
          ],
          [
           "Digital Media"
          ],
          [
           "Data Science & Analytics"
          ],
          [
           "Data Science & Analytics"
          ],
          [
           "System and Security"
          ],
          [
           "System and Security"
          ],
          [
           "Software Development"
          ],
          [
           "Enterprise Systems"
          ],
          [
           "Data Science & Analytics"
          ],
          [
           "Enterprise Systems"
          ],
          [
           "Data Science & Analytics"
          ],
          [
           "Enterprise Systems"
          ],
          [
           "Digital Media"
          ],
          [
           "Digital Media"
          ],
          [
           "System and Security"
          ],
          [
           "Software Development"
          ],
          [
           "Enterprise Systems"
          ],
          [
           "Data Science & Analytics"
          ],
          [
           "System and Security"
          ],
          [
           "Digital Media"
          ],
          [
           "System and Security"
          ],
          [
           "Digital Media"
          ],
          [
           "Digital Media"
          ],
          [
           "System and Security"
          ],
          [
           "System and Security"
          ],
          [
           "System and Security"
          ],
          [
           "Data Science & Analytics"
          ],
          [
           "Data Science & Analytics"
          ],
          [
           "Enterprise Systems"
          ],
          [
           "System and Security"
          ],
          [
           "Digital Media"
          ],
          [
           "Digital Media"
          ],
          [
           "System and Security"
          ],
          [
           "Software Development"
          ],
          [
           "Enterprise Systems"
          ],
          [
           "System and Security"
          ],
          [
           "System and Security"
          ],
          [
           "System and Security"
          ],
          [
           "Enterprise Systems"
          ],
          [
           "System and Security"
          ],
          [
           "Data Science & Analytics"
          ],
          [
           "Enterprise Systems"
          ],
          [
           "Enterprise Systems"
          ],
          [
           "System and Security"
          ],
          [
           "Enterprise Systems"
          ],
          [
           "Enterprise Systems"
          ],
          [
           "Enterprise Systems"
          ],
          [
           "Digital Media"
          ],
          [
           "System and Security"
          ],
          [
           "Enterprise Systems"
          ],
          [
           "Data Science & Analytics"
          ],
          [
           "Enterprise Systems"
          ],
          [
           "System and Security"
          ],
          [
           "Data Science & Analytics"
          ],
          [
           "Software Development"
          ],
          [
           "Enterprise Systems"
          ],
          [
           "Software Development"
          ],
          [
           "System and Security"
          ],
          [
           "System and Security"
          ],
          [
           "Enterprise Systems"
          ],
          [
           "Data Science & Analytics"
          ],
          [
           "Digital Media"
          ],
          [
           "Software Development"
          ],
          [
           "System and Security"
          ],
          [
           "Digital Media"
          ],
          [
           "Digital Media"
          ],
          [
           "Digital Media"
          ],
          [
           "Digital Media"
          ],
          [
           "System and Security"
          ],
          [
           "System and Security"
          ],
          [
           "Digital Media"
          ],
          [
           "Digital Media"
          ],
          [
           "Software Development"
          ],
          [
           "System and Security"
          ],
          [
           "System and Security"
          ],
          [
           "System and Security"
          ],
          [
           "System and Security"
          ],
          [
           "Data Science & Analytics"
          ],
          [
           "Software Development"
          ],
          [
           "System and Security"
          ],
          [
           "System and Security"
          ],
          [
           "Software Development"
          ],
          [
           "System and Security"
          ],
          [
           "Software Development"
          ],
          [
           "Software Development"
          ],
          [
           "Digital Media"
          ],
          [
           "Software Development"
          ],
          [
           "Data Science & Analytics"
          ],
          [
           "Digital Media"
          ],
          [
           "Enterprise Systems"
          ],
          [
           "Digital Media"
          ],
          [
           "Enterprise Systems"
          ],
          [
           "Enterprise Systems"
          ],
          [
           "Software Development"
          ],
          [
           "Data Science & Analytics"
          ],
          [
           "System and Security"
          ],
          [
           "Digital Media"
          ],
          [
           "Digital Media"
          ],
          [
           "Software Development"
          ],
          [
           "Digital Media"
          ],
          [
           "Enterprise Systems"
          ],
          [
           "System and Security"
          ],
          [
           "Enterprise Systems"
          ],
          [
           "System and Security"
          ],
          [
           "System and Security"
          ],
          [
           "System and Security"
          ],
          [
           "System and Security"
          ],
          [
           "System and Security"
          ],
          [
           "Enterprise Systems"
          ],
          [
           "Data Science & Analytics"
          ],
          [
           "Software Development"
          ],
          [
           "Enterprise Systems"
          ],
          [
           "System and Security"
          ],
          [
           "Data Science & Analytics"
          ],
          [
           "Software Development"
          ],
          [
           "System and Security"
          ],
          [
           "System and Security"
          ],
          [
           "Enterprise Systems"
          ],
          [
           "Digital Media"
          ],
          [
           "Enterprise Systems"
          ],
          [
           "Digital Media"
          ],
          [
           "Digital Media"
          ],
          [
           "Digital Media"
          ],
          [
           "Digital Media"
          ],
          [
           "Digital Media"
          ],
          [
           "Digital Media"
          ],
          [
           "Digital Media"
          ],
          [
           "Digital Media"
          ],
          [
           "Digital Media"
          ],
          [
           "System and Security"
          ],
          [
           "Data Science & Analytics"
          ],
          [
           "System and Security"
          ],
          [
           "Digital Media"
          ],
          [
           "Digital Media"
          ],
          [
           "System and Security"
          ],
          [
           "Data Science & Analytics"
          ],
          [
           "Digital Media"
          ],
          [
           "System and Security"
          ],
          [
           "Data Science & Analytics"
          ],
          [
           "Software Development"
          ],
          [
           "Digital Media"
          ],
          [
           "Digital Media"
          ],
          [
           "Data Science & Analytics"
          ],
          [
           "Enterprise Systems"
          ],
          [
           "System and Security"
          ],
          [
           "Software Development"
          ],
          [
           "Data Science & Analytics"
          ],
          [
           "Enterprise Systems"
          ],
          [
           "Software Development"
          ],
          [
           "Data Science & Analytics"
          ],
          [
           "Software Development"
          ],
          [
           "Software Development"
          ],
          [
           "Data Science & Analytics"
          ],
          [
           "Digital Media"
          ],
          [
           "Enterprise Systems"
          ],
          [
           "Software Development"
          ],
          [
           "System and Security"
          ],
          [
           "Digital Media"
          ],
          [
           "Digital Media"
          ],
          [
           "Digital Media"
          ],
          [
           "Data Science & Analytics"
          ],
          [
           "System and Security"
          ],
          [
           "System and Security"
          ],
          [
           "Data Science & Analytics"
          ],
          [
           "System and Security"
          ],
          [
           "System and Security"
          ],
          [
           "Data Science & Analytics"
          ],
          [
           "Data Science & Analytics"
          ],
          [
           "Software Development"
          ],
          [
           "System and Security"
          ],
          [
           "Data Science & Analytics"
          ],
          [
           "Data Science & Analytics"
          ],
          [
           "Software Development"
          ],
          [
           "Data Science & Analytics"
          ],
          [
           "System and Security"
          ],
          [
           "Data Science & Analytics"
          ],
          [
           "Software Development"
          ],
          [
           "System and Security"
          ],
          [
           "Data Science & Analytics"
          ],
          [
           "Data Science & Analytics"
          ],
          [
           "Software Development"
          ],
          [
           "Software Development"
          ],
          [
           "Software Development"
          ],
          [
           "Digital Media"
          ],
          [
           "Enterprise Systems"
          ],
          [
           "System and Security"
          ],
          [
           "System and Security"
          ],
          [
           "Data Science & Analytics"
          ],
          [
           "Data Science & Analytics"
          ],
          [
           "Enterprise Systems"
          ],
          [
           "Digital Media"
          ],
          [
           "Data Science & Analytics"
          ],
          [
           "Enterprise Systems"
          ],
          [
           "Enterprise Systems"
          ],
          [
           "Data Science & Analytics"
          ],
          [
           "Enterprise Systems"
          ],
          [
           "Data Science & Analytics"
          ],
          [
           "Data Science & Analytics"
          ],
          [
           "System and Security"
          ],
          [
           "Enterprise Systems"
          ],
          [
           "Enterprise Systems"
          ],
          [
           "Software Development"
          ],
          [
           "Data Science & Analytics"
          ],
          [
           "System and Security"
          ],
          [
           "System and Security"
          ],
          [
           "Software Development"
          ],
          [
           "System and Security"
          ],
          [
           "Data Science & Analytics"
          ],
          [
           "Digital Media"
          ],
          [
           "System and Security"
          ],
          [
           "Data Science & Analytics"
          ],
          [
           "System and Security"
          ],
          [
           "Software Development"
          ],
          [
           "Enterprise Systems"
          ],
          [
           "Software Development"
          ],
          [
           "Data Science & Analytics"
          ],
          [
           "System and Security"
          ],
          [
           "Enterprise Systems"
          ],
          [
           "System and Security"
          ],
          [
           "Enterprise Systems"
          ],
          [
           "System and Security"
          ],
          [
           "System and Security"
          ],
          [
           "Software Development"
          ],
          [
           "Enterprise Systems"
          ],
          [
           "Enterprise Systems"
          ],
          [
           "Data Science & Analytics"
          ],
          [
           "Software Development"
          ],
          [
           "Software Development"
          ],
          [
           "Enterprise Systems"
          ],
          [
           "Data Science & Analytics"
          ],
          [
           "Data Science & Analytics"
          ],
          [
           "Enterprise Systems"
          ],
          [
           "Digital Media"
          ],
          [
           "Data Science & Analytics"
          ],
          [
           "Digital Media"
          ],
          [
           "Digital Media"
          ],
          [
           "Enterprise Systems"
          ],
          [
           "System and Security"
          ],
          [
           "Data Science & Analytics"
          ],
          [
           "Data Science & Analytics"
          ],
          [
           "System and Security"
          ],
          [
           "Digital Media"
          ],
          [
           "Software Development"
          ],
          [
           "Data Science & Analytics"
          ],
          [
           "Enterprise Systems"
          ],
          [
           "Data Science & Analytics"
          ],
          [
           "System and Security"
          ],
          [
           "Digital Media"
          ],
          [
           "Data Science & Analytics"
          ],
          [
           "System and Security"
          ],
          [
           "Enterprise Systems"
          ],
          [
           "System and Security"
          ],
          [
           "Enterprise Systems"
          ],
          [
           "Software Development"
          ],
          [
           "Digital Media"
          ],
          [
           "System and Security"
          ],
          [
           "System and Security"
          ],
          [
           "System and Security"
          ],
          [
           "System and Security"
          ],
          [
           "Data Science & Analytics"
          ],
          [
           "Data Science & Analytics"
          ],
          [
           "Digital Media"
          ],
          [
           "Digital Media"
          ],
          [
           "Digital Media"
          ],
          [
           "Software Development"
          ],
          [
           "System and Security"
          ],
          [
           "System and Security"
          ],
          [
           "Digital Media"
          ],
          [
           "Software Development"
          ],
          [
           "Digital Media"
          ],
          [
           "Software Development"
          ],
          [
           "Data Science & Analytics"
          ],
          [
           "Enterprise Systems"
          ],
          [
           "System and Security"
          ],
          [
           "System and Security"
          ],
          [
           "Enterprise Systems"
          ],
          [
           "Software Development"
          ],
          [
           "Data Science & Analytics"
          ],
          [
           "Data Science & Analytics"
          ],
          [
           "Enterprise Systems"
          ],
          [
           "Data Science & Analytics"
          ],
          [
           "Data Science & Analytics"
          ],
          [
           "Enterprise Systems"
          ],
          [
           "System and Security"
          ],
          [
           "Digital Media"
          ],
          [
           "Software Development"
          ],
          [
           "Enterprise Systems"
          ],
          [
           "Data Science & Analytics"
          ],
          [
           "Software Development"
          ],
          [
           "Digital Media"
          ],
          [
           "Digital Media"
          ],
          [
           "System and Security"
          ],
          [
           "Enterprise Systems"
          ],
          [
           "Digital Media"
          ],
          [
           "Enterprise Systems"
          ],
          [
           "Software Development"
          ],
          [
           "Data Science & Analytics"
          ],
          [
           "System and Security"
          ],
          [
           "Enterprise Systems"
          ],
          [
           "Software Development"
          ],
          [
           "Data Science & Analytics"
          ],
          [
           "Software Development"
          ],
          [
           "Software Development"
          ],
          [
           "System and Security"
          ],
          [
           "Enterprise Systems"
          ],
          [
           "Data Science & Analytics"
          ],
          [
           "Data Science & Analytics"
          ],
          [
           "Software Development"
          ],
          [
           "Digital Media"
          ],
          [
           "Data Science & Analytics"
          ],
          [
           "System and Security"
          ],
          [
           "Software Development"
          ],
          [
           "Data Science & Analytics"
          ],
          [
           "System and Security"
          ],
          [
           "System and Security"
          ],
          [
           "System and Security"
          ],
          [
           "System and Security"
          ],
          [
           "System and Security"
          ],
          [
           "Software Development"
          ],
          [
           "Digital Media"
          ],
          [
           "System and Security"
          ],
          [
           "Data Science & Analytics"
          ],
          [
           "Software Development"
          ],
          [
           "System and Security"
          ],
          [
           "Software Development"
          ],
          [
           "Data Science & Analytics"
          ],
          [
           "Software Development"
          ],
          [
           "System and Security"
          ],
          [
           "Data Science & Analytics"
          ],
          [
           "Software Development"
          ],
          [
           "Software Development"
          ],
          [
           "System and Security"
          ],
          [
           "System and Security"
          ],
          [
           "Enterprise Systems"
          ],
          [
           "Data Science & Analytics"
          ],
          [
           "Enterprise Systems"
          ],
          [
           "Data Science & Analytics"
          ],
          [
           "Data Science & Analytics"
          ],
          [
           "Digital Media"
          ],
          [
           "Digital Media"
          ],
          [
           "Digital Media"
          ],
          [
           "Enterprise Systems"
          ],
          [
           "System and Security"
          ],
          [
           "System and Security"
          ],
          [
           "Enterprise Systems"
          ],
          [
           "System and Security"
          ],
          [
           "Enterprise Systems"
          ],
          [
           "System and Security"
          ],
          [
           "Enterprise Systems"
          ],
          [
           "Software Development"
          ],
          [
           "Software Development"
          ],
          [
           "Data Science & Analytics"
          ],
          [
           "System and Security"
          ],
          [
           "System and Security"
          ],
          [
           "Software Development"
          ],
          [
           "Software Development"
          ],
          [
           "Enterprise Systems"
          ],
          [
           "Digital Media"
          ],
          [
           "Software Development"
          ],
          [
           "Data Science & Analytics"
          ],
          [
           "Software Development"
          ],
          [
           "Data Science & Analytics"
          ],
          [
           "Enterprise Systems"
          ],
          [
           "Enterprise Systems"
          ],
          [
           "Software Development"
          ],
          [
           "Enterprise Systems"
          ],
          [
           "Digital Media"
          ],
          [
           "Data Science & Analytics"
          ],
          [
           "System and Security"
          ],
          [
           "Software Development"
          ],
          [
           "Enterprise Systems"
          ],
          [
           "Data Science & Analytics"
          ],
          [
           "Data Science & Analytics"
          ],
          [
           "System and Security"
          ],
          [
           "System and Security"
          ],
          [
           "System and Security"
          ],
          [
           "Software Development"
          ],
          [
           "Software Development"
          ],
          [
           "Data Science & Analytics"
          ],
          [
           "Data Science & Analytics"
          ],
          [
           "Software Development"
          ],
          [
           "Enterprise Systems"
          ],
          [
           "System and Security"
          ],
          [
           "Software Development"
          ],
          [
           "Software Development"
          ],
          [
           "Data Science & Analytics"
          ],
          [
           "Data Science & Analytics"
          ],
          [
           "Enterprise Systems"
          ],
          [
           "System and Security"
          ],
          [
           "Digital Media"
          ],
          [
           "Software Development"
          ],
          [
           "Enterprise Systems"
          ],
          [
           "Data Science & Analytics"
          ],
          [
           "System and Security"
          ],
          [
           "Enterprise Systems"
          ],
          [
           "System and Security"
          ],
          [
           "System and Security"
          ],
          [
           "Software Development"
          ],
          [
           "Enterprise Systems"
          ],
          [
           "Data Science & Analytics"
          ],
          [
           "Data Science & Analytics"
          ],
          [
           "Data Science & Analytics"
          ],
          [
           "Digital Media"
          ],
          [
           "Data Science & Analytics"
          ],
          [
           "Software Development"
          ],
          [
           "Data Science & Analytics"
          ],
          [
           "Digital Media"
          ],
          [
           "Enterprise Systems"
          ],
          [
           "Software Development"
          ],
          [
           "System and Security"
          ],
          [
           "Data Science & Analytics"
          ],
          [
           "Digital Media"
          ],
          [
           "Enterprise Systems"
          ],
          [
           "Software Development"
          ],
          [
           "System and Security"
          ],
          [
           "Data Science & Analytics"
          ],
          [
           "Digital Media"
          ],
          [
           "Enterprise Systems"
          ],
          [
           "Software Development"
          ],
          [
           "System and Security"
          ]
         ],
         "domain": {
          "x": [
           0,
           1
          ],
          "y": [
           0,
           1
          ]
         },
         "hovertemplate": "labels=%{label}<br>Count=%{value}<br>parent=%{parent}<br>id=%{id}<br>Domain=%{customdata[0]}<extra></extra>",
         "ids": [
          "System and Security/Soft/Critical Thinking",
          "Enterprise Systems/Technical/Data Modeling",
          "Data Science & Analytics/Technical/Data Mining",
          "Data Science & Analytics/Project Management/Data Governance",
          "Data Science & Analytics/Technical/Data Cleaning",
          "Data Science & Analytics/Technical/Dask",
          "Data Science & Analytics/Technical/Dashboarding",
          "Software Development/Project Management/Daily Stand-ups",
          "System and Security/Technical/DDoS Mitigation",
          "Enterprise Systems/Technical/DB2",
          "System and Security/Technical/Cloud Workload Protection",
          "Data Science & Analytics/Technical/Clustering",
          "System and Security/Technical/Code Review",
          "Enterprise Systems/Technical/Cognos Analytics",
          "Data Science & Analytics/Soft/Collaboration",
          "Digital Media/Soft/Collaboration",
          "Enterprise Systems/Soft/Collaboration",
          "Software Development/Soft/Collaboration",
          "System and Security/Soft/Collaboration",
          "Data Science & Analytics/Soft/Collaboration & Teamwork",
          "Digital Media/Soft/Collaboration & Teamwork",
          "Software Development/Soft/Collaboration & Teamwork",
          "Data Science & Analytics/Soft/Collaboration with Cross-Functional Teams",
          "Data Science & Analytics/Soft/Communication",
          "Data Science & Analytics/Technical/Data Pipelines",
          "Enterprise Systems/Soft/Communication",
          "System and Security/Technical/Data Protection",
          "Data Science & Analytics/Technical/Data Transformation",
          "System and Security/Technical/Disk Forensics",
          "Data Science & Analytics/Technical/Dimensionality Reduction",
          "Digital Media/Technical/Digital Marketing",
          "Digital Media/Technical/Digital Illustration",
          "System and Security/Technical/Digital Forensics",
          "System and Security/Technical/DevSecOps",
          "Software Development/Soft/Determined",
          "Enterprise Systems/Soft/Determined",
          "Data Science & Analytics/Soft/Determined",
          "Software Development/Technical/Design Patterns",
          "Data Science & Analytics/Technical/Delta Lake",
          "Digital Media/Technical/Deepfake TechnologyDigital Media",
          "Enterprise Systems/Soft/Decision-Making",
          "Data Science & Analytics/Soft/Decision-Making",
          "Digital Media/Soft/Decision Making",
          "Software Development/Soft/Debugging & Troubleshooting",
          "Data Science & Analytics/Technical/Databricks",
          "Data Science & Analytics/Technical/DataRobot",
          "Digital Media/Soft/Data-Driven Decision-Making (SEO, Social Media Analytics)",
          "Data Science & Analytics/Technical/Data Wrangling",
          "Enterprise Systems/Technical/Data Warehousing",
          "Data Science & Analytics/Technical/Data Warehousing",
          "Digital Media/Technical/Data Visualization",
          "Software Development/Technical/Data Structures",
          "Software Development/Technical/Django",
          "Software Development/Soft/Communication",
          "Digital Media/Soft/Communication & Branding",
          "Digital Media/Technical/Copywriting",
          "Data Science & Analytics/Soft/Creative",
          "Digital Media/Soft/Creative",
          "Enterprise Systems/Soft/Creative",
          "Software Development/Soft/Creative",
          "Digital Media/Technical/Creative Direction",
          "Digital Media/Technical/Creative Director",
          "Digital Media/Technical/Creative Writing",
          "Data Science & Analytics/Soft/Creativity",
          "Digital Media/Soft/Creativity",
          "Enterprise Systems/Soft/Creativity",
          "Software Development/Soft/Creativity",
          "Data Science & Analytics/Soft/Creativity & Innovation",
          "Digital Media/Soft/Creativity & Innovation",
          "Software Development/Soft/Creativity & Innovation",
          "Data Science & Analytics/Soft/Critical Thinking",
          "Software Development/Soft/Critical Thinking",
          "Data Science & Analytics/Technical/DAX (Data Analysis Expressions)",
          "System and Security/Technical/CrowdStrike",
          "System and Security/Technical/Cryptography",
          "Data Science & Analytics/Soft/Curiosity & Continuous Learning",
          "System and Security/Technical/Cyber Kill Chain",
          "System and Security/Technical/Cybersecurity",
          "Data Science & Analytics/Technical/Convolutional Neural Networks (CNNs)",
          "System and Security/Soft/Communication",
          "Digital Media/Technical/Conversion Rate Optimization (CRO)",
          "Software Development/Soft/Continuous Learning",
          "Enterprise Systems/Soft/Communication & Collaboration",
          "Data Science & Analytics/Soft/Communication & Presentation Skills",
          "Data Science & Analytics/Soft/Communication & Storytelling",
          "System and Security/Soft/Communication (Explaining Security Risks Clearly)",
          "Software Development/Soft/Communication (Technical & Non-Technical)",
          "Digital Media/Technical/Community Management",
          "System and Security/Technical/CompTIA CASP+",
          "System and Security/Technical/CompTIA CySA+",
          "System and Security/Technical/CompTIA PenTest+",
          "System and Security/Technical/CompTIA Security+",
          "System and Security/Technical/Compliance",
          "Software Development/Technical/Concurrency",
          "System and Security/Soft/Confidentiality & Discretion",
          "Enterprise Systems/Soft/Conflict Resolution",
          "Data Science & Analytics/Project Management/Confluence",
          "Software Development/Project Management/Confluence",
          "System and Security/Technical/Container Security",
          "Digital Media/Technical/Content Creation",
          "Digital Media/Technical/Content Creator",
          "Digital Media/Technical/Content Marketing",
          "Digital Media/Technical/Content Strategy",
          "Enterprise Systems/Technical/Continuous Deployment",
          "Enterprise Systems/Technical/Continuous Integration",
          "System and Security/Soft/Continuous Learning & Curiosity",
          "Software Development/Technical/Cypress",
          "Data Science & Analytics/Technical/Docker",
          "Software Development/Technical/Docker",
          "Data Science & Analytics/Soft/Flexible",
          "System and Security/Soft/Flexibility",
          "Software Development/Soft/Flexibility",
          "Enterprise Systems/Soft/Flexibility",
          "Data Science & Analytics/Soft/Flexibility",
          "Software Development/Technical/Flask",
          "Data Science & Analytics/Technical/Flask",
          "Enterprise Systems/Technical/Docker",
          "Software Development/Technical/Firebase",
          "Enterprise Systems/Technical/FinanceSQL Server",
          "Digital Media/Technical/Final Cut Pro",
          "Digital Media/Technical/Figma",
          "System and Security/Technical/Federated Identity Management",
          "System and Security/Technical/FedRAMP",
          "Data Science & Analytics/Technical/Feature Store",
          "Data Science & Analytics/Technical/Feature Engineering",
          "Data Science & Analytics/Technical/FastAPI",
          "Enterprise Systems/Soft/Flexible",
          "Software Development/Soft/Flexible",
          "Software Development/Technical/Flutter",
          "System and Security/Technical/Forensic Analysis",
          "System and Security/Technical/Go",
          "Software Development/Technical/Go",
          "Software Development/Technical/GitLab",
          "Software Development/Technical/GitHub Actions",
          "Enterprise Systems/Technical/GitHub Actions",
          "Software Development/Technical/GitHub",
          "Software Development/Technical/Git",
          "Digital Media/Technical/GarageBand",
          "Digital Media/Technical/Facebook Marketing",
          "Software Development/Project Management/Gantt Charts",
          "System and Security/Technical/GSEC",
          "Data Science & Analytics/Technical/GPT",
          "System and Security/Technical/GIAC",
          "Enterprise Systems/Technical/GDPR Compliance",
          "System and Security/Technical/GDPR",
          "Data Science & Analytics/Technical/GANs (Generative Adversarial Networks)",
          "Software Development/Technical/Functional Programming",
          "System and Security/Technical/Forensics",
          "Data Science & Analytics/Project Management/Gantt Charts",
          "Digital Media/Technical/Facebook Ads",
          "System and Security/Technical/Firewall",
          "System and Security/Technical/Extended Detection and Response (XDR)",
          "Digital Media/Technical/Editorial Planning",
          "Software Development/Technical/Eclipse",
          "Data Science & Analytics/Technical/ETL (Extract, Transform, Load)",
          "Enterprise Systems/Technical/ETL",
          "System and Security/Technical/ELK Stack",
          "System and Security/Technical/EDR Solutions",
          "Digital Media/Technical/E-commerce",
          "Software Development/Technical/DynamoDB",
          "System and Security/Technical/FISMA",
          "Software Development/Soft/Driven",
          "Enterprise Systems/Soft/Driven",
          "Data Science & Analytics/Soft/Driven",
          "Data Science & Analytics/Technical/Dplyr",
          "Data Science & Analytics/Soft/Domain Knowledge",
          "System and Security/Soft/Documentation & Reporting",
          "Enterprise Systems/Soft/Documentation & Reporting",
          "System and Security/Technical/Docker Security",
          "System and Security/Technical/Elliptic Curve Cryptography (ECC)",
          "Digital Media/Technical/Email Marketing",
          "System and Security/Technical/Dynamic Code Analysis",
          "System and Security/Technical/Encryption",
          "Digital Media/Soft/Emotional Intelligence (Understanding Audience Needs)",
          "Data Science & Analytics/Technical/Exploratory Data Analysis (EDA)",
          "System and Security/Technical/Exploit Development",
          "Data Science & Analytics/Soft/Experimentation & Research Mindset",
          "Enterprise Systems/Technical/ExcelSQL",
          "Data Science & Analytics/Technical/Excel",
          "System and Security/Soft/Ethical Judgment & Integrity",
          "System and Security/Technical/Ethical Hacking",
          "Data Science & Analytics/Soft/Ethical Considerations in AI",
          "Data Science & Analytics/Technical/D3.js",
          "Enterprise Systems/Technical/Epicor ERP",
          "Enterprise Systems/Technical/Enterprise Solutions",
          "Enterprise Systems/Technical/Enterprise Integration",
          "Enterprise Systems/Technical/Enterprise Engineer",
          "Enterprise Systems/Technical/Enterprise Architect",
          "Enterprise Systems/Technical/Enterprise",
          "Digital Media/Technical/Engagement Metrics",
          "System and Security/Technical/Endpoint Security",
          "System and Security/Technical/Endpoint Detection and Response (EDR)",
          "System and Security/Soft/Ethical",
          "System and Security/Technical/Security Risk Management",
          "System and Security/Technical/Security Orchestration, Automation, and Response (SOAR)",
          "System and Security/Technical/Security Information and Event Management",
          "System and Security/Technical/Secure SDLC",
          "System and Security/Technical/Security Awareness Training",
          "System and Security/Technical/Security Auditing",
          "Software Development/Technical/Selenium",
          "Software Development/Technical/iOS",
          "Enterprise Systems/Technical/Security Information and Event Management",
          "Data Science & Analytics/Soft/Self Motivated",
          "Enterprise Systems/Soft/Self-Motivated",
          "Software Development/Soft/Self Motivated",
          "Data Science & Analytics/Soft/Self-Motivated",
          "Digital Media/Soft/Self-Motivated",
          "Software Development/Soft/Self-Motivated",
          "Data Science & Analytics/Technical/Self-Supervised Learning",
          "Data Science & Analytics/Technical/Sentiment Analysis",
          "Enterprise Systems/Technical/ServiceNow",
          "Digital Media/Technical/Shopify",
          "System and Security/Technical/Single Sign-On (SSO)",
          "Enterprise Systems/Soft/Self Motivated",
          "System and Security/Technical/Shodan",
          "Software Development/Technical/macOS",
          "Digital Media/Technical/Sketch",
          "Software Development/Project Management/User Stories",
          "Data Science & Analytics/Technical/VBA",
          "Digital Media/Technical/VFX",
          "Enterprise Systems/Technical/VMware",
          "System and Security/Technical/VPN",
          "Software Development/Technical/VS Code",
          "Digital Media/Technical/User Experience",
          "System and Security/Technical/Vault",
          "Digital Media/Technical/Video Editor",
          "Digital Media/Technical/Video Production",
          "Digital Media/Technical/Viral Marketing",
          "Digital Media/Technical/Virtual Events",
          "Digital Media/Technical/Virtual Reality (VR)",
          "Data Science & Analytics/Soft/Visionary",
          "Digital Media/Technical/Video Editing",
          "Enterprise Systems/Soft/Visionary",
          "Digital Media/Technical/User Engagement",
          "Digital Media/Technical/UX/UI Designer",
          "Digital Media/Soft/Time Management & Deadlines",
          "Data Science & Analytics/Technical/Time Series Analysis",
          "Data Science & Analytics/Technical/Time Series Forecasting",
          "Data Science & Analytics/Project Management/Trello",
          "Software Development/Project Management/Trello",
          "Digital Media/Technical/Twitch Streaming",
          "Software Development/Technical/Unix",
          "Digital Media/Technical/Twitter Marketing",
          "Software Development/Technical/TypeScript",
          "Digital Media/Technical/Typography",
          "Digital Media/Technical/UI",
          "Digital Media/Technical/UI/UX Design",
          "Digital Media/Technical/UX",
          "Digital Media/Technical/UX Research",
          "Enterprise Systems/Technical/TypeScript",
          "Data Science & Analytics/Soft/Visual",
          "Enterprise Systems/Soft/Visual",
          "Digital Media/Technical/Visual Communication",
          "Enterprise Systems/Technical/Workday",
          "System and Security/Soft/Works well under pressure",
          "Data Science & Analytics/Technical/XGBoost",
          "Software Development/Technical/Xamarin",
          "Software Development/Technical/Xcode",
          "System and Security/Technical/YARA Rules",
          "Digital Media/Technical/WordPress",
          "Data Science & Analytics/Technical/YOLO",
          "Digital Media/Technical/YouTube Marketing",
          "Enterprise Systems/Technical/Zachman FrameworkERP",
          "System and Security/Technical/Zero Trust",
          "System and Security/Technical/Zero Trust Architecture",
          "System and Security/Technical/Zero Trust Security",
          "Data Science & Analytics/Technical/ggplot2",
          "Digital Media/Technical/YouTube Live",
          "Data Science & Analytics/Technical/Word Embeddings",
          "System and Security/Technical/Wireshark",
          "Software Development/Technical/Windows",
          "Digital Media/Technical/Visual Design",
          "Digital Media/Technical/Visual Effects",
          "Digital Media/Soft/Visual Thinking",
          "Digital Media/Technical/Voiceover",
          "Software Development/Technical/Vue.js",
          "System and Security/Technical/Vulnerability",
          "System and Security/Technical/Vulnerability Assessment",
          "Data Science & Analytics/Project Management/Waterfall",
          "Software Development/Project Management/Waterfall",
          "System and Security/Technical/Web Application Security",
          "Digital Media/Technical/Web Design",
          "Digital Media/Technical/Web Designer",
          "Enterprise Systems/Technical/Web Services",
          "Digital Media/Technical/Webflow",
          "Digital Media/Technical/Webinar Hosting",
          "Software Development/Soft/Time Management",
          "Enterprise Systems/Soft/Time Management",
          "Software Development/Project Management/Version Control Integration (e.g., Git with Jira)",
          "Software Development/Project Management/Time Estimation",
          "Data Science & Analytics/Project Management/Sprint Planning",
          "Software Development/Project Management/Sprint Planning",
          "Digital Media/Technical/Sprout Social",
          "Data Science & Analytics/Project Management/Stakeholder Communication",
          "Software Development/Project Management/Stakeholder Communication",
          "Data Science & Analytics/Soft/Stakeholder Engagement",
          "Software Development/Technical/Spring Boot",
          "Enterprise Systems/Soft/Stakeholder Management",
          "System and Security/Technical/Static Code Analysis",
          "Data Science & Analytics/Technical/Statistical Analysis",
          "Data Science & Analytics/Soft/Storytelling",
          "Enterprise Systems/Soft/Storytelling",
          "Digital Media/Technical/Storytelling",
          "Digital Media/Soft/Storytelling & Narrative Skills",
          "Data Science & Analytics/Project Management/Stand-ups",
          "Digital Media/Technical/Spotify Podcasting",
          "System and Security/Technical/Splunk",
          "Enterprise Systems/Technical/Splunk",
          "System and Security/Technical/Snort",
          "Data Science & Analytics/Technical/Snowflake",
          "Enterprise Systems/Technical/Snowflake",
          "Digital Media/Technical/Social Listening",
          "Digital Media/Technical/Social Media",
          "Digital Media/Technical/Social Media Analytics",
          "Digital Media/Technical/Social Media Insights",
          "Digital Media/Technical/Social Media Manager",
          "Data Science & Analytics/Soft/Time Management",
          "Digital Media/Technical/Social Media Strategy",
          "System and Security/Technical/Software Composition Analysis (SCA)",
          "System and Security/Technical/Sophos",
          "Digital Media/Technical/Sound Design",
          "Data Science & Analytics/Technical/SpaCy",
          "Data Science & Analytics/Technical/Spark",
          "Data Science & Analytics/Soft/Storytelling with Data",
          "Data Science & Analytics/Technical/Support Vector Machines (SVM)",
          "Digital Media/Technical/Social Media Marketing",
          "System and Security/Technical/Symantec",
          "Enterprise Systems/Technical/Terraform",
          "Software Development/Technical/Terraform",
          "System and Security/Technical/Terraform Security",
          "Data Science & Analytics/Technical/Text Classification",
          "System and Security/Technical/Threat Analysis",
          "System and Security/Technical/Threat Feeds",
          "Enterprise Systems/Technical/Teradata",
          "System and Security/Technical/Threat Hunting",
          "System and Security/Technical/Threat Intelligence Platforms",
          "Enterprise Systems/Technical/Tibco",
          "Data Science & Analytics/Technical/Tidyverse",
          "Digital Media/Technical/TikTok Marketing",
          "Data Science & Analytics/Project Management/Time Estimation",
          "Software Development/Technical/Swift",
          "System and Security/Technical/Threat Intelligence",
          "Data Science & Analytics/Technical/TensorFlow",
          "System and Security/Technical/Threat Modeling",
          "System and Security/Soft/Teamwork & Collaboration",
          "Enterprise Systems/Technical/System Analyst",
          "Digital Media/Technical/Technical Writing",
          "Enterprise Systems/Soft/Systems Thinking",
          "Software Development/Technical/TDD (Test-Driven Development)",
          "System and Security/Technical/TLS Certificates",
          "Enterprise Systems/Technical/TOGAF",
          "Data Science & Analytics/Technical/Tableau",
          "System and Security/Technical/System Security",
          "Digital Media/Technical/Tableau",
          "Enterprise Systems/Technical/Tableau",
          "Software Development/Project Management/Team Velocity Tracking",
          "Data Science & Analytics/Soft/Teamwork",
          "Digital Media/Soft/Teamwork",
          "Software Development/Soft/Teamwork",
          "Enterprise Systems/Soft/Teamwork",
          "Data Science & Analytics/Technical/KPI Analysis",
          "Digital Media/Technical/KPI Tracking",
          "Data Science & Analytics/Technical/Kafka",
          "System and Security/Technical/Kali Linux",
          "Data Science & Analytics/Project Management/Kanban",
          "Data Science & Analytics/Technical/Keras",
          "System and Security/Technical/Kerberos",
          "Digital Media/Technical/Klaviyo",
          "Software Development/Technical/Kotlin",
          "Data Science & Analytics/Technical/Kubeflow",
          "Software Development/Project Management/Kanban",
          "Data Science & Analytics/Technical/Jupyter Notebook",
          "System and Security/Technical/John the Ripper",
          "Software Development/Technical/Java",
          "Software Development/Project Management/Jira",
          "Data Science & Analytics/Project Management/Jira",
          "Software Development/Technical/Jest",
          "Software Development/Technical/Jenkins",
          "System and Security/Technical/JavaScript",
          "Software Development/Technical/JavaScript",
          "Enterprise Systems/Technical/JavaScript",
          "Digital Media/Technical/JavaScript",
          "Data Science & Analytics/Technical/JavaScript",
          "Data Science & Analytics/Technical/Kubernetes",
          "Data Science & Analytics/Technical/Julia",
          "Enterprise Systems/Technical/Kubernetes",
          "System and Security/Technical/Load Balancer",
          "System and Security/Technical/Kubernetes Security",
          "Enterprise Systems/Technical/Java",
          "Data Science & Analytics/Technical/Machine Learning",
          "Data Science & Analytics/Technical/MLflow",
          "System and Security/Technical/MITRE ATT&CK Framework",
          "Data Science & Analytics/Technical/MATLAB",
          "Enterprise Systems/Technical/Looker",
          "Digital Media/Technical/Looker",
          "Data Science & Analytics/Technical/Looker",
          "Software Development/Soft/Logical Thinking",
          "Data Science & Analytics/Soft/Logical & Analytical Thinking",
          "System and Security/Technical/LogRhythm",
          "System and Security/Technical/Log Analysis",
          "Digital Media/Technical/Livestream Production",
          "Digital Media/Technical/Live Video Editing",
          "Software Development/Technical/Linux",
          "Digital Media/Technical/LinkedIn Marketing",
          "Data Science & Analytics/Technical/Linear Algebra",
          "Data Science & Analytics/Technical/LightGBM",
          "System and Security/Soft/Leadership",
          "Software Development/Soft/Leadership",
          "Enterprise Systems/Soft/Leadership",
          "Data Science & Analytics/Soft/Leadership",
          "Digital Media/Technical/Lead Generation",
          "Digital Media/Technical/Landing Page Optimization",
          "System and Security/Technical/LDAP",
          "Software Development/Technical/Kubernetes",
          "Data Science & Analytics/Technical/Java",
          "Enterprise Systems/Technical/Jenkins",
          "Enterprise Systems/Technical/JD Edwards",
          "System and Security/Technical/Graylog",
          "System and Security/Technical/HIPAA",
          "Digital Media/Technical/HTML",
          "Software Development/Technical/HTML",
          "Data Science & Analytics/Technical/Hadoop",
          "Data Science & Analytics/Soft/Handling Ambiguity",
          "System and Security/Technical/Hashcat",
          "System and Security/Technical/HashiCorp Vault",
          "System and Security/Technical/Hashing",
          "Digital Media/Technical/Hashtag Strategy",
          "System and Security/Technical/Homomorphic Encryption",
          "System and Security/Soft/Honest",
          "System and Security/Soft/Honesty",
          "Digital Media/Technical/Hootsuite",
          "Digital Media/Technical/HubSpot",
          "Digital Media/Technical/Google Ads",
          "Digital Media/Technical/Google Analytics",
          "Data Science & Analytics/Technical/Google BigQuery",
          "Data Science & Analytics/Technical/Google Cloud Platform",
          "Digital Media/Technical/Graphic Designer",
          "Digital Media/Technical/Graphic Design",
          "Software Development/Technical/GraphQL API",
          "Software Development/Technical/JUnit",
          "Software Development/Technical/GraphQL",
          "Enterprise Systems/Technical/GraphQL",
          "Data Science & Analytics/Technical/Gradient Boosting",
          "Data Science & Analytics/Technical/Hugging Face Transformers",
          "Digital Media/Technical/Google Tag Manager",
          "Digital Media/Technical/Google Data Studio",
          "Data Science & Analytics/Technical/Google Data Studio",
          "Data Science & Analytics/Technical/Google Colab",
          "System and Security/Technical/Google Cloud Security EngineerCybersecurity",
          "System and Security/Technical/Google Cloud Security",
          "Software Development/Technical/Google Cloud Platform",
          "Enterprise Systems/Technical/Google Cloud Platform",
          "Data Science & Analytics/Technical/Google Sheets",
          "Enterprise Systems/Technical/Hybrid Cloud",
          "Data Science & Analytics/Technical/H2O.ai",
          "Enterprise Systems/Technical/IAM",
          "Digital Media/Soft/Inspired",
          "Digital Media/Soft/Insightful",
          "System and Security/Soft/Innovative",
          "Software Development/Soft/Innovative",
          "Enterprise Systems/Soft/Innovative",
          "Data Science & Analytics/Soft/Innovative",
          "System and Security/Technical/Infrastructure as Code (IaC)",
          "Digital Media/Technical/Instagram Marketing",
          "System and Security/Technical/Information Security",
          "Digital Media/Technical/Infographics",
          "Digital Media/Technical/Influencer Marketing",
          "System and Security/Technical/Indicator of Compromise (IOC)",
          "System and Security/Soft/Incident Response Under Pressure",
          "System and Security/Technical/Incident Response",
          "Data Science & Analytics/Technical/Hypothesis Testing",
          "Data Science & Analytics/Technical/Image Processing",
          "Enterprise Systems/Technical/Infor ERP",
          "System and Security/Soft/Integrity",
          "Digital Media/Technical/Influencer",
          "Digital Media/Technical/Interactive Media",
          "System and Security/Technical/IAM",
          "Software Development/Technical/IntelliJ IDEA",
          "Enterprise Systems/Technical/IBM WebSphere",
          "System and Security/Technical/IDS",
          "System and Security/Technical/IPS",
          "System and Security/Technical/IPSec",
          "Enterprise Systems/Technical/ISO 27001",
          "System and Security/Technical/ISO 27001",
          "Data Science & Analytics/Technical/IBM Cognos",
          "Enterprise Systems/Technical/IT Consultant",
          "Enterprise Systems/Soft/IT Governance & Compliance Awareness",
          "System and Security/Technical/IT Auditor",
          "Enterprise Systems/Technical/IT Operations",
          "Enterprise Systems/Technical/ITIL",
          "Enterprise Systems/Technical/Identity and Access Management",
          "Digital Media/Technical/Interactive Video",
          "System and Security/Technical/Identity and Access Management (IAM)",
          "Enterprise Systems/Soft/Business Process Understanding",
          "Data Science & Analytics/Project Management/Business Requirements",
          "Enterprise Systems/Technical/Business Systems",
          "System and Security/Technical/C",
          "Data Science & Analytics/Technical/C++",
          "Software Development/Technical/C#",
          "Enterprise Systems/Technical/Business Applications",
          "Software Development/Technical/C++",
          "System and Security/Technical/C++",
          "System and Security/Technical/CASB",
          "Enterprise Systems/Technical/C#",
          "Data Science & Analytics/Soft/Business Acumen",
          "Digital Media/Technical/Buffer",
          "Software Development/Project Management/Burndown Charts",
          "System and Security/Technical/Bug Bounty Programs",
          "Digital Media/Technical/Branding",
          "Digital Media/Technical/Brand Storytelling",
          "Digital Media/Technical/Brand Management",
          "Digital Media/Technical/Brand Identity",
          "System and Security/Technical/Blue Teaming",
          "System and Security/Technical/BloodHound",
          "Digital Media/Technical/Blogging",
          "Digital Media/Technical/Blender",
          "Software Development/Technical/Bitbucket",
          "System and Security/Technical/BitLocker",
          "System and Security/Technical/CCSP",
          "System and Security/Technical/Burp Suite",
          "System and Security/Technical/CEH",
          "Data Science & Analytics/Technical/CatBoost",
          "Software Development/Technical/CI/CD",
          "System and Security/Technical/Cloud Security Posture Management (CSPM)",
          "System and Security/Technical/Cloud Security",
          "Software Development/Technical/Cloud Computing",
          "System and Security/Technical/Cloud Access Security Broker",
          "Software Development/Technical/Cloud",
          "Software Development/Soft/Client & Stakeholder Management",
          "Digital Media/Soft/Client & Stakeholder Management",
          "Software Development/Project Management/ClickUp",
          "Data Science & Analytics/Technical/Classification",
          "Digital Media/Technical/Cinema 4D",
          "Enterprise Systems/Technical/Chef",
          "Digital Media/Technical/Chatbots",
          "Enterprise Systems/Soft/Change Management",
          "Enterprise Systems/Technical/BigQuery",
          "Software Development/Technical/Cassandra",
          "Data Science & Analytics/Technical/Cassandra",
          "System and Security/Technical/Carbon Black",
          "Digital Media/Technical/Canva",
          "Digital Media/Technical/Campaign Management",
          "Software Development/Technical/CSS",
          "Digital Media/Technical/CSS",
          "Enterprise Systems/Technical/CRM",
          "System and Security/Technical/COBIT",
          "Enterprise Systems/Technical/COBIT",
          "System and Security/Technical/CISSP",
          "System and Security/Technical/CISM",
          "System and Security/Technical/CISA",
          "System and Security/Technical/CIS Controls",
          "System and Security/Technical/CI/CD Security",
          "Enterprise Systems/Technical/CI/CD",
          "Data Science & Analytics/Technical/BigQuery",
          "Software Development/Technical/Azure",
          "Enterprise Systems/Technical/Bash Scripting",
          "System and Security/Technical/Active Directory",
          "Data Science & Analytics/Soft/Adaptability",
          "Software Development/Soft/Adaptability",
          "System and Security/Soft/Adaptability",
          "System and Security/Soft/Adaptability (Handling New Threats)",
          "Enterprise Systems/Soft/Adaptability to Change (New ERPs & Software)",
          "Digital Media/Soft/Adaptability to Trends & Platforms",
          "Enterprise Systems/Technical/Active Directory",
          "Digital Media/Technical/Adobe",
          "Digital Media/Technical/Adobe Analytics",
          "Digital Media/Technical/Adobe Audition",
          "Digital Media/Technical/Adobe Illustrator",
          "Digital Media/Technical/Adobe InDesign",
          "Digital Media/Technical/Adobe Photoshop",
          "Digital Media/Technical/Adobe Premiere Pro",
          "Digital Media/Technical/Affiliate Marketing",
          "Digital Media/Technical/Adobe After Effects",
          "System and Security/Technical/AWS Security",
          "Data Science & Analytics/Technical/AWS Redshift",
          "System and Security/Technical/AWS Certified Security Specialty",
          "Digital Media/Technical/2D Animation",
          "Digital Media/Technical/3D Animation",
          "System and Security/Technical/802.1X",
          "Data Science & Analytics/Technical/A/B Testing",
          "Digital Media/Technical/A/B Testing",
          "System and Security/Technical/AES",
          "Data Science & Analytics/Technical/AI",
          "Software Development/Technical/AI",
          "Digital Media/Technical/AI in Media",
          "Digital Media/Technical/AI-Generated Content",
          "Data Science & Analytics/Technical/ANOVA",
          "Enterprise Systems/Technical/API Management",
          "System and Security/Technical/API Security",
          "Software Development/Technical/ASP.NET",
          "Data Science & Analytics/Technical/AWS",
          "Enterprise Systems/Technical/AWS",
          "Software Development/Technical/AWS",
          "Data Science & Analytics/Project Management/Agile",
          "Software Development/Project Management/Agile",
          "Software Development/Soft/Agile & Scrum Methodologies",
          "Data Science & Analytics/Project Management/Agile Ceremonies",
          "Digital Media/Soft/Attention to Detail",
          "Enterprise Systems/Soft/Attention to Detail",
          "Software Development/Soft/Attention to Detail",
          "System and Security/Soft/Attention to Detail",
          "Digital Media/Technical/Audacity",
          "Digital Media/Technical/Audio Editing",
          "Digital Media/Technical/Augmented Reality (AR)",
          "Data Science & Analytics/Technical/AutoML",
          "System and Security/Soft/Awareness",
          "System and Security/Soft/Awareness of Compliance & Regulations",
          "Data Science & Analytics/Technical/Azure",
          "System and Security/Technical/Azure Security",
          "System and Security/Technical/Azure Security Engineer Associate",
          "Data Science & Analytics/Technical/Azure Synapse Analytics",
          "Data Science & Analytics/Technical/BERT",
          "Software Development/Technical/Bash",
          "System and Security/Technical/Bash",
          "Data Science & Analytics/Soft/Attention to Detail",
          "Data Science & Analytics/Technical/Bayesian Statistics",
          "Software Development/Project Management/Asana",
          "Data Science & Analytics/Technical/Artificial Intelligence",
          "System and Security/Technical/Aircrack-ng",
          "Data Science & Analytics/Technical/Airflow",
          "Software Development/Technical/Algorithms",
          "System and Security/Technical/AlienVault",
          "Data Science & Analytics/Technical/Alteryx",
          "Data Science & Analytics/Soft/Analytical Thinking",
          "Software Development/Technical/Android",
          "Software Development/Technical/Android Studio",
          "Software Development/Technical/Angular",
          "Digital Media/Technical/Animation",
          "Enterprise Systems/Technical/Ansible",
          "System and Security/Technical/Ansible Security",
          "System and Security/Technical/Antivirus",
          "Data Science & Analytics/Technical/Apache Airflow",
          "Data Science & Analytics/Technical/Apache Spark",
          "Enterprise Systems/Technical/Apex",
          "Digital Media/Technical/Art Direction",
          "Data Science & Analytics/Technical/Artificial IntelligenceOpenCV",
          "Enterprise Systems/Technical/Apache Kafka",
          "Enterprise Systems/Technical/.NET Framework",
          "Data Science & Analytics/Project Management/Risk Management",
          "Enterprise Systems/Technical/Oracle",
          "Data Science & Analytics/Technical/Oracle",
          "Data Science & Analytics/Technical/Optimization",
          "System and Security/Technical/OpenVAS",
          "Enterprise Systems/Technical/OpenShift",
          "Enterprise Systems/Technical/Online Analytical Processing",
          "Software Development/Technical/Object-Oriented Programming (OOP)",
          "Data Science & Analytics/Technical/Object Detection",
          "System and Security/Technical/OWASP",
          "System and Security/Technical/OSINT",
          "Software Development/Technical/Oracle",
          "System and Security/Technical/OSCP",
          "Data Science & Analytics/Project Management/OKRs",
          "Digital Media/Technical/OBS Studio",
          "System and Security/Technical/OAuth",
          "Data Science & Analytics/Technical/NumPy",
          "System and Security/Technical/Norton",
          "Software Development/Technical/Node.js",
          "Enterprise Systems/Technical/Node.js",
          "Software Development/Technical/NoSQL",
          "Data Science & Analytics/Technical/NoSQL",
          "System and Security/Technical/Nmap",
          "Enterprise Systems/Technical/OLAP",
          "System and Security/Technical/Nikto",
          "Enterprise Systems/Technical/Oracle Database",
          "System and Security/Technical/PCI DSS",
          "System and Security/Technical/PowerShell",
          "Software Development/Technical/PowerShell",
          "Enterprise Systems/Technical/PowerShell",
          "Enterprise Systems/Technical/Power BI",
          "Data Science & Analytics/Technical/Power BI",
          "Software Development/Technical/Postman",
          "Software Development/Technical/PostgreSQL",
          "Enterprise Systems/Technical/PostgreSQL",
          "Data Science & Analytics/Technical/PostgreSQL",
          "Data Science & Analytics/Technical/Polars",
          "Enterprise Systems/Technical/Oracle ERP",
          "Digital Media/Technical/Podcasting",
          "Data Science & Analytics/Technical/Pivot Tables",
          "Digital Media/Technical/Pinterest Marketing",
          "Digital Media/Soft/Persuasion & Marketing Insight",
          "Enterprise Systems/Technical/PeopleSoft",
          "System and Security/Technical/Penetration Testing",
          "Data Science & Analytics/Soft/Pattern Recognition",
          "Data Science & Analytics/Technical/Pandas",
          "System and Security/Technical/Packet Analysis",
          "Digital Media/Technical/PPC",
          "Software Development/Technical/PHP",
          "Data Science & Analytics/Technical/Plotly",
          "Enterprise Systems/Technical/New Relic",
          "Data Science & Analytics/Technical/Neural Networks",
          "System and Security/Technical/Network Segmentation",
          "Digital Media/Technical/Mixing and Mastering",
          "Data Science & Analytics/Project Management/Milestone Tracking",
          "System and Security/Technical/Microsoft Sentinel",
          "Enterprise Systems/Technical/Microsoft Dynamics",
          "System and Security/Technical/Microsoft Defender",
          "Enterprise Systems/Technical/Microsoft Azure",
          "Software Development/Technical/Microservices",
          "Digital Media/Technical/Metaverse",
          "System and Security/Technical/Metasploit",
          "System and Security/Technical/Memory Forensics",
          "System and Security/Technical/Mobile Device Management (MDM)",
          "System and Security/Technical/McAfee",
          "Data Science & Analytics/Technical/Matplotlib",
          "Data Science & Analytics/Technical/Markov Chains",
          "Digital Media/Technical/Marketing Strategy",
          "Digital Media/Technical/Marketing Automation",
          "Digital Media/Technical/Marketing",
          "Software Development/Technical/Management",
          "System and Security/Technical/Malware Analysis",
          "System and Security/Technical/Maltego",
          "Digital Media/Technical/Mailchimp",
          "Software Development/Technical/Machine LearningEngineer",
          "Digital Media/Technical/Maya",
          "Software Development/Technical/Mocha",
          "Data Science & Analytics/Technical/MongoDB",
          "Enterprise Systems/Technical/MongoDB",
          "System and Security/Technical/Network Security",
          "System and Security/Technical/Network Forensics",
          "Enterprise Systems/Technical/NetSuite",
          "Software Development/Technical/NetBeans",
          "Data Science & Analytics/Technical/Natural Language Processing (NLP)",
          "Data Science & Analytics/Technical/Named Entity Recognition (NER)",
          "Enterprise Systems/Technical/Nagios",
          "Data Science & Analytics/Technical/NLTK",
          "Data Science & Analytics/Technical/NLP",
          "Enterprise Systems/Technical/NIST Framework",
          "System and Security/Technical/NIST",
          "Digital Media/Technical/NFTs",
          "Software Development/Technical/MySQL",
          "Enterprise Systems/Technical/MySQL",
          "Data Science & Analytics/Technical/MySQL",
          "Software Development/Technical/Multithreading",
          "Digital Media/Technical/Multimedia Production",
          "Digital Media/Technical/Multimedia",
          "System and Security/Technical/Multi-Factor Authentication (MFA)",
          "Enterprise Systems/Technical/MuleSoft",
          "Digital Media/Technical/Motion Graphics",
          "Enterprise Systems/Technical/Monitoring Tools",
          "Software Development/Technical/MongoDB",
          "Data Science & Analytics/Soft/Presentation",
          "System and Security/Soft/Risk Assessment & Decision-Making",
          "Enterprise Systems/Soft/Presentation",
          "Software Development/Soft/Prioritization",
          "Data Science & Analytics/Technical/SQL Optimization",
          "Software Development/Technical/SQL Server",
          "Software Development/Technical/SQLite",
          "System and Security/Technical/SSL/TLS",
          "Enterprise Systems/Technical/Salesforce",
          "Data Science & Analytics/Technical/Scala",
          "Data Science & Analytics/Technical/Scikit-learn",
          "Software Development/Project Management/Scope Management",
          "Digital Media/Technical/Scriptwriting",
          "Data Science & Analytics/Project Management/Scrum",
          "System and Security/Technical/SQL Injection Prevention",
          "Software Development/Project Management/Scrum",
          "Data Science & Analytics/Technical/Seaborn",
          "System and Security/Technical/Secrets Management",
          "System and Security/Technical/Secure Coding",
          "System and Security/Technical/Risk Assessment",
          "System and Security/Soft/Risk Assessment",
          "System and Security/Technical/Reverse Engineering",
          "Software Development/Project Management/Retrospectives",
          "Digital Media/Technical/Restream",
          "System and Security/Technical/Responder",
          "Data Science & Analytics/Soft/Resilience (Iterating Over Models)",
          "Software Development/Technical/Scrum",
          "System and Security/Soft/Resilience (Handling Incidents & Breaches)",
          "Software Development/Technical/SQL",
          "Data Science & Analytics/Technical/SPSS",
          "Software Development/Project Management/Risk Management",
          "System and Security/Technical/Risk Management",
          "Data Science & Analytics/Project Management/Roadmapping",
          "Software Development/Technical/Ruby",
          "Software Development/Technical/Rust",
          "System and Security/Technical/Rust",
          "System and Security/Technical/SAML",
          "Enterprise Systems/Technical/SAP",
          "Data Science & Analytics/Technical/SAP BusinessObjects",
          "Enterprise Systems/Technical/SAP BusinessObjects",
          "Data Science & Analytics/Technical/SQL",
          "Data Science & Analytics/Technical/SAS",
          "Digital Media/Technical/SEM",
          "Digital Media/Technical/SEO",
          "Digital Media/Technical/SEO Writing",
          "Enterprise Systems/Technical/SIEM",
          "System and Security/Technical/SIEM",
          "System and Security/Technical/SIEM Investigation",
          "Enterprise Systems/Technical/SOAP",
          "System and Security/Technical/SOC 2",
          "Enterprise Systems/Technical/SOC 2 Compliance",
          "System and Security/Technical/SOC Analyst",
          "Enterprise Systems/Technical/SAS",
          "Software Development/Soft/Resilience (Handling Bugs & Failures)",
          "Software Development/Project Management/Requirements Gathering",
          "Data Science & Analytics/Technical/Reporting Automation",
          "System and Security/Technical/Public Key Infrastructure (PKI)",
          "System and Security/Technical/Proxy Server",
          "Software Development/Project Management/Project Roadmapping",
          "Software Development/Technical/Project Manager",
          "Enterprise Systems/Soft/Project Management",
          "Digital Media/Soft/Project Management",
          "Software Development/Project Management/Project Lifecycle Management",
          "Data Science & Analytics/Project Management/Project Lifecycle",
          "Software Development/Project Management/Product Backlog Management",
          "Data Science & Analytics/Project Management/Product Backlog",
          "Enterprise Systems/Technical/Puppet",
          "Enterprise Systems/Technical/Process Automation",
          "Software Development/Soft/Problem-Solving",
          "Enterprise Systems/Soft/Problem-Solving",
          "Digital Media/Soft/Problem-Solving",
          "Data Science & Analytics/Soft/Problem-Solving",
          "System and Security/Soft/Problem Solving",
          "Software Development/Soft/Problem Solving",
          "Enterprise Systems/Soft/Problem Solving",
          "Data Science & Analytics/Soft/Problem Solving",
          "Data Science & Analytics/Technical/Probability",
          "System and Security/Technical/Privileged Access Management (PAM)",
          "System and Security/Soft/Problem-Solving",
          "System and Security/Technical/Purple Teaming",
          "Software Development/Technical/PyCharm",
          "Software Development/Technical/PyTest",
          "Data Science & Analytics/Technical/Reinforcement Learning",
          "Data Science & Analytics/Technical/Regression Analysis",
          "Software Development/Technical/Redis",
          "Enterprise Systems/Technical/Redis",
          "System and Security/Technical/Red Teaming",
          "Software Development/Technical/React Native",
          "Software Development/Technical/React",
          "Data Science & Analytics/Technical/RapidMiner",
          "Data Science & Analytics/Technical/Random Forest",
          "Enterprise Systems/Technical/RabbitMQ",
          "System and Security/Technical/RSA",
          "Digital Media/Technical/ROI Analysis",
          "Software Development/Technical/REST API",
          "Enterprise Systems/Technical/REST",
          "Data Science & Analytics/Technical/R",
          "System and Security/Technical/Quantum Cryptography",
          "Enterprise Systems/Technical/QlikView",
          "System and Security/Technical/QRadar",
          "System and Security/Technical/Python",
          "Software Development/Technical/Python",
          "Enterprise Systems/Technical/Python",
          "Data Science & Analytics/Technical/Python",
          "Data Science & Analytics/Technical/PyTorch",
          "Data Science & Analytics/Technical/Presto",
          "Digital Media/Technical/Responsive Design",
          "Data Science & Analytics/Project Management",
          "Software Development/Project Management",
          "Data Science & Analytics/Soft",
          "Digital Media/Soft",
          "Enterprise Systems/Soft",
          "Software Development/Soft",
          "System and Security/Soft",
          "Data Science & Analytics/Technical",
          "Digital Media/Technical",
          "Enterprise Systems/Technical",
          "Software Development/Technical",
          "System and Security/Technical",
          "Data Science & Analytics",
          "Digital Media",
          "Enterprise Systems",
          "Software Development",
          "System and Security"
         ],
         "insidetextorientation": "radial",
         "labels": [
          "Critical Thinking",
          "Data Modeling",
          "Data Mining",
          "Data Governance",
          "Data Cleaning",
          "Dask",
          "Dashboarding",
          "Daily Stand-ups",
          "DDoS Mitigation",
          "DB2",
          "Cloud Workload Protection",
          "Clustering",
          "Code Review",
          "Cognos Analytics",
          "Collaboration",
          "Collaboration",
          "Collaboration",
          "Collaboration",
          "Collaboration",
          "Collaboration & Teamwork",
          "Collaboration & Teamwork",
          "Collaboration & Teamwork",
          "Collaboration with Cross-Functional Teams",
          "Communication",
          "Data Pipelines",
          "Communication",
          "Data Protection",
          "Data Transformation",
          "Disk Forensics",
          "Dimensionality Reduction",
          "Digital Marketing",
          "Digital Illustration",
          "Digital Forensics",
          "DevSecOps",
          "Determined",
          "Determined",
          "Determined",
          "Design Patterns",
          "Delta Lake",
          "Deepfake TechnologyDigital Media",
          "Decision-Making",
          "Decision-Making",
          "Decision Making",
          "Debugging & Troubleshooting",
          "Databricks",
          "DataRobot",
          "Data-Driven Decision-Making (SEO, Social Media Analytics)",
          "Data Wrangling",
          "Data Warehousing",
          "Data Warehousing",
          "Data Visualization",
          "Data Structures",
          "Django",
          "Communication",
          "Communication & Branding",
          "Copywriting",
          "Creative",
          "Creative",
          "Creative",
          "Creative",
          "Creative Direction",
          "Creative Director",
          "Creative Writing",
          "Creativity",
          "Creativity",
          "Creativity",
          "Creativity",
          "Creativity & Innovation",
          "Creativity & Innovation",
          "Creativity & Innovation",
          "Critical Thinking",
          "Critical Thinking",
          "DAX (Data Analysis Expressions)",
          "CrowdStrike",
          "Cryptography",
          "Curiosity & Continuous Learning",
          "Cyber Kill Chain",
          "Cybersecurity",
          "Convolutional Neural Networks (CNNs)",
          "Communication",
          "Conversion Rate Optimization (CRO)",
          "Continuous Learning",
          "Communication & Collaboration",
          "Communication & Presentation Skills",
          "Communication & Storytelling",
          "Communication (Explaining Security Risks Clearly)",
          "Communication (Technical & Non-Technical)",
          "Community Management",
          "CompTIA CASP+",
          "CompTIA CySA+",
          "CompTIA PenTest+",
          "CompTIA Security+",
          "Compliance",
          "Concurrency",
          "Confidentiality & Discretion",
          "Conflict Resolution",
          "Confluence",
          "Confluence",
          "Container Security",
          "Content Creation",
          "Content Creator",
          "Content Marketing",
          "Content Strategy",
          "Continuous Deployment",
          "Continuous Integration",
          "Continuous Learning & Curiosity",
          "Cypress",
          "Docker",
          "Docker",
          "Flexible",
          "Flexibility",
          "Flexibility",
          "Flexibility",
          "Flexibility",
          "Flask",
          "Flask",
          "Docker",
          "Firebase",
          "FinanceSQL Server",
          "Final Cut Pro",
          "Figma",
          "Federated Identity Management",
          "FedRAMP",
          "Feature Store",
          "Feature Engineering",
          "FastAPI",
          "Flexible",
          "Flexible",
          "Flutter",
          "Forensic Analysis",
          "Go",
          "Go",
          "GitLab",
          "GitHub Actions",
          "GitHub Actions",
          "GitHub",
          "Git",
          "GarageBand",
          "Facebook Marketing",
          "Gantt Charts",
          "GSEC",
          "GPT",
          "GIAC",
          "GDPR Compliance",
          "GDPR",
          "GANs (Generative Adversarial Networks)",
          "Functional Programming",
          "Forensics",
          "Gantt Charts",
          "Facebook Ads",
          "Firewall",
          "Extended Detection and Response (XDR)",
          "Editorial Planning",
          "Eclipse",
          "ETL (Extract, Transform, Load)",
          "ETL",
          "ELK Stack",
          "EDR Solutions",
          "E-commerce",
          "DynamoDB",
          "FISMA",
          "Driven",
          "Driven",
          "Driven",
          "Dplyr",
          "Domain Knowledge",
          "Documentation & Reporting",
          "Documentation & Reporting",
          "Docker Security",
          "Elliptic Curve Cryptography (ECC)",
          "Email Marketing",
          "Dynamic Code Analysis",
          "Encryption",
          "Emotional Intelligence (Understanding Audience Needs)",
          "Exploratory Data Analysis (EDA)",
          "Exploit Development",
          "Experimentation & Research Mindset",
          "ExcelSQL",
          "Excel",
          "Ethical Judgment & Integrity",
          "Ethical Hacking",
          "Ethical Considerations in AI",
          "D3.js",
          "Epicor ERP",
          "Enterprise Solutions",
          "Enterprise Integration",
          "Enterprise Engineer",
          "Enterprise Architect",
          "Enterprise",
          "Engagement Metrics",
          "Endpoint Security",
          "Endpoint Detection and Response (EDR)",
          "Ethical",
          "Security Risk Management",
          "Security Orchestration, Automation, and Response (SOAR)",
          "Security Information and Event Management",
          "Secure SDLC",
          "Security Awareness Training",
          "Security Auditing",
          "Selenium",
          "iOS",
          "Security Information and Event Management",
          "Self Motivated",
          "Self-Motivated",
          "Self Motivated",
          "Self-Motivated",
          "Self-Motivated",
          "Self-Motivated",
          "Self-Supervised Learning",
          "Sentiment Analysis",
          "ServiceNow",
          "Shopify",
          "Single Sign-On (SSO)",
          "Self Motivated",
          "Shodan",
          "macOS",
          "Sketch",
          "User Stories",
          "VBA",
          "VFX",
          "VMware",
          "VPN",
          "VS Code",
          "User Experience",
          "Vault",
          "Video Editor",
          "Video Production",
          "Viral Marketing",
          "Virtual Events",
          "Virtual Reality (VR)",
          "Visionary",
          "Video Editing",
          "Visionary",
          "User Engagement",
          "UX/UI Designer",
          "Time Management & Deadlines",
          "Time Series Analysis",
          "Time Series Forecasting",
          "Trello",
          "Trello",
          "Twitch Streaming",
          "Unix",
          "Twitter Marketing",
          "TypeScript",
          "Typography",
          "UI",
          "UI/UX Design",
          "UX",
          "UX Research",
          "TypeScript",
          "Visual",
          "Visual",
          "Visual Communication",
          "Workday",
          "Works well under pressure",
          "XGBoost",
          "Xamarin",
          "Xcode",
          "YARA Rules",
          "WordPress",
          "YOLO",
          "YouTube Marketing",
          "Zachman FrameworkERP",
          "Zero Trust",
          "Zero Trust Architecture",
          "Zero Trust Security",
          "ggplot2",
          "YouTube Live",
          "Word Embeddings",
          "Wireshark",
          "Windows",
          "Visual Design",
          "Visual Effects",
          "Visual Thinking",
          "Voiceover",
          "Vue.js",
          "Vulnerability",
          "Vulnerability Assessment",
          "Waterfall",
          "Waterfall",
          "Web Application Security",
          "Web Design",
          "Web Designer",
          "Web Services",
          "Webflow",
          "Webinar Hosting",
          "Time Management",
          "Time Management",
          "Version Control Integration (e.g., Git with Jira)",
          "Time Estimation",
          "Sprint Planning",
          "Sprint Planning",
          "Sprout Social",
          "Stakeholder Communication",
          "Stakeholder Communication",
          "Stakeholder Engagement",
          "Spring Boot",
          "Stakeholder Management",
          "Static Code Analysis",
          "Statistical Analysis",
          "Storytelling",
          "Storytelling",
          "Storytelling",
          "Storytelling & Narrative Skills",
          "Stand-ups",
          "Spotify Podcasting",
          "Splunk",
          "Splunk",
          "Snort",
          "Snowflake",
          "Snowflake",
          "Social Listening",
          "Social Media",
          "Social Media Analytics",
          "Social Media Insights",
          "Social Media Manager",
          "Time Management",
          "Social Media Strategy",
          "Software Composition Analysis (SCA)",
          "Sophos",
          "Sound Design",
          "SpaCy",
          "Spark",
          "Storytelling with Data",
          "Support Vector Machines (SVM)",
          "Social Media Marketing",
          "Symantec",
          "Terraform",
          "Terraform",
          "Terraform Security",
          "Text Classification",
          "Threat Analysis",
          "Threat Feeds",
          "Teradata",
          "Threat Hunting",
          "Threat Intelligence Platforms",
          "Tibco",
          "Tidyverse",
          "TikTok Marketing",
          "Time Estimation",
          "Swift",
          "Threat Intelligence",
          "TensorFlow",
          "Threat Modeling",
          "Teamwork & Collaboration",
          "System Analyst",
          "Technical Writing",
          "Systems Thinking",
          "TDD (Test-Driven Development)",
          "TLS Certificates",
          "TOGAF",
          "Tableau",
          "System Security",
          "Tableau",
          "Tableau",
          "Team Velocity Tracking",
          "Teamwork",
          "Teamwork",
          "Teamwork",
          "Teamwork",
          "KPI Analysis",
          "KPI Tracking",
          "Kafka",
          "Kali Linux",
          "Kanban",
          "Keras",
          "Kerberos",
          "Klaviyo",
          "Kotlin",
          "Kubeflow",
          "Kanban",
          "Jupyter Notebook",
          "John the Ripper",
          "Java",
          "Jira",
          "Jira",
          "Jest",
          "Jenkins",
          "JavaScript",
          "JavaScript",
          "JavaScript",
          "JavaScript",
          "JavaScript",
          "Kubernetes",
          "Julia",
          "Kubernetes",
          "Load Balancer",
          "Kubernetes Security",
          "Java",
          "Machine Learning",
          "MLflow",
          "MITRE ATT&CK Framework",
          "MATLAB",
          "Looker",
          "Looker",
          "Looker",
          "Logical Thinking",
          "Logical & Analytical Thinking",
          "LogRhythm",
          "Log Analysis",
          "Livestream Production",
          "Live Video Editing",
          "Linux",
          "LinkedIn Marketing",
          "Linear Algebra",
          "LightGBM",
          "Leadership",
          "Leadership",
          "Leadership",
          "Leadership",
          "Lead Generation",
          "Landing Page Optimization",
          "LDAP",
          "Kubernetes",
          "Java",
          "Jenkins",
          "JD Edwards",
          "Graylog",
          "HIPAA",
          "HTML",
          "HTML",
          "Hadoop",
          "Handling Ambiguity",
          "Hashcat",
          "HashiCorp Vault",
          "Hashing",
          "Hashtag Strategy",
          "Homomorphic Encryption",
          "Honest",
          "Honesty",
          "Hootsuite",
          "HubSpot",
          "Google Ads",
          "Google Analytics",
          "Google BigQuery",
          "Google Cloud Platform",
          "Graphic Designer",
          "Graphic Design",
          "GraphQL API",
          "JUnit",
          "GraphQL",
          "GraphQL",
          "Gradient Boosting",
          "Hugging Face Transformers",
          "Google Tag Manager",
          "Google Data Studio",
          "Google Data Studio",
          "Google Colab",
          "Google Cloud Security EngineerCybersecurity",
          "Google Cloud Security",
          "Google Cloud Platform",
          "Google Cloud Platform",
          "Google Sheets",
          "Hybrid Cloud",
          "H2O.ai",
          "IAM",
          "Inspired",
          "Insightful",
          "Innovative",
          "Innovative",
          "Innovative",
          "Innovative",
          "Infrastructure as Code (IaC)",
          "Instagram Marketing",
          "Information Security",
          "Infographics",
          "Influencer Marketing",
          "Indicator of Compromise (IOC)",
          "Incident Response Under Pressure",
          "Incident Response",
          "Hypothesis Testing",
          "Image Processing",
          "Infor ERP",
          "Integrity",
          "Influencer",
          "Interactive Media",
          "IAM",
          "IntelliJ IDEA",
          "IBM WebSphere",
          "IDS",
          "IPS",
          "IPSec",
          "ISO 27001",
          "ISO 27001",
          "IBM Cognos",
          "IT Consultant",
          "IT Governance & Compliance Awareness",
          "IT Auditor",
          "IT Operations",
          "ITIL",
          "Identity and Access Management",
          "Interactive Video",
          "Identity and Access Management (IAM)",
          "Business Process Understanding",
          "Business Requirements",
          "Business Systems",
          "C",
          "C++",
          "C#",
          "Business Applications",
          "C++",
          "C++",
          "CASB",
          "C#",
          "Business Acumen",
          "Buffer",
          "Burndown Charts",
          "Bug Bounty Programs",
          "Branding",
          "Brand Storytelling",
          "Brand Management",
          "Brand Identity",
          "Blue Teaming",
          "BloodHound",
          "Blogging",
          "Blender",
          "Bitbucket",
          "BitLocker",
          "CCSP",
          "Burp Suite",
          "CEH",
          "CatBoost",
          "CI/CD",
          "Cloud Security Posture Management (CSPM)",
          "Cloud Security",
          "Cloud Computing",
          "Cloud Access Security Broker",
          "Cloud",
          "Client & Stakeholder Management",
          "Client & Stakeholder Management",
          "ClickUp",
          "Classification",
          "Cinema 4D",
          "Chef",
          "Chatbots",
          "Change Management",
          "BigQuery",
          "Cassandra",
          "Cassandra",
          "Carbon Black",
          "Canva",
          "Campaign Management",
          "CSS",
          "CSS",
          "CRM",
          "COBIT",
          "COBIT",
          "CISSP",
          "CISM",
          "CISA",
          "CIS Controls",
          "CI/CD Security",
          "CI/CD",
          "BigQuery",
          "Azure",
          "Bash Scripting",
          "Active Directory",
          "Adaptability",
          "Adaptability",
          "Adaptability",
          "Adaptability (Handling New Threats)",
          "Adaptability to Change (New ERPs & Software)",
          "Adaptability to Trends & Platforms",
          "Active Directory",
          "Adobe",
          "Adobe Analytics",
          "Adobe Audition",
          "Adobe Illustrator",
          "Adobe InDesign",
          "Adobe Photoshop",
          "Adobe Premiere Pro",
          "Affiliate Marketing",
          "Adobe After Effects",
          "AWS Security",
          "AWS Redshift",
          "AWS Certified Security Specialty",
          "2D Animation",
          "3D Animation",
          "802.1X",
          "A/B Testing",
          "A/B Testing",
          "AES",
          "AI",
          "AI",
          "AI in Media",
          "AI-Generated Content",
          "ANOVA",
          "API Management",
          "API Security",
          "ASP.NET",
          "AWS",
          "AWS",
          "AWS",
          "Agile",
          "Agile",
          "Agile & Scrum Methodologies",
          "Agile Ceremonies",
          "Attention to Detail",
          "Attention to Detail",
          "Attention to Detail",
          "Attention to Detail",
          "Audacity",
          "Audio Editing",
          "Augmented Reality (AR)",
          "AutoML",
          "Awareness",
          "Awareness of Compliance & Regulations",
          "Azure",
          "Azure Security",
          "Azure Security Engineer Associate",
          "Azure Synapse Analytics",
          "BERT",
          "Bash",
          "Bash",
          "Attention to Detail",
          "Bayesian Statistics",
          "Asana",
          "Artificial Intelligence",
          "Aircrack-ng",
          "Airflow",
          "Algorithms",
          "AlienVault",
          "Alteryx",
          "Analytical Thinking",
          "Android",
          "Android Studio",
          "Angular",
          "Animation",
          "Ansible",
          "Ansible Security",
          "Antivirus",
          "Apache Airflow",
          "Apache Spark",
          "Apex",
          "Art Direction",
          "Artificial IntelligenceOpenCV",
          "Apache Kafka",
          ".NET Framework",
          "Risk Management",
          "Oracle",
          "Oracle",
          "Optimization",
          "OpenVAS",
          "OpenShift",
          "Online Analytical Processing",
          "Object-Oriented Programming (OOP)",
          "Object Detection",
          "OWASP",
          "OSINT",
          "Oracle",
          "OSCP",
          "OKRs",
          "OBS Studio",
          "OAuth",
          "NumPy",
          "Norton",
          "Node.js",
          "Node.js",
          "NoSQL",
          "NoSQL",
          "Nmap",
          "OLAP",
          "Nikto",
          "Oracle Database",
          "PCI DSS",
          "PowerShell",
          "PowerShell",
          "PowerShell",
          "Power BI",
          "Power BI",
          "Postman",
          "PostgreSQL",
          "PostgreSQL",
          "PostgreSQL",
          "Polars",
          "Oracle ERP",
          "Podcasting",
          "Pivot Tables",
          "Pinterest Marketing",
          "Persuasion & Marketing Insight",
          "PeopleSoft",
          "Penetration Testing",
          "Pattern Recognition",
          "Pandas",
          "Packet Analysis",
          "PPC",
          "PHP",
          "Plotly",
          "New Relic",
          "Neural Networks",
          "Network Segmentation",
          "Mixing and Mastering",
          "Milestone Tracking",
          "Microsoft Sentinel",
          "Microsoft Dynamics",
          "Microsoft Defender",
          "Microsoft Azure",
          "Microservices",
          "Metaverse",
          "Metasploit",
          "Memory Forensics",
          "Mobile Device Management (MDM)",
          "McAfee",
          "Matplotlib",
          "Markov Chains",
          "Marketing Strategy",
          "Marketing Automation",
          "Marketing",
          "Management",
          "Malware Analysis",
          "Maltego",
          "Mailchimp",
          "Machine LearningEngineer",
          "Maya",
          "Mocha",
          "MongoDB",
          "MongoDB",
          "Network Security",
          "Network Forensics",
          "NetSuite",
          "NetBeans",
          "Natural Language Processing (NLP)",
          "Named Entity Recognition (NER)",
          "Nagios",
          "NLTK",
          "NLP",
          "NIST Framework",
          "NIST",
          "NFTs",
          "MySQL",
          "MySQL",
          "MySQL",
          "Multithreading",
          "Multimedia Production",
          "Multimedia",
          "Multi-Factor Authentication (MFA)",
          "MuleSoft",
          "Motion Graphics",
          "Monitoring Tools",
          "MongoDB",
          "Presentation",
          "Risk Assessment & Decision-Making",
          "Presentation",
          "Prioritization",
          "SQL Optimization",
          "SQL Server",
          "SQLite",
          "SSL/TLS",
          "Salesforce",
          "Scala",
          "Scikit-learn",
          "Scope Management",
          "Scriptwriting",
          "Scrum",
          "SQL Injection Prevention",
          "Scrum",
          "Seaborn",
          "Secrets Management",
          "Secure Coding",
          "Risk Assessment",
          "Risk Assessment",
          "Reverse Engineering",
          "Retrospectives",
          "Restream",
          "Responder",
          "Resilience (Iterating Over Models)",
          "Scrum",
          "Resilience (Handling Incidents & Breaches)",
          "SQL",
          "SPSS",
          "Risk Management",
          "Risk Management",
          "Roadmapping",
          "Ruby",
          "Rust",
          "Rust",
          "SAML",
          "SAP",
          "SAP BusinessObjects",
          "SAP BusinessObjects",
          "SQL",
          "SAS",
          "SEM",
          "SEO",
          "SEO Writing",
          "SIEM",
          "SIEM",
          "SIEM Investigation",
          "SOAP",
          "SOC 2",
          "SOC 2 Compliance",
          "SOC Analyst",
          "SAS",
          "Resilience (Handling Bugs & Failures)",
          "Requirements Gathering",
          "Reporting Automation",
          "Public Key Infrastructure (PKI)",
          "Proxy Server",
          "Project Roadmapping",
          "Project Manager",
          "Project Management",
          "Project Management",
          "Project Lifecycle Management",
          "Project Lifecycle",
          "Product Backlog Management",
          "Product Backlog",
          "Puppet",
          "Process Automation",
          "Problem-Solving",
          "Problem-Solving",
          "Problem-Solving",
          "Problem-Solving",
          "Problem Solving",
          "Problem Solving",
          "Problem Solving",
          "Problem Solving",
          "Probability",
          "Privileged Access Management (PAM)",
          "Problem-Solving",
          "Purple Teaming",
          "PyCharm",
          "PyTest",
          "Reinforcement Learning",
          "Regression Analysis",
          "Redis",
          "Redis",
          "Red Teaming",
          "React Native",
          "React",
          "RapidMiner",
          "Random Forest",
          "RabbitMQ",
          "RSA",
          "ROI Analysis",
          "REST API",
          "REST",
          "R",
          "Quantum Cryptography",
          "QlikView",
          "QRadar",
          "Python",
          "Python",
          "Python",
          "Python",
          "PyTorch",
          "Presto",
          "Responsive Design",
          "Project Management",
          "Project Management",
          "Soft",
          "Soft",
          "Soft",
          "Soft",
          "Soft",
          "Technical",
          "Technical",
          "Technical",
          "Technical",
          "Technical",
          "Data Science & Analytics",
          "Digital Media",
          "Enterprise Systems",
          "Software Development",
          "System and Security"
         ],
         "marker": {
          "colors": [
           "rgb(102, 197, 204)",
           "rgb(246, 207, 113)",
           "rgb(248, 156, 116)",
           "rgb(248, 156, 116)",
           "rgb(248, 156, 116)",
           "rgb(248, 156, 116)",
           "rgb(248, 156, 116)",
           "rgb(220, 176, 242)",
           "rgb(102, 197, 204)",
           "rgb(246, 207, 113)",
           "rgb(102, 197, 204)",
           "rgb(248, 156, 116)",
           "rgb(102, 197, 204)",
           "rgb(246, 207, 113)",
           "rgb(248, 156, 116)",
           "rgb(135, 197, 95)",
           "rgb(246, 207, 113)",
           "rgb(220, 176, 242)",
           "rgb(102, 197, 204)",
           "rgb(248, 156, 116)",
           "rgb(135, 197, 95)",
           "rgb(220, 176, 242)",
           "rgb(248, 156, 116)",
           "rgb(248, 156, 116)",
           "rgb(248, 156, 116)",
           "rgb(246, 207, 113)",
           "rgb(102, 197, 204)",
           "rgb(248, 156, 116)",
           "rgb(102, 197, 204)",
           "rgb(248, 156, 116)",
           "rgb(135, 197, 95)",
           "rgb(135, 197, 95)",
           "rgb(102, 197, 204)",
           "rgb(102, 197, 204)",
           "rgb(220, 176, 242)",
           "rgb(246, 207, 113)",
           "rgb(248, 156, 116)",
           "rgb(220, 176, 242)",
           "rgb(248, 156, 116)",
           "rgb(135, 197, 95)",
           "rgb(246, 207, 113)",
           "rgb(248, 156, 116)",
           "rgb(135, 197, 95)",
           "rgb(220, 176, 242)",
           "rgb(248, 156, 116)",
           "rgb(248, 156, 116)",
           "rgb(135, 197, 95)",
           "rgb(248, 156, 116)",
           "rgb(246, 207, 113)",
           "rgb(248, 156, 116)",
           "rgb(135, 197, 95)",
           "rgb(220, 176, 242)",
           "rgb(220, 176, 242)",
           "rgb(220, 176, 242)",
           "rgb(135, 197, 95)",
           "rgb(135, 197, 95)",
           "rgb(248, 156, 116)",
           "rgb(135, 197, 95)",
           "rgb(246, 207, 113)",
           "rgb(220, 176, 242)",
           "rgb(135, 197, 95)",
           "rgb(135, 197, 95)",
           "rgb(135, 197, 95)",
           "rgb(248, 156, 116)",
           "rgb(135, 197, 95)",
           "rgb(246, 207, 113)",
           "rgb(220, 176, 242)",
           "rgb(248, 156, 116)",
           "rgb(135, 197, 95)",
           "rgb(220, 176, 242)",
           "rgb(248, 156, 116)",
           "rgb(220, 176, 242)",
           "rgb(248, 156, 116)",
           "rgb(102, 197, 204)",
           "rgb(102, 197, 204)",
           "rgb(248, 156, 116)",
           "rgb(102, 197, 204)",
           "rgb(102, 197, 204)",
           "rgb(248, 156, 116)",
           "rgb(102, 197, 204)",
           "rgb(135, 197, 95)",
           "rgb(220, 176, 242)",
           "rgb(246, 207, 113)",
           "rgb(248, 156, 116)",
           "rgb(248, 156, 116)",
           "rgb(102, 197, 204)",
           "rgb(220, 176, 242)",
           "rgb(135, 197, 95)",
           "rgb(102, 197, 204)",
           "rgb(102, 197, 204)",
           "rgb(102, 197, 204)",
           "rgb(102, 197, 204)",
           "rgb(102, 197, 204)",
           "rgb(220, 176, 242)",
           "rgb(102, 197, 204)",
           "rgb(246, 207, 113)",
           "rgb(248, 156, 116)",
           "rgb(220, 176, 242)",
           "rgb(102, 197, 204)",
           "rgb(135, 197, 95)",
           "rgb(135, 197, 95)",
           "rgb(135, 197, 95)",
           "rgb(135, 197, 95)",
           "rgb(246, 207, 113)",
           "rgb(246, 207, 113)",
           "rgb(102, 197, 204)",
           "rgb(220, 176, 242)",
           "rgb(248, 156, 116)",
           "rgb(220, 176, 242)",
           "rgb(248, 156, 116)",
           "rgb(102, 197, 204)",
           "rgb(220, 176, 242)",
           "rgb(246, 207, 113)",
           "rgb(248, 156, 116)",
           "rgb(220, 176, 242)",
           "rgb(248, 156, 116)",
           "rgb(246, 207, 113)",
           "rgb(220, 176, 242)",
           "rgb(246, 207, 113)",
           "rgb(135, 197, 95)",
           "rgb(135, 197, 95)",
           "rgb(102, 197, 204)",
           "rgb(102, 197, 204)",
           "rgb(248, 156, 116)",
           "rgb(248, 156, 116)",
           "rgb(248, 156, 116)",
           "rgb(246, 207, 113)",
           "rgb(220, 176, 242)",
           "rgb(220, 176, 242)",
           "rgb(102, 197, 204)",
           "rgb(102, 197, 204)",
           "rgb(220, 176, 242)",
           "rgb(220, 176, 242)",
           "rgb(220, 176, 242)",
           "rgb(246, 207, 113)",
           "rgb(220, 176, 242)",
           "rgb(220, 176, 242)",
           "rgb(135, 197, 95)",
           "rgb(135, 197, 95)",
           "rgb(220, 176, 242)",
           "rgb(102, 197, 204)",
           "rgb(248, 156, 116)",
           "rgb(102, 197, 204)",
           "rgb(246, 207, 113)",
           "rgb(102, 197, 204)",
           "rgb(248, 156, 116)",
           "rgb(220, 176, 242)",
           "rgb(102, 197, 204)",
           "rgb(248, 156, 116)",
           "rgb(135, 197, 95)",
           "rgb(102, 197, 204)",
           "rgb(102, 197, 204)",
           "rgb(135, 197, 95)",
           "rgb(220, 176, 242)",
           "rgb(248, 156, 116)",
           "rgb(246, 207, 113)",
           "rgb(102, 197, 204)",
           "rgb(102, 197, 204)",
           "rgb(135, 197, 95)",
           "rgb(220, 176, 242)",
           "rgb(102, 197, 204)",
           "rgb(220, 176, 242)",
           "rgb(246, 207, 113)",
           "rgb(248, 156, 116)",
           "rgb(248, 156, 116)",
           "rgb(248, 156, 116)",
           "rgb(102, 197, 204)",
           "rgb(246, 207, 113)",
           "rgb(102, 197, 204)",
           "rgb(102, 197, 204)",
           "rgb(135, 197, 95)",
           "rgb(102, 197, 204)",
           "rgb(102, 197, 204)",
           "rgb(135, 197, 95)",
           "rgb(248, 156, 116)",
           "rgb(102, 197, 204)",
           "rgb(248, 156, 116)",
           "rgb(246, 207, 113)",
           "rgb(248, 156, 116)",
           "rgb(102, 197, 204)",
           "rgb(102, 197, 204)",
           "rgb(248, 156, 116)",
           "rgb(248, 156, 116)",
           "rgb(246, 207, 113)",
           "rgb(246, 207, 113)",
           "rgb(246, 207, 113)",
           "rgb(246, 207, 113)",
           "rgb(246, 207, 113)",
           "rgb(246, 207, 113)",
           "rgb(135, 197, 95)",
           "rgb(102, 197, 204)",
           "rgb(102, 197, 204)",
           "rgb(102, 197, 204)",
           "rgb(102, 197, 204)",
           "rgb(102, 197, 204)",
           "rgb(102, 197, 204)",
           "rgb(102, 197, 204)",
           "rgb(102, 197, 204)",
           "rgb(102, 197, 204)",
           "rgb(220, 176, 242)",
           "rgb(220, 176, 242)",
           "rgb(246, 207, 113)",
           "rgb(248, 156, 116)",
           "rgb(246, 207, 113)",
           "rgb(220, 176, 242)",
           "rgb(248, 156, 116)",
           "rgb(135, 197, 95)",
           "rgb(220, 176, 242)",
           "rgb(248, 156, 116)",
           "rgb(248, 156, 116)",
           "rgb(246, 207, 113)",
           "rgb(135, 197, 95)",
           "rgb(102, 197, 204)",
           "rgb(246, 207, 113)",
           "rgb(102, 197, 204)",
           "rgb(220, 176, 242)",
           "rgb(135, 197, 95)",
           "rgb(220, 176, 242)",
           "rgb(248, 156, 116)",
           "rgb(135, 197, 95)",
           "rgb(246, 207, 113)",
           "rgb(102, 197, 204)",
           "rgb(220, 176, 242)",
           "rgb(135, 197, 95)",
           "rgb(102, 197, 204)",
           "rgb(135, 197, 95)",
           "rgb(135, 197, 95)",
           "rgb(135, 197, 95)",
           "rgb(135, 197, 95)",
           "rgb(135, 197, 95)",
           "rgb(248, 156, 116)",
           "rgb(135, 197, 95)",
           "rgb(246, 207, 113)",
           "rgb(135, 197, 95)",
           "rgb(135, 197, 95)",
           "rgb(135, 197, 95)",
           "rgb(248, 156, 116)",
           "rgb(248, 156, 116)",
           "rgb(248, 156, 116)",
           "rgb(220, 176, 242)",
           "rgb(135, 197, 95)",
           "rgb(220, 176, 242)",
           "rgb(135, 197, 95)",
           "rgb(220, 176, 242)",
           "rgb(135, 197, 95)",
           "rgb(135, 197, 95)",
           "rgb(135, 197, 95)",
           "rgb(135, 197, 95)",
           "rgb(135, 197, 95)",
           "rgb(246, 207, 113)",
           "rgb(248, 156, 116)",
           "rgb(246, 207, 113)",
           "rgb(135, 197, 95)",
           "rgb(246, 207, 113)",
           "rgb(102, 197, 204)",
           "rgb(248, 156, 116)",
           "rgb(220, 176, 242)",
           "rgb(220, 176, 242)",
           "rgb(102, 197, 204)",
           "rgb(135, 197, 95)",
           "rgb(248, 156, 116)",
           "rgb(135, 197, 95)",
           "rgb(246, 207, 113)",
           "rgb(102, 197, 204)",
           "rgb(102, 197, 204)",
           "rgb(102, 197, 204)",
           "rgb(248, 156, 116)",
           "rgb(135, 197, 95)",
           "rgb(248, 156, 116)",
           "rgb(102, 197, 204)",
           "rgb(220, 176, 242)",
           "rgb(135, 197, 95)",
           "rgb(135, 197, 95)",
           "rgb(135, 197, 95)",
           "rgb(135, 197, 95)",
           "rgb(220, 176, 242)",
           "rgb(102, 197, 204)",
           "rgb(102, 197, 204)",
           "rgb(248, 156, 116)",
           "rgb(220, 176, 242)",
           "rgb(102, 197, 204)",
           "rgb(135, 197, 95)",
           "rgb(135, 197, 95)",
           "rgb(246, 207, 113)",
           "rgb(135, 197, 95)",
           "rgb(135, 197, 95)",
           "rgb(220, 176, 242)",
           "rgb(246, 207, 113)",
           "rgb(220, 176, 242)",
           "rgb(220, 176, 242)",
           "rgb(248, 156, 116)",
           "rgb(220, 176, 242)",
           "rgb(135, 197, 95)",
           "rgb(248, 156, 116)",
           "rgb(220, 176, 242)",
           "rgb(248, 156, 116)",
           "rgb(220, 176, 242)",
           "rgb(246, 207, 113)",
           "rgb(102, 197, 204)",
           "rgb(248, 156, 116)",
           "rgb(248, 156, 116)",
           "rgb(246, 207, 113)",
           "rgb(135, 197, 95)",
           "rgb(135, 197, 95)",
           "rgb(248, 156, 116)",
           "rgb(135, 197, 95)",
           "rgb(102, 197, 204)",
           "rgb(246, 207, 113)",
           "rgb(102, 197, 204)",
           "rgb(248, 156, 116)",
           "rgb(246, 207, 113)",
           "rgb(135, 197, 95)",
           "rgb(135, 197, 95)",
           "rgb(135, 197, 95)",
           "rgb(135, 197, 95)",
           "rgb(135, 197, 95)",
           "rgb(248, 156, 116)",
           "rgb(135, 197, 95)",
           "rgb(102, 197, 204)",
           "rgb(102, 197, 204)",
           "rgb(135, 197, 95)",
           "rgb(248, 156, 116)",
           "rgb(248, 156, 116)",
           "rgb(248, 156, 116)",
           "rgb(248, 156, 116)",
           "rgb(135, 197, 95)",
           "rgb(102, 197, 204)",
           "rgb(246, 207, 113)",
           "rgb(220, 176, 242)",
           "rgb(102, 197, 204)",
           "rgb(248, 156, 116)",
           "rgb(102, 197, 204)",
           "rgb(102, 197, 204)",
           "rgb(246, 207, 113)",
           "rgb(102, 197, 204)",
           "rgb(102, 197, 204)",
           "rgb(246, 207, 113)",
           "rgb(248, 156, 116)",
           "rgb(135, 197, 95)",
           "rgb(248, 156, 116)",
           "rgb(220, 176, 242)",
           "rgb(102, 197, 204)",
           "rgb(248, 156, 116)",
           "rgb(102, 197, 204)",
           "rgb(102, 197, 204)",
           "rgb(246, 207, 113)",
           "rgb(135, 197, 95)",
           "rgb(246, 207, 113)",
           "rgb(220, 176, 242)",
           "rgb(102, 197, 204)",
           "rgb(246, 207, 113)",
           "rgb(248, 156, 116)",
           "rgb(102, 197, 204)",
           "rgb(135, 197, 95)",
           "rgb(246, 207, 113)",
           "rgb(220, 176, 242)",
           "rgb(248, 156, 116)",
           "rgb(135, 197, 95)",
           "rgb(220, 176, 242)",
           "rgb(246, 207, 113)",
           "rgb(248, 156, 116)",
           "rgb(135, 197, 95)",
           "rgb(248, 156, 116)",
           "rgb(102, 197, 204)",
           "rgb(248, 156, 116)",
           "rgb(248, 156, 116)",
           "rgb(102, 197, 204)",
           "rgb(135, 197, 95)",
           "rgb(220, 176, 242)",
           "rgb(248, 156, 116)",
           "rgb(220, 176, 242)",
           "rgb(248, 156, 116)",
           "rgb(102, 197, 204)",
           "rgb(220, 176, 242)",
           "rgb(220, 176, 242)",
           "rgb(248, 156, 116)",
           "rgb(220, 176, 242)",
           "rgb(220, 176, 242)",
           "rgb(102, 197, 204)",
           "rgb(220, 176, 242)",
           "rgb(246, 207, 113)",
           "rgb(135, 197, 95)",
           "rgb(248, 156, 116)",
           "rgb(248, 156, 116)",
           "rgb(248, 156, 116)",
           "rgb(246, 207, 113)",
           "rgb(102, 197, 204)",
           "rgb(102, 197, 204)",
           "rgb(246, 207, 113)",
           "rgb(248, 156, 116)",
           "rgb(248, 156, 116)",
           "rgb(102, 197, 204)",
           "rgb(248, 156, 116)",
           "rgb(246, 207, 113)",
           "rgb(135, 197, 95)",
           "rgb(248, 156, 116)",
           "rgb(220, 176, 242)",
           "rgb(248, 156, 116)",
           "rgb(102, 197, 204)",
           "rgb(102, 197, 204)",
           "rgb(135, 197, 95)",
           "rgb(135, 197, 95)",
           "rgb(220, 176, 242)",
           "rgb(135, 197, 95)",
           "rgb(248, 156, 116)",
           "rgb(248, 156, 116)",
           "rgb(102, 197, 204)",
           "rgb(220, 176, 242)",
           "rgb(246, 207, 113)",
           "rgb(248, 156, 116)",
           "rgb(135, 197, 95)",
           "rgb(135, 197, 95)",
           "rgb(102, 197, 204)",
           "rgb(220, 176, 242)",
           "rgb(248, 156, 116)",
           "rgb(246, 207, 113)",
           "rgb(246, 207, 113)",
           "rgb(102, 197, 204)",
           "rgb(102, 197, 204)",
           "rgb(135, 197, 95)",
           "rgb(220, 176, 242)",
           "rgb(248, 156, 116)",
           "rgb(248, 156, 116)",
           "rgb(102, 197, 204)",
           "rgb(102, 197, 204)",
           "rgb(102, 197, 204)",
           "rgb(135, 197, 95)",
           "rgb(102, 197, 204)",
           "rgb(102, 197, 204)",
           "rgb(102, 197, 204)",
           "rgb(135, 197, 95)",
           "rgb(135, 197, 95)",
           "rgb(135, 197, 95)",
           "rgb(135, 197, 95)",
           "rgb(248, 156, 116)",
           "rgb(248, 156, 116)",
           "rgb(135, 197, 95)",
           "rgb(135, 197, 95)",
           "rgb(220, 176, 242)",
           "rgb(220, 176, 242)",
           "rgb(220, 176, 242)",
           "rgb(246, 207, 113)",
           "rgb(248, 156, 116)",
           "rgb(248, 156, 116)",
           "rgb(135, 197, 95)",
           "rgb(135, 197, 95)",
           "rgb(248, 156, 116)",
           "rgb(248, 156, 116)",
           "rgb(102, 197, 204)",
           "rgb(102, 197, 204)",
           "rgb(220, 176, 242)",
           "rgb(246, 207, 113)",
           "rgb(248, 156, 116)",
           "rgb(246, 207, 113)",
           "rgb(248, 156, 116)",
           "rgb(246, 207, 113)",
           "rgb(135, 197, 95)",
           "rgb(135, 197, 95)",
           "rgb(102, 197, 204)",
           "rgb(220, 176, 242)",
           "rgb(246, 207, 113)",
           "rgb(248, 156, 116)",
           "rgb(102, 197, 204)",
           "rgb(135, 197, 95)",
           "rgb(102, 197, 204)",
           "rgb(135, 197, 95)",
           "rgb(135, 197, 95)",
           "rgb(102, 197, 204)",
           "rgb(102, 197, 204)",
           "rgb(102, 197, 204)",
           "rgb(248, 156, 116)",
           "rgb(248, 156, 116)",
           "rgb(246, 207, 113)",
           "rgb(102, 197, 204)",
           "rgb(135, 197, 95)",
           "rgb(135, 197, 95)",
           "rgb(102, 197, 204)",
           "rgb(220, 176, 242)",
           "rgb(246, 207, 113)",
           "rgb(102, 197, 204)",
           "rgb(102, 197, 204)",
           "rgb(102, 197, 204)",
           "rgb(246, 207, 113)",
           "rgb(102, 197, 204)",
           "rgb(248, 156, 116)",
           "rgb(246, 207, 113)",
           "rgb(246, 207, 113)",
           "rgb(102, 197, 204)",
           "rgb(246, 207, 113)",
           "rgb(246, 207, 113)",
           "rgb(246, 207, 113)",
           "rgb(135, 197, 95)",
           "rgb(102, 197, 204)",
           "rgb(246, 207, 113)",
           "rgb(248, 156, 116)",
           "rgb(246, 207, 113)",
           "rgb(102, 197, 204)",
           "rgb(248, 156, 116)",
           "rgb(220, 176, 242)",
           "rgb(246, 207, 113)",
           "rgb(220, 176, 242)",
           "rgb(102, 197, 204)",
           "rgb(102, 197, 204)",
           "rgb(246, 207, 113)",
           "rgb(248, 156, 116)",
           "rgb(135, 197, 95)",
           "rgb(220, 176, 242)",
           "rgb(102, 197, 204)",
           "rgb(135, 197, 95)",
           "rgb(135, 197, 95)",
           "rgb(135, 197, 95)",
           "rgb(135, 197, 95)",
           "rgb(102, 197, 204)",
           "rgb(102, 197, 204)",
           "rgb(135, 197, 95)",
           "rgb(135, 197, 95)",
           "rgb(220, 176, 242)",
           "rgb(102, 197, 204)",
           "rgb(102, 197, 204)",
           "rgb(102, 197, 204)",
           "rgb(102, 197, 204)",
           "rgb(248, 156, 116)",
           "rgb(220, 176, 242)",
           "rgb(102, 197, 204)",
           "rgb(102, 197, 204)",
           "rgb(220, 176, 242)",
           "rgb(102, 197, 204)",
           "rgb(220, 176, 242)",
           "rgb(220, 176, 242)",
           "rgb(135, 197, 95)",
           "rgb(220, 176, 242)",
           "rgb(248, 156, 116)",
           "rgb(135, 197, 95)",
           "rgb(246, 207, 113)",
           "rgb(135, 197, 95)",
           "rgb(246, 207, 113)",
           "rgb(246, 207, 113)",
           "rgb(220, 176, 242)",
           "rgb(248, 156, 116)",
           "rgb(102, 197, 204)",
           "rgb(135, 197, 95)",
           "rgb(135, 197, 95)",
           "rgb(220, 176, 242)",
           "rgb(135, 197, 95)",
           "rgb(246, 207, 113)",
           "rgb(102, 197, 204)",
           "rgb(246, 207, 113)",
           "rgb(102, 197, 204)",
           "rgb(102, 197, 204)",
           "rgb(102, 197, 204)",
           "rgb(102, 197, 204)",
           "rgb(102, 197, 204)",
           "rgb(246, 207, 113)",
           "rgb(248, 156, 116)",
           "rgb(220, 176, 242)",
           "rgb(246, 207, 113)",
           "rgb(102, 197, 204)",
           "rgb(248, 156, 116)",
           "rgb(220, 176, 242)",
           "rgb(102, 197, 204)",
           "rgb(102, 197, 204)",
           "rgb(246, 207, 113)",
           "rgb(135, 197, 95)",
           "rgb(246, 207, 113)",
           "rgb(135, 197, 95)",
           "rgb(135, 197, 95)",
           "rgb(135, 197, 95)",
           "rgb(135, 197, 95)",
           "rgb(135, 197, 95)",
           "rgb(135, 197, 95)",
           "rgb(135, 197, 95)",
           "rgb(135, 197, 95)",
           "rgb(135, 197, 95)",
           "rgb(102, 197, 204)",
           "rgb(248, 156, 116)",
           "rgb(102, 197, 204)",
           "rgb(135, 197, 95)",
           "rgb(135, 197, 95)",
           "rgb(102, 197, 204)",
           "rgb(248, 156, 116)",
           "rgb(135, 197, 95)",
           "rgb(102, 197, 204)",
           "rgb(248, 156, 116)",
           "rgb(220, 176, 242)",
           "rgb(135, 197, 95)",
           "rgb(135, 197, 95)",
           "rgb(248, 156, 116)",
           "rgb(246, 207, 113)",
           "rgb(102, 197, 204)",
           "rgb(220, 176, 242)",
           "rgb(248, 156, 116)",
           "rgb(246, 207, 113)",
           "rgb(220, 176, 242)",
           "rgb(248, 156, 116)",
           "rgb(220, 176, 242)",
           "rgb(220, 176, 242)",
           "rgb(248, 156, 116)",
           "rgb(135, 197, 95)",
           "rgb(246, 207, 113)",
           "rgb(220, 176, 242)",
           "rgb(102, 197, 204)",
           "rgb(135, 197, 95)",
           "rgb(135, 197, 95)",
           "rgb(135, 197, 95)",
           "rgb(248, 156, 116)",
           "rgb(102, 197, 204)",
           "rgb(102, 197, 204)",
           "rgb(248, 156, 116)",
           "rgb(102, 197, 204)",
           "rgb(102, 197, 204)",
           "rgb(248, 156, 116)",
           "rgb(248, 156, 116)",
           "rgb(220, 176, 242)",
           "rgb(102, 197, 204)",
           "rgb(248, 156, 116)",
           "rgb(248, 156, 116)",
           "rgb(220, 176, 242)",
           "rgb(248, 156, 116)",
           "rgb(102, 197, 204)",
           "rgb(248, 156, 116)",
           "rgb(220, 176, 242)",
           "rgb(102, 197, 204)",
           "rgb(248, 156, 116)",
           "rgb(248, 156, 116)",
           "rgb(220, 176, 242)",
           "rgb(220, 176, 242)",
           "rgb(220, 176, 242)",
           "rgb(135, 197, 95)",
           "rgb(246, 207, 113)",
           "rgb(102, 197, 204)",
           "rgb(102, 197, 204)",
           "rgb(248, 156, 116)",
           "rgb(248, 156, 116)",
           "rgb(246, 207, 113)",
           "rgb(135, 197, 95)",
           "rgb(248, 156, 116)",
           "rgb(246, 207, 113)",
           "rgb(246, 207, 113)",
           "rgb(248, 156, 116)",
           "rgb(246, 207, 113)",
           "rgb(248, 156, 116)",
           "rgb(248, 156, 116)",
           "rgb(102, 197, 204)",
           "rgb(246, 207, 113)",
           "rgb(246, 207, 113)",
           "rgb(220, 176, 242)",
           "rgb(248, 156, 116)",
           "rgb(102, 197, 204)",
           "rgb(102, 197, 204)",
           "rgb(220, 176, 242)",
           "rgb(102, 197, 204)",
           "rgb(248, 156, 116)",
           "rgb(135, 197, 95)",
           "rgb(102, 197, 204)",
           "rgb(248, 156, 116)",
           "rgb(102, 197, 204)",
           "rgb(220, 176, 242)",
           "rgb(246, 207, 113)",
           "rgb(220, 176, 242)",
           "rgb(248, 156, 116)",
           "rgb(102, 197, 204)",
           "rgb(246, 207, 113)",
           "rgb(102, 197, 204)",
           "rgb(246, 207, 113)",
           "rgb(102, 197, 204)",
           "rgb(102, 197, 204)",
           "rgb(220, 176, 242)",
           "rgb(246, 207, 113)",
           "rgb(246, 207, 113)",
           "rgb(248, 156, 116)",
           "rgb(220, 176, 242)",
           "rgb(220, 176, 242)",
           "rgb(246, 207, 113)",
           "rgb(248, 156, 116)",
           "rgb(248, 156, 116)",
           "rgb(246, 207, 113)",
           "rgb(135, 197, 95)",
           "rgb(248, 156, 116)",
           "rgb(135, 197, 95)",
           "rgb(135, 197, 95)",
           "rgb(246, 207, 113)",
           "rgb(102, 197, 204)",
           "rgb(248, 156, 116)",
           "rgb(248, 156, 116)",
           "rgb(102, 197, 204)",
           "rgb(135, 197, 95)",
           "rgb(220, 176, 242)",
           "rgb(248, 156, 116)",
           "rgb(246, 207, 113)",
           "rgb(248, 156, 116)",
           "rgb(102, 197, 204)",
           "rgb(135, 197, 95)",
           "rgb(248, 156, 116)",
           "rgb(102, 197, 204)",
           "rgb(246, 207, 113)",
           "rgb(102, 197, 204)",
           "rgb(246, 207, 113)",
           "rgb(220, 176, 242)",
           "rgb(135, 197, 95)",
           "rgb(102, 197, 204)",
           "rgb(102, 197, 204)",
           "rgb(102, 197, 204)",
           "rgb(102, 197, 204)",
           "rgb(248, 156, 116)",
           "rgb(248, 156, 116)",
           "rgb(135, 197, 95)",
           "rgb(135, 197, 95)",
           "rgb(135, 197, 95)",
           "rgb(220, 176, 242)",
           "rgb(102, 197, 204)",
           "rgb(102, 197, 204)",
           "rgb(135, 197, 95)",
           "rgb(220, 176, 242)",
           "rgb(135, 197, 95)",
           "rgb(220, 176, 242)",
           "rgb(248, 156, 116)",
           "rgb(246, 207, 113)",
           "rgb(102, 197, 204)",
           "rgb(102, 197, 204)",
           "rgb(246, 207, 113)",
           "rgb(220, 176, 242)",
           "rgb(248, 156, 116)",
           "rgb(248, 156, 116)",
           "rgb(246, 207, 113)",
           "rgb(248, 156, 116)",
           "rgb(248, 156, 116)",
           "rgb(246, 207, 113)",
           "rgb(102, 197, 204)",
           "rgb(135, 197, 95)",
           "rgb(220, 176, 242)",
           "rgb(246, 207, 113)",
           "rgb(248, 156, 116)",
           "rgb(220, 176, 242)",
           "rgb(135, 197, 95)",
           "rgb(135, 197, 95)",
           "rgb(102, 197, 204)",
           "rgb(246, 207, 113)",
           "rgb(135, 197, 95)",
           "rgb(246, 207, 113)",
           "rgb(220, 176, 242)",
           "rgb(248, 156, 116)",
           "rgb(102, 197, 204)",
           "rgb(246, 207, 113)",
           "rgb(220, 176, 242)",
           "rgb(248, 156, 116)",
           "rgb(220, 176, 242)",
           "rgb(220, 176, 242)",
           "rgb(102, 197, 204)",
           "rgb(246, 207, 113)",
           "rgb(248, 156, 116)",
           "rgb(248, 156, 116)",
           "rgb(220, 176, 242)",
           "rgb(135, 197, 95)",
           "rgb(248, 156, 116)",
           "rgb(102, 197, 204)",
           "rgb(220, 176, 242)",
           "rgb(248, 156, 116)",
           "rgb(102, 197, 204)",
           "rgb(102, 197, 204)",
           "rgb(102, 197, 204)",
           "rgb(102, 197, 204)",
           "rgb(102, 197, 204)",
           "rgb(220, 176, 242)",
           "rgb(135, 197, 95)",
           "rgb(102, 197, 204)",
           "rgb(248, 156, 116)",
           "rgb(220, 176, 242)",
           "rgb(102, 197, 204)",
           "rgb(220, 176, 242)",
           "rgb(248, 156, 116)",
           "rgb(220, 176, 242)",
           "rgb(102, 197, 204)",
           "rgb(248, 156, 116)",
           "rgb(220, 176, 242)",
           "rgb(220, 176, 242)",
           "rgb(102, 197, 204)",
           "rgb(102, 197, 204)",
           "rgb(246, 207, 113)",
           "rgb(248, 156, 116)",
           "rgb(246, 207, 113)",
           "rgb(248, 156, 116)",
           "rgb(248, 156, 116)",
           "rgb(135, 197, 95)",
           "rgb(135, 197, 95)",
           "rgb(135, 197, 95)",
           "rgb(246, 207, 113)",
           "rgb(102, 197, 204)",
           "rgb(102, 197, 204)",
           "rgb(246, 207, 113)",
           "rgb(102, 197, 204)",
           "rgb(246, 207, 113)",
           "rgb(102, 197, 204)",
           "rgb(246, 207, 113)",
           "rgb(220, 176, 242)",
           "rgb(220, 176, 242)",
           "rgb(248, 156, 116)",
           "rgb(102, 197, 204)",
           "rgb(102, 197, 204)",
           "rgb(220, 176, 242)",
           "rgb(220, 176, 242)",
           "rgb(246, 207, 113)",
           "rgb(135, 197, 95)",
           "rgb(220, 176, 242)",
           "rgb(248, 156, 116)",
           "rgb(220, 176, 242)",
           "rgb(248, 156, 116)",
           "rgb(246, 207, 113)",
           "rgb(246, 207, 113)",
           "rgb(220, 176, 242)",
           "rgb(246, 207, 113)",
           "rgb(135, 197, 95)",
           "rgb(248, 156, 116)",
           "rgb(102, 197, 204)",
           "rgb(220, 176, 242)",
           "rgb(246, 207, 113)",
           "rgb(248, 156, 116)",
           "rgb(248, 156, 116)",
           "rgb(102, 197, 204)",
           "rgb(102, 197, 204)",
           "rgb(102, 197, 204)",
           "rgb(220, 176, 242)",
           "rgb(220, 176, 242)",
           "rgb(248, 156, 116)",
           "rgb(248, 156, 116)",
           "rgb(220, 176, 242)",
           "rgb(246, 207, 113)",
           "rgb(102, 197, 204)",
           "rgb(220, 176, 242)",
           "rgb(220, 176, 242)",
           "rgb(248, 156, 116)",
           "rgb(248, 156, 116)",
           "rgb(246, 207, 113)",
           "rgb(102, 197, 204)",
           "rgb(135, 197, 95)",
           "rgb(220, 176, 242)",
           "rgb(246, 207, 113)",
           "rgb(248, 156, 116)",
           "rgb(102, 197, 204)",
           "rgb(246, 207, 113)",
           "rgb(102, 197, 204)",
           "rgb(102, 197, 204)",
           "rgb(220, 176, 242)",
           "rgb(246, 207, 113)",
           "rgb(248, 156, 116)",
           "rgb(248, 156, 116)",
           "rgb(248, 156, 116)",
           "rgb(135, 197, 95)",
           "rgb(248, 156, 116)",
           "rgb(220, 176, 242)",
           "rgb(248, 156, 116)",
           "rgb(135, 197, 95)",
           "rgb(246, 207, 113)",
           "rgb(220, 176, 242)",
           "rgb(102, 197, 204)",
           "rgb(248, 156, 116)",
           "rgb(135, 197, 95)",
           "rgb(246, 207, 113)",
           "rgb(220, 176, 242)",
           "rgb(102, 197, 204)",
           "rgb(248, 156, 116)",
           "rgb(135, 197, 95)",
           "rgb(246, 207, 113)",
           "rgb(220, 176, 242)",
           "rgb(102, 197, 204)"
          ],
          "line": {
           "color": "white",
           "width": 2
          }
         },
         "maxdepth": 2,
         "name": "",
         "parents": [
          "System and Security/Soft",
          "Enterprise Systems/Technical",
          "Data Science & Analytics/Technical",
          "Data Science & Analytics/Project Management",
          "Data Science & Analytics/Technical",
          "Data Science & Analytics/Technical",
          "Data Science & Analytics/Technical",
          "Software Development/Project Management",
          "System and Security/Technical",
          "Enterprise Systems/Technical",
          "System and Security/Technical",
          "Data Science & Analytics/Technical",
          "System and Security/Technical",
          "Enterprise Systems/Technical",
          "Data Science & Analytics/Soft",
          "Digital Media/Soft",
          "Enterprise Systems/Soft",
          "Software Development/Soft",
          "System and Security/Soft",
          "Data Science & Analytics/Soft",
          "Digital Media/Soft",
          "Software Development/Soft",
          "Data Science & Analytics/Soft",
          "Data Science & Analytics/Soft",
          "Data Science & Analytics/Technical",
          "Enterprise Systems/Soft",
          "System and Security/Technical",
          "Data Science & Analytics/Technical",
          "System and Security/Technical",
          "Data Science & Analytics/Technical",
          "Digital Media/Technical",
          "Digital Media/Technical",
          "System and Security/Technical",
          "System and Security/Technical",
          "Software Development/Soft",
          "Enterprise Systems/Soft",
          "Data Science & Analytics/Soft",
          "Software Development/Technical",
          "Data Science & Analytics/Technical",
          "Digital Media/Technical",
          "Enterprise Systems/Soft",
          "Data Science & Analytics/Soft",
          "Digital Media/Soft",
          "Software Development/Soft",
          "Data Science & Analytics/Technical",
          "Data Science & Analytics/Technical",
          "Digital Media/Soft",
          "Data Science & Analytics/Technical",
          "Enterprise Systems/Technical",
          "Data Science & Analytics/Technical",
          "Digital Media/Technical",
          "Software Development/Technical",
          "Software Development/Technical",
          "Software Development/Soft",
          "Digital Media/Soft",
          "Digital Media/Technical",
          "Data Science & Analytics/Soft",
          "Digital Media/Soft",
          "Enterprise Systems/Soft",
          "Software Development/Soft",
          "Digital Media/Technical",
          "Digital Media/Technical",
          "Digital Media/Technical",
          "Data Science & Analytics/Soft",
          "Digital Media/Soft",
          "Enterprise Systems/Soft",
          "Software Development/Soft",
          "Data Science & Analytics/Soft",
          "Digital Media/Soft",
          "Software Development/Soft",
          "Data Science & Analytics/Soft",
          "Software Development/Soft",
          "Data Science & Analytics/Technical",
          "System and Security/Technical",
          "System and Security/Technical",
          "Data Science & Analytics/Soft",
          "System and Security/Technical",
          "System and Security/Technical",
          "Data Science & Analytics/Technical",
          "System and Security/Soft",
          "Digital Media/Technical",
          "Software Development/Soft",
          "Enterprise Systems/Soft",
          "Data Science & Analytics/Soft",
          "Data Science & Analytics/Soft",
          "System and Security/Soft",
          "Software Development/Soft",
          "Digital Media/Technical",
          "System and Security/Technical",
          "System and Security/Technical",
          "System and Security/Technical",
          "System and Security/Technical",
          "System and Security/Technical",
          "Software Development/Technical",
          "System and Security/Soft",
          "Enterprise Systems/Soft",
          "Data Science & Analytics/Project Management",
          "Software Development/Project Management",
          "System and Security/Technical",
          "Digital Media/Technical",
          "Digital Media/Technical",
          "Digital Media/Technical",
          "Digital Media/Technical",
          "Enterprise Systems/Technical",
          "Enterprise Systems/Technical",
          "System and Security/Soft",
          "Software Development/Technical",
          "Data Science & Analytics/Technical",
          "Software Development/Technical",
          "Data Science & Analytics/Soft",
          "System and Security/Soft",
          "Software Development/Soft",
          "Enterprise Systems/Soft",
          "Data Science & Analytics/Soft",
          "Software Development/Technical",
          "Data Science & Analytics/Technical",
          "Enterprise Systems/Technical",
          "Software Development/Technical",
          "Enterprise Systems/Technical",
          "Digital Media/Technical",
          "Digital Media/Technical",
          "System and Security/Technical",
          "System and Security/Technical",
          "Data Science & Analytics/Technical",
          "Data Science & Analytics/Technical",
          "Data Science & Analytics/Technical",
          "Enterprise Systems/Soft",
          "Software Development/Soft",
          "Software Development/Technical",
          "System and Security/Technical",
          "System and Security/Technical",
          "Software Development/Technical",
          "Software Development/Technical",
          "Software Development/Technical",
          "Enterprise Systems/Technical",
          "Software Development/Technical",
          "Software Development/Technical",
          "Digital Media/Technical",
          "Digital Media/Technical",
          "Software Development/Project Management",
          "System and Security/Technical",
          "Data Science & Analytics/Technical",
          "System and Security/Technical",
          "Enterprise Systems/Technical",
          "System and Security/Technical",
          "Data Science & Analytics/Technical",
          "Software Development/Technical",
          "System and Security/Technical",
          "Data Science & Analytics/Project Management",
          "Digital Media/Technical",
          "System and Security/Technical",
          "System and Security/Technical",
          "Digital Media/Technical",
          "Software Development/Technical",
          "Data Science & Analytics/Technical",
          "Enterprise Systems/Technical",
          "System and Security/Technical",
          "System and Security/Technical",
          "Digital Media/Technical",
          "Software Development/Technical",
          "System and Security/Technical",
          "Software Development/Soft",
          "Enterprise Systems/Soft",
          "Data Science & Analytics/Soft",
          "Data Science & Analytics/Technical",
          "Data Science & Analytics/Soft",
          "System and Security/Soft",
          "Enterprise Systems/Soft",
          "System and Security/Technical",
          "System and Security/Technical",
          "Digital Media/Technical",
          "System and Security/Technical",
          "System and Security/Technical",
          "Digital Media/Soft",
          "Data Science & Analytics/Technical",
          "System and Security/Technical",
          "Data Science & Analytics/Soft",
          "Enterprise Systems/Technical",
          "Data Science & Analytics/Technical",
          "System and Security/Soft",
          "System and Security/Technical",
          "Data Science & Analytics/Soft",
          "Data Science & Analytics/Technical",
          "Enterprise Systems/Technical",
          "Enterprise Systems/Technical",
          "Enterprise Systems/Technical",
          "Enterprise Systems/Technical",
          "Enterprise Systems/Technical",
          "Enterprise Systems/Technical",
          "Digital Media/Technical",
          "System and Security/Technical",
          "System and Security/Technical",
          "System and Security/Soft",
          "System and Security/Technical",
          "System and Security/Technical",
          "System and Security/Technical",
          "System and Security/Technical",
          "System and Security/Technical",
          "System and Security/Technical",
          "Software Development/Technical",
          "Software Development/Technical",
          "Enterprise Systems/Technical",
          "Data Science & Analytics/Soft",
          "Enterprise Systems/Soft",
          "Software Development/Soft",
          "Data Science & Analytics/Soft",
          "Digital Media/Soft",
          "Software Development/Soft",
          "Data Science & Analytics/Technical",
          "Data Science & Analytics/Technical",
          "Enterprise Systems/Technical",
          "Digital Media/Technical",
          "System and Security/Technical",
          "Enterprise Systems/Soft",
          "System and Security/Technical",
          "Software Development/Technical",
          "Digital Media/Technical",
          "Software Development/Project Management",
          "Data Science & Analytics/Technical",
          "Digital Media/Technical",
          "Enterprise Systems/Technical",
          "System and Security/Technical",
          "Software Development/Technical",
          "Digital Media/Technical",
          "System and Security/Technical",
          "Digital Media/Technical",
          "Digital Media/Technical",
          "Digital Media/Technical",
          "Digital Media/Technical",
          "Digital Media/Technical",
          "Data Science & Analytics/Soft",
          "Digital Media/Technical",
          "Enterprise Systems/Soft",
          "Digital Media/Technical",
          "Digital Media/Technical",
          "Digital Media/Soft",
          "Data Science & Analytics/Technical",
          "Data Science & Analytics/Technical",
          "Data Science & Analytics/Project Management",
          "Software Development/Project Management",
          "Digital Media/Technical",
          "Software Development/Technical",
          "Digital Media/Technical",
          "Software Development/Technical",
          "Digital Media/Technical",
          "Digital Media/Technical",
          "Digital Media/Technical",
          "Digital Media/Technical",
          "Digital Media/Technical",
          "Enterprise Systems/Technical",
          "Data Science & Analytics/Soft",
          "Enterprise Systems/Soft",
          "Digital Media/Technical",
          "Enterprise Systems/Technical",
          "System and Security/Soft",
          "Data Science & Analytics/Technical",
          "Software Development/Technical",
          "Software Development/Technical",
          "System and Security/Technical",
          "Digital Media/Technical",
          "Data Science & Analytics/Technical",
          "Digital Media/Technical",
          "Enterprise Systems/Technical",
          "System and Security/Technical",
          "System and Security/Technical",
          "System and Security/Technical",
          "Data Science & Analytics/Technical",
          "Digital Media/Technical",
          "Data Science & Analytics/Technical",
          "System and Security/Technical",
          "Software Development/Technical",
          "Digital Media/Technical",
          "Digital Media/Technical",
          "Digital Media/Soft",
          "Digital Media/Technical",
          "Software Development/Technical",
          "System and Security/Technical",
          "System and Security/Technical",
          "Data Science & Analytics/Project Management",
          "Software Development/Project Management",
          "System and Security/Technical",
          "Digital Media/Technical",
          "Digital Media/Technical",
          "Enterprise Systems/Technical",
          "Digital Media/Technical",
          "Digital Media/Technical",
          "Software Development/Soft",
          "Enterprise Systems/Soft",
          "Software Development/Project Management",
          "Software Development/Project Management",
          "Data Science & Analytics/Project Management",
          "Software Development/Project Management",
          "Digital Media/Technical",
          "Data Science & Analytics/Project Management",
          "Software Development/Project Management",
          "Data Science & Analytics/Soft",
          "Software Development/Technical",
          "Enterprise Systems/Soft",
          "System and Security/Technical",
          "Data Science & Analytics/Technical",
          "Data Science & Analytics/Soft",
          "Enterprise Systems/Soft",
          "Digital Media/Technical",
          "Digital Media/Soft",
          "Data Science & Analytics/Project Management",
          "Digital Media/Technical",
          "System and Security/Technical",
          "Enterprise Systems/Technical",
          "System and Security/Technical",
          "Data Science & Analytics/Technical",
          "Enterprise Systems/Technical",
          "Digital Media/Technical",
          "Digital Media/Technical",
          "Digital Media/Technical",
          "Digital Media/Technical",
          "Digital Media/Technical",
          "Data Science & Analytics/Soft",
          "Digital Media/Technical",
          "System and Security/Technical",
          "System and Security/Technical",
          "Digital Media/Technical",
          "Data Science & Analytics/Technical",
          "Data Science & Analytics/Technical",
          "Data Science & Analytics/Soft",
          "Data Science & Analytics/Technical",
          "Digital Media/Technical",
          "System and Security/Technical",
          "Enterprise Systems/Technical",
          "Software Development/Technical",
          "System and Security/Technical",
          "Data Science & Analytics/Technical",
          "System and Security/Technical",
          "System and Security/Technical",
          "Enterprise Systems/Technical",
          "System and Security/Technical",
          "System and Security/Technical",
          "Enterprise Systems/Technical",
          "Data Science & Analytics/Technical",
          "Digital Media/Technical",
          "Data Science & Analytics/Project Management",
          "Software Development/Technical",
          "System and Security/Technical",
          "Data Science & Analytics/Technical",
          "System and Security/Technical",
          "System and Security/Soft",
          "Enterprise Systems/Technical",
          "Digital Media/Technical",
          "Enterprise Systems/Soft",
          "Software Development/Technical",
          "System and Security/Technical",
          "Enterprise Systems/Technical",
          "Data Science & Analytics/Technical",
          "System and Security/Technical",
          "Digital Media/Technical",
          "Enterprise Systems/Technical",
          "Software Development/Project Management",
          "Data Science & Analytics/Soft",
          "Digital Media/Soft",
          "Software Development/Soft",
          "Enterprise Systems/Soft",
          "Data Science & Analytics/Technical",
          "Digital Media/Technical",
          "Data Science & Analytics/Technical",
          "System and Security/Technical",
          "Data Science & Analytics/Project Management",
          "Data Science & Analytics/Technical",
          "System and Security/Technical",
          "Digital Media/Technical",
          "Software Development/Technical",
          "Data Science & Analytics/Technical",
          "Software Development/Project Management",
          "Data Science & Analytics/Technical",
          "System and Security/Technical",
          "Software Development/Technical",
          "Software Development/Project Management",
          "Data Science & Analytics/Project Management",
          "Software Development/Technical",
          "Software Development/Technical",
          "System and Security/Technical",
          "Software Development/Technical",
          "Enterprise Systems/Technical",
          "Digital Media/Technical",
          "Data Science & Analytics/Technical",
          "Data Science & Analytics/Technical",
          "Data Science & Analytics/Technical",
          "Enterprise Systems/Technical",
          "System and Security/Technical",
          "System and Security/Technical",
          "Enterprise Systems/Technical",
          "Data Science & Analytics/Technical",
          "Data Science & Analytics/Technical",
          "System and Security/Technical",
          "Data Science & Analytics/Technical",
          "Enterprise Systems/Technical",
          "Digital Media/Technical",
          "Data Science & Analytics/Technical",
          "Software Development/Soft",
          "Data Science & Analytics/Soft",
          "System and Security/Technical",
          "System and Security/Technical",
          "Digital Media/Technical",
          "Digital Media/Technical",
          "Software Development/Technical",
          "Digital Media/Technical",
          "Data Science & Analytics/Technical",
          "Data Science & Analytics/Technical",
          "System and Security/Soft",
          "Software Development/Soft",
          "Enterprise Systems/Soft",
          "Data Science & Analytics/Soft",
          "Digital Media/Technical",
          "Digital Media/Technical",
          "System and Security/Technical",
          "Software Development/Technical",
          "Data Science & Analytics/Technical",
          "Enterprise Systems/Technical",
          "Enterprise Systems/Technical",
          "System and Security/Technical",
          "System and Security/Technical",
          "Digital Media/Technical",
          "Software Development/Technical",
          "Data Science & Analytics/Technical",
          "Data Science & Analytics/Soft",
          "System and Security/Technical",
          "System and Security/Technical",
          "System and Security/Technical",
          "Digital Media/Technical",
          "System and Security/Technical",
          "System and Security/Soft",
          "System and Security/Soft",
          "Digital Media/Technical",
          "Digital Media/Technical",
          "Digital Media/Technical",
          "Digital Media/Technical",
          "Data Science & Analytics/Technical",
          "Data Science & Analytics/Technical",
          "Digital Media/Technical",
          "Digital Media/Technical",
          "Software Development/Technical",
          "Software Development/Technical",
          "Software Development/Technical",
          "Enterprise Systems/Technical",
          "Data Science & Analytics/Technical",
          "Data Science & Analytics/Technical",
          "Digital Media/Technical",
          "Digital Media/Technical",
          "Data Science & Analytics/Technical",
          "Data Science & Analytics/Technical",
          "System and Security/Technical",
          "System and Security/Technical",
          "Software Development/Technical",
          "Enterprise Systems/Technical",
          "Data Science & Analytics/Technical",
          "Enterprise Systems/Technical",
          "Data Science & Analytics/Technical",
          "Enterprise Systems/Technical",
          "Digital Media/Soft",
          "Digital Media/Soft",
          "System and Security/Soft",
          "Software Development/Soft",
          "Enterprise Systems/Soft",
          "Data Science & Analytics/Soft",
          "System and Security/Technical",
          "Digital Media/Technical",
          "System and Security/Technical",
          "Digital Media/Technical",
          "Digital Media/Technical",
          "System and Security/Technical",
          "System and Security/Soft",
          "System and Security/Technical",
          "Data Science & Analytics/Technical",
          "Data Science & Analytics/Technical",
          "Enterprise Systems/Technical",
          "System and Security/Soft",
          "Digital Media/Technical",
          "Digital Media/Technical",
          "System and Security/Technical",
          "Software Development/Technical",
          "Enterprise Systems/Technical",
          "System and Security/Technical",
          "System and Security/Technical",
          "System and Security/Technical",
          "Enterprise Systems/Technical",
          "System and Security/Technical",
          "Data Science & Analytics/Technical",
          "Enterprise Systems/Technical",
          "Enterprise Systems/Soft",
          "System and Security/Technical",
          "Enterprise Systems/Technical",
          "Enterprise Systems/Technical",
          "Enterprise Systems/Technical",
          "Digital Media/Technical",
          "System and Security/Technical",
          "Enterprise Systems/Soft",
          "Data Science & Analytics/Project Management",
          "Enterprise Systems/Technical",
          "System and Security/Technical",
          "Data Science & Analytics/Technical",
          "Software Development/Technical",
          "Enterprise Systems/Technical",
          "Software Development/Technical",
          "System and Security/Technical",
          "System and Security/Technical",
          "Enterprise Systems/Technical",
          "Data Science & Analytics/Soft",
          "Digital Media/Technical",
          "Software Development/Project Management",
          "System and Security/Technical",
          "Digital Media/Technical",
          "Digital Media/Technical",
          "Digital Media/Technical",
          "Digital Media/Technical",
          "System and Security/Technical",
          "System and Security/Technical",
          "Digital Media/Technical",
          "Digital Media/Technical",
          "Software Development/Technical",
          "System and Security/Technical",
          "System and Security/Technical",
          "System and Security/Technical",
          "System and Security/Technical",
          "Data Science & Analytics/Technical",
          "Software Development/Technical",
          "System and Security/Technical",
          "System and Security/Technical",
          "Software Development/Technical",
          "System and Security/Technical",
          "Software Development/Technical",
          "Software Development/Soft",
          "Digital Media/Soft",
          "Software Development/Project Management",
          "Data Science & Analytics/Technical",
          "Digital Media/Technical",
          "Enterprise Systems/Technical",
          "Digital Media/Technical",
          "Enterprise Systems/Soft",
          "Enterprise Systems/Technical",
          "Software Development/Technical",
          "Data Science & Analytics/Technical",
          "System and Security/Technical",
          "Digital Media/Technical",
          "Digital Media/Technical",
          "Software Development/Technical",
          "Digital Media/Technical",
          "Enterprise Systems/Technical",
          "System and Security/Technical",
          "Enterprise Systems/Technical",
          "System and Security/Technical",
          "System and Security/Technical",
          "System and Security/Technical",
          "System and Security/Technical",
          "System and Security/Technical",
          "Enterprise Systems/Technical",
          "Data Science & Analytics/Technical",
          "Software Development/Technical",
          "Enterprise Systems/Technical",
          "System and Security/Technical",
          "Data Science & Analytics/Soft",
          "Software Development/Soft",
          "System and Security/Soft",
          "System and Security/Soft",
          "Enterprise Systems/Soft",
          "Digital Media/Soft",
          "Enterprise Systems/Technical",
          "Digital Media/Technical",
          "Digital Media/Technical",
          "Digital Media/Technical",
          "Digital Media/Technical",
          "Digital Media/Technical",
          "Digital Media/Technical",
          "Digital Media/Technical",
          "Digital Media/Technical",
          "Digital Media/Technical",
          "System and Security/Technical",
          "Data Science & Analytics/Technical",
          "System and Security/Technical",
          "Digital Media/Technical",
          "Digital Media/Technical",
          "System and Security/Technical",
          "Data Science & Analytics/Technical",
          "Digital Media/Technical",
          "System and Security/Technical",
          "Data Science & Analytics/Technical",
          "Software Development/Technical",
          "Digital Media/Technical",
          "Digital Media/Technical",
          "Data Science & Analytics/Technical",
          "Enterprise Systems/Technical",
          "System and Security/Technical",
          "Software Development/Technical",
          "Data Science & Analytics/Technical",
          "Enterprise Systems/Technical",
          "Software Development/Technical",
          "Data Science & Analytics/Project Management",
          "Software Development/Project Management",
          "Software Development/Soft",
          "Data Science & Analytics/Project Management",
          "Digital Media/Soft",
          "Enterprise Systems/Soft",
          "Software Development/Soft",
          "System and Security/Soft",
          "Digital Media/Technical",
          "Digital Media/Technical",
          "Digital Media/Technical",
          "Data Science & Analytics/Technical",
          "System and Security/Soft",
          "System and Security/Soft",
          "Data Science & Analytics/Technical",
          "System and Security/Technical",
          "System and Security/Technical",
          "Data Science & Analytics/Technical",
          "Data Science & Analytics/Technical",
          "Software Development/Technical",
          "System and Security/Technical",
          "Data Science & Analytics/Soft",
          "Data Science & Analytics/Technical",
          "Software Development/Project Management",
          "Data Science & Analytics/Technical",
          "System and Security/Technical",
          "Data Science & Analytics/Technical",
          "Software Development/Technical",
          "System and Security/Technical",
          "Data Science & Analytics/Technical",
          "Data Science & Analytics/Soft",
          "Software Development/Technical",
          "Software Development/Technical",
          "Software Development/Technical",
          "Digital Media/Technical",
          "Enterprise Systems/Technical",
          "System and Security/Technical",
          "System and Security/Technical",
          "Data Science & Analytics/Technical",
          "Data Science & Analytics/Technical",
          "Enterprise Systems/Technical",
          "Digital Media/Technical",
          "Data Science & Analytics/Technical",
          "Enterprise Systems/Technical",
          "Enterprise Systems/Technical",
          "Data Science & Analytics/Project Management",
          "Enterprise Systems/Technical",
          "Data Science & Analytics/Technical",
          "Data Science & Analytics/Technical",
          "System and Security/Technical",
          "Enterprise Systems/Technical",
          "Enterprise Systems/Technical",
          "Software Development/Technical",
          "Data Science & Analytics/Technical",
          "System and Security/Technical",
          "System and Security/Technical",
          "Software Development/Technical",
          "System and Security/Technical",
          "Data Science & Analytics/Project Management",
          "Digital Media/Technical",
          "System and Security/Technical",
          "Data Science & Analytics/Technical",
          "System and Security/Technical",
          "Software Development/Technical",
          "Enterprise Systems/Technical",
          "Software Development/Technical",
          "Data Science & Analytics/Technical",
          "System and Security/Technical",
          "Enterprise Systems/Technical",
          "System and Security/Technical",
          "Enterprise Systems/Technical",
          "System and Security/Technical",
          "System and Security/Technical",
          "Software Development/Technical",
          "Enterprise Systems/Technical",
          "Enterprise Systems/Technical",
          "Data Science & Analytics/Technical",
          "Software Development/Technical",
          "Software Development/Technical",
          "Enterprise Systems/Technical",
          "Data Science & Analytics/Technical",
          "Data Science & Analytics/Technical",
          "Enterprise Systems/Technical",
          "Digital Media/Technical",
          "Data Science & Analytics/Technical",
          "Digital Media/Technical",
          "Digital Media/Soft",
          "Enterprise Systems/Technical",
          "System and Security/Technical",
          "Data Science & Analytics/Soft",
          "Data Science & Analytics/Technical",
          "System and Security/Technical",
          "Digital Media/Technical",
          "Software Development/Technical",
          "Data Science & Analytics/Technical",
          "Enterprise Systems/Technical",
          "Data Science & Analytics/Technical",
          "System and Security/Technical",
          "Digital Media/Technical",
          "Data Science & Analytics/Project Management",
          "System and Security/Technical",
          "Enterprise Systems/Technical",
          "System and Security/Technical",
          "Enterprise Systems/Technical",
          "Software Development/Technical",
          "Digital Media/Technical",
          "System and Security/Technical",
          "System and Security/Technical",
          "System and Security/Technical",
          "System and Security/Technical",
          "Data Science & Analytics/Technical",
          "Data Science & Analytics/Technical",
          "Digital Media/Technical",
          "Digital Media/Technical",
          "Digital Media/Technical",
          "Software Development/Technical",
          "System and Security/Technical",
          "System and Security/Technical",
          "Digital Media/Technical",
          "Software Development/Technical",
          "Digital Media/Technical",
          "Software Development/Technical",
          "Data Science & Analytics/Technical",
          "Enterprise Systems/Technical",
          "System and Security/Technical",
          "System and Security/Technical",
          "Enterprise Systems/Technical",
          "Software Development/Technical",
          "Data Science & Analytics/Technical",
          "Data Science & Analytics/Technical",
          "Enterprise Systems/Technical",
          "Data Science & Analytics/Technical",
          "Data Science & Analytics/Technical",
          "Enterprise Systems/Technical",
          "System and Security/Technical",
          "Digital Media/Technical",
          "Software Development/Technical",
          "Enterprise Systems/Technical",
          "Data Science & Analytics/Technical",
          "Software Development/Technical",
          "Digital Media/Technical",
          "Digital Media/Technical",
          "System and Security/Technical",
          "Enterprise Systems/Technical",
          "Digital Media/Technical",
          "Enterprise Systems/Technical",
          "Software Development/Technical",
          "Data Science & Analytics/Soft",
          "System and Security/Soft",
          "Enterprise Systems/Soft",
          "Software Development/Soft",
          "Data Science & Analytics/Technical",
          "Software Development/Technical",
          "Software Development/Technical",
          "System and Security/Technical",
          "Enterprise Systems/Technical",
          "Data Science & Analytics/Technical",
          "Data Science & Analytics/Technical",
          "Software Development/Project Management",
          "Digital Media/Technical",
          "Data Science & Analytics/Project Management",
          "System and Security/Technical",
          "Software Development/Project Management",
          "Data Science & Analytics/Technical",
          "System and Security/Technical",
          "System and Security/Technical",
          "System and Security/Technical",
          "System and Security/Soft",
          "System and Security/Technical",
          "Software Development/Project Management",
          "Digital Media/Technical",
          "System and Security/Technical",
          "Data Science & Analytics/Soft",
          "Software Development/Technical",
          "System and Security/Soft",
          "Software Development/Technical",
          "Data Science & Analytics/Technical",
          "Software Development/Project Management",
          "System and Security/Technical",
          "Data Science & Analytics/Project Management",
          "Software Development/Technical",
          "Software Development/Technical",
          "System and Security/Technical",
          "System and Security/Technical",
          "Enterprise Systems/Technical",
          "Data Science & Analytics/Technical",
          "Enterprise Systems/Technical",
          "Data Science & Analytics/Technical",
          "Data Science & Analytics/Technical",
          "Digital Media/Technical",
          "Digital Media/Technical",
          "Digital Media/Technical",
          "Enterprise Systems/Technical",
          "System and Security/Technical",
          "System and Security/Technical",
          "Enterprise Systems/Technical",
          "System and Security/Technical",
          "Enterprise Systems/Technical",
          "System and Security/Technical",
          "Enterprise Systems/Technical",
          "Software Development/Soft",
          "Software Development/Project Management",
          "Data Science & Analytics/Technical",
          "System and Security/Technical",
          "System and Security/Technical",
          "Software Development/Project Management",
          "Software Development/Technical",
          "Enterprise Systems/Soft",
          "Digital Media/Soft",
          "Software Development/Project Management",
          "Data Science & Analytics/Project Management",
          "Software Development/Project Management",
          "Data Science & Analytics/Project Management",
          "Enterprise Systems/Technical",
          "Enterprise Systems/Technical",
          "Software Development/Soft",
          "Enterprise Systems/Soft",
          "Digital Media/Soft",
          "Data Science & Analytics/Soft",
          "System and Security/Soft",
          "Software Development/Soft",
          "Enterprise Systems/Soft",
          "Data Science & Analytics/Soft",
          "Data Science & Analytics/Technical",
          "System and Security/Technical",
          "System and Security/Soft",
          "System and Security/Technical",
          "Software Development/Technical",
          "Software Development/Technical",
          "Data Science & Analytics/Technical",
          "Data Science & Analytics/Technical",
          "Software Development/Technical",
          "Enterprise Systems/Technical",
          "System and Security/Technical",
          "Software Development/Technical",
          "Software Development/Technical",
          "Data Science & Analytics/Technical",
          "Data Science & Analytics/Technical",
          "Enterprise Systems/Technical",
          "System and Security/Technical",
          "Digital Media/Technical",
          "Software Development/Technical",
          "Enterprise Systems/Technical",
          "Data Science & Analytics/Technical",
          "System and Security/Technical",
          "Enterprise Systems/Technical",
          "System and Security/Technical",
          "System and Security/Technical",
          "Software Development/Technical",
          "Enterprise Systems/Technical",
          "Data Science & Analytics/Technical",
          "Data Science & Analytics/Technical",
          "Data Science & Analytics/Technical",
          "Digital Media/Technical",
          "Data Science & Analytics",
          "Software Development",
          "Data Science & Analytics",
          "Digital Media",
          "Enterprise Systems",
          "Software Development",
          "System and Security",
          "Data Science & Analytics",
          "Digital Media",
          "Enterprise Systems",
          "Software Development",
          "System and Security",
          "",
          "",
          "",
          "",
          ""
         ],
         "textfont": {
          "size": 12
         },
         "textinfo": "label",
         "type": "sunburst",
         "values": [
          59,
          25,
          36,
          27,
          1,
          2,
          8,
          5,
          0,
          8,
          0,
          1,
          70,
          0,
          436,
          436,
          436,
          436,
          436,
          0,
          0,
          0,
          3,
          1366,
          27,
          1366,
          21,
          6,
          0,
          1,
          25,
          0,
          0,
          26,
          250,
          250,
          250,
          27,
          7,
          0,
          118,
          118,
          64,
          0,
          35,
          0,
          0,
          1,
          29,
          29,
          66,
          29,
          6,
          1366,
          0,
          1,
          279,
          279,
          279,
          279,
          1,
          29,
          0,
          97,
          97,
          97,
          97,
          0,
          0,
          0,
          59,
          59,
          0,
          0,
          2,
          0,
          0,
          79,
          0,
          1366,
          0,
          94,
          0,
          0,
          0,
          0,
          0,
          0,
          0,
          0,
          0,
          1,
          539,
          2,
          0,
          13,
          1,
          40,
          0,
          7,
          15,
          1,
          1,
          20,
          37,
          0,
          7,
          78,
          78,
          817,
          267,
          267,
          267,
          267,
          8,
          8,
          78,
          4,
          0,
          1,
          10,
          0,
          2,
          0,
          9,
          3,
          817,
          817,
          0,
          1,
          1871,
          1871,
          31,
          15,
          15,
          66,
          601,
          0,
          0,
          0,
          0,
          20,
          0,
          2,
          11,
          0,
          2,
          3,
          0,
          0,
          25,
          0,
          0,
          3,
          3,
          59,
          3,
          0,
          28,
          5,
          2,
          401,
          401,
          401,
          0,
          10,
          0,
          0,
          0,
          0,
          6,
          0,
          12,
          0,
          2,
          0,
          0,
          0,
          1306,
          0,
          1,
          1,
          0,
          0,
          8,
          4,
          0,
          12,
          275,
          0,
          0,
          0,
          92,
          0,
          0,
          0,
          0,
          0,
          0,
          7,
          221,
          0,
          15,
          72,
          15,
          72,
          72,
          72,
          0,
          0,
          18,
          4,
          0,
          15,
          0,
          8,
          13,
          14,
          18,
          3,
          27,
          11,
          0,
          38,
          10,
          0,
          1,
          0,
          0,
          0,
          8,
          1,
          8,
          4,
          6,
          0,
          11,
          1,
          8,
          9,
          0,
          31,
          0,
          35,
          2,
          2483,
          11,
          275,
          3,
          35,
          277,
          277,
          7,
          78,
          2,
          1,
          1,
          2,
          0,
          8,
          1,
          0,
          0,
          8,
          0,
          0,
          0,
          0,
          0,
          1,
          100,
          4,
          0,
          0,
          1,
          9,
          11,
          1,
          9,
          17,
          0,
          6,
          0,
          44,
          0,
          0,
          103,
          103,
          0,
          0,
          2,
          11,
          0,
          1,
          5,
          15,
          28,
          17,
          0,
          33,
          34,
          34,
          34,
          0,
          2,
          0,
          1,
          1,
          0,
          20,
          20,
          0,
          85,
          0,
          0,
          0,
          103,
          1,
          0,
          1,
          3,
          1,
          51,
          0,
          0,
          0,
          1,
          31,
          31,
          0,
          0,
          1,
          0,
          1,
          4,
          0,
          2,
          0,
          0,
          0,
          21,
          2,
          17,
          3,
          0,
          7,
          19,
          2,
          0,
          0,
          6,
          87,
          2,
          87,
          87,
          0,
          148,
          148,
          148,
          148,
          0,
          0,
          35,
          0,
          10,
          4,
          1,
          1,
          3,
          1,
          24,
          2,
          0,
          222,
          72,
          12,
          7,
          47,
          116,
          116,
          116,
          116,
          116,
          70,
          0,
          70,
          3,
          0,
          222,
          124,
          2,
          0,
          15,
          8,
          8,
          8,
          16,
          0,
          0,
          1,
          0,
          0,
          86,
          0,
          1,
          0,
          625,
          625,
          625,
          625,
          5,
          0,
          5,
          70,
          222,
          47,
          0,
          0,
          27,
          77,
          77,
          13,
          0,
          0,
          1,
          0,
          0,
          0,
          83,
          39,
          1,
          4,
          9,
          19,
          1,
          11,
          5,
          9,
          3,
          9,
          9,
          9,
          0,
          0,
          2,
          1,
          1,
          0,
          0,
          0,
          11,
          11,
          31,
          10,
          0,
          36,
          35,
          11,
          537,
          537,
          537,
          537,
          8,
          0,
          15,
          6,
          1,
          0,
          0,
          26,
          6,
          4,
          1,
          302,
          4,
          11,
          36,
          0,
          0,
          121,
          684,
          5,
          4,
          4,
          2,
          4,
          0,
          0,
          11,
          21,
          0,
          0,
          0,
          0,
          15,
          12,
          2571,
          109,
          93,
          6,
          109,
          109,
          5,
          93,
          51,
          2,
          0,
          0,
          10,
          0,
          0,
          0,
          0,
          0,
          0,
          0,
          23,
          0,
          5,
          0,
          77,
          0,
          75,
          0,
          6,
          31,
          0,
          322,
          0,
          0,
          0,
          160,
          0,
          24,
          1,
          44,
          7,
          5,
          5,
          0,
          11,
          4,
          60,
          60,
          67,
          0,
          0,
          9,
          15,
          11,
          0,
          0,
          75,
          7,
          146,
          3,
          16,
          41,
          41,
          41,
          0,
          0,
          0,
          16,
          46,
          10,
          0,
          2,
          1,
          2,
          0,
          0,
          0,
          0,
          0,
          0,
          0,
          0,
          1,
          8,
          8,
          10,
          2484,
          2484,
          0,
          0,
          0,
          3,
          0,
          18,
          607,
          607,
          607,
          52,
          243,
          0,
          0,
          343,
          343,
          343,
          343,
          0,
          0,
          0,
          1,
          123,
          0,
          146,
          2,
          0,
          1,
          45,
          32,
          32,
          343,
          0,
          4,
          79,
          0,
          5,
          50,
          0,
          0,
          11,
          25,
          0,
          49,
          15,
          29,
          0,
          0,
          1,
          9,
          45,
          0,
          0,
          2,
          4,
          9,
          94,
          94,
          186,
          0,
          7,
          0,
          2,
          0,
          4,
          5,
          94,
          0,
          0,
          0,
          6,
          16,
          1,
          30,
          30,
          48,
          48,
          2,
          4,
          0,
          2,
          1,
          21,
          21,
          21,
          66,
          66,
          8,
          30,
          30,
          30,
          0,
          1,
          0,
          5,
          0,
          0,
          14,
          4,
          4,
          25,
          0,
          0,
          20,
          0,
          0,
          5,
          0,
          0,
          0,
          0,
          12,
          0,
          24,
          35,
          3,
          0,
          1,
          1,
          0,
          4,
          0,
          15,
          4,
          278,
          1355,
          7,
          0,
          0,
          0,
          0,
          1,
          17,
          17,
          10,
          1,
          9,
          0,
          2,
          0,
          4,
          1,
          18,
          0,
          614,
          22,
          46,
          46,
          46,
          1,
          0,
          4,
          1,
          3,
          0,
          9,
          17,
          323,
          0,
          323,
          39,
          0,
          63,
          0,
          2,
          52,
          297,
          8,
          1,
          0,
          16,
          0,
          80,
          3,
          0,
          2,
          41,
          41,
          3,
          9,
          1,
          3,
          0,
          80,
          0,
          366,
          5,
          61,
          61,
          0,
          10,
          415,
          415,
          5,
          120,
          0,
          0,
          366,
          236,
          745,
          32,
          0,
          24,
          24,
          0,
          18,
          4,
          0,
          1,
          236,
          0,
          23,
          1,
          1,
          1,
          0,
          75,
          292,
          292,
          0,
          4,
          0,
          0,
          4,
          9,
          286,
          286,
          286,
          286,
          140,
          140,
          140,
          140,
          2,
          0,
          286,
          0,
          0,
          1,
          12,
          1,
          40,
          40,
          0,
          6,
          139,
          0,
          1,
          4,
          148,
          0,
          13,
          840,
          2571,
          0,
          8,
          0,
          272,
          272,
          272,
          272,
          18,
          2,
          5,
          168,
          618,
          7137,
          2063,
          7310,
          6431,
          4782,
          10518,
          4850,
          4512,
          11226,
          8310,
          17823,
          6913,
          11822,
          18275,
          13092
         ]
        }
       ],
       "layout": {
        "height": 800,
        "legend": {
         "tracegroupgap": 0
        },
        "margin": {
         "b": 0,
         "l": 0,
         "r": 0,
         "t": 50
        },
        "sunburstcolorway": [
         "rgb(102, 197, 204)",
         "rgb(246, 207, 113)",
         "rgb(248, 156, 116)",
         "rgb(220, 176, 242)",
         "rgb(135, 197, 95)",
         "rgb(158, 185, 243)",
         "rgb(254, 136, 177)",
         "rgb(201, 219, 116)",
         "rgb(139, 224, 164)",
         "rgb(180, 151, 231)",
         "rgb(179, 179, 179)"
        ],
        "template": {
         "data": {
          "bar": [
           {
            "error_x": {
             "color": "#2a3f5f"
            },
            "error_y": {
             "color": "#2a3f5f"
            },
            "marker": {
             "line": {
              "color": "#E5ECF6",
              "width": 0.5
             },
             "pattern": {
              "fillmode": "overlay",
              "size": 10,
              "solidity": 0.2
             }
            },
            "type": "bar"
           }
          ],
          "barpolar": [
           {
            "marker": {
             "line": {
              "color": "#E5ECF6",
              "width": 0.5
             },
             "pattern": {
              "fillmode": "overlay",
              "size": 10,
              "solidity": 0.2
             }
            },
            "type": "barpolar"
           }
          ],
          "carpet": [
           {
            "aaxis": {
             "endlinecolor": "#2a3f5f",
             "gridcolor": "white",
             "linecolor": "white",
             "minorgridcolor": "white",
             "startlinecolor": "#2a3f5f"
            },
            "baxis": {
             "endlinecolor": "#2a3f5f",
             "gridcolor": "white",
             "linecolor": "white",
             "minorgridcolor": "white",
             "startlinecolor": "#2a3f5f"
            },
            "type": "carpet"
           }
          ],
          "choropleth": [
           {
            "colorbar": {
             "outlinewidth": 0,
             "ticks": ""
            },
            "type": "choropleth"
           }
          ],
          "contour": [
           {
            "colorbar": {
             "outlinewidth": 0,
             "ticks": ""
            },
            "colorscale": [
             [
              0,
              "#0d0887"
             ],
             [
              0.1111111111111111,
              "#46039f"
             ],
             [
              0.2222222222222222,
              "#7201a8"
             ],
             [
              0.3333333333333333,
              "#9c179e"
             ],
             [
              0.4444444444444444,
              "#bd3786"
             ],
             [
              0.5555555555555556,
              "#d8576b"
             ],
             [
              0.6666666666666666,
              "#ed7953"
             ],
             [
              0.7777777777777778,
              "#fb9f3a"
             ],
             [
              0.8888888888888888,
              "#fdca26"
             ],
             [
              1,
              "#f0f921"
             ]
            ],
            "type": "contour"
           }
          ],
          "contourcarpet": [
           {
            "colorbar": {
             "outlinewidth": 0,
             "ticks": ""
            },
            "type": "contourcarpet"
           }
          ],
          "heatmap": [
           {
            "colorbar": {
             "outlinewidth": 0,
             "ticks": ""
            },
            "colorscale": [
             [
              0,
              "#0d0887"
             ],
             [
              0.1111111111111111,
              "#46039f"
             ],
             [
              0.2222222222222222,
              "#7201a8"
             ],
             [
              0.3333333333333333,
              "#9c179e"
             ],
             [
              0.4444444444444444,
              "#bd3786"
             ],
             [
              0.5555555555555556,
              "#d8576b"
             ],
             [
              0.6666666666666666,
              "#ed7953"
             ],
             [
              0.7777777777777778,
              "#fb9f3a"
             ],
             [
              0.8888888888888888,
              "#fdca26"
             ],
             [
              1,
              "#f0f921"
             ]
            ],
            "type": "heatmap"
           }
          ],
          "heatmapgl": [
           {
            "colorbar": {
             "outlinewidth": 0,
             "ticks": ""
            },
            "colorscale": [
             [
              0,
              "#0d0887"
             ],
             [
              0.1111111111111111,
              "#46039f"
             ],
             [
              0.2222222222222222,
              "#7201a8"
             ],
             [
              0.3333333333333333,
              "#9c179e"
             ],
             [
              0.4444444444444444,
              "#bd3786"
             ],
             [
              0.5555555555555556,
              "#d8576b"
             ],
             [
              0.6666666666666666,
              "#ed7953"
             ],
             [
              0.7777777777777778,
              "#fb9f3a"
             ],
             [
              0.8888888888888888,
              "#fdca26"
             ],
             [
              1,
              "#f0f921"
             ]
            ],
            "type": "heatmapgl"
           }
          ],
          "histogram": [
           {
            "marker": {
             "pattern": {
              "fillmode": "overlay",
              "size": 10,
              "solidity": 0.2
             }
            },
            "type": "histogram"
           }
          ],
          "histogram2d": [
           {
            "colorbar": {
             "outlinewidth": 0,
             "ticks": ""
            },
            "colorscale": [
             [
              0,
              "#0d0887"
             ],
             [
              0.1111111111111111,
              "#46039f"
             ],
             [
              0.2222222222222222,
              "#7201a8"
             ],
             [
              0.3333333333333333,
              "#9c179e"
             ],
             [
              0.4444444444444444,
              "#bd3786"
             ],
             [
              0.5555555555555556,
              "#d8576b"
             ],
             [
              0.6666666666666666,
              "#ed7953"
             ],
             [
              0.7777777777777778,
              "#fb9f3a"
             ],
             [
              0.8888888888888888,
              "#fdca26"
             ],
             [
              1,
              "#f0f921"
             ]
            ],
            "type": "histogram2d"
           }
          ],
          "histogram2dcontour": [
           {
            "colorbar": {
             "outlinewidth": 0,
             "ticks": ""
            },
            "colorscale": [
             [
              0,
              "#0d0887"
             ],
             [
              0.1111111111111111,
              "#46039f"
             ],
             [
              0.2222222222222222,
              "#7201a8"
             ],
             [
              0.3333333333333333,
              "#9c179e"
             ],
             [
              0.4444444444444444,
              "#bd3786"
             ],
             [
              0.5555555555555556,
              "#d8576b"
             ],
             [
              0.6666666666666666,
              "#ed7953"
             ],
             [
              0.7777777777777778,
              "#fb9f3a"
             ],
             [
              0.8888888888888888,
              "#fdca26"
             ],
             [
              1,
              "#f0f921"
             ]
            ],
            "type": "histogram2dcontour"
           }
          ],
          "mesh3d": [
           {
            "colorbar": {
             "outlinewidth": 0,
             "ticks": ""
            },
            "type": "mesh3d"
           }
          ],
          "parcoords": [
           {
            "line": {
             "colorbar": {
              "outlinewidth": 0,
              "ticks": ""
             }
            },
            "type": "parcoords"
           }
          ],
          "pie": [
           {
            "automargin": true,
            "type": "pie"
           }
          ],
          "scatter": [
           {
            "fillpattern": {
             "fillmode": "overlay",
             "size": 10,
             "solidity": 0.2
            },
            "type": "scatter"
           }
          ],
          "scatter3d": [
           {
            "line": {
             "colorbar": {
              "outlinewidth": 0,
              "ticks": ""
             }
            },
            "marker": {
             "colorbar": {
              "outlinewidth": 0,
              "ticks": ""
             }
            },
            "type": "scatter3d"
           }
          ],
          "scattercarpet": [
           {
            "marker": {
             "colorbar": {
              "outlinewidth": 0,
              "ticks": ""
             }
            },
            "type": "scattercarpet"
           }
          ],
          "scattergeo": [
           {
            "marker": {
             "colorbar": {
              "outlinewidth": 0,
              "ticks": ""
             }
            },
            "type": "scattergeo"
           }
          ],
          "scattergl": [
           {
            "marker": {
             "colorbar": {
              "outlinewidth": 0,
              "ticks": ""
             }
            },
            "type": "scattergl"
           }
          ],
          "scattermapbox": [
           {
            "marker": {
             "colorbar": {
              "outlinewidth": 0,
              "ticks": ""
             }
            },
            "type": "scattermapbox"
           }
          ],
          "scatterpolar": [
           {
            "marker": {
             "colorbar": {
              "outlinewidth": 0,
              "ticks": ""
             }
            },
            "type": "scatterpolar"
           }
          ],
          "scatterpolargl": [
           {
            "marker": {
             "colorbar": {
              "outlinewidth": 0,
              "ticks": ""
             }
            },
            "type": "scatterpolargl"
           }
          ],
          "scatterternary": [
           {
            "marker": {
             "colorbar": {
              "outlinewidth": 0,
              "ticks": ""
             }
            },
            "type": "scatterternary"
           }
          ],
          "surface": [
           {
            "colorbar": {
             "outlinewidth": 0,
             "ticks": ""
            },
            "colorscale": [
             [
              0,
              "#0d0887"
             ],
             [
              0.1111111111111111,
              "#46039f"
             ],
             [
              0.2222222222222222,
              "#7201a8"
             ],
             [
              0.3333333333333333,
              "#9c179e"
             ],
             [
              0.4444444444444444,
              "#bd3786"
             ],
             [
              0.5555555555555556,
              "#d8576b"
             ],
             [
              0.6666666666666666,
              "#ed7953"
             ],
             [
              0.7777777777777778,
              "#fb9f3a"
             ],
             [
              0.8888888888888888,
              "#fdca26"
             ],
             [
              1,
              "#f0f921"
             ]
            ],
            "type": "surface"
           }
          ],
          "table": [
           {
            "cells": {
             "fill": {
              "color": "#EBF0F8"
             },
             "line": {
              "color": "white"
             }
            },
            "header": {
             "fill": {
              "color": "#C8D4E3"
             },
             "line": {
              "color": "white"
             }
            },
            "type": "table"
           }
          ]
         },
         "layout": {
          "annotationdefaults": {
           "arrowcolor": "#2a3f5f",
           "arrowhead": 0,
           "arrowwidth": 1
          },
          "autotypenumbers": "strict",
          "coloraxis": {
           "colorbar": {
            "outlinewidth": 0,
            "ticks": ""
           }
          },
          "colorscale": {
           "diverging": [
            [
             0,
             "#8e0152"
            ],
            [
             0.1,
             "#c51b7d"
            ],
            [
             0.2,
             "#de77ae"
            ],
            [
             0.3,
             "#f1b6da"
            ],
            [
             0.4,
             "#fde0ef"
            ],
            [
             0.5,
             "#f7f7f7"
            ],
            [
             0.6,
             "#e6f5d0"
            ],
            [
             0.7,
             "#b8e186"
            ],
            [
             0.8,
             "#7fbc41"
            ],
            [
             0.9,
             "#4d9221"
            ],
            [
             1,
             "#276419"
            ]
           ],
           "sequential": [
            [
             0,
             "#0d0887"
            ],
            [
             0.1111111111111111,
             "#46039f"
            ],
            [
             0.2222222222222222,
             "#7201a8"
            ],
            [
             0.3333333333333333,
             "#9c179e"
            ],
            [
             0.4444444444444444,
             "#bd3786"
            ],
            [
             0.5555555555555556,
             "#d8576b"
            ],
            [
             0.6666666666666666,
             "#ed7953"
            ],
            [
             0.7777777777777778,
             "#fb9f3a"
            ],
            [
             0.8888888888888888,
             "#fdca26"
            ],
            [
             1,
             "#f0f921"
            ]
           ],
           "sequentialminus": [
            [
             0,
             "#0d0887"
            ],
            [
             0.1111111111111111,
             "#46039f"
            ],
            [
             0.2222222222222222,
             "#7201a8"
            ],
            [
             0.3333333333333333,
             "#9c179e"
            ],
            [
             0.4444444444444444,
             "#bd3786"
            ],
            [
             0.5555555555555556,
             "#d8576b"
            ],
            [
             0.6666666666666666,
             "#ed7953"
            ],
            [
             0.7777777777777778,
             "#fb9f3a"
            ],
            [
             0.8888888888888888,
             "#fdca26"
            ],
            [
             1,
             "#f0f921"
            ]
           ]
          },
          "colorway": [
           "#636efa",
           "#EF553B",
           "#00cc96",
           "#ab63fa",
           "#FFA15A",
           "#19d3f3",
           "#FF6692",
           "#B6E880",
           "#FF97FF",
           "#FECB52"
          ],
          "font": {
           "color": "#2a3f5f"
          },
          "geo": {
           "bgcolor": "white",
           "lakecolor": "white",
           "landcolor": "#E5ECF6",
           "showlakes": true,
           "showland": true,
           "subunitcolor": "white"
          },
          "hoverlabel": {
           "align": "left"
          },
          "hovermode": "closest",
          "mapbox": {
           "style": "light"
          },
          "paper_bgcolor": "white",
          "plot_bgcolor": "#E5ECF6",
          "polar": {
           "angularaxis": {
            "gridcolor": "white",
            "linecolor": "white",
            "ticks": ""
           },
           "bgcolor": "#E5ECF6",
           "radialaxis": {
            "gridcolor": "white",
            "linecolor": "white",
            "ticks": ""
           }
          },
          "scene": {
           "xaxis": {
            "backgroundcolor": "#E5ECF6",
            "gridcolor": "white",
            "gridwidth": 2,
            "linecolor": "white",
            "showbackground": true,
            "ticks": "",
            "zerolinecolor": "white"
           },
           "yaxis": {
            "backgroundcolor": "#E5ECF6",
            "gridcolor": "white",
            "gridwidth": 2,
            "linecolor": "white",
            "showbackground": true,
            "ticks": "",
            "zerolinecolor": "white"
           },
           "zaxis": {
            "backgroundcolor": "#E5ECF6",
            "gridcolor": "white",
            "gridwidth": 2,
            "linecolor": "white",
            "showbackground": true,
            "ticks": "",
            "zerolinecolor": "white"
           }
          },
          "shapedefaults": {
           "line": {
            "color": "#2a3f5f"
           }
          },
          "ternary": {
           "aaxis": {
            "gridcolor": "white",
            "linecolor": "white",
            "ticks": ""
           },
           "baxis": {
            "gridcolor": "white",
            "linecolor": "white",
            "ticks": ""
           },
           "bgcolor": "#E5ECF6",
           "caxis": {
            "gridcolor": "white",
            "linecolor": "white",
            "ticks": ""
           }
          },
          "title": {
           "x": 0.05
          },
          "xaxis": {
           "automargin": true,
           "gridcolor": "white",
           "linecolor": "white",
           "ticks": "",
           "title": {
            "standoff": 15
           },
           "zerolinecolor": "white",
           "zerolinewidth": 2
          },
          "yaxis": {
           "automargin": true,
           "gridcolor": "white",
           "linecolor": "white",
           "ticks": "",
           "title": {
            "standoff": 15
           },
           "zerolinecolor": "white",
           "zerolinewidth": 2
          }
         }
        },
        "title": {
         "font": {
          "size": 24
         },
         "text": "Job Market Overview: Click to Explore Technical, Soft, & PM Skills",
         "x": 0.5
        },
        "width": 800
       }
      }
     },
     "metadata": {},
     "output_type": "display_data"
    }
   ],
   "source": [
    "# Assign Domain and Category to each PM skills DataFrame\n",
    "pm_skills_df['Domain'] = 'Software Development'\n",
    "pm_skills_df['Category'] = 'Project Management'\n",
    "\n",
    "dsa_pm_df['Domain'] = 'Data Science & Analytics'\n",
    "dsa_pm_df['Category'] = 'Project Management'\n",
    "\n",
    "# Rebuild the domain-specific combined DataFrames\n",
    "sd_combined = pd.concat([sd_keyword_df, sd_soft_df, pm_skills_df], ignore_index=True)\n",
    "dsa_combined = pd.concat([dsa_keyword_df, dsa_soft_df, dsa_pm_df], ignore_index=True)\n",
    "\n",
    "# The other domains remain the same (no PM category needed)\n",
    "es_combined = pd.concat([es_keyword_df, es_soft_df], ignore_index=True)\n",
    "ss_combined = pd.concat([ss_keyword_df, ss_soft_df], ignore_index=True)\n",
    "dm_combined = pd.concat([dm_keyword_df, dm_soft_df], ignore_index=True)\n",
    "\n",
    "# Combine all domains into one final DataFrame\n",
    "combined_df = pd.concat([\n",
    "    sd_combined, dsa_combined,\n",
    "    es_combined, ss_combined, dm_combined\n",
    "], ignore_index=True)\n",
    "\n",
    "# Create the sunburst chart including PM category\n",
    "fig = px.sunburst(\n",
    "    combined_df,\n",
    "    path=['Domain', 'Category', 'Keyword'],\n",
    "    values='Count',\n",
    "    title='Job Market Overview: Click to Explore Technical, Soft, & PM Skills',\n",
    "    color='Domain',\n",
    "    color_discrete_sequence=px.colors.qualitative.Pastel,\n",
    "    branchvalues='total'\n",
    ")\n",
    "\n",
    "fig.update_traces(\n",
    "    textinfo='label',\n",
    "    textfont_size=12,\n",
    "    insidetextorientation='radial',\n",
    "    marker=dict(line=dict(color='white', width=2)),\n",
    "    maxdepth=2  # Only Domain & Category visible at first\n",
    ")\n",
    "\n",
    "fig.update_layout(\n",
    "    margin=dict(t=50, l=0, r=0, b=0),\n",
    "    width=800, height=800,\n",
    "    title_x=0.5,\n",
    "    title_font_size=24\n",
    ")\n",
    "\n",
    "fig.show()\n"
   ]
  },
  {
   "cell_type": "code",
   "execution_count": 35,
   "id": "5beba508",
   "metadata": {},
   "outputs": [],
   "source": [
    "# Example: save combined_df as a JSON file\n",
    "combined_df.to_json('updated_combined_df.json', orient='records')\n"
   ]
  },
  {
   "cell_type": "code",
   "execution_count": 36,
   "id": "a439ff2d",
   "metadata": {},
   "outputs": [
    {
     "data": {
      "application/vnd.plotly.v1+json": {
       "config": {
        "plotlyServerURL": "https://plot.ly"
       },
       "data": [
        {
         "branchvalues": "total",
         "customdata": [
          [
           "Software Engineer"
          ],
          [
           "Project Manager"
          ],
          [
           "Software Developer"
          ],
          [
           "Project Manager"
          ],
          [
           "Cloud"
          ],
          [
           "Automation Engineer"
          ],
          [
           "Software Developer"
          ],
          [
           "Software Engineer"
          ],
          [
           "Software Developer"
          ],
          [
           "Project Manager"
          ],
          [
           "Software Engineer"
          ],
          [
           "Software Developer"
          ],
          [
           "Project Manager"
          ],
          [
           "Cloud"
          ],
          [
           "Automation Engineer"
          ],
          [
           "Software Engineer"
          ],
          [
           "Cloud"
          ],
          [
           "Cloud"
          ],
          [
           "Software Engineer"
          ],
          [
           "Software Developer"
          ],
          [
           "Project Manager"
          ],
          [
           "Cloud"
          ],
          [
           "Automation Engineer"
          ],
          [
           "Automation Engineer"
          ],
          [
           "Cloud"
          ],
          [
           "Project Manager"
          ],
          [
           "Software Developer"
          ],
          [
           "Software Engineer"
          ],
          [
           "(?)"
          ]
         ],
         "domain": {
          "x": [
           0,
           1
          ],
          "y": [
           0,
           1
          ]
         },
         "hovertemplate": "labels=%{label}<br>Count=%{value}<br>parent=%{parent}<br>id=%{id}<br>Job Title=%{customdata[0]}<extra></extra>",
         "ids": [
          "Software Development/Software Engineer/SQL",
          "Software Development/Project Manager/Project Manager",
          "Software Development/Software Developer/SQL",
          "Software Development/Project Manager/Management",
          "Software Development/Cloud/Management",
          "Software Development/Automation Engineer/Management",
          "Software Development/Software Developer/JavaScript",
          "Software Development/Software Engineer/Java",
          "Software Development/Software Developer/Java",
          "Software Development/Project Manager/HTML",
          "Software Development/Software Engineer/Go",
          "Software Development/Software Developer/Go",
          "Software Development/Project Manager/Go",
          "Software Development/Cloud/Go",
          "Software Development/Automation Engineer/Go",
          "Software Development/Software Engineer/Git",
          "Software Development/Cloud/Cloud",
          "Software Development/Cloud/AWS",
          "Software Development/Software Engineer/AI",
          "Software Development/Software Developer/AI",
          "Software Development/Project Manager/AI",
          "Software Development/Cloud/AI",
          "Software Development/Automation Engineer/AI",
          "Software Development/Automation Engineer",
          "Software Development/Cloud",
          "Software Development/Project Manager",
          "Software Development/Software Developer",
          "Software Development/Software Engineer",
          "Software Development"
         ],
         "labels": [
          "SQL",
          "Project Manager",
          "SQL",
          "Management",
          "Management",
          "Management",
          "JavaScript",
          "Java",
          "Java",
          "HTML",
          "Go",
          "Go",
          "Go",
          "Go",
          "Go",
          "Git",
          "Cloud",
          "AWS",
          "AI",
          "AI",
          "AI",
          "AI",
          "AI",
          "Automation Engineer",
          "Cloud",
          "Project Manager",
          "Software Developer",
          "Software Engineer",
          "Software Development"
         ],
         "marker": {
          "colors": [
           "#636efa",
           "#EF553B",
           "#00cc96",
           "#EF553B",
           "#ab63fa",
           "#FFA15A",
           "#00cc96",
           "#636efa",
           "#00cc96",
           "#EF553B",
           "#636efa",
           "#00cc96",
           "#EF553B",
           "#ab63fa",
           "#FFA15A",
           "#636efa",
           "#ab63fa",
           "#ab63fa",
           "#636efa",
           "#00cc96",
           "#EF553B",
           "#ab63fa",
           "#FFA15A",
           "#FFA15A",
           "#ab63fa",
           "#EF553B",
           "#00cc96",
           "#636efa",
           "#19d3f3"
          ]
         },
         "name": "",
         "parents": [
          "Software Development/Software Engineer",
          "Software Development/Project Manager",
          "Software Development/Software Developer",
          "Software Development/Project Manager",
          "Software Development/Cloud",
          "Software Development/Automation Engineer",
          "Software Development/Software Developer",
          "Software Development/Software Engineer",
          "Software Development/Software Developer",
          "Software Development/Project Manager",
          "Software Development/Software Engineer",
          "Software Development/Software Developer",
          "Software Development/Project Manager",
          "Software Development/Cloud",
          "Software Development/Automation Engineer",
          "Software Development/Software Engineer",
          "Software Development/Cloud",
          "Software Development/Cloud",
          "Software Development/Software Engineer",
          "Software Development/Software Developer",
          "Software Development/Project Manager",
          "Software Development/Cloud",
          "Software Development/Automation Engineer",
          "Software Development",
          "Software Development",
          "Software Development",
          "Software Development",
          "Software Development",
          ""
         ],
         "type": "sunburst",
         "values": [
          36,
          25,
          27,
          23,
          15,
          23,
          20,
          44,
          24,
          5,
          66,
          29,
          26,
          19,
          2,
          42,
          24,
          19,
          86,
          32,
          28,
          24,
          23,
          48,
          101,
          107,
          132,
          274,
          662
         ]
        }
       ],
       "layout": {
        "legend": {
         "tracegroupgap": 0
        },
        "margin": {
         "b": 0,
         "l": 0,
         "r": 0,
         "t": 40
        },
        "template": {
         "data": {
          "bar": [
           {
            "error_x": {
             "color": "#2a3f5f"
            },
            "error_y": {
             "color": "#2a3f5f"
            },
            "marker": {
             "line": {
              "color": "#E5ECF6",
              "width": 0.5
             },
             "pattern": {
              "fillmode": "overlay",
              "size": 10,
              "solidity": 0.2
             }
            },
            "type": "bar"
           }
          ],
          "barpolar": [
           {
            "marker": {
             "line": {
              "color": "#E5ECF6",
              "width": 0.5
             },
             "pattern": {
              "fillmode": "overlay",
              "size": 10,
              "solidity": 0.2
             }
            },
            "type": "barpolar"
           }
          ],
          "carpet": [
           {
            "aaxis": {
             "endlinecolor": "#2a3f5f",
             "gridcolor": "white",
             "linecolor": "white",
             "minorgridcolor": "white",
             "startlinecolor": "#2a3f5f"
            },
            "baxis": {
             "endlinecolor": "#2a3f5f",
             "gridcolor": "white",
             "linecolor": "white",
             "minorgridcolor": "white",
             "startlinecolor": "#2a3f5f"
            },
            "type": "carpet"
           }
          ],
          "choropleth": [
           {
            "colorbar": {
             "outlinewidth": 0,
             "ticks": ""
            },
            "type": "choropleth"
           }
          ],
          "contour": [
           {
            "colorbar": {
             "outlinewidth": 0,
             "ticks": ""
            },
            "colorscale": [
             [
              0,
              "#0d0887"
             ],
             [
              0.1111111111111111,
              "#46039f"
             ],
             [
              0.2222222222222222,
              "#7201a8"
             ],
             [
              0.3333333333333333,
              "#9c179e"
             ],
             [
              0.4444444444444444,
              "#bd3786"
             ],
             [
              0.5555555555555556,
              "#d8576b"
             ],
             [
              0.6666666666666666,
              "#ed7953"
             ],
             [
              0.7777777777777778,
              "#fb9f3a"
             ],
             [
              0.8888888888888888,
              "#fdca26"
             ],
             [
              1,
              "#f0f921"
             ]
            ],
            "type": "contour"
           }
          ],
          "contourcarpet": [
           {
            "colorbar": {
             "outlinewidth": 0,
             "ticks": ""
            },
            "type": "contourcarpet"
           }
          ],
          "heatmap": [
           {
            "colorbar": {
             "outlinewidth": 0,
             "ticks": ""
            },
            "colorscale": [
             [
              0,
              "#0d0887"
             ],
             [
              0.1111111111111111,
              "#46039f"
             ],
             [
              0.2222222222222222,
              "#7201a8"
             ],
             [
              0.3333333333333333,
              "#9c179e"
             ],
             [
              0.4444444444444444,
              "#bd3786"
             ],
             [
              0.5555555555555556,
              "#d8576b"
             ],
             [
              0.6666666666666666,
              "#ed7953"
             ],
             [
              0.7777777777777778,
              "#fb9f3a"
             ],
             [
              0.8888888888888888,
              "#fdca26"
             ],
             [
              1,
              "#f0f921"
             ]
            ],
            "type": "heatmap"
           }
          ],
          "heatmapgl": [
           {
            "colorbar": {
             "outlinewidth": 0,
             "ticks": ""
            },
            "colorscale": [
             [
              0,
              "#0d0887"
             ],
             [
              0.1111111111111111,
              "#46039f"
             ],
             [
              0.2222222222222222,
              "#7201a8"
             ],
             [
              0.3333333333333333,
              "#9c179e"
             ],
             [
              0.4444444444444444,
              "#bd3786"
             ],
             [
              0.5555555555555556,
              "#d8576b"
             ],
             [
              0.6666666666666666,
              "#ed7953"
             ],
             [
              0.7777777777777778,
              "#fb9f3a"
             ],
             [
              0.8888888888888888,
              "#fdca26"
             ],
             [
              1,
              "#f0f921"
             ]
            ],
            "type": "heatmapgl"
           }
          ],
          "histogram": [
           {
            "marker": {
             "pattern": {
              "fillmode": "overlay",
              "size": 10,
              "solidity": 0.2
             }
            },
            "type": "histogram"
           }
          ],
          "histogram2d": [
           {
            "colorbar": {
             "outlinewidth": 0,
             "ticks": ""
            },
            "colorscale": [
             [
              0,
              "#0d0887"
             ],
             [
              0.1111111111111111,
              "#46039f"
             ],
             [
              0.2222222222222222,
              "#7201a8"
             ],
             [
              0.3333333333333333,
              "#9c179e"
             ],
             [
              0.4444444444444444,
              "#bd3786"
             ],
             [
              0.5555555555555556,
              "#d8576b"
             ],
             [
              0.6666666666666666,
              "#ed7953"
             ],
             [
              0.7777777777777778,
              "#fb9f3a"
             ],
             [
              0.8888888888888888,
              "#fdca26"
             ],
             [
              1,
              "#f0f921"
             ]
            ],
            "type": "histogram2d"
           }
          ],
          "histogram2dcontour": [
           {
            "colorbar": {
             "outlinewidth": 0,
             "ticks": ""
            },
            "colorscale": [
             [
              0,
              "#0d0887"
             ],
             [
              0.1111111111111111,
              "#46039f"
             ],
             [
              0.2222222222222222,
              "#7201a8"
             ],
             [
              0.3333333333333333,
              "#9c179e"
             ],
             [
              0.4444444444444444,
              "#bd3786"
             ],
             [
              0.5555555555555556,
              "#d8576b"
             ],
             [
              0.6666666666666666,
              "#ed7953"
             ],
             [
              0.7777777777777778,
              "#fb9f3a"
             ],
             [
              0.8888888888888888,
              "#fdca26"
             ],
             [
              1,
              "#f0f921"
             ]
            ],
            "type": "histogram2dcontour"
           }
          ],
          "mesh3d": [
           {
            "colorbar": {
             "outlinewidth": 0,
             "ticks": ""
            },
            "type": "mesh3d"
           }
          ],
          "parcoords": [
           {
            "line": {
             "colorbar": {
              "outlinewidth": 0,
              "ticks": ""
             }
            },
            "type": "parcoords"
           }
          ],
          "pie": [
           {
            "automargin": true,
            "type": "pie"
           }
          ],
          "scatter": [
           {
            "fillpattern": {
             "fillmode": "overlay",
             "size": 10,
             "solidity": 0.2
            },
            "type": "scatter"
           }
          ],
          "scatter3d": [
           {
            "line": {
             "colorbar": {
              "outlinewidth": 0,
              "ticks": ""
             }
            },
            "marker": {
             "colorbar": {
              "outlinewidth": 0,
              "ticks": ""
             }
            },
            "type": "scatter3d"
           }
          ],
          "scattercarpet": [
           {
            "marker": {
             "colorbar": {
              "outlinewidth": 0,
              "ticks": ""
             }
            },
            "type": "scattercarpet"
           }
          ],
          "scattergeo": [
           {
            "marker": {
             "colorbar": {
              "outlinewidth": 0,
              "ticks": ""
             }
            },
            "type": "scattergeo"
           }
          ],
          "scattergl": [
           {
            "marker": {
             "colorbar": {
              "outlinewidth": 0,
              "ticks": ""
             }
            },
            "type": "scattergl"
           }
          ],
          "scattermapbox": [
           {
            "marker": {
             "colorbar": {
              "outlinewidth": 0,
              "ticks": ""
             }
            },
            "type": "scattermapbox"
           }
          ],
          "scatterpolar": [
           {
            "marker": {
             "colorbar": {
              "outlinewidth": 0,
              "ticks": ""
             }
            },
            "type": "scatterpolar"
           }
          ],
          "scatterpolargl": [
           {
            "marker": {
             "colorbar": {
              "outlinewidth": 0,
              "ticks": ""
             }
            },
            "type": "scatterpolargl"
           }
          ],
          "scatterternary": [
           {
            "marker": {
             "colorbar": {
              "outlinewidth": 0,
              "ticks": ""
             }
            },
            "type": "scatterternary"
           }
          ],
          "surface": [
           {
            "colorbar": {
             "outlinewidth": 0,
             "ticks": ""
            },
            "colorscale": [
             [
              0,
              "#0d0887"
             ],
             [
              0.1111111111111111,
              "#46039f"
             ],
             [
              0.2222222222222222,
              "#7201a8"
             ],
             [
              0.3333333333333333,
              "#9c179e"
             ],
             [
              0.4444444444444444,
              "#bd3786"
             ],
             [
              0.5555555555555556,
              "#d8576b"
             ],
             [
              0.6666666666666666,
              "#ed7953"
             ],
             [
              0.7777777777777778,
              "#fb9f3a"
             ],
             [
              0.8888888888888888,
              "#fdca26"
             ],
             [
              1,
              "#f0f921"
             ]
            ],
            "type": "surface"
           }
          ],
          "table": [
           {
            "cells": {
             "fill": {
              "color": "#EBF0F8"
             },
             "line": {
              "color": "white"
             }
            },
            "header": {
             "fill": {
              "color": "#C8D4E3"
             },
             "line": {
              "color": "white"
             }
            },
            "type": "table"
           }
          ]
         },
         "layout": {
          "annotationdefaults": {
           "arrowcolor": "#2a3f5f",
           "arrowhead": 0,
           "arrowwidth": 1
          },
          "autotypenumbers": "strict",
          "coloraxis": {
           "colorbar": {
            "outlinewidth": 0,
            "ticks": ""
           }
          },
          "colorscale": {
           "diverging": [
            [
             0,
             "#8e0152"
            ],
            [
             0.1,
             "#c51b7d"
            ],
            [
             0.2,
             "#de77ae"
            ],
            [
             0.3,
             "#f1b6da"
            ],
            [
             0.4,
             "#fde0ef"
            ],
            [
             0.5,
             "#f7f7f7"
            ],
            [
             0.6,
             "#e6f5d0"
            ],
            [
             0.7,
             "#b8e186"
            ],
            [
             0.8,
             "#7fbc41"
            ],
            [
             0.9,
             "#4d9221"
            ],
            [
             1,
             "#276419"
            ]
           ],
           "sequential": [
            [
             0,
             "#0d0887"
            ],
            [
             0.1111111111111111,
             "#46039f"
            ],
            [
             0.2222222222222222,
             "#7201a8"
            ],
            [
             0.3333333333333333,
             "#9c179e"
            ],
            [
             0.4444444444444444,
             "#bd3786"
            ],
            [
             0.5555555555555556,
             "#d8576b"
            ],
            [
             0.6666666666666666,
             "#ed7953"
            ],
            [
             0.7777777777777778,
             "#fb9f3a"
            ],
            [
             0.8888888888888888,
             "#fdca26"
            ],
            [
             1,
             "#f0f921"
            ]
           ],
           "sequentialminus": [
            [
             0,
             "#0d0887"
            ],
            [
             0.1111111111111111,
             "#46039f"
            ],
            [
             0.2222222222222222,
             "#7201a8"
            ],
            [
             0.3333333333333333,
             "#9c179e"
            ],
            [
             0.4444444444444444,
             "#bd3786"
            ],
            [
             0.5555555555555556,
             "#d8576b"
            ],
            [
             0.6666666666666666,
             "#ed7953"
            ],
            [
             0.7777777777777778,
             "#fb9f3a"
            ],
            [
             0.8888888888888888,
             "#fdca26"
            ],
            [
             1,
             "#f0f921"
            ]
           ]
          },
          "colorway": [
           "#636efa",
           "#EF553B",
           "#00cc96",
           "#ab63fa",
           "#FFA15A",
           "#19d3f3",
           "#FF6692",
           "#B6E880",
           "#FF97FF",
           "#FECB52"
          ],
          "font": {
           "color": "#2a3f5f"
          },
          "geo": {
           "bgcolor": "white",
           "lakecolor": "white",
           "landcolor": "#E5ECF6",
           "showlakes": true,
           "showland": true,
           "subunitcolor": "white"
          },
          "hoverlabel": {
           "align": "left"
          },
          "hovermode": "closest",
          "mapbox": {
           "style": "light"
          },
          "paper_bgcolor": "white",
          "plot_bgcolor": "#E5ECF6",
          "polar": {
           "angularaxis": {
            "gridcolor": "white",
            "linecolor": "white",
            "ticks": ""
           },
           "bgcolor": "#E5ECF6",
           "radialaxis": {
            "gridcolor": "white",
            "linecolor": "white",
            "ticks": ""
           }
          },
          "scene": {
           "xaxis": {
            "backgroundcolor": "#E5ECF6",
            "gridcolor": "white",
            "gridwidth": 2,
            "linecolor": "white",
            "showbackground": true,
            "ticks": "",
            "zerolinecolor": "white"
           },
           "yaxis": {
            "backgroundcolor": "#E5ECF6",
            "gridcolor": "white",
            "gridwidth": 2,
            "linecolor": "white",
            "showbackground": true,
            "ticks": "",
            "zerolinecolor": "white"
           },
           "zaxis": {
            "backgroundcolor": "#E5ECF6",
            "gridcolor": "white",
            "gridwidth": 2,
            "linecolor": "white",
            "showbackground": true,
            "ticks": "",
            "zerolinecolor": "white"
           }
          },
          "shapedefaults": {
           "line": {
            "color": "#2a3f5f"
           }
          },
          "ternary": {
           "aaxis": {
            "gridcolor": "white",
            "linecolor": "white",
            "ticks": ""
           },
           "baxis": {
            "gridcolor": "white",
            "linecolor": "white",
            "ticks": ""
           },
           "bgcolor": "#E5ECF6",
           "caxis": {
            "gridcolor": "white",
            "linecolor": "white",
            "ticks": ""
           }
          },
          "title": {
           "x": 0.05
          },
          "xaxis": {
           "automargin": true,
           "gridcolor": "white",
           "linecolor": "white",
           "ticks": "",
           "title": {
            "standoff": 15
           },
           "zerolinecolor": "white",
           "zerolinewidth": 2
          },
          "yaxis": {
           "automargin": true,
           "gridcolor": "white",
           "linecolor": "white",
           "ticks": "",
           "title": {
            "standoff": 15
           },
           "zerolinecolor": "white",
           "zerolinewidth": 2
          }
         }
        },
        "title": {
         "text": "Software Development: Top 5 Job Titles and Their Most Relevant Skills"
        }
       }
      }
     },
     "metadata": {},
     "output_type": "display_data"
    }
   ],
   "source": [
    "import re\n",
    "\n",
    "domain = \"Software Development\"\n",
    "\n",
    "# Ensure these job titles actually appear in the merged_df\n",
    "valid_jobs = []\n",
    "for job in sd_jobs_df['Keyword']:\n",
    "    if merged_df['job_title'].str.contains(re.escape(job), case=False, na=False).any():\n",
    "        valid_jobs.append(job)\n",
    "    if len(valid_jobs) == 5:\n",
    "        break\n",
    "\n",
    "sunburst_data = []\n",
    "\n",
    "for job in valid_jobs:\n",
    "    job_rows = merged_df[merged_df['job_title'].str.contains(re.escape(job), case=False, na=False)]\n",
    "\n",
    "    skill_counts = {\n",
    "        skill: job_rows['job_description'].str.contains(re.escape(skill), case=False, na=False).sum()\n",
    "        for skill in software_dev_skills\n",
    "    }\n",
    "\n",
    "    top_skills_for_job = sorted(skill_counts.items(), key=lambda x: x[1], reverse=True)[:5]\n",
    "\n",
    "    for skill, count in top_skills_for_job:\n",
    "        if count > 0:\n",
    "            sunburst_data.append({\n",
    "                'Domain': domain,\n",
    "                'Job Title': job,\n",
    "                'Skill': skill,\n",
    "                'Count': count\n",
    "            })\n",
    "\n",
    "# Build DataFrame and plot\n",
    "sunburst_df = pd.DataFrame(sunburst_data)\n",
    "\n",
    "fig = px.sunburst(\n",
    "    sunburst_df,\n",
    "    path=['Domain', 'Job Title', 'Skill'],\n",
    "    values='Count',\n",
    "    color='Job Title',\n",
    "    title='Software Development: Top 5 Job Titles and Their Most Relevant Skills'\n",
    ")\n",
    "fig.update_layout(margin=dict(t=40, l=0, r=0, b=0))\n",
    "fig.show()\n"
   ]
  },
  {
   "cell_type": "code",
   "execution_count": null,
   "id": "a823279d",
   "metadata": {},
   "outputs": [],
   "source": []
  },
  {
   "cell_type": "code",
   "execution_count": null,
   "id": "d00b195a",
   "metadata": {},
   "outputs": [],
   "source": []
  }
 ],
 "metadata": {
  "kernelspec": {
   "display_name": "base",
   "language": "python",
   "name": "python3"
  },
  "language_info": {
   "codemirror_mode": {
    "name": "ipython",
    "version": 3
   },
   "file_extension": ".py",
   "mimetype": "text/x-python",
   "name": "python",
   "nbconvert_exporter": "python",
   "pygments_lexer": "ipython3",
   "version": "3.9.19"
  }
 },
 "nbformat": 4,
 "nbformat_minor": 5
}
